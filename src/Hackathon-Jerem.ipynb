{
 "cells": [
  {
   "cell_type": "code",
   "execution_count": 54,
   "metadata": {},
   "outputs": [],
   "source": [
    "import numpy as np\n",
    "import pandas as pd\n",
    "import matplotlib.pyplot as plt\n",
    "import seaborn as sns\n",
    "import plotly.express as px\n",
    "sns.set()"
   ]
  },
  {
   "cell_type": "markdown",
   "metadata": {},
   "source": [
    "1. Regarder toutes les features et leurs caractéristiques :\n",
    "    * Nom\n",
    "    * Type\n",
    "    * % de valeurs manquantes\n",
    "    * Bruit\n",
    "    * Utilité pour le projet \n",
    "    * Distribution (gaussien, uniforme…)\n",
    "2. Visualiser les données\n",
    "3. Regarder les corrélations entre les features\n",
    "4. Identifier les transformations / créations / ajouts de features possibles "
   ]
  },
  {
   "cell_type": "markdown",
   "metadata": {},
   "source": [
    "1. Nettoyer les données\n",
    "    * S’occuper des outliers (supprimer, modifier…)\n",
    "    * S’occuper des valeurs manquantes (remplir avec 0, moyenne, médiane, supprimer les exemples associés…)\n",
    "2. Sélectionner les features utiles et supprimer les features inutiles pour le projet\n",
    "3. Faire du Feature engineering\n",
    "    * Echantilloner  les features continues\n",
    "    * Décomposer les features catégorielles, date/heure…\n",
    "    * Appliquer les transformations identifiées (log, sqrt, ^2…)\n",
    "    * Créer de nouvelles features \n",
    "4. Normaliser ou standardiser les features "
   ]
  },
  {
   "cell_type": "code",
   "execution_count": 55,
   "metadata": {},
   "outputs": [],
   "source": [
    "path = '/'.join(os.getcwd().split(\"/\")[:-1])\n",
    "\n",
    "urban_population = pd.read_csv(f'{path}/data/Urban-population-by-country.csv', skiprows=4)\n",
    "population_growth = pd.read_csv(f'{path}/data/Population-growth-by-country.csv', skiprows=4)\n",
    "population = pd.read_csv(f'{path}/data/Population-by-country.csv', skiprows=4)\n",
    "access_electricity = pd.read_csv(f'{path}/data/Access-to-electricity-by-country.csv', skiprows=4)\n",
    "nitrous_oxyd_emission = pd.read_csv(f'{path}/data/Nitrous-oxyd-emission.csv',skiprows=4)\n",
    "gdp = pd.read_csv(f'{path}/data/gdp.csv',skiprows=4)\n",
    "methan_emission = pd.read_csv(f'{path}/data/Methan-emission-by-country.csv',skiprows=4)\n",
    "co2_emission = pd.read_csv(f'{path}/data/emission_CO2.csv',skiprows=4)"
   ]
  },
  {
   "cell_type": "code",
   "execution_count": 56,
   "metadata": {},
   "outputs": [],
   "source": [
    "def clean_all_df(df, value):\n",
    "    df_copy = df.copy()\n",
    "    df_copy = df_copy.drop(df.columns[len(df.columns)-1], axis=1)\n",
    "    df_copy = df_copy.drop(columns=['Indicator Code','Indicator Name','2019','Country Code'])\n",
    "    df_copy = df_copy.fillna(method='bfill')\n",
    "    df_copy = df_copy.T\n",
    "    df_copy = df_copy.reset_index()\n",
    "    header = np.array(df_copy.iloc[0])\n",
    "    header[0] = 'Date'\n",
    "    df_copy = df_copy[1:]\n",
    "    df_copy.columns = header\n",
    "    df_copy = df_copy.melt(id_vars=['Date'], var_name='Country', value_name=value)\n",
    "    df_copy = df_copy.sort_values(value,ascending=False)\n",
    "    return df_copy\n",
    "\n",
    "def get_region(df, global_region):\n",
    "    df_region = df[df['Country'].isin(global_region)]\n",
    "    return df_region\n",
    "\n",
    "def merge_df(df_list):\n",
    "    df_demographic = df_list[0]\n",
    "    for df in df_list[1::]:\n",
    "        df_demographic = pd.merge(df_demographic, df, on=['Date', 'Country'])\n",
    "    return df_demographic\n",
    "\n",
    "def plot_time_serie(df, y, title):\n",
    "    fig = px.line(df, x='Date', y=y,color='Country',title=title)\n",
    "    fig.show()"
   ]
  },
  {
   "cell_type": "code",
   "execution_count": 57,
   "metadata": {},
   "outputs": [],
   "source": [
    "urban_population_cleaned = clean_all_df(urban_population, 'Urban Population')\n",
    "population_growth_cleaned = clean_all_df(population_growth, 'Population Growth')\n",
    "population_cleaned = clean_all_df(population, 'Population')\n",
    "access_electricity_cleaned = clean_all_df(access_electricity, 'Access to Electricity')\n",
    "gdp_cleaned = clean_all_df(gdp, 'GDP in $')\n",
    "nitrous_oxyd_emission_cleaned = clean_all_df(nitrous_oxyd_emission, 'Nitrous Oxyd Emission')\n",
    "methan_emission_cleaned = clean_all_df(methan_emission, 'Methan Oxyd Emission')\n",
    "co2_emission_cleaned = clean_all_df(co2_emission, 'CO2 Emission')"
   ]
  },
  {
   "cell_type": "code",
   "execution_count": 58,
   "metadata": {},
   "outputs": [],
   "source": [
    "df_list = [urban_population_cleaned, population_growth_cleaned, population_cleaned,\n",
    "           access_electricity_cleaned, gdp_cleaned, nitrous_oxyd_emission_cleaned,\n",
    "          methan_emission_cleaned, co2_emission_cleaned]"
   ]
  },
  {
   "cell_type": "code",
   "execution_count": 59,
   "metadata": {},
   "outputs": [],
   "source": [
    "df_demographic = merge_df(df_list)"
   ]
  },
  {
   "cell_type": "code",
   "execution_count": 60,
   "metadata": {},
   "outputs": [],
   "source": [
    "global_region = ['World','North America', 'Euro area', 'Russian Federation', 'Sub-Saharan Africa',\n",
    "                 'Middle East & North Africa', 'East Asia & Pacific', 'Latin America & Caribbean']"
   ]
  },
  {
   "cell_type": "code",
   "execution_count": 61,
   "metadata": {},
   "outputs": [],
   "source": [
    "df_demographic_grouped = get_region(df_demographic, global_region)"
   ]
  },
  {
   "cell_type": "code",
   "execution_count": 62,
   "metadata": {},
   "outputs": [],
   "source": [
    "regions = {'East Asia & Pacific':'Asia Pacific', 'Latin America & Caribbean':'Latin America',\n",
    "       'Sub-Saharan Africa':'Africa', 'North America':'North America',\n",
    "       'Middle East & North Africa':'Middle East', 'Euro area':'Europe', 'Russian Federation':'Russia'}"
   ]
  },
  {
   "cell_type": "code",
   "execution_count": 68,
   "metadata": {},
   "outputs": [],
   "source": [
    "df_demographic_grouped.loc[:,'Country'] = df_demographic_grouped.loc[:,'Country'].replace(regions)"
   ]
  },
  {
   "cell_type": "code",
   "execution_count": 69,
   "metadata": {},
   "outputs": [
    {
     "data": {
      "text/html": [
       "<div>\n",
       "<style scoped>\n",
       "    .dataframe tbody tr th:only-of-type {\n",
       "        vertical-align: middle;\n",
       "    }\n",
       "\n",
       "    .dataframe tbody tr th {\n",
       "        vertical-align: top;\n",
       "    }\n",
       "\n",
       "    .dataframe thead th {\n",
       "        text-align: right;\n",
       "    }\n",
       "</style>\n",
       "<table border=\"1\" class=\"dataframe\">\n",
       "  <thead>\n",
       "    <tr style=\"text-align: right;\">\n",
       "      <th></th>\n",
       "      <th>Date</th>\n",
       "      <th>Country</th>\n",
       "      <th>Urban Population</th>\n",
       "      <th>Population Growth</th>\n",
       "      <th>Population</th>\n",
       "      <th>Access to Electricity</th>\n",
       "      <th>GDP in $</th>\n",
       "      <th>Nitrous Oxyd Emission</th>\n",
       "      <th>Methan Oxyd Emission</th>\n",
       "      <th>CO2 Emission</th>\n",
       "    </tr>\n",
       "  </thead>\n",
       "  <tbody>\n",
       "    <tr>\n",
       "      <td>0</td>\n",
       "      <td>2018</td>\n",
       "      <td>World</td>\n",
       "      <td>4.19636e+09</td>\n",
       "      <td>1.10877</td>\n",
       "      <td>7.59427e+09</td>\n",
       "      <td>NaN</td>\n",
       "      <td>8.58044e+13</td>\n",
       "      <td>NaN</td>\n",
       "      <td>NaN</td>\n",
       "      <td>NaN</td>\n",
       "    </tr>\n",
       "    <tr>\n",
       "      <td>1</td>\n",
       "      <td>2017</td>\n",
       "      <td>World</td>\n",
       "      <td>4.11667e+09</td>\n",
       "      <td>1.14309</td>\n",
       "      <td>7.51099e+09</td>\n",
       "      <td>88.8486</td>\n",
       "      <td>8.08913e+13</td>\n",
       "      <td>NaN</td>\n",
       "      <td>NaN</td>\n",
       "      <td>NaN</td>\n",
       "    </tr>\n",
       "    <tr>\n",
       "      <td>2</td>\n",
       "      <td>2016</td>\n",
       "      <td>World</td>\n",
       "      <td>4.03654e+09</td>\n",
       "      <td>1.16551</td>\n",
       "      <td>7.4261e+09</td>\n",
       "      <td>87.9769</td>\n",
       "      <td>7.61028e+13</td>\n",
       "      <td>NaN</td>\n",
       "      <td>NaN</td>\n",
       "      <td>NaN</td>\n",
       "    </tr>\n",
       "    <tr>\n",
       "      <td>3</td>\n",
       "      <td>2015</td>\n",
       "      <td>World</td>\n",
       "      <td>3.95655e+09</td>\n",
       "      <td>1.17004</td>\n",
       "      <td>7.34055e+09</td>\n",
       "      <td>86.7787</td>\n",
       "      <td>7.50031e+13</td>\n",
       "      <td>NaN</td>\n",
       "      <td>NaN</td>\n",
       "      <td>NaN</td>\n",
       "    </tr>\n",
       "    <tr>\n",
       "      <td>4</td>\n",
       "      <td>2014</td>\n",
       "      <td>World</td>\n",
       "      <td>3.87766e+09</td>\n",
       "      <td>1.18104</td>\n",
       "      <td>7.25565e+09</td>\n",
       "      <td>85.5879</td>\n",
       "      <td>7.92961e+13</td>\n",
       "      <td>NaN</td>\n",
       "      <td>NaN</td>\n",
       "      <td>3.61383e+07</td>\n",
       "    </tr>\n",
       "    <tr>\n",
       "      <td>...</td>\n",
       "      <td>...</td>\n",
       "      <td>...</td>\n",
       "      <td>...</td>\n",
       "      <td>...</td>\n",
       "      <td>...</td>\n",
       "      <td>...</td>\n",
       "      <td>...</td>\n",
       "      <td>...</td>\n",
       "      <td>...</td>\n",
       "      <td>...</td>\n",
       "    </tr>\n",
       "    <tr>\n",
       "      <td>3170</td>\n",
       "      <td>1963</td>\n",
       "      <td>Africa</td>\n",
       "      <td>3.80988e+07</td>\n",
       "      <td>2.42386</td>\n",
       "      <td>2.43893e+08</td>\n",
       "      <td>NaN</td>\n",
       "      <td>3.8685e+10</td>\n",
       "      <td>NaN</td>\n",
       "      <td>NaN</td>\n",
       "      <td>143107</td>\n",
       "    </tr>\n",
       "    <tr>\n",
       "      <td>3243</td>\n",
       "      <td>1960</td>\n",
       "      <td>Middle East</td>\n",
       "      <td>3.6736e+07</td>\n",
       "      <td>3.11851</td>\n",
       "      <td>1.05203e+08</td>\n",
       "      <td>NaN</td>\n",
       "      <td>1.304e+10</td>\n",
       "      <td>NaN</td>\n",
       "      <td>NaN</td>\n",
       "      <td>102253</td>\n",
       "    </tr>\n",
       "    <tr>\n",
       "      <td>3255</td>\n",
       "      <td>1962</td>\n",
       "      <td>Africa</td>\n",
       "      <td>3.64252e+07</td>\n",
       "      <td>2.38841</td>\n",
       "      <td>2.38122e+08</td>\n",
       "      <td>NaN</td>\n",
       "      <td>3.37602e+10</td>\n",
       "      <td>NaN</td>\n",
       "      <td>NaN</td>\n",
       "      <td>136504</td>\n",
       "    </tr>\n",
       "    <tr>\n",
       "      <td>3306</td>\n",
       "      <td>1961</td>\n",
       "      <td>Africa</td>\n",
       "      <td>3.48633e+07</td>\n",
       "      <td>2.34729</td>\n",
       "      <td>2.32567e+08</td>\n",
       "      <td>NaN</td>\n",
       "      <td>3.11574e+10</td>\n",
       "      <td>NaN</td>\n",
       "      <td>NaN</td>\n",
       "      <td>131879</td>\n",
       "    </tr>\n",
       "    <tr>\n",
       "      <td>3365</td>\n",
       "      <td>1960</td>\n",
       "      <td>Africa</td>\n",
       "      <td>3.33808e+07</td>\n",
       "      <td>1.22989</td>\n",
       "      <td>2.27233e+08</td>\n",
       "      <td>NaN</td>\n",
       "      <td>2.99737e+10</td>\n",
       "      <td>NaN</td>\n",
       "      <td>NaN</td>\n",
       "      <td>126087</td>\n",
       "    </tr>\n",
       "  </tbody>\n",
       "</table>\n",
       "<p>472 rows × 10 columns</p>\n",
       "</div>"
      ],
      "text/plain": [
       "      Date      Country Urban Population Population Growth   Population  \\\n",
       "0     2018        World      4.19636e+09           1.10877  7.59427e+09   \n",
       "1     2017        World      4.11667e+09           1.14309  7.51099e+09   \n",
       "2     2016        World      4.03654e+09           1.16551   7.4261e+09   \n",
       "3     2015        World      3.95655e+09           1.17004  7.34055e+09   \n",
       "4     2014        World      3.87766e+09           1.18104  7.25565e+09   \n",
       "...    ...          ...              ...               ...          ...   \n",
       "3170  1963       Africa      3.80988e+07           2.42386  2.43893e+08   \n",
       "3243  1960  Middle East       3.6736e+07           3.11851  1.05203e+08   \n",
       "3255  1962       Africa      3.64252e+07           2.38841  2.38122e+08   \n",
       "3306  1961       Africa      3.48633e+07           2.34729  2.32567e+08   \n",
       "3365  1960       Africa      3.33808e+07           1.22989  2.27233e+08   \n",
       "\n",
       "     Access to Electricity     GDP in $ Nitrous Oxyd Emission  \\\n",
       "0                      NaN  8.58044e+13                   NaN   \n",
       "1                  88.8486  8.08913e+13                   NaN   \n",
       "2                  87.9769  7.61028e+13                   NaN   \n",
       "3                  86.7787  7.50031e+13                   NaN   \n",
       "4                  85.5879  7.92961e+13                   NaN   \n",
       "...                    ...          ...                   ...   \n",
       "3170                   NaN   3.8685e+10                   NaN   \n",
       "3243                   NaN    1.304e+10                   NaN   \n",
       "3255                   NaN  3.37602e+10                   NaN   \n",
       "3306                   NaN  3.11574e+10                   NaN   \n",
       "3365                   NaN  2.99737e+10                   NaN   \n",
       "\n",
       "     Methan Oxyd Emission CO2 Emission  \n",
       "0                     NaN          NaN  \n",
       "1                     NaN          NaN  \n",
       "2                     NaN          NaN  \n",
       "3                     NaN          NaN  \n",
       "4                     NaN  3.61383e+07  \n",
       "...                   ...          ...  \n",
       "3170                  NaN       143107  \n",
       "3243                  NaN       102253  \n",
       "3255                  NaN       136504  \n",
       "3306                  NaN       131879  \n",
       "3365                  NaN       126087  \n",
       "\n",
       "[472 rows x 10 columns]"
      ]
     },
     "execution_count": 69,
     "metadata": {},
     "output_type": "execute_result"
    }
   ],
   "source": [
    "df_demographic_grouped"
   ]
  },
  {
   "cell_type": "code",
   "execution_count": 73,
   "metadata": {},
   "outputs": [],
   "source": [
    "df_demographic_grouped.to_csv(f'{path}/demographic_grouped.csv',index=False)"
   ]
  },
  {
   "cell_type": "code",
   "execution_count": 71,
   "metadata": {},
   "outputs": [],
   "source": [
    "plots = {'Population': \"Evolution de la population mondiale\", \n",
    "         'Urban Population': 'Evolution de la population mondiale urbaine', \n",
    "         'GDP in $': 'Evolution du GDP in $',\n",
    "         'Nitrous Oxyd Emission': \"Evolution des émissions de protoxyde d'azote\", \n",
    "         'Methan Oxyd Emission': \"Evolution des émissions de protoxyde d'azote\", \n",
    "         'CO2 Emission': \"Evolution des émissions de CO2\"}"
   ]
  },
  {
   "cell_type": "code",
   "execution_count": 72,
   "metadata": {
    "scrolled": false
   },
   "outputs": [
    {
     "data": {
      "application/vnd.plotly.v1+json": {
       "config": {
        "plotlyServerURL": "https://plot.ly"
       },
       "data": [
        {
         "hoverlabel": {
          "namelength": 0
         },
         "hovertemplate": "Country=World<br>Date=%{x}<br>Population=%{y}",
         "legendgroup": "Country=World",
         "line": {
          "color": "#636efa",
          "dash": "solid"
         },
         "mode": "lines",
         "name": "Country=World",
         "showlegend": true,
         "type": "scatter",
         "x": [
          "2018",
          "2017",
          "2016",
          "2015",
          "2014",
          "2013",
          "2012",
          "2011",
          "2010",
          "2009",
          "2008",
          "2007",
          "2006",
          "2005",
          "2004",
          "2003",
          "2002",
          "2001",
          "2000",
          "1999",
          "1998",
          "1997",
          "1996",
          "1995",
          "1994",
          "1993",
          "1992",
          "1991",
          "1990",
          "1989",
          "1988",
          "1987",
          "1986",
          "1985",
          "1984",
          "1983",
          "1982",
          "1981",
          "1980",
          "1979",
          "1978",
          "1977",
          "1976",
          "1975",
          "1974",
          "1973",
          "1972",
          "1971",
          "1970",
          "1969",
          "1968",
          "1967",
          "1966",
          "1965",
          "1964",
          "1963",
          "1962",
          "1961",
          "1960"
         ],
         "xaxis": "x",
         "y": [
          7594270356,
          7510990456,
          7426103221,
          7340548192,
          7255653881,
          7170961674,
          7086993625,
          7004011262,
          6922947261,
          6840591577,
          6757887172,
          6675130418,
          6593623202,
          6512602867,
          6432374971,
          6352677699,
          6273526441,
          6194460444,
          6115108363,
          6035284135,
          5954810550,
          5873071768,
          5790454220,
          5707533023,
          5622575421,
          5538448726,
          5453393960,
          5369210095,
          5281340078,
          5190965222,
          5102293348,
          5013576387,
          4925801334,
          4840155168,
          4756998073,
          4675367633,
          4593454253,
          4512268962,
          4434021975,
          4357793599,
          4282341460,
          4208770941,
          4136393107,
          4063806523,
          3989385034,
          3913217944,
          3837726171,
          3761307048,
          3683676306,
          3608235815,
          3533536526,
          3463147267,
          3393699205,
          3323623700,
          3256700083,
          3191186048,
          3126066253,
          3073077563,
          3032019978
         ],
         "yaxis": "y"
        },
        {
         "hoverlabel": {
          "namelength": 0
         },
         "hovertemplate": "Country=Asia Pacific<br>Date=%{x}<br>Population=%{y}",
         "legendgroup": "Country=Asia Pacific",
         "line": {
          "color": "#EF553B",
          "dash": "solid"
         },
         "mode": "lines",
         "name": "Country=Asia Pacific",
         "showlegend": true,
         "type": "scatter",
         "x": [
          "2018",
          "2017",
          "2016",
          "2015",
          "2014",
          "2013",
          "2012",
          "2011",
          "2010",
          "2009",
          "2008",
          "2007",
          "2006",
          "2005",
          "2004",
          "2003",
          "2002",
          "2001",
          "2000",
          "1999",
          "1998",
          "1997",
          "1996",
          "1995",
          "1994",
          "1993",
          "1992",
          "1991",
          "1990",
          "1989",
          "1988",
          "1987",
          "1986",
          "1985",
          "1984",
          "1983",
          "1982",
          "1981",
          "1980",
          "1979",
          "1978",
          "1977",
          "1976",
          "1975",
          "1974",
          "1973",
          "1972",
          "1971",
          "1970",
          "1969",
          "1968",
          "1967",
          "1966",
          "1965",
          "1964",
          "1963",
          "1962",
          "1961",
          "1960"
         ],
         "xaxis": "x",
         "y": [
          2328220870,
          2314202003,
          2298514046,
          2282855831,
          2267482299,
          2252046977,
          2236819053,
          2221673110,
          2206884624,
          2192059415,
          2177119142,
          2161785573,
          2146744075,
          2131146832,
          2115458616,
          2099602439,
          2083186112,
          2065912076,
          2047640119,
          2028650274,
          2008705489,
          1987315562,
          1965146504,
          1942431457,
          1919359723,
          1895897521,
          1872480731,
          1848222188,
          1822193192,
          1795159128,
          1767429690,
          1739071545,
          1710989831,
          1684294889,
          1659131214,
          1634539937,
          1608678553,
          1582789699,
          1559194619,
          1536434993,
          1513227369,
          1490449457,
          1467569010,
          1443359147,
          1416257366,
          1386188710,
          1355934900,
          1324084715,
          1290384064,
          1257454897,
          1224531259,
          1195269923,
          1166600015,
          1136691455,
          1110214377,
          1084796352,
          1059018809,
          1044544622,
          1040958103
         ],
         "yaxis": "y"
        },
        {
         "hoverlabel": {
          "namelength": 0
         },
         "hovertemplate": "Country=Latin America<br>Date=%{x}<br>Population=%{y}",
         "legendgroup": "Country=Latin America",
         "line": {
          "color": "#00cc96",
          "dash": "solid"
         },
         "mode": "lines",
         "name": "Country=Latin America",
         "showlegend": true,
         "type": "scatter",
         "x": [
          "2018",
          "2017",
          "2016",
          "2015",
          "2014",
          "2013",
          "2012",
          "2011",
          "2010",
          "2009",
          "2008",
          "2007",
          "2006",
          "2005",
          "2004",
          "2003",
          "2002",
          "2001",
          "2000",
          "1999",
          "1998",
          "1997",
          "1996",
          "1995",
          "1994",
          "1993",
          "1992",
          "1991",
          "1990",
          "1989",
          "1988",
          "1987",
          "1986",
          "1985",
          "1984",
          "1983",
          "1982",
          "1981",
          "1980",
          "1979",
          "1978",
          "1977",
          "1976",
          "1975",
          "1974",
          "1973",
          "1972",
          "1971",
          "1970",
          "1969",
          "1968",
          "1967",
          "1966",
          "1965",
          "1964",
          "1963",
          "1962",
          "1961",
          "1960"
         ],
         "xaxis": "x",
         "y": [
          641357515,
          635372515,
          629240066,
          622986033,
          616619613,
          610151927,
          603586217,
          596966199,
          590303295,
          583746102,
          577050884,
          570314774,
          563521369,
          556652026,
          549705414,
          542684680,
          535570691,
          528336554,
          520964431,
          513442848,
          505774348,
          497957410,
          490080681,
          482150647,
          474193423,
          466199679,
          458175526,
          450125305,
          442040696,
          433925886,
          425800798,
          417659736,
          409496610,
          401311796,
          393106351,
          384896426,
          376714428,
          368601995,
          360591861,
          352693991,
          344913615,
          337240049,
          329667217,
          322176757,
          314773956,
          307462534,
          300238819,
          293097388,
          286027166,
          279037414,
          272128513,
          265295652,
          258538106,
          251850859,
          245233432,
          238696012,
          232265533,
          225993884,
          219907801
         ],
         "yaxis": "y"
        },
        {
         "hoverlabel": {
          "namelength": 0
         },
         "hovertemplate": "Country=Africa<br>Date=%{x}<br>Population=%{y}",
         "legendgroup": "Country=Africa",
         "line": {
          "color": "#ab63fa",
          "dash": "solid"
         },
         "mode": "lines",
         "name": "Country=Africa",
         "showlegend": true,
         "type": "scatter",
         "x": [
          "2018",
          "2017",
          "2016",
          "2015",
          "2014",
          "2013",
          "2012",
          "2011",
          "2010",
          "2009",
          "2008",
          "2007",
          "2006",
          "2005",
          "2004",
          "2003",
          "2002",
          "2001",
          "2000",
          "1999",
          "1998",
          "1997",
          "1996",
          "1995",
          "1994",
          "1993",
          "1992",
          "1991",
          "1990",
          "1989",
          "1988",
          "1987",
          "1986",
          "1985",
          "1984",
          "1983",
          "1982",
          "1981",
          "1980",
          "1979",
          "1978",
          "1977",
          "1976",
          "1975",
          "1974",
          "1973",
          "1972",
          "1971",
          "1970",
          "1969",
          "1968",
          "1967",
          "1966",
          "1965",
          "1964",
          "1963",
          "1962",
          "1961",
          "1960"
         ],
         "xaxis": "x",
         "y": [
          1078306520,
          1050153672,
          1022526541,
          995458478,
          968959787,
          943041070,
          917726973,
          893046172,
          869025106,
          845655214,
          822945457,
          800908534,
          779566820,
          758924681,
          738983255,
          719716209,
          701066167,
          682956070,
          665327581,
          648148316,
          631400656,
          615054371,
          599067779,
          583413261,
          568072008,
          553020362,
          538246469,
          523726913,
          509451851,
          495407391,
          481594292,
          468053168,
          454835629,
          441988010,
          429521938,
          417425681,
          405688903,
          394281956,
          383188232,
          372404185,
          361939361,
          351808670,
          342018831,
          332583486,
          323500188,
          314761167,
          306359274,
          298284068,
          290526189,
          283080084,
          275937224,
          269072224,
          262454422,
          256059811,
          249873743,
          243893426,
          238121698,
          232567038,
          227233223
         ],
         "yaxis": "y"
        },
        {
         "hoverlabel": {
          "namelength": 0
         },
         "hovertemplate": "Country=North America<br>Date=%{x}<br>Population=%{y}",
         "legendgroup": "Country=North America",
         "line": {
          "color": "#FFA15A",
          "dash": "solid"
         },
         "mode": "lines",
         "name": "Country=North America",
         "showlegend": true,
         "type": "scatter",
         "x": [
          "2018",
          "2017",
          "2016",
          "2015",
          "2014",
          "2013",
          "2012",
          "2011",
          "2010",
          "2009",
          "2008",
          "2007",
          "2006",
          "2005",
          "2004",
          "2003",
          "2002",
          "2001",
          "2000",
          "1999",
          "1998",
          "1997",
          "1996",
          "1995",
          "1994",
          "1993",
          "1992",
          "1991",
          "1990",
          "1989",
          "1988",
          "1987",
          "1986",
          "1985",
          "1984",
          "1983",
          "1982",
          "1981",
          "1980",
          "1979",
          "1978",
          "1977",
          "1976",
          "1975",
          "1974",
          "1973",
          "1972",
          "1971",
          "1970",
          "1969",
          "1968",
          "1967",
          "1966",
          "1965",
          "1964",
          "1963",
          "1962",
          "1961",
          "1960"
         ],
         "xaxis": "x",
         "y": [
          364290258,
          361751263,
          359245384,
          356510820,
          353888995,
          351205682,
          348653238,
          345983901,
          343396098,
          340466060,
          337406357,
          334185120,
          331015609,
          327824506,
          324809693,
          321815286,
          319048184,
          316052361,
          312909974,
          309502571,
          306070116,
          302623445,
          299064347,
          295640057,
          292185983,
          288662674,
          284943859,
          281077441,
          277373464,
          274154622,
          271349094,
          268793450,
          266290660,
          263823014,
          261488476,
          259214381,
          256836391,
          254340965,
          251795337,
          249310344,
          246601803,
          244018243,
          241538008,
          239169275,
          236715369,
          234454577,
          232168663,
          229677632,
          226431000,
          223759000,
          221503000,
          219176000,
          216659000,
          214031100,
          211262900,
          208253700,
          205198600,
          202007500,
          198624409
         ],
         "yaxis": "y"
        },
        {
         "hoverlabel": {
          "namelength": 0
         },
         "hovertemplate": "Country=Middle East<br>Date=%{x}<br>Population=%{y}",
         "legendgroup": "Country=Middle East",
         "line": {
          "color": "#19d3f3",
          "dash": "solid"
         },
         "mode": "lines",
         "name": "Country=Middle East",
         "showlegend": true,
         "type": "scatter",
         "x": [
          "2018",
          "2017",
          "2016",
          "2015",
          "2014",
          "2013",
          "2012",
          "2011",
          "2010",
          "2009",
          "2008",
          "2007",
          "2006",
          "2005",
          "2004",
          "2003",
          "2002",
          "2001",
          "2000",
          "1999",
          "1998",
          "1997",
          "1996",
          "1995",
          "1994",
          "1993",
          "1992",
          "1991",
          "1990",
          "1989",
          "1988",
          "1987",
          "1986",
          "1985",
          "1984",
          "1983",
          "1982",
          "1981",
          "1980",
          "1979",
          "1978",
          "1977",
          "1976",
          "1975",
          "1974",
          "1973",
          "1972",
          "1971",
          "1970",
          "1969",
          "1968",
          "1967",
          "1966",
          "1965",
          "1964",
          "1963",
          "1962",
          "1961",
          "1960"
         ],
         "xaxis": "x",
         "y": [
          448912859,
          441255234,
          433597626,
          425821770,
          417932242,
          409977874,
          401974219,
          393944527,
          385917886,
          377883993,
          369823252,
          361929136,
          354302463,
          347029874,
          340143481,
          333608779,
          327362252,
          321297208,
          315326801,
          309436741,
          303641740,
          297891731,
          292041181,
          286096964,
          278384965,
          272107828,
          265656619,
          261046309,
          254215138,
          245453259,
          238565130,
          231570113,
          224549844,
          217572788,
          210648811,
          203834190,
          197157159,
          190731422,
          184628605,
          178866341,
          173447058,
          168361100,
          163532323,
          158917328,
          154509812,
          150292291,
          146213388,
          142307879,
          138473064,
          134704201,
          131026912,
          127444958,
          123908159,
          120541214,
          117271166,
          114101592,
          111045434,
          108061812,
          105203269
         ],
         "yaxis": "y"
        },
        {
         "hoverlabel": {
          "namelength": 0
         },
         "hovertemplate": "Country=Europe<br>Date=%{x}<br>Population=%{y}",
         "legendgroup": "Country=Europe",
         "line": {
          "color": "#FF6692",
          "dash": "solid"
         },
         "mode": "lines",
         "name": "Country=Europe",
         "showlegend": true,
         "type": "scatter",
         "x": [
          "2018",
          "2017",
          "2016",
          "2015",
          "2014",
          "2013",
          "2012",
          "2011",
          "2010",
          "2009",
          "2008",
          "2007",
          "2006",
          "2005",
          "2004",
          "2003",
          "2002",
          "2001",
          "2000",
          "1999",
          "1998",
          "1997",
          "1996",
          "1995",
          "1994",
          "1993",
          "1992",
          "1991",
          "1990",
          "1989",
          "1988",
          "1987",
          "1986",
          "1985",
          "1984",
          "1983",
          "1982",
          "1981",
          "1980",
          "1979",
          "1978",
          "1977",
          "1976",
          "1975",
          "1974",
          "1973",
          "1972",
          "1971",
          "1970",
          "1969",
          "1968",
          "1967",
          "1966",
          "1965",
          "1964",
          "1963",
          "1962",
          "1961",
          "1960"
         ],
         "xaxis": "x",
         "y": [
          341783171,
          341164362,
          340616924,
          339533474,
          338466255,
          337302113,
          336159194,
          335419643,
          336151479,
          335360890,
          334274725,
          332645165,
          330922789,
          329380417,
          327682505,
          325885964,
          324125336,
          322547874,
          321310791,
          320258898,
          319433981,
          318761762,
          318003015,
          317181448,
          316366779,
          315449099,
          314162058,
          312708137,
          311262588,
          309837592,
          308516473,
          307488390,
          306640638,
          305877727,
          305299134,
          304787493,
          304174240,
          303343135,
          302184230,
          300886490,
          299652820,
          298441845,
          297251524,
          295923527,
          294399225,
          292728234,
          290874595,
          288923420,
          287338845,
          285778637,
          283866409,
          281974883,
          279969040,
          277650957,
          275163387,
          272655378,
          270110056,
          267621101,
          265203934
         ],
         "yaxis": "y"
        },
        {
         "hoverlabel": {
          "namelength": 0
         },
         "hovertemplate": "Country=Russia<br>Date=%{x}<br>Population=%{y}",
         "legendgroup": "Country=Russia",
         "line": {
          "color": "#B6E880",
          "dash": "solid"
         },
         "mode": "lines",
         "name": "Country=Russia",
         "showlegend": true,
         "type": "scatter",
         "x": [
          "1992",
          "1991",
          "1993",
          "1995",
          "1994",
          "1990",
          "1996",
          "1997",
          "1989",
          "1998",
          "1999",
          "2018",
          "2000",
          "1988",
          "2017",
          "2001",
          "2016",
          "2015",
          "2002",
          "2014",
          "1987",
          "2003",
          "2013",
          "2004",
          "2012",
          "2005",
          "2011",
          "2010",
          "2006",
          "2009",
          "2008",
          "2007",
          "1986",
          "1985",
          "1984",
          "1983",
          "1982",
          "1981",
          "1980",
          "1979",
          "1978",
          "1977",
          "1976",
          "1975",
          "1974",
          "1973",
          "1972",
          "1971",
          "1970",
          "1969",
          "1968",
          "1967",
          "1966",
          "1965",
          "1964",
          "1963",
          "1962",
          "1961",
          "1960"
         ],
         "xaxis": "x",
         "y": [
          148689000,
          148624000,
          148520000,
          148375726,
          148336000,
          148292000,
          148160042,
          147915307,
          147721000,
          147670692,
          147214392,
          144478050,
          146596557,
          146857000,
          144496740,
          145976083,
          144342396,
          144096870,
          145306046,
          143819666,
          145908000,
          144648257,
          143506911,
          144067054,
          143201676,
          143518523,
          142960868,
          142849449,
          143049528,
          142785342,
          142742350,
          142805088,
          144894000,
          143858000,
          142745000,
          141668000,
          140823000,
          139941000,
          139010000,
          138027000,
          137060000,
          136100000,
          135147000,
          134200000,
          133432000,
          132669000,
          131909000,
          131155000,
          130404000,
          129664000,
          128928000,
          128196000,
          127468000,
          126745000,
          125345000,
          123960000,
          122591000,
          121236000,
          119897000
         ],
         "yaxis": "y"
        }
       ],
       "layout": {
        "height": 600,
        "legend": {
         "tracegroupgap": 0
        },
        "template": {
         "data": {
          "bar": [
           {
            "error_x": {
             "color": "#2a3f5f"
            },
            "error_y": {
             "color": "#2a3f5f"
            },
            "marker": {
             "line": {
              "color": "#E5ECF6",
              "width": 0.5
             }
            },
            "type": "bar"
           }
          ],
          "barpolar": [
           {
            "marker": {
             "line": {
              "color": "#E5ECF6",
              "width": 0.5
             }
            },
            "type": "barpolar"
           }
          ],
          "carpet": [
           {
            "aaxis": {
             "endlinecolor": "#2a3f5f",
             "gridcolor": "white",
             "linecolor": "white",
             "minorgridcolor": "white",
             "startlinecolor": "#2a3f5f"
            },
            "baxis": {
             "endlinecolor": "#2a3f5f",
             "gridcolor": "white",
             "linecolor": "white",
             "minorgridcolor": "white",
             "startlinecolor": "#2a3f5f"
            },
            "type": "carpet"
           }
          ],
          "choropleth": [
           {
            "colorbar": {
             "outlinewidth": 0,
             "ticks": ""
            },
            "type": "choropleth"
           }
          ],
          "contour": [
           {
            "colorbar": {
             "outlinewidth": 0,
             "ticks": ""
            },
            "colorscale": [
             [
              0,
              "#0d0887"
             ],
             [
              0.1111111111111111,
              "#46039f"
             ],
             [
              0.2222222222222222,
              "#7201a8"
             ],
             [
              0.3333333333333333,
              "#9c179e"
             ],
             [
              0.4444444444444444,
              "#bd3786"
             ],
             [
              0.5555555555555556,
              "#d8576b"
             ],
             [
              0.6666666666666666,
              "#ed7953"
             ],
             [
              0.7777777777777778,
              "#fb9f3a"
             ],
             [
              0.8888888888888888,
              "#fdca26"
             ],
             [
              1,
              "#f0f921"
             ]
            ],
            "type": "contour"
           }
          ],
          "contourcarpet": [
           {
            "colorbar": {
             "outlinewidth": 0,
             "ticks": ""
            },
            "type": "contourcarpet"
           }
          ],
          "heatmap": [
           {
            "colorbar": {
             "outlinewidth": 0,
             "ticks": ""
            },
            "colorscale": [
             [
              0,
              "#0d0887"
             ],
             [
              0.1111111111111111,
              "#46039f"
             ],
             [
              0.2222222222222222,
              "#7201a8"
             ],
             [
              0.3333333333333333,
              "#9c179e"
             ],
             [
              0.4444444444444444,
              "#bd3786"
             ],
             [
              0.5555555555555556,
              "#d8576b"
             ],
             [
              0.6666666666666666,
              "#ed7953"
             ],
             [
              0.7777777777777778,
              "#fb9f3a"
             ],
             [
              0.8888888888888888,
              "#fdca26"
             ],
             [
              1,
              "#f0f921"
             ]
            ],
            "type": "heatmap"
           }
          ],
          "heatmapgl": [
           {
            "colorbar": {
             "outlinewidth": 0,
             "ticks": ""
            },
            "colorscale": [
             [
              0,
              "#0d0887"
             ],
             [
              0.1111111111111111,
              "#46039f"
             ],
             [
              0.2222222222222222,
              "#7201a8"
             ],
             [
              0.3333333333333333,
              "#9c179e"
             ],
             [
              0.4444444444444444,
              "#bd3786"
             ],
             [
              0.5555555555555556,
              "#d8576b"
             ],
             [
              0.6666666666666666,
              "#ed7953"
             ],
             [
              0.7777777777777778,
              "#fb9f3a"
             ],
             [
              0.8888888888888888,
              "#fdca26"
             ],
             [
              1,
              "#f0f921"
             ]
            ],
            "type": "heatmapgl"
           }
          ],
          "histogram": [
           {
            "marker": {
             "colorbar": {
              "outlinewidth": 0,
              "ticks": ""
             }
            },
            "type": "histogram"
           }
          ],
          "histogram2d": [
           {
            "colorbar": {
             "outlinewidth": 0,
             "ticks": ""
            },
            "colorscale": [
             [
              0,
              "#0d0887"
             ],
             [
              0.1111111111111111,
              "#46039f"
             ],
             [
              0.2222222222222222,
              "#7201a8"
             ],
             [
              0.3333333333333333,
              "#9c179e"
             ],
             [
              0.4444444444444444,
              "#bd3786"
             ],
             [
              0.5555555555555556,
              "#d8576b"
             ],
             [
              0.6666666666666666,
              "#ed7953"
             ],
             [
              0.7777777777777778,
              "#fb9f3a"
             ],
             [
              0.8888888888888888,
              "#fdca26"
             ],
             [
              1,
              "#f0f921"
             ]
            ],
            "type": "histogram2d"
           }
          ],
          "histogram2dcontour": [
           {
            "colorbar": {
             "outlinewidth": 0,
             "ticks": ""
            },
            "colorscale": [
             [
              0,
              "#0d0887"
             ],
             [
              0.1111111111111111,
              "#46039f"
             ],
             [
              0.2222222222222222,
              "#7201a8"
             ],
             [
              0.3333333333333333,
              "#9c179e"
             ],
             [
              0.4444444444444444,
              "#bd3786"
             ],
             [
              0.5555555555555556,
              "#d8576b"
             ],
             [
              0.6666666666666666,
              "#ed7953"
             ],
             [
              0.7777777777777778,
              "#fb9f3a"
             ],
             [
              0.8888888888888888,
              "#fdca26"
             ],
             [
              1,
              "#f0f921"
             ]
            ],
            "type": "histogram2dcontour"
           }
          ],
          "mesh3d": [
           {
            "colorbar": {
             "outlinewidth": 0,
             "ticks": ""
            },
            "type": "mesh3d"
           }
          ],
          "parcoords": [
           {
            "line": {
             "colorbar": {
              "outlinewidth": 0,
              "ticks": ""
             }
            },
            "type": "parcoords"
           }
          ],
          "pie": [
           {
            "automargin": true,
            "type": "pie"
           }
          ],
          "scatter": [
           {
            "marker": {
             "colorbar": {
              "outlinewidth": 0,
              "ticks": ""
             }
            },
            "type": "scatter"
           }
          ],
          "scatter3d": [
           {
            "line": {
             "colorbar": {
              "outlinewidth": 0,
              "ticks": ""
             }
            },
            "marker": {
             "colorbar": {
              "outlinewidth": 0,
              "ticks": ""
             }
            },
            "type": "scatter3d"
           }
          ],
          "scattercarpet": [
           {
            "marker": {
             "colorbar": {
              "outlinewidth": 0,
              "ticks": ""
             }
            },
            "type": "scattercarpet"
           }
          ],
          "scattergeo": [
           {
            "marker": {
             "colorbar": {
              "outlinewidth": 0,
              "ticks": ""
             }
            },
            "type": "scattergeo"
           }
          ],
          "scattergl": [
           {
            "marker": {
             "colorbar": {
              "outlinewidth": 0,
              "ticks": ""
             }
            },
            "type": "scattergl"
           }
          ],
          "scattermapbox": [
           {
            "marker": {
             "colorbar": {
              "outlinewidth": 0,
              "ticks": ""
             }
            },
            "type": "scattermapbox"
           }
          ],
          "scatterpolar": [
           {
            "marker": {
             "colorbar": {
              "outlinewidth": 0,
              "ticks": ""
             }
            },
            "type": "scatterpolar"
           }
          ],
          "scatterpolargl": [
           {
            "marker": {
             "colorbar": {
              "outlinewidth": 0,
              "ticks": ""
             }
            },
            "type": "scatterpolargl"
           }
          ],
          "scatterternary": [
           {
            "marker": {
             "colorbar": {
              "outlinewidth": 0,
              "ticks": ""
             }
            },
            "type": "scatterternary"
           }
          ],
          "surface": [
           {
            "colorbar": {
             "outlinewidth": 0,
             "ticks": ""
            },
            "colorscale": [
             [
              0,
              "#0d0887"
             ],
             [
              0.1111111111111111,
              "#46039f"
             ],
             [
              0.2222222222222222,
              "#7201a8"
             ],
             [
              0.3333333333333333,
              "#9c179e"
             ],
             [
              0.4444444444444444,
              "#bd3786"
             ],
             [
              0.5555555555555556,
              "#d8576b"
             ],
             [
              0.6666666666666666,
              "#ed7953"
             ],
             [
              0.7777777777777778,
              "#fb9f3a"
             ],
             [
              0.8888888888888888,
              "#fdca26"
             ],
             [
              1,
              "#f0f921"
             ]
            ],
            "type": "surface"
           }
          ],
          "table": [
           {
            "cells": {
             "fill": {
              "color": "#EBF0F8"
             },
             "line": {
              "color": "white"
             }
            },
            "header": {
             "fill": {
              "color": "#C8D4E3"
             },
             "line": {
              "color": "white"
             }
            },
            "type": "table"
           }
          ]
         },
         "layout": {
          "annotationdefaults": {
           "arrowcolor": "#2a3f5f",
           "arrowhead": 0,
           "arrowwidth": 1
          },
          "coloraxis": {
           "colorbar": {
            "outlinewidth": 0,
            "ticks": ""
           }
          },
          "colorscale": {
           "diverging": [
            [
             0,
             "#8e0152"
            ],
            [
             0.1,
             "#c51b7d"
            ],
            [
             0.2,
             "#de77ae"
            ],
            [
             0.3,
             "#f1b6da"
            ],
            [
             0.4,
             "#fde0ef"
            ],
            [
             0.5,
             "#f7f7f7"
            ],
            [
             0.6,
             "#e6f5d0"
            ],
            [
             0.7,
             "#b8e186"
            ],
            [
             0.8,
             "#7fbc41"
            ],
            [
             0.9,
             "#4d9221"
            ],
            [
             1,
             "#276419"
            ]
           ],
           "sequential": [
            [
             0,
             "#0d0887"
            ],
            [
             0.1111111111111111,
             "#46039f"
            ],
            [
             0.2222222222222222,
             "#7201a8"
            ],
            [
             0.3333333333333333,
             "#9c179e"
            ],
            [
             0.4444444444444444,
             "#bd3786"
            ],
            [
             0.5555555555555556,
             "#d8576b"
            ],
            [
             0.6666666666666666,
             "#ed7953"
            ],
            [
             0.7777777777777778,
             "#fb9f3a"
            ],
            [
             0.8888888888888888,
             "#fdca26"
            ],
            [
             1,
             "#f0f921"
            ]
           ],
           "sequentialminus": [
            [
             0,
             "#0d0887"
            ],
            [
             0.1111111111111111,
             "#46039f"
            ],
            [
             0.2222222222222222,
             "#7201a8"
            ],
            [
             0.3333333333333333,
             "#9c179e"
            ],
            [
             0.4444444444444444,
             "#bd3786"
            ],
            [
             0.5555555555555556,
             "#d8576b"
            ],
            [
             0.6666666666666666,
             "#ed7953"
            ],
            [
             0.7777777777777778,
             "#fb9f3a"
            ],
            [
             0.8888888888888888,
             "#fdca26"
            ],
            [
             1,
             "#f0f921"
            ]
           ]
          },
          "colorway": [
           "#636efa",
           "#EF553B",
           "#00cc96",
           "#ab63fa",
           "#FFA15A",
           "#19d3f3",
           "#FF6692",
           "#B6E880",
           "#FF97FF",
           "#FECB52"
          ],
          "font": {
           "color": "#2a3f5f"
          },
          "geo": {
           "bgcolor": "white",
           "lakecolor": "white",
           "landcolor": "#E5ECF6",
           "showlakes": true,
           "showland": true,
           "subunitcolor": "white"
          },
          "hoverlabel": {
           "align": "left"
          },
          "hovermode": "closest",
          "mapbox": {
           "style": "light"
          },
          "paper_bgcolor": "white",
          "plot_bgcolor": "#E5ECF6",
          "polar": {
           "angularaxis": {
            "gridcolor": "white",
            "linecolor": "white",
            "ticks": ""
           },
           "bgcolor": "#E5ECF6",
           "radialaxis": {
            "gridcolor": "white",
            "linecolor": "white",
            "ticks": ""
           }
          },
          "scene": {
           "xaxis": {
            "backgroundcolor": "#E5ECF6",
            "gridcolor": "white",
            "gridwidth": 2,
            "linecolor": "white",
            "showbackground": true,
            "ticks": "",
            "zerolinecolor": "white"
           },
           "yaxis": {
            "backgroundcolor": "#E5ECF6",
            "gridcolor": "white",
            "gridwidth": 2,
            "linecolor": "white",
            "showbackground": true,
            "ticks": "",
            "zerolinecolor": "white"
           },
           "zaxis": {
            "backgroundcolor": "#E5ECF6",
            "gridcolor": "white",
            "gridwidth": 2,
            "linecolor": "white",
            "showbackground": true,
            "ticks": "",
            "zerolinecolor": "white"
           }
          },
          "shapedefaults": {
           "line": {
            "color": "#2a3f5f"
           }
          },
          "ternary": {
           "aaxis": {
            "gridcolor": "white",
            "linecolor": "white",
            "ticks": ""
           },
           "baxis": {
            "gridcolor": "white",
            "linecolor": "white",
            "ticks": ""
           },
           "bgcolor": "#E5ECF6",
           "caxis": {
            "gridcolor": "white",
            "linecolor": "white",
            "ticks": ""
           }
          },
          "title": {
           "x": 0.05
          },
          "xaxis": {
           "automargin": true,
           "gridcolor": "white",
           "linecolor": "white",
           "ticks": "",
           "title": {
            "standoff": 15
           },
           "zerolinecolor": "white",
           "zerolinewidth": 2
          },
          "yaxis": {
           "automargin": true,
           "gridcolor": "white",
           "linecolor": "white",
           "ticks": "",
           "title": {
            "standoff": 15
           },
           "zerolinecolor": "white",
           "zerolinewidth": 2
          }
         }
        },
        "title": {
         "text": "Evolution de la population mondiale"
        },
        "xaxis": {
         "anchor": "y",
         "domain": [
          0,
          1
         ],
         "title": {
          "text": "Date"
         }
        },
        "yaxis": {
         "anchor": "x",
         "domain": [
          0,
          1
         ],
         "title": {
          "text": "Population"
         }
        }
       }
      },
      "text/html": [
       "<div>\n",
       "        \n",
       "        \n",
       "            <div id=\"274c0ff3-6376-4c59-91d0-b1c1a87f0aad\" class=\"plotly-graph-div\" style=\"height:600px; width:100%;\"></div>\n",
       "            <script type=\"text/javascript\">\n",
       "                require([\"plotly\"], function(Plotly) {\n",
       "                    window.PLOTLYENV=window.PLOTLYENV || {};\n",
       "                    \n",
       "                if (document.getElementById(\"274c0ff3-6376-4c59-91d0-b1c1a87f0aad\")) {\n",
       "                    Plotly.newPlot(\n",
       "                        '274c0ff3-6376-4c59-91d0-b1c1a87f0aad',\n",
       "                        [{\"hoverlabel\": {\"namelength\": 0}, \"hovertemplate\": \"Country=World<br>Date=%{x}<br>Population=%{y}\", \"legendgroup\": \"Country=World\", \"line\": {\"color\": \"#636efa\", \"dash\": \"solid\"}, \"mode\": \"lines\", \"name\": \"Country=World\", \"showlegend\": true, \"type\": \"scatter\", \"x\": [\"2018\", \"2017\", \"2016\", \"2015\", \"2014\", \"2013\", \"2012\", \"2011\", \"2010\", \"2009\", \"2008\", \"2007\", \"2006\", \"2005\", \"2004\", \"2003\", \"2002\", \"2001\", \"2000\", \"1999\", \"1998\", \"1997\", \"1996\", \"1995\", \"1994\", \"1993\", \"1992\", \"1991\", \"1990\", \"1989\", \"1988\", \"1987\", \"1986\", \"1985\", \"1984\", \"1983\", \"1982\", \"1981\", \"1980\", \"1979\", \"1978\", \"1977\", \"1976\", \"1975\", \"1974\", \"1973\", \"1972\", \"1971\", \"1970\", \"1969\", \"1968\", \"1967\", \"1966\", \"1965\", \"1964\", \"1963\", \"1962\", \"1961\", \"1960\"], \"xaxis\": \"x\", \"y\": [7594270356.0, 7510990456.0, 7426103221.0, 7340548192.0, 7255653881.0, 7170961674.0, 7086993625.0, 7004011262.0, 6922947261.0, 6840591577.0, 6757887172.0, 6675130418.0, 6593623202.0, 6512602867.0, 6432374971.0, 6352677699.0, 6273526441.0, 6194460444.0, 6115108363.0, 6035284135.0, 5954810550.0, 5873071768.0, 5790454220.0, 5707533023.0, 5622575421.0, 5538448726.0, 5453393960.0, 5369210095.0, 5281340078.0, 5190965222.0, 5102293348.0, 5013576387.0, 4925801334.0, 4840155168.0, 4756998073.0, 4675367633.0, 4593454253.0, 4512268962.0, 4434021975.0, 4357793599.0, 4282341460.0, 4208770941.0, 4136393107.0, 4063806523.0, 3989385034.0, 3913217944.0, 3837726171.0, 3761307048.0, 3683676306.0, 3608235815.0, 3533536526.0, 3463147267.0, 3393699205.0, 3323623700.0, 3256700083.0, 3191186048.0, 3126066253.0, 3073077563.0, 3032019978.0], \"yaxis\": \"y\"}, {\"hoverlabel\": {\"namelength\": 0}, \"hovertemplate\": \"Country=Asia Pacific<br>Date=%{x}<br>Population=%{y}\", \"legendgroup\": \"Country=Asia Pacific\", \"line\": {\"color\": \"#EF553B\", \"dash\": \"solid\"}, \"mode\": \"lines\", \"name\": \"Country=Asia Pacific\", \"showlegend\": true, \"type\": \"scatter\", \"x\": [\"2018\", \"2017\", \"2016\", \"2015\", \"2014\", \"2013\", \"2012\", \"2011\", \"2010\", \"2009\", \"2008\", \"2007\", \"2006\", \"2005\", \"2004\", \"2003\", \"2002\", \"2001\", \"2000\", \"1999\", \"1998\", \"1997\", \"1996\", \"1995\", \"1994\", \"1993\", \"1992\", \"1991\", \"1990\", \"1989\", \"1988\", \"1987\", \"1986\", \"1985\", \"1984\", \"1983\", \"1982\", \"1981\", \"1980\", \"1979\", \"1978\", \"1977\", \"1976\", \"1975\", \"1974\", \"1973\", \"1972\", \"1971\", \"1970\", \"1969\", \"1968\", \"1967\", \"1966\", \"1965\", \"1964\", \"1963\", \"1962\", \"1961\", \"1960\"], \"xaxis\": \"x\", \"y\": [2328220870.0, 2314202003.0, 2298514046.0, 2282855831.0, 2267482299.0, 2252046977.0, 2236819053.0, 2221673110.0, 2206884624.0, 2192059415.0, 2177119142.0, 2161785573.0, 2146744075.0, 2131146832.0, 2115458616.0, 2099602439.0, 2083186112.0, 2065912076.0, 2047640119.0, 2028650274.0, 2008705489.0, 1987315562.0, 1965146504.0, 1942431457.0, 1919359723.0, 1895897521.0, 1872480731.0, 1848222188.0, 1822193192.0, 1795159128.0, 1767429690.0, 1739071545.0, 1710989831.0, 1684294889.0, 1659131214.0, 1634539937.0, 1608678553.0, 1582789699.0, 1559194619.0, 1536434993.0, 1513227369.0, 1490449457.0, 1467569010.0, 1443359147.0, 1416257366.0, 1386188710.0, 1355934900.0, 1324084715.0, 1290384064.0, 1257454897.0, 1224531259.0, 1195269923.0, 1166600015.0, 1136691455.0, 1110214377.0, 1084796352.0, 1059018809.0, 1044544622.0, 1040958103.0], \"yaxis\": \"y\"}, {\"hoverlabel\": {\"namelength\": 0}, \"hovertemplate\": \"Country=Latin America<br>Date=%{x}<br>Population=%{y}\", \"legendgroup\": \"Country=Latin America\", \"line\": {\"color\": \"#00cc96\", \"dash\": \"solid\"}, \"mode\": \"lines\", \"name\": \"Country=Latin America\", \"showlegend\": true, \"type\": \"scatter\", \"x\": [\"2018\", \"2017\", \"2016\", \"2015\", \"2014\", \"2013\", \"2012\", \"2011\", \"2010\", \"2009\", \"2008\", \"2007\", \"2006\", \"2005\", \"2004\", \"2003\", \"2002\", \"2001\", \"2000\", \"1999\", \"1998\", \"1997\", \"1996\", \"1995\", \"1994\", \"1993\", \"1992\", \"1991\", \"1990\", \"1989\", \"1988\", \"1987\", \"1986\", \"1985\", \"1984\", \"1983\", \"1982\", \"1981\", \"1980\", \"1979\", \"1978\", \"1977\", \"1976\", \"1975\", \"1974\", \"1973\", \"1972\", \"1971\", \"1970\", \"1969\", \"1968\", \"1967\", \"1966\", \"1965\", \"1964\", \"1963\", \"1962\", \"1961\", \"1960\"], \"xaxis\": \"x\", \"y\": [641357515.0, 635372515.0, 629240066.0, 622986033.0, 616619613.0, 610151927.0, 603586217.0, 596966199.0, 590303295.0, 583746102.0, 577050884.0, 570314774.0, 563521369.0, 556652026.0, 549705414.0, 542684680.0, 535570691.0, 528336554.0, 520964431.0, 513442848.0, 505774348.0, 497957410.0, 490080681.0, 482150647.0, 474193423.0, 466199679.0, 458175526.0, 450125305.0, 442040696.0, 433925886.0, 425800798.0, 417659736.0, 409496610.0, 401311796.0, 393106351.0, 384896426.0, 376714428.0, 368601995.0, 360591861.0, 352693991.0, 344913615.0, 337240049.0, 329667217.0, 322176757.0, 314773956.0, 307462534.0, 300238819.0, 293097388.0, 286027166.0, 279037414.0, 272128513.0, 265295652.0, 258538106.0, 251850859.0, 245233432.0, 238696012.0, 232265533.0, 225993884.0, 219907801.0], \"yaxis\": \"y\"}, {\"hoverlabel\": {\"namelength\": 0}, \"hovertemplate\": \"Country=Africa<br>Date=%{x}<br>Population=%{y}\", \"legendgroup\": \"Country=Africa\", \"line\": {\"color\": \"#ab63fa\", \"dash\": \"solid\"}, \"mode\": \"lines\", \"name\": \"Country=Africa\", \"showlegend\": true, \"type\": \"scatter\", \"x\": [\"2018\", \"2017\", \"2016\", \"2015\", \"2014\", \"2013\", \"2012\", \"2011\", \"2010\", \"2009\", \"2008\", \"2007\", \"2006\", \"2005\", \"2004\", \"2003\", \"2002\", \"2001\", \"2000\", \"1999\", \"1998\", \"1997\", \"1996\", \"1995\", \"1994\", \"1993\", \"1992\", \"1991\", \"1990\", \"1989\", \"1988\", \"1987\", \"1986\", \"1985\", \"1984\", \"1983\", \"1982\", \"1981\", \"1980\", \"1979\", \"1978\", \"1977\", \"1976\", \"1975\", \"1974\", \"1973\", \"1972\", \"1971\", \"1970\", \"1969\", \"1968\", \"1967\", \"1966\", \"1965\", \"1964\", \"1963\", \"1962\", \"1961\", \"1960\"], \"xaxis\": \"x\", \"y\": [1078306520.0, 1050153672.0, 1022526541.0, 995458478.0, 968959787.0, 943041070.0, 917726973.0, 893046172.0, 869025106.0, 845655214.0, 822945457.0, 800908534.0, 779566820.0, 758924681.0, 738983255.0, 719716209.0, 701066167.0, 682956070.0, 665327581.0, 648148316.0, 631400656.0, 615054371.0, 599067779.0, 583413261.0, 568072008.0, 553020362.0, 538246469.0, 523726913.0, 509451851.0, 495407391.0, 481594292.0, 468053168.0, 454835629.0, 441988010.0, 429521938.0, 417425681.0, 405688903.0, 394281956.0, 383188232.0, 372404185.0, 361939361.0, 351808670.0, 342018831.0, 332583486.0, 323500188.0, 314761167.0, 306359274.0, 298284068.0, 290526189.0, 283080084.0, 275937224.0, 269072224.0, 262454422.0, 256059811.0, 249873743.0, 243893426.0, 238121698.0, 232567038.0, 227233223.0], \"yaxis\": \"y\"}, {\"hoverlabel\": {\"namelength\": 0}, \"hovertemplate\": \"Country=North America<br>Date=%{x}<br>Population=%{y}\", \"legendgroup\": \"Country=North America\", \"line\": {\"color\": \"#FFA15A\", \"dash\": \"solid\"}, \"mode\": \"lines\", \"name\": \"Country=North America\", \"showlegend\": true, \"type\": \"scatter\", \"x\": [\"2018\", \"2017\", \"2016\", \"2015\", \"2014\", \"2013\", \"2012\", \"2011\", \"2010\", \"2009\", \"2008\", \"2007\", \"2006\", \"2005\", \"2004\", \"2003\", \"2002\", \"2001\", \"2000\", \"1999\", \"1998\", \"1997\", \"1996\", \"1995\", \"1994\", \"1993\", \"1992\", \"1991\", \"1990\", \"1989\", \"1988\", \"1987\", \"1986\", \"1985\", \"1984\", \"1983\", \"1982\", \"1981\", \"1980\", \"1979\", \"1978\", \"1977\", \"1976\", \"1975\", \"1974\", \"1973\", \"1972\", \"1971\", \"1970\", \"1969\", \"1968\", \"1967\", \"1966\", \"1965\", \"1964\", \"1963\", \"1962\", \"1961\", \"1960\"], \"xaxis\": \"x\", \"y\": [364290258.0, 361751263.0, 359245384.0, 356510820.0, 353888995.0, 351205682.0, 348653238.0, 345983901.0, 343396098.0, 340466060.0, 337406357.0, 334185120.0, 331015609.0, 327824506.0, 324809693.0, 321815286.0, 319048184.0, 316052361.0, 312909974.0, 309502571.0, 306070116.0, 302623445.0, 299064347.0, 295640057.0, 292185983.0, 288662674.0, 284943859.0, 281077441.0, 277373464.0, 274154622.0, 271349094.0, 268793450.0, 266290660.0, 263823014.0, 261488476.0, 259214381.0, 256836391.0, 254340965.0, 251795337.0, 249310344.0, 246601803.0, 244018243.0, 241538008.0, 239169275.0, 236715369.0, 234454577.0, 232168663.0, 229677632.0, 226431000.0, 223759000.0, 221503000.0, 219176000.0, 216659000.0, 214031100.0, 211262900.0, 208253700.0, 205198600.0, 202007500.0, 198624409.0], \"yaxis\": \"y\"}, {\"hoverlabel\": {\"namelength\": 0}, \"hovertemplate\": \"Country=Middle East<br>Date=%{x}<br>Population=%{y}\", \"legendgroup\": \"Country=Middle East\", \"line\": {\"color\": \"#19d3f3\", \"dash\": \"solid\"}, \"mode\": \"lines\", \"name\": \"Country=Middle East\", \"showlegend\": true, \"type\": \"scatter\", \"x\": [\"2018\", \"2017\", \"2016\", \"2015\", \"2014\", \"2013\", \"2012\", \"2011\", \"2010\", \"2009\", \"2008\", \"2007\", \"2006\", \"2005\", \"2004\", \"2003\", \"2002\", \"2001\", \"2000\", \"1999\", \"1998\", \"1997\", \"1996\", \"1995\", \"1994\", \"1993\", \"1992\", \"1991\", \"1990\", \"1989\", \"1988\", \"1987\", \"1986\", \"1985\", \"1984\", \"1983\", \"1982\", \"1981\", \"1980\", \"1979\", \"1978\", \"1977\", \"1976\", \"1975\", \"1974\", \"1973\", \"1972\", \"1971\", \"1970\", \"1969\", \"1968\", \"1967\", \"1966\", \"1965\", \"1964\", \"1963\", \"1962\", \"1961\", \"1960\"], \"xaxis\": \"x\", \"y\": [448912859.0, 441255234.0, 433597626.0, 425821770.0, 417932242.0, 409977874.0, 401974219.0, 393944527.0, 385917886.0, 377883993.0, 369823252.0, 361929136.0, 354302463.0, 347029874.0, 340143481.0, 333608779.0, 327362252.0, 321297208.0, 315326801.0, 309436741.0, 303641740.0, 297891731.0, 292041181.0, 286096964.0, 278384965.0, 272107828.0, 265656619.0, 261046309.0, 254215138.0, 245453259.0, 238565130.0, 231570113.0, 224549844.0, 217572788.0, 210648811.0, 203834190.0, 197157159.0, 190731422.0, 184628605.0, 178866341.0, 173447058.0, 168361100.0, 163532323.0, 158917328.0, 154509812.0, 150292291.0, 146213388.0, 142307879.0, 138473064.0, 134704201.0, 131026912.0, 127444958.0, 123908159.0, 120541214.0, 117271166.0, 114101592.0, 111045434.0, 108061812.0, 105203269.0], \"yaxis\": \"y\"}, {\"hoverlabel\": {\"namelength\": 0}, \"hovertemplate\": \"Country=Europe<br>Date=%{x}<br>Population=%{y}\", \"legendgroup\": \"Country=Europe\", \"line\": {\"color\": \"#FF6692\", \"dash\": \"solid\"}, \"mode\": \"lines\", \"name\": \"Country=Europe\", \"showlegend\": true, \"type\": \"scatter\", \"x\": [\"2018\", \"2017\", \"2016\", \"2015\", \"2014\", \"2013\", \"2012\", \"2011\", \"2010\", \"2009\", \"2008\", \"2007\", \"2006\", \"2005\", \"2004\", \"2003\", \"2002\", \"2001\", \"2000\", \"1999\", \"1998\", \"1997\", \"1996\", \"1995\", \"1994\", \"1993\", \"1992\", \"1991\", \"1990\", \"1989\", \"1988\", \"1987\", \"1986\", \"1985\", \"1984\", \"1983\", \"1982\", \"1981\", \"1980\", \"1979\", \"1978\", \"1977\", \"1976\", \"1975\", \"1974\", \"1973\", \"1972\", \"1971\", \"1970\", \"1969\", \"1968\", \"1967\", \"1966\", \"1965\", \"1964\", \"1963\", \"1962\", \"1961\", \"1960\"], \"xaxis\": \"x\", \"y\": [341783171.0, 341164362.0, 340616924.0, 339533474.0, 338466255.0, 337302113.0, 336159194.0, 335419643.0, 336151479.0, 335360890.0, 334274725.0, 332645165.0, 330922789.0, 329380417.0, 327682505.0, 325885964.0, 324125336.0, 322547874.0, 321310791.0, 320258898.0, 319433981.0, 318761762.0, 318003015.0, 317181448.0, 316366779.0, 315449099.0, 314162058.0, 312708137.0, 311262588.0, 309837592.0, 308516473.0, 307488390.0, 306640638.0, 305877727.0, 305299134.0, 304787493.0, 304174240.0, 303343135.0, 302184230.0, 300886490.0, 299652820.0, 298441845.0, 297251524.0, 295923527.0, 294399225.0, 292728234.0, 290874595.0, 288923420.0, 287338845.0, 285778637.0, 283866409.0, 281974883.0, 279969040.0, 277650957.0, 275163387.0, 272655378.0, 270110056.0, 267621101.0, 265203934.0], \"yaxis\": \"y\"}, {\"hoverlabel\": {\"namelength\": 0}, \"hovertemplate\": \"Country=Russia<br>Date=%{x}<br>Population=%{y}\", \"legendgroup\": \"Country=Russia\", \"line\": {\"color\": \"#B6E880\", \"dash\": \"solid\"}, \"mode\": \"lines\", \"name\": \"Country=Russia\", \"showlegend\": true, \"type\": \"scatter\", \"x\": [\"1992\", \"1991\", \"1993\", \"1995\", \"1994\", \"1990\", \"1996\", \"1997\", \"1989\", \"1998\", \"1999\", \"2018\", \"2000\", \"1988\", \"2017\", \"2001\", \"2016\", \"2015\", \"2002\", \"2014\", \"1987\", \"2003\", \"2013\", \"2004\", \"2012\", \"2005\", \"2011\", \"2010\", \"2006\", \"2009\", \"2008\", \"2007\", \"1986\", \"1985\", \"1984\", \"1983\", \"1982\", \"1981\", \"1980\", \"1979\", \"1978\", \"1977\", \"1976\", \"1975\", \"1974\", \"1973\", \"1972\", \"1971\", \"1970\", \"1969\", \"1968\", \"1967\", \"1966\", \"1965\", \"1964\", \"1963\", \"1962\", \"1961\", \"1960\"], \"xaxis\": \"x\", \"y\": [148689000.0, 148624000.0, 148520000.0, 148375726.0, 148336000.0, 148292000.0, 148160042.0, 147915307.0, 147721000.0, 147670692.0, 147214392.0, 144478050.0, 146596557.0, 146857000.0, 144496740.0, 145976083.0, 144342396.0, 144096870.0, 145306046.0, 143819666.0, 145908000.0, 144648257.0, 143506911.0, 144067054.0, 143201676.0, 143518523.0, 142960868.0, 142849449.0, 143049528.0, 142785342.0, 142742350.0, 142805088.0, 144894000.0, 143858000.0, 142745000.0, 141668000.0, 140823000.0, 139941000.0, 139010000.0, 138027000.0, 137060000.0, 136100000.0, 135147000.0, 134200000.0, 133432000.0, 132669000.0, 131909000.0, 131155000.0, 130404000.0, 129664000.0, 128928000.0, 128196000.0, 127468000.0, 126745000.0, 125345000.0, 123960000.0, 122591000.0, 121236000.0, 119897000.0], \"yaxis\": \"y\"}],\n",
       "                        {\"height\": 600, \"legend\": {\"tracegroupgap\": 0}, \"template\": {\"data\": {\"bar\": [{\"error_x\": {\"color\": \"#2a3f5f\"}, \"error_y\": {\"color\": \"#2a3f5f\"}, \"marker\": {\"line\": {\"color\": \"#E5ECF6\", \"width\": 0.5}}, \"type\": \"bar\"}], \"barpolar\": [{\"marker\": {\"line\": {\"color\": \"#E5ECF6\", \"width\": 0.5}}, \"type\": \"barpolar\"}], \"carpet\": [{\"aaxis\": {\"endlinecolor\": \"#2a3f5f\", \"gridcolor\": \"white\", \"linecolor\": \"white\", \"minorgridcolor\": \"white\", \"startlinecolor\": \"#2a3f5f\"}, \"baxis\": {\"endlinecolor\": \"#2a3f5f\", \"gridcolor\": \"white\", \"linecolor\": \"white\", \"minorgridcolor\": \"white\", \"startlinecolor\": \"#2a3f5f\"}, \"type\": \"carpet\"}], \"choropleth\": [{\"colorbar\": {\"outlinewidth\": 0, \"ticks\": \"\"}, \"type\": \"choropleth\"}], \"contour\": [{\"colorbar\": {\"outlinewidth\": 0, \"ticks\": \"\"}, \"colorscale\": [[0.0, \"#0d0887\"], [0.1111111111111111, \"#46039f\"], [0.2222222222222222, \"#7201a8\"], [0.3333333333333333, \"#9c179e\"], [0.4444444444444444, \"#bd3786\"], [0.5555555555555556, \"#d8576b\"], [0.6666666666666666, \"#ed7953\"], [0.7777777777777778, \"#fb9f3a\"], [0.8888888888888888, \"#fdca26\"], [1.0, \"#f0f921\"]], \"type\": \"contour\"}], \"contourcarpet\": [{\"colorbar\": {\"outlinewidth\": 0, \"ticks\": \"\"}, \"type\": \"contourcarpet\"}], \"heatmap\": [{\"colorbar\": {\"outlinewidth\": 0, \"ticks\": \"\"}, \"colorscale\": [[0.0, \"#0d0887\"], [0.1111111111111111, \"#46039f\"], [0.2222222222222222, \"#7201a8\"], [0.3333333333333333, \"#9c179e\"], [0.4444444444444444, \"#bd3786\"], [0.5555555555555556, \"#d8576b\"], [0.6666666666666666, \"#ed7953\"], [0.7777777777777778, \"#fb9f3a\"], [0.8888888888888888, \"#fdca26\"], [1.0, \"#f0f921\"]], \"type\": \"heatmap\"}], \"heatmapgl\": [{\"colorbar\": {\"outlinewidth\": 0, \"ticks\": \"\"}, \"colorscale\": [[0.0, \"#0d0887\"], [0.1111111111111111, \"#46039f\"], [0.2222222222222222, \"#7201a8\"], [0.3333333333333333, \"#9c179e\"], [0.4444444444444444, \"#bd3786\"], [0.5555555555555556, \"#d8576b\"], [0.6666666666666666, \"#ed7953\"], [0.7777777777777778, \"#fb9f3a\"], [0.8888888888888888, \"#fdca26\"], [1.0, \"#f0f921\"]], \"type\": \"heatmapgl\"}], \"histogram\": [{\"marker\": {\"colorbar\": {\"outlinewidth\": 0, \"ticks\": \"\"}}, \"type\": \"histogram\"}], \"histogram2d\": [{\"colorbar\": {\"outlinewidth\": 0, \"ticks\": \"\"}, \"colorscale\": [[0.0, \"#0d0887\"], [0.1111111111111111, \"#46039f\"], [0.2222222222222222, \"#7201a8\"], [0.3333333333333333, \"#9c179e\"], [0.4444444444444444, \"#bd3786\"], [0.5555555555555556, \"#d8576b\"], [0.6666666666666666, \"#ed7953\"], [0.7777777777777778, \"#fb9f3a\"], [0.8888888888888888, \"#fdca26\"], [1.0, \"#f0f921\"]], \"type\": \"histogram2d\"}], \"histogram2dcontour\": [{\"colorbar\": {\"outlinewidth\": 0, \"ticks\": \"\"}, \"colorscale\": [[0.0, \"#0d0887\"], [0.1111111111111111, \"#46039f\"], [0.2222222222222222, \"#7201a8\"], [0.3333333333333333, \"#9c179e\"], [0.4444444444444444, \"#bd3786\"], [0.5555555555555556, \"#d8576b\"], [0.6666666666666666, \"#ed7953\"], [0.7777777777777778, \"#fb9f3a\"], [0.8888888888888888, \"#fdca26\"], [1.0, \"#f0f921\"]], \"type\": \"histogram2dcontour\"}], \"mesh3d\": [{\"colorbar\": {\"outlinewidth\": 0, \"ticks\": \"\"}, \"type\": \"mesh3d\"}], \"parcoords\": [{\"line\": {\"colorbar\": {\"outlinewidth\": 0, \"ticks\": \"\"}}, \"type\": \"parcoords\"}], \"pie\": [{\"automargin\": true, \"type\": \"pie\"}], \"scatter\": [{\"marker\": {\"colorbar\": {\"outlinewidth\": 0, \"ticks\": \"\"}}, \"type\": \"scatter\"}], \"scatter3d\": [{\"line\": {\"colorbar\": {\"outlinewidth\": 0, \"ticks\": \"\"}}, \"marker\": {\"colorbar\": {\"outlinewidth\": 0, \"ticks\": \"\"}}, \"type\": \"scatter3d\"}], \"scattercarpet\": [{\"marker\": {\"colorbar\": {\"outlinewidth\": 0, \"ticks\": \"\"}}, \"type\": \"scattercarpet\"}], \"scattergeo\": [{\"marker\": {\"colorbar\": {\"outlinewidth\": 0, \"ticks\": \"\"}}, \"type\": \"scattergeo\"}], \"scattergl\": [{\"marker\": {\"colorbar\": {\"outlinewidth\": 0, \"ticks\": \"\"}}, \"type\": \"scattergl\"}], \"scattermapbox\": [{\"marker\": {\"colorbar\": {\"outlinewidth\": 0, \"ticks\": \"\"}}, \"type\": \"scattermapbox\"}], \"scatterpolar\": [{\"marker\": {\"colorbar\": {\"outlinewidth\": 0, \"ticks\": \"\"}}, \"type\": \"scatterpolar\"}], \"scatterpolargl\": [{\"marker\": {\"colorbar\": {\"outlinewidth\": 0, \"ticks\": \"\"}}, \"type\": \"scatterpolargl\"}], \"scatterternary\": [{\"marker\": {\"colorbar\": {\"outlinewidth\": 0, \"ticks\": \"\"}}, \"type\": \"scatterternary\"}], \"surface\": [{\"colorbar\": {\"outlinewidth\": 0, \"ticks\": \"\"}, \"colorscale\": [[0.0, \"#0d0887\"], [0.1111111111111111, \"#46039f\"], [0.2222222222222222, \"#7201a8\"], [0.3333333333333333, \"#9c179e\"], [0.4444444444444444, \"#bd3786\"], [0.5555555555555556, \"#d8576b\"], [0.6666666666666666, \"#ed7953\"], [0.7777777777777778, \"#fb9f3a\"], [0.8888888888888888, \"#fdca26\"], [1.0, \"#f0f921\"]], \"type\": \"surface\"}], \"table\": [{\"cells\": {\"fill\": {\"color\": \"#EBF0F8\"}, \"line\": {\"color\": \"white\"}}, \"header\": {\"fill\": {\"color\": \"#C8D4E3\"}, \"line\": {\"color\": \"white\"}}, \"type\": \"table\"}]}, \"layout\": {\"annotationdefaults\": {\"arrowcolor\": \"#2a3f5f\", \"arrowhead\": 0, \"arrowwidth\": 1}, \"coloraxis\": {\"colorbar\": {\"outlinewidth\": 0, \"ticks\": \"\"}}, \"colorscale\": {\"diverging\": [[0, \"#8e0152\"], [0.1, \"#c51b7d\"], [0.2, \"#de77ae\"], [0.3, \"#f1b6da\"], [0.4, \"#fde0ef\"], [0.5, \"#f7f7f7\"], [0.6, \"#e6f5d0\"], [0.7, \"#b8e186\"], [0.8, \"#7fbc41\"], [0.9, \"#4d9221\"], [1, \"#276419\"]], \"sequential\": [[0.0, \"#0d0887\"], [0.1111111111111111, \"#46039f\"], [0.2222222222222222, \"#7201a8\"], [0.3333333333333333, \"#9c179e\"], [0.4444444444444444, \"#bd3786\"], [0.5555555555555556, \"#d8576b\"], [0.6666666666666666, \"#ed7953\"], [0.7777777777777778, \"#fb9f3a\"], [0.8888888888888888, \"#fdca26\"], [1.0, \"#f0f921\"]], \"sequentialminus\": [[0.0, \"#0d0887\"], [0.1111111111111111, \"#46039f\"], [0.2222222222222222, \"#7201a8\"], [0.3333333333333333, \"#9c179e\"], [0.4444444444444444, \"#bd3786\"], [0.5555555555555556, \"#d8576b\"], [0.6666666666666666, \"#ed7953\"], [0.7777777777777778, \"#fb9f3a\"], [0.8888888888888888, \"#fdca26\"], [1.0, \"#f0f921\"]]}, \"colorway\": [\"#636efa\", \"#EF553B\", \"#00cc96\", \"#ab63fa\", \"#FFA15A\", \"#19d3f3\", \"#FF6692\", \"#B6E880\", \"#FF97FF\", \"#FECB52\"], \"font\": {\"color\": \"#2a3f5f\"}, \"geo\": {\"bgcolor\": \"white\", \"lakecolor\": \"white\", \"landcolor\": \"#E5ECF6\", \"showlakes\": true, \"showland\": true, \"subunitcolor\": \"white\"}, \"hoverlabel\": {\"align\": \"left\"}, \"hovermode\": \"closest\", \"mapbox\": {\"style\": \"light\"}, \"paper_bgcolor\": \"white\", \"plot_bgcolor\": \"#E5ECF6\", \"polar\": {\"angularaxis\": {\"gridcolor\": \"white\", \"linecolor\": \"white\", \"ticks\": \"\"}, \"bgcolor\": \"#E5ECF6\", \"radialaxis\": {\"gridcolor\": \"white\", \"linecolor\": \"white\", \"ticks\": \"\"}}, \"scene\": {\"xaxis\": {\"backgroundcolor\": \"#E5ECF6\", \"gridcolor\": \"white\", \"gridwidth\": 2, \"linecolor\": \"white\", \"showbackground\": true, \"ticks\": \"\", \"zerolinecolor\": \"white\"}, \"yaxis\": {\"backgroundcolor\": \"#E5ECF6\", \"gridcolor\": \"white\", \"gridwidth\": 2, \"linecolor\": \"white\", \"showbackground\": true, \"ticks\": \"\", \"zerolinecolor\": \"white\"}, \"zaxis\": {\"backgroundcolor\": \"#E5ECF6\", \"gridcolor\": \"white\", \"gridwidth\": 2, \"linecolor\": \"white\", \"showbackground\": true, \"ticks\": \"\", \"zerolinecolor\": \"white\"}}, \"shapedefaults\": {\"line\": {\"color\": \"#2a3f5f\"}}, \"ternary\": {\"aaxis\": {\"gridcolor\": \"white\", \"linecolor\": \"white\", \"ticks\": \"\"}, \"baxis\": {\"gridcolor\": \"white\", \"linecolor\": \"white\", \"ticks\": \"\"}, \"bgcolor\": \"#E5ECF6\", \"caxis\": {\"gridcolor\": \"white\", \"linecolor\": \"white\", \"ticks\": \"\"}}, \"title\": {\"x\": 0.05}, \"xaxis\": {\"automargin\": true, \"gridcolor\": \"white\", \"linecolor\": \"white\", \"ticks\": \"\", \"title\": {\"standoff\": 15}, \"zerolinecolor\": \"white\", \"zerolinewidth\": 2}, \"yaxis\": {\"automargin\": true, \"gridcolor\": \"white\", \"linecolor\": \"white\", \"ticks\": \"\", \"title\": {\"standoff\": 15}, \"zerolinecolor\": \"white\", \"zerolinewidth\": 2}}}, \"title\": {\"text\": \"Evolution de la population mondiale\"}, \"xaxis\": {\"anchor\": \"y\", \"domain\": [0.0, 1.0], \"title\": {\"text\": \"Date\"}}, \"yaxis\": {\"anchor\": \"x\", \"domain\": [0.0, 1.0], \"title\": {\"text\": \"Population\"}}},\n",
       "                        {\"responsive\": true}\n",
       "                    ).then(function(){\n",
       "                            \n",
       "var gd = document.getElementById('274c0ff3-6376-4c59-91d0-b1c1a87f0aad');\n",
       "var x = new MutationObserver(function (mutations, observer) {{\n",
       "        var display = window.getComputedStyle(gd).display;\n",
       "        if (!display || display === 'none') {{\n",
       "            console.log([gd, 'removed!']);\n",
       "            Plotly.purge(gd);\n",
       "            observer.disconnect();\n",
       "        }}\n",
       "}});\n",
       "\n",
       "// Listen for the removal of the full notebook cells\n",
       "var notebookContainer = gd.closest('#notebook-container');\n",
       "if (notebookContainer) {{\n",
       "    x.observe(notebookContainer, {childList: true});\n",
       "}}\n",
       "\n",
       "// Listen for the clearing of the current output cell\n",
       "var outputEl = gd.closest('.output');\n",
       "if (outputEl) {{\n",
       "    x.observe(outputEl, {childList: true});\n",
       "}}\n",
       "\n",
       "                        })\n",
       "                };\n",
       "                });\n",
       "            </script>\n",
       "        </div>"
      ]
     },
     "metadata": {},
     "output_type": "display_data"
    },
    {
     "data": {
      "application/vnd.plotly.v1+json": {
       "config": {
        "plotlyServerURL": "https://plot.ly"
       },
       "data": [
        {
         "hoverlabel": {
          "namelength": 0
         },
         "hovertemplate": "Country=World<br>Date=%{x}<br>Urban Population=%{y}",
         "legendgroup": "Country=World",
         "line": {
          "color": "#636efa",
          "dash": "solid"
         },
         "mode": "lines",
         "name": "Country=World",
         "showlegend": true,
         "type": "scatter",
         "x": [
          "2018",
          "2017",
          "2016",
          "2015",
          "2014",
          "2013",
          "2012",
          "2011",
          "2010",
          "2009",
          "2008",
          "2007",
          "2006",
          "2005",
          "2004",
          "2003",
          "2002",
          "2001",
          "2000",
          "1999",
          "1998",
          "1997",
          "1996",
          "1995",
          "1994",
          "1993",
          "1992",
          "1991",
          "1990",
          "1989",
          "1988",
          "1987",
          "1986",
          "1985",
          "1984",
          "1983",
          "1982",
          "1981",
          "1980",
          "1979",
          "1978",
          "1977",
          "1976",
          "1975",
          "1974",
          "1973",
          "1972",
          "1971",
          "1970",
          "1969",
          "1968",
          "1967",
          "1966",
          "1965",
          "1964",
          "1963",
          "1962",
          "1961",
          "1960"
         ],
         "xaxis": "x",
         "y": [
          4196356648,
          4116669665,
          4036538900,
          3956546394,
          3877658217,
          3799949355,
          3723531164,
          3648339756,
          3574434195,
          3497913692,
          3421841292,
          3346267002,
          3273026502,
          3200209755,
          3128054896,
          3057172140,
          2987617002,
          2919083083,
          2854279372,
          2793971265,
          2734448158,
          2675193465,
          2616500742,
          2558434408,
          2499212205,
          2441829440,
          2384524997,
          2329303604,
          2271805636,
          2213986943,
          2158076715,
          2102280624,
          2047492186,
          1994247166,
          1942866006,
          1892827915,
          1843755802,
          1793989469,
          1744160437,
          1696272097,
          1649591499,
          1607128584,
          1568775073,
          1531069677,
          1493862641,
          1454658623,
          1417793435,
          1381757466,
          1346396171,
          1312016400,
          1277619590,
          1245299535,
          1213234123,
          1181637467,
          1150660779,
          1114992152,
          1080155477,
          1048277073,
          1018716856
         ],
         "yaxis": "y"
        },
        {
         "hoverlabel": {
          "namelength": 0
         },
         "hovertemplate": "Country=Asia Pacific<br>Date=%{x}<br>Urban Population=%{y}",
         "legendgroup": "Country=Asia Pacific",
         "line": {
          "color": "#EF553B",
          "dash": "solid"
         },
         "mode": "lines",
         "name": "Country=Asia Pacific",
         "showlegend": true,
         "type": "scatter",
         "x": [
          "2018",
          "2017",
          "2016",
          "2015",
          "2014",
          "2013",
          "2012",
          "2011",
          "2010",
          "2009",
          "2008",
          "2007",
          "2006",
          "2005",
          "2004",
          "2003",
          "2002",
          "2001",
          "2000",
          "1999",
          "1998",
          "1997",
          "1996",
          "1995",
          "1994",
          "1993",
          "1992",
          "1991",
          "1990",
          "1989",
          "1988",
          "1987",
          "1986",
          "1985",
          "1984",
          "1983",
          "1982",
          "1981",
          "1980",
          "1979",
          "1978",
          "1977",
          "1976",
          "1975",
          "1974",
          "1973",
          "1972",
          "1971",
          "1970",
          "1969",
          "1968",
          "1967",
          "1966",
          "1965",
          "1964",
          "1963",
          "1962",
          "1961",
          "1960"
         ],
         "xaxis": "x",
         "y": [
          1374879347,
          1346786047,
          1317541789,
          1288407782,
          1259640281,
          1231051078,
          1202827293,
          1174751459,
          1146373663,
          1116140560,
          1086071158,
          1055909270,
          1026344210,
          996426782,
          966147698,
          936055652,
          906126769,
          876209820,
          848148025,
          823921905,
          800178870,
          776355965,
          752839243,
          729384273,
          706331364,
          683765391,
          661920340,
          640395173,
          618773331,
          597931847,
          577402435,
          557248598,
          537641932,
          518997865,
          501415053,
          484360430,
          467484920,
          449462507,
          432370383,
          416243797,
          400698667,
          388805107,
          380068913,
          371228379,
          362344127,
          350710459,
          340867239,
          331494525,
          321982682,
          312790299,
          303270997,
          295557273,
          287947392,
          280611008,
          274098468,
          262672374,
          251514437,
          242575445,
          234977306
         ],
         "yaxis": "y"
        },
        {
         "hoverlabel": {
          "namelength": 0
         },
         "hovertemplate": "Country=Latin America<br>Date=%{x}<br>Urban Population=%{y}",
         "legendgroup": "Country=Latin America",
         "line": {
          "color": "#00cc96",
          "dash": "solid"
         },
         "mode": "lines",
         "name": "Country=Latin America",
         "showlegend": true,
         "type": "scatter",
         "x": [
          "2018",
          "2017",
          "2016",
          "2015",
          "2014",
          "2013",
          "2012",
          "2011",
          "2010",
          "2009",
          "2008",
          "2007",
          "2006",
          "2005",
          "2004",
          "2003",
          "2002",
          "2001",
          "2000",
          "1999",
          "1998",
          "1997",
          "1996",
          "1995",
          "1994",
          "1993",
          "1992",
          "1991",
          "1990",
          "1989",
          "1988",
          "1987",
          "1986",
          "1985",
          "1984",
          "1983",
          "1982",
          "1981",
          "1980",
          "1979",
          "1978",
          "1977",
          "1976",
          "1975",
          "1974",
          "1973",
          "1972",
          "1971",
          "1970",
          "1969",
          "1968",
          "1967",
          "1966",
          "1965",
          "1964",
          "1963",
          "1962",
          "1961",
          "1960"
         ],
         "xaxis": "x",
         "y": [
          516796961,
          510454639,
          504002302,
          497450713,
          490801017,
          484067485,
          477257549,
          470401391,
          463516547,
          456756147,
          449897159,
          443004625,
          436073028,
          429102172,
          422094543,
          415039901,
          407883520,
          400635740,
          393174484,
          385191570,
          377146578,
          368974524,
          360813704,
          352730571,
          344598113,
          336494457,
          328470594,
          320447865,
          312378954,
          304214003,
          296063622,
          287945998,
          279874029,
          271836281,
          263825309,
          255888839,
          248048678,
          240291028,
          232587418,
          225002531,
          217600018,
          210352093,
          203267735,
          196339867,
          189562190,
          182943633,
          176460910,
          170063111,
          163794806,
          157694787,
          151729415,
          145899638,
          140216213,
          134669170,
          129257800,
          123855511,
          118625617,
          113585006,
          108761448
         ],
         "yaxis": "y"
        },
        {
         "hoverlabel": {
          "namelength": 0
         },
         "hovertemplate": "Country=Africa<br>Date=%{x}<br>Urban Population=%{y}",
         "legendgroup": "Country=Africa",
         "line": {
          "color": "#ab63fa",
          "dash": "solid"
         },
         "mode": "lines",
         "name": "Country=Africa",
         "showlegend": true,
         "type": "scatter",
         "x": [
          "2018",
          "2017",
          "2016",
          "2015",
          "2014",
          "2013",
          "2012",
          "2011",
          "2010",
          "2009",
          "2008",
          "2007",
          "2006",
          "2005",
          "2004",
          "2003",
          "2002",
          "2001",
          "2000",
          "1999",
          "1998",
          "1997",
          "1996",
          "1995",
          "1994",
          "1993",
          "1992",
          "1991",
          "1990",
          "1989",
          "1988",
          "1987",
          "1986",
          "1985",
          "1984",
          "1983",
          "1982",
          "1981",
          "1980",
          "1979",
          "1978",
          "1977",
          "1976",
          "1975",
          "1974",
          "1973",
          "1972",
          "1971",
          "1970",
          "1969",
          "1968",
          "1967",
          "1966",
          "1965",
          "1964",
          "1963",
          "1962",
          "1961",
          "1960"
         ],
         "xaxis": "x",
         "y": [
          433229303,
          416329874,
          399973167,
          384158105,
          368874311,
          354122414,
          339900644,
          326174892,
          312834987,
          300021875,
          287747756,
          275977884,
          265359797,
          254841261,
          244719384,
          235096238,
          225886053,
          217045674,
          208604477,
          200883919,
          193440991,
          186236499,
          179183259,
          172359341,
          165682794,
          159086059,
          152384337,
          145817745,
          139406814,
          132797324,
          126524879,
          120453617,
          114614216,
          108996884,
          103678047,
          98734387,
          94123455,
          89766757,
          85602042,
          81797260,
          78069861,
          74306045,
          70722151,
          67275054,
          64031950,
          60972688,
          58050087,
          55269107,
          52658096,
          50265973,
          47957495,
          45780399,
          43721417,
          41767939,
          39882276,
          38098805,
          36425236,
          34863268,
          33380807
         ],
         "yaxis": "y"
        },
        {
         "hoverlabel": {
          "namelength": 0
         },
         "hovertemplate": "Country=North America<br>Date=%{x}<br>Urban Population=%{y}",
         "legendgroup": "Country=North America",
         "line": {
          "color": "#FFA15A",
          "dash": "solid"
         },
         "mode": "lines",
         "name": "Country=North America",
         "showlegend": true,
         "type": "scatter",
         "x": [
          "2018",
          "2017",
          "2016",
          "2015",
          "2014",
          "2013",
          "2012",
          "2011",
          "2010",
          "2009",
          "2008",
          "2007",
          "2006",
          "2005",
          "2004",
          "2003",
          "2002",
          "2001",
          "2000",
          "1999",
          "1998",
          "1997",
          "1996",
          "1995",
          "1994",
          "1993",
          "1992",
          "1991",
          "1990",
          "1989",
          "1988",
          "1987",
          "1986",
          "1985",
          "1984",
          "1983",
          "1982",
          "1981",
          "1980",
          "1979",
          "1978",
          "1977",
          "1976",
          "1975",
          "1974",
          "1973",
          "1972",
          "1971",
          "1970",
          "1969",
          "1968",
          "1967",
          "1966",
          "1965",
          "1964",
          "1963",
          "1962",
          "1961",
          "1960"
         ],
         "xaxis": "x",
         "y": [
          299348798,
          296598607,
          293894230,
          291030813,
          288277522,
          285496412,
          282842503,
          280117707,
          277436526,
          274499918,
          271462240,
          268301627,
          265190165,
          262099001,
          259163359,
          256244701,
          253516142,
          250612588,
          247519374,
          243831291,
          240006391,
          236183090,
          232288316,
          228538710,
          224788006,
          220996624,
          217071868,
          213050439,
          209231872,
          206276409,
          203797727,
          201510529,
          199269494,
          197027492,
          194889455,
          192802947,
          190641337,
          188399131,
          186155130,
          184203265,
          182170788,
          180233292,
          178369631,
          176622456,
          174814604,
          173148992,
          171465521,
          169631002,
          167109832,
          164487979,
          162004081,
          159477276,
          156823451,
          154056841,
          151199564,
          148185763,
          145157046,
          142050755,
          138875014
         ],
         "yaxis": "y"
        },
        {
         "hoverlabel": {
          "namelength": 0
         },
         "hovertemplate": "Country=Middle East<br>Date=%{x}<br>Urban Population=%{y}",
         "legendgroup": "Country=Middle East",
         "line": {
          "color": "#19d3f3",
          "dash": "solid"
         },
         "mode": "lines",
         "name": "Country=Middle East",
         "showlegend": true,
         "type": "scatter",
         "x": [
          "2018",
          "2017",
          "2016",
          "2015",
          "2014",
          "2013",
          "2012",
          "2011",
          "2010",
          "2009",
          "2008",
          "2007",
          "2006",
          "2005",
          "2004",
          "2003",
          "2002",
          "2001",
          "2000",
          "1999",
          "1998",
          "1997",
          "1996",
          "1995",
          "1994",
          "1993",
          "1992",
          "1991",
          "1990",
          "1989",
          "1988",
          "1987",
          "1986",
          "1985",
          "1984",
          "1983",
          "1982",
          "1981",
          "1980",
          "1979",
          "1978",
          "1977",
          "1976",
          "1975",
          "1974",
          "1973",
          "1972",
          "1971",
          "1970",
          "1969",
          "1968",
          "1967",
          "1966",
          "1965",
          "1964",
          "1963",
          "1962",
          "1961",
          "1960"
         ],
         "xaxis": "x",
         "y": [
          293463198,
          287047910,
          280622420,
          274105309,
          267476927,
          261050633,
          254611631,
          248192942,
          241803108,
          235187474,
          228610587,
          222207051,
          216006638,
          210036919,
          204420062,
          199218951,
          194266427,
          189474459,
          184767866,
          180164193,
          175668732,
          171273206,
          166923263,
          162593631,
          156596433,
          151964154,
          147229296,
          144406997,
          139666927,
          133705181,
          129069928,
          124347202,
          119494701,
          114531210,
          109660638,
          104893039,
          100255121,
          95812149,
          91593392,
          87614194,
          83885707,
          80373651,
          77009263,
          73721047,
          70573772,
          67535142,
          64571650,
          61765818,
          59064223,
          56425119,
          53901920,
          51486093,
          49145617,
          46854943,
          44600567,
          42474856,
          40472920,
          38554939,
          36736033
         ],
         "yaxis": "y"
        },
        {
         "hoverlabel": {
          "namelength": 0
         },
         "hovertemplate": "Country=Europe<br>Date=%{x}<br>Urban Population=%{y}",
         "legendgroup": "Country=Europe",
         "line": {
          "color": "#FF6692",
          "dash": "solid"
         },
         "mode": "lines",
         "name": "Country=Europe",
         "showlegend": true,
         "type": "scatter",
         "x": [
          "2018",
          "2017",
          "2016",
          "2015",
          "2014",
          "2013",
          "2012",
          "2011",
          "2010",
          "2009",
          "2008",
          "2007",
          "2006",
          "2005",
          "2004",
          "2003",
          "2002",
          "2001",
          "2000",
          "1999",
          "1998",
          "1997",
          "1996",
          "1995",
          "1994",
          "1993",
          "1992",
          "1991",
          "1990",
          "1989",
          "1988",
          "1987",
          "1986",
          "1985",
          "1984",
          "1983",
          "1982",
          "1981",
          "1980",
          "1979",
          "1978",
          "1977",
          "1976",
          "1975",
          "1974",
          "1973",
          "1972",
          "1971",
          "1970",
          "1969",
          "1968",
          "1967",
          "1966",
          "1965",
          "1964",
          "1963",
          "1962",
          "1961",
          "1960"
         ],
         "xaxis": "x",
         "y": [
          263144784,
          261911604,
          260756917,
          259198842,
          257668061,
          256110532,
          254552159,
          253272096,
          253060543,
          251691335,
          250114873,
          248142077,
          246100105,
          244169604,
          242114378,
          239986941,
          237878107,
          235934885,
          234371053,
          233000247,
          231837254,
          230802308,
          229700813,
          228549321,
          227399932,
          226165011,
          224726427,
          223220677,
          221681277,
          220211027,
          218940388,
          217721472,
          216603493,
          215791198,
          215221599,
          214652134,
          213887984,
          212831306,
          211297243,
          209667686,
          208082003,
          206512117,
          204966410,
          203392781,
          201599083,
          199574711,
          197403261,
          195114378,
          192924096,
          190705184,
          188236267,
          185581869,
          182738464,
          179694856,
          176562532,
          173439820,
          170318133,
          167440680,
          164665919
         ],
         "yaxis": "y"
        },
        {
         "hoverlabel": {
          "namelength": 0
         },
         "hovertemplate": "Country=Russia<br>Date=%{x}<br>Urban Population=%{y}",
         "legendgroup": "Country=Russia",
         "line": {
          "color": "#B6E880",
          "dash": "solid"
         },
         "mode": "lines",
         "name": "Country=Russia",
         "showlegend": true,
         "type": "scatter",
         "x": [
          "1992",
          "1991",
          "1993",
          "1995",
          "1994",
          "1990",
          "1996",
          "1997",
          "1989",
          "1998",
          "1999",
          "2018",
          "2000",
          "1988",
          "2017",
          "2001",
          "2016",
          "2015",
          "2002",
          "2014",
          "1987",
          "2003",
          "2013",
          "2004",
          "2012",
          "2005",
          "2011",
          "2010",
          "2006",
          "2009",
          "2008",
          "2007",
          "1986",
          "1985",
          "1984",
          "1983",
          "1982",
          "1981",
          "1980",
          "1979",
          "1978",
          "1977",
          "1976",
          "1975",
          "1974",
          "1973",
          "1972",
          "1971",
          "1970",
          "1969",
          "1968",
          "1967",
          "1966",
          "1965",
          "1964",
          "1963",
          "1962",
          "1961",
          "1960"
         ],
         "xaxis": "x",
         "y": [
          109115423,
          109073667,
          108985461,
          108866238,
          108843023,
          108837430,
          108700578,
          108515107,
          108424260,
          108329743,
          107987645,
          107539347,
          107528575,
          107471421,
          107349518,
          107067618,
          107050095,
          106703732,
          106568907,
          106354643,
          106169956,
          106132766,
          105998510,
          105771150,
          105669949,
          105433013,
          105407907,
          105261473,
          105152847,
          105149982,
          105055515,
          105037426,
          104825013,
          103466989,
          102058393,
          100677781,
          99464693,
          98228786,
          96960865,
          95659612,
          94157479,
          92479950,
          90810675,
          89145034,
          87600777,
          86061054,
          84524649,
          82992261,
          81464683,
          79922296,
          78366306,
          76812479,
          75267305,
          73731369,
          71815164,
          69923357,
          68060071,
          66226377,
          64421857
         ],
         "yaxis": "y"
        }
       ],
       "layout": {
        "height": 600,
        "legend": {
         "tracegroupgap": 0
        },
        "template": {
         "data": {
          "bar": [
           {
            "error_x": {
             "color": "#2a3f5f"
            },
            "error_y": {
             "color": "#2a3f5f"
            },
            "marker": {
             "line": {
              "color": "#E5ECF6",
              "width": 0.5
             }
            },
            "type": "bar"
           }
          ],
          "barpolar": [
           {
            "marker": {
             "line": {
              "color": "#E5ECF6",
              "width": 0.5
             }
            },
            "type": "barpolar"
           }
          ],
          "carpet": [
           {
            "aaxis": {
             "endlinecolor": "#2a3f5f",
             "gridcolor": "white",
             "linecolor": "white",
             "minorgridcolor": "white",
             "startlinecolor": "#2a3f5f"
            },
            "baxis": {
             "endlinecolor": "#2a3f5f",
             "gridcolor": "white",
             "linecolor": "white",
             "minorgridcolor": "white",
             "startlinecolor": "#2a3f5f"
            },
            "type": "carpet"
           }
          ],
          "choropleth": [
           {
            "colorbar": {
             "outlinewidth": 0,
             "ticks": ""
            },
            "type": "choropleth"
           }
          ],
          "contour": [
           {
            "colorbar": {
             "outlinewidth": 0,
             "ticks": ""
            },
            "colorscale": [
             [
              0,
              "#0d0887"
             ],
             [
              0.1111111111111111,
              "#46039f"
             ],
             [
              0.2222222222222222,
              "#7201a8"
             ],
             [
              0.3333333333333333,
              "#9c179e"
             ],
             [
              0.4444444444444444,
              "#bd3786"
             ],
             [
              0.5555555555555556,
              "#d8576b"
             ],
             [
              0.6666666666666666,
              "#ed7953"
             ],
             [
              0.7777777777777778,
              "#fb9f3a"
             ],
             [
              0.8888888888888888,
              "#fdca26"
             ],
             [
              1,
              "#f0f921"
             ]
            ],
            "type": "contour"
           }
          ],
          "contourcarpet": [
           {
            "colorbar": {
             "outlinewidth": 0,
             "ticks": ""
            },
            "type": "contourcarpet"
           }
          ],
          "heatmap": [
           {
            "colorbar": {
             "outlinewidth": 0,
             "ticks": ""
            },
            "colorscale": [
             [
              0,
              "#0d0887"
             ],
             [
              0.1111111111111111,
              "#46039f"
             ],
             [
              0.2222222222222222,
              "#7201a8"
             ],
             [
              0.3333333333333333,
              "#9c179e"
             ],
             [
              0.4444444444444444,
              "#bd3786"
             ],
             [
              0.5555555555555556,
              "#d8576b"
             ],
             [
              0.6666666666666666,
              "#ed7953"
             ],
             [
              0.7777777777777778,
              "#fb9f3a"
             ],
             [
              0.8888888888888888,
              "#fdca26"
             ],
             [
              1,
              "#f0f921"
             ]
            ],
            "type": "heatmap"
           }
          ],
          "heatmapgl": [
           {
            "colorbar": {
             "outlinewidth": 0,
             "ticks": ""
            },
            "colorscale": [
             [
              0,
              "#0d0887"
             ],
             [
              0.1111111111111111,
              "#46039f"
             ],
             [
              0.2222222222222222,
              "#7201a8"
             ],
             [
              0.3333333333333333,
              "#9c179e"
             ],
             [
              0.4444444444444444,
              "#bd3786"
             ],
             [
              0.5555555555555556,
              "#d8576b"
             ],
             [
              0.6666666666666666,
              "#ed7953"
             ],
             [
              0.7777777777777778,
              "#fb9f3a"
             ],
             [
              0.8888888888888888,
              "#fdca26"
             ],
             [
              1,
              "#f0f921"
             ]
            ],
            "type": "heatmapgl"
           }
          ],
          "histogram": [
           {
            "marker": {
             "colorbar": {
              "outlinewidth": 0,
              "ticks": ""
             }
            },
            "type": "histogram"
           }
          ],
          "histogram2d": [
           {
            "colorbar": {
             "outlinewidth": 0,
             "ticks": ""
            },
            "colorscale": [
             [
              0,
              "#0d0887"
             ],
             [
              0.1111111111111111,
              "#46039f"
             ],
             [
              0.2222222222222222,
              "#7201a8"
             ],
             [
              0.3333333333333333,
              "#9c179e"
             ],
             [
              0.4444444444444444,
              "#bd3786"
             ],
             [
              0.5555555555555556,
              "#d8576b"
             ],
             [
              0.6666666666666666,
              "#ed7953"
             ],
             [
              0.7777777777777778,
              "#fb9f3a"
             ],
             [
              0.8888888888888888,
              "#fdca26"
             ],
             [
              1,
              "#f0f921"
             ]
            ],
            "type": "histogram2d"
           }
          ],
          "histogram2dcontour": [
           {
            "colorbar": {
             "outlinewidth": 0,
             "ticks": ""
            },
            "colorscale": [
             [
              0,
              "#0d0887"
             ],
             [
              0.1111111111111111,
              "#46039f"
             ],
             [
              0.2222222222222222,
              "#7201a8"
             ],
             [
              0.3333333333333333,
              "#9c179e"
             ],
             [
              0.4444444444444444,
              "#bd3786"
             ],
             [
              0.5555555555555556,
              "#d8576b"
             ],
             [
              0.6666666666666666,
              "#ed7953"
             ],
             [
              0.7777777777777778,
              "#fb9f3a"
             ],
             [
              0.8888888888888888,
              "#fdca26"
             ],
             [
              1,
              "#f0f921"
             ]
            ],
            "type": "histogram2dcontour"
           }
          ],
          "mesh3d": [
           {
            "colorbar": {
             "outlinewidth": 0,
             "ticks": ""
            },
            "type": "mesh3d"
           }
          ],
          "parcoords": [
           {
            "line": {
             "colorbar": {
              "outlinewidth": 0,
              "ticks": ""
             }
            },
            "type": "parcoords"
           }
          ],
          "pie": [
           {
            "automargin": true,
            "type": "pie"
           }
          ],
          "scatter": [
           {
            "marker": {
             "colorbar": {
              "outlinewidth": 0,
              "ticks": ""
             }
            },
            "type": "scatter"
           }
          ],
          "scatter3d": [
           {
            "line": {
             "colorbar": {
              "outlinewidth": 0,
              "ticks": ""
             }
            },
            "marker": {
             "colorbar": {
              "outlinewidth": 0,
              "ticks": ""
             }
            },
            "type": "scatter3d"
           }
          ],
          "scattercarpet": [
           {
            "marker": {
             "colorbar": {
              "outlinewidth": 0,
              "ticks": ""
             }
            },
            "type": "scattercarpet"
           }
          ],
          "scattergeo": [
           {
            "marker": {
             "colorbar": {
              "outlinewidth": 0,
              "ticks": ""
             }
            },
            "type": "scattergeo"
           }
          ],
          "scattergl": [
           {
            "marker": {
             "colorbar": {
              "outlinewidth": 0,
              "ticks": ""
             }
            },
            "type": "scattergl"
           }
          ],
          "scattermapbox": [
           {
            "marker": {
             "colorbar": {
              "outlinewidth": 0,
              "ticks": ""
             }
            },
            "type": "scattermapbox"
           }
          ],
          "scatterpolar": [
           {
            "marker": {
             "colorbar": {
              "outlinewidth": 0,
              "ticks": ""
             }
            },
            "type": "scatterpolar"
           }
          ],
          "scatterpolargl": [
           {
            "marker": {
             "colorbar": {
              "outlinewidth": 0,
              "ticks": ""
             }
            },
            "type": "scatterpolargl"
           }
          ],
          "scatterternary": [
           {
            "marker": {
             "colorbar": {
              "outlinewidth": 0,
              "ticks": ""
             }
            },
            "type": "scatterternary"
           }
          ],
          "surface": [
           {
            "colorbar": {
             "outlinewidth": 0,
             "ticks": ""
            },
            "colorscale": [
             [
              0,
              "#0d0887"
             ],
             [
              0.1111111111111111,
              "#46039f"
             ],
             [
              0.2222222222222222,
              "#7201a8"
             ],
             [
              0.3333333333333333,
              "#9c179e"
             ],
             [
              0.4444444444444444,
              "#bd3786"
             ],
             [
              0.5555555555555556,
              "#d8576b"
             ],
             [
              0.6666666666666666,
              "#ed7953"
             ],
             [
              0.7777777777777778,
              "#fb9f3a"
             ],
             [
              0.8888888888888888,
              "#fdca26"
             ],
             [
              1,
              "#f0f921"
             ]
            ],
            "type": "surface"
           }
          ],
          "table": [
           {
            "cells": {
             "fill": {
              "color": "#EBF0F8"
             },
             "line": {
              "color": "white"
             }
            },
            "header": {
             "fill": {
              "color": "#C8D4E3"
             },
             "line": {
              "color": "white"
             }
            },
            "type": "table"
           }
          ]
         },
         "layout": {
          "annotationdefaults": {
           "arrowcolor": "#2a3f5f",
           "arrowhead": 0,
           "arrowwidth": 1
          },
          "coloraxis": {
           "colorbar": {
            "outlinewidth": 0,
            "ticks": ""
           }
          },
          "colorscale": {
           "diverging": [
            [
             0,
             "#8e0152"
            ],
            [
             0.1,
             "#c51b7d"
            ],
            [
             0.2,
             "#de77ae"
            ],
            [
             0.3,
             "#f1b6da"
            ],
            [
             0.4,
             "#fde0ef"
            ],
            [
             0.5,
             "#f7f7f7"
            ],
            [
             0.6,
             "#e6f5d0"
            ],
            [
             0.7,
             "#b8e186"
            ],
            [
             0.8,
             "#7fbc41"
            ],
            [
             0.9,
             "#4d9221"
            ],
            [
             1,
             "#276419"
            ]
           ],
           "sequential": [
            [
             0,
             "#0d0887"
            ],
            [
             0.1111111111111111,
             "#46039f"
            ],
            [
             0.2222222222222222,
             "#7201a8"
            ],
            [
             0.3333333333333333,
             "#9c179e"
            ],
            [
             0.4444444444444444,
             "#bd3786"
            ],
            [
             0.5555555555555556,
             "#d8576b"
            ],
            [
             0.6666666666666666,
             "#ed7953"
            ],
            [
             0.7777777777777778,
             "#fb9f3a"
            ],
            [
             0.8888888888888888,
             "#fdca26"
            ],
            [
             1,
             "#f0f921"
            ]
           ],
           "sequentialminus": [
            [
             0,
             "#0d0887"
            ],
            [
             0.1111111111111111,
             "#46039f"
            ],
            [
             0.2222222222222222,
             "#7201a8"
            ],
            [
             0.3333333333333333,
             "#9c179e"
            ],
            [
             0.4444444444444444,
             "#bd3786"
            ],
            [
             0.5555555555555556,
             "#d8576b"
            ],
            [
             0.6666666666666666,
             "#ed7953"
            ],
            [
             0.7777777777777778,
             "#fb9f3a"
            ],
            [
             0.8888888888888888,
             "#fdca26"
            ],
            [
             1,
             "#f0f921"
            ]
           ]
          },
          "colorway": [
           "#636efa",
           "#EF553B",
           "#00cc96",
           "#ab63fa",
           "#FFA15A",
           "#19d3f3",
           "#FF6692",
           "#B6E880",
           "#FF97FF",
           "#FECB52"
          ],
          "font": {
           "color": "#2a3f5f"
          },
          "geo": {
           "bgcolor": "white",
           "lakecolor": "white",
           "landcolor": "#E5ECF6",
           "showlakes": true,
           "showland": true,
           "subunitcolor": "white"
          },
          "hoverlabel": {
           "align": "left"
          },
          "hovermode": "closest",
          "mapbox": {
           "style": "light"
          },
          "paper_bgcolor": "white",
          "plot_bgcolor": "#E5ECF6",
          "polar": {
           "angularaxis": {
            "gridcolor": "white",
            "linecolor": "white",
            "ticks": ""
           },
           "bgcolor": "#E5ECF6",
           "radialaxis": {
            "gridcolor": "white",
            "linecolor": "white",
            "ticks": ""
           }
          },
          "scene": {
           "xaxis": {
            "backgroundcolor": "#E5ECF6",
            "gridcolor": "white",
            "gridwidth": 2,
            "linecolor": "white",
            "showbackground": true,
            "ticks": "",
            "zerolinecolor": "white"
           },
           "yaxis": {
            "backgroundcolor": "#E5ECF6",
            "gridcolor": "white",
            "gridwidth": 2,
            "linecolor": "white",
            "showbackground": true,
            "ticks": "",
            "zerolinecolor": "white"
           },
           "zaxis": {
            "backgroundcolor": "#E5ECF6",
            "gridcolor": "white",
            "gridwidth": 2,
            "linecolor": "white",
            "showbackground": true,
            "ticks": "",
            "zerolinecolor": "white"
           }
          },
          "shapedefaults": {
           "line": {
            "color": "#2a3f5f"
           }
          },
          "ternary": {
           "aaxis": {
            "gridcolor": "white",
            "linecolor": "white",
            "ticks": ""
           },
           "baxis": {
            "gridcolor": "white",
            "linecolor": "white",
            "ticks": ""
           },
           "bgcolor": "#E5ECF6",
           "caxis": {
            "gridcolor": "white",
            "linecolor": "white",
            "ticks": ""
           }
          },
          "title": {
           "x": 0.05
          },
          "xaxis": {
           "automargin": true,
           "gridcolor": "white",
           "linecolor": "white",
           "ticks": "",
           "title": {
            "standoff": 15
           },
           "zerolinecolor": "white",
           "zerolinewidth": 2
          },
          "yaxis": {
           "automargin": true,
           "gridcolor": "white",
           "linecolor": "white",
           "ticks": "",
           "title": {
            "standoff": 15
           },
           "zerolinecolor": "white",
           "zerolinewidth": 2
          }
         }
        },
        "title": {
         "text": "Evolution de la population mondiale urbaine"
        },
        "xaxis": {
         "anchor": "y",
         "domain": [
          0,
          1
         ],
         "title": {
          "text": "Date"
         }
        },
        "yaxis": {
         "anchor": "x",
         "domain": [
          0,
          1
         ],
         "title": {
          "text": "Urban Population"
         }
        }
       }
      },
      "text/html": [
       "<div>\n",
       "        \n",
       "        \n",
       "            <div id=\"ec65900b-d3d8-4ec3-be43-fea4320a1a9a\" class=\"plotly-graph-div\" style=\"height:600px; width:100%;\"></div>\n",
       "            <script type=\"text/javascript\">\n",
       "                require([\"plotly\"], function(Plotly) {\n",
       "                    window.PLOTLYENV=window.PLOTLYENV || {};\n",
       "                    \n",
       "                if (document.getElementById(\"ec65900b-d3d8-4ec3-be43-fea4320a1a9a\")) {\n",
       "                    Plotly.newPlot(\n",
       "                        'ec65900b-d3d8-4ec3-be43-fea4320a1a9a',\n",
       "                        [{\"hoverlabel\": {\"namelength\": 0}, \"hovertemplate\": \"Country=World<br>Date=%{x}<br>Urban Population=%{y}\", \"legendgroup\": \"Country=World\", \"line\": {\"color\": \"#636efa\", \"dash\": \"solid\"}, \"mode\": \"lines\", \"name\": \"Country=World\", \"showlegend\": true, \"type\": \"scatter\", \"x\": [\"2018\", \"2017\", \"2016\", \"2015\", \"2014\", \"2013\", \"2012\", \"2011\", \"2010\", \"2009\", \"2008\", \"2007\", \"2006\", \"2005\", \"2004\", \"2003\", \"2002\", \"2001\", \"2000\", \"1999\", \"1998\", \"1997\", \"1996\", \"1995\", \"1994\", \"1993\", \"1992\", \"1991\", \"1990\", \"1989\", \"1988\", \"1987\", \"1986\", \"1985\", \"1984\", \"1983\", \"1982\", \"1981\", \"1980\", \"1979\", \"1978\", \"1977\", \"1976\", \"1975\", \"1974\", \"1973\", \"1972\", \"1971\", \"1970\", \"1969\", \"1968\", \"1967\", \"1966\", \"1965\", \"1964\", \"1963\", \"1962\", \"1961\", \"1960\"], \"xaxis\": \"x\", \"y\": [4196356648.0, 4116669665.0, 4036538900.0, 3956546394.0, 3877658217.0, 3799949355.0, 3723531164.0, 3648339756.0, 3574434195.0, 3497913692.0, 3421841292.0, 3346267002.0, 3273026502.0, 3200209755.0, 3128054896.0, 3057172140.0, 2987617002.0, 2919083083.0, 2854279372.0, 2793971265.0, 2734448158.0, 2675193465.0, 2616500742.0, 2558434408.0, 2499212205.0, 2441829440.0, 2384524997.0, 2329303604.0, 2271805636.0, 2213986943.0, 2158076715.0, 2102280624.0, 2047492186.0, 1994247166.0, 1942866006.0, 1892827915.0, 1843755802.0, 1793989469.0, 1744160437.0, 1696272097.0, 1649591499.0, 1607128584.0, 1568775073.0, 1531069677.0, 1493862641.0, 1454658623.0, 1417793435.0, 1381757466.0, 1346396171.0, 1312016400.0, 1277619590.0, 1245299535.0, 1213234123.0, 1181637467.0, 1150660779.0, 1114992152.0, 1080155477.0, 1048277073.0, 1018716856.0], \"yaxis\": \"y\"}, {\"hoverlabel\": {\"namelength\": 0}, \"hovertemplate\": \"Country=Asia Pacific<br>Date=%{x}<br>Urban Population=%{y}\", \"legendgroup\": \"Country=Asia Pacific\", \"line\": {\"color\": \"#EF553B\", \"dash\": \"solid\"}, \"mode\": \"lines\", \"name\": \"Country=Asia Pacific\", \"showlegend\": true, \"type\": \"scatter\", \"x\": [\"2018\", \"2017\", \"2016\", \"2015\", \"2014\", \"2013\", \"2012\", \"2011\", \"2010\", \"2009\", \"2008\", \"2007\", \"2006\", \"2005\", \"2004\", \"2003\", \"2002\", \"2001\", \"2000\", \"1999\", \"1998\", \"1997\", \"1996\", \"1995\", \"1994\", \"1993\", \"1992\", \"1991\", \"1990\", \"1989\", \"1988\", \"1987\", \"1986\", \"1985\", \"1984\", \"1983\", \"1982\", \"1981\", \"1980\", \"1979\", \"1978\", \"1977\", \"1976\", \"1975\", \"1974\", \"1973\", \"1972\", \"1971\", \"1970\", \"1969\", \"1968\", \"1967\", \"1966\", \"1965\", \"1964\", \"1963\", \"1962\", \"1961\", \"1960\"], \"xaxis\": \"x\", \"y\": [1374879347.0, 1346786047.0, 1317541789.0, 1288407782.0, 1259640281.0, 1231051078.0, 1202827293.0, 1174751459.0, 1146373663.0, 1116140560.0, 1086071158.0, 1055909270.0, 1026344210.0, 996426782.0, 966147698.0, 936055652.0, 906126769.0, 876209820.0, 848148025.0, 823921905.0, 800178870.0, 776355965.0, 752839243.0, 729384273.0, 706331364.0, 683765391.0, 661920340.0, 640395173.0, 618773331.0, 597931847.0, 577402435.0, 557248598.0, 537641932.0, 518997865.0, 501415053.0, 484360430.0, 467484920.0, 449462507.0, 432370383.0, 416243797.0, 400698667.0, 388805107.0, 380068913.0, 371228379.0, 362344127.0, 350710459.0, 340867239.0, 331494525.0, 321982682.0, 312790299.0, 303270997.0, 295557273.0, 287947392.0, 280611008.0, 274098468.0, 262672374.0, 251514437.0, 242575445.0, 234977306.0], \"yaxis\": \"y\"}, {\"hoverlabel\": {\"namelength\": 0}, \"hovertemplate\": \"Country=Latin America<br>Date=%{x}<br>Urban Population=%{y}\", \"legendgroup\": \"Country=Latin America\", \"line\": {\"color\": \"#00cc96\", \"dash\": \"solid\"}, \"mode\": \"lines\", \"name\": \"Country=Latin America\", \"showlegend\": true, \"type\": \"scatter\", \"x\": [\"2018\", \"2017\", \"2016\", \"2015\", \"2014\", \"2013\", \"2012\", \"2011\", \"2010\", \"2009\", \"2008\", \"2007\", \"2006\", \"2005\", \"2004\", \"2003\", \"2002\", \"2001\", \"2000\", \"1999\", \"1998\", \"1997\", \"1996\", \"1995\", \"1994\", \"1993\", \"1992\", \"1991\", \"1990\", \"1989\", \"1988\", \"1987\", \"1986\", \"1985\", \"1984\", \"1983\", \"1982\", \"1981\", \"1980\", \"1979\", \"1978\", \"1977\", \"1976\", \"1975\", \"1974\", \"1973\", \"1972\", \"1971\", \"1970\", \"1969\", \"1968\", \"1967\", \"1966\", \"1965\", \"1964\", \"1963\", \"1962\", \"1961\", \"1960\"], \"xaxis\": \"x\", \"y\": [516796961.0, 510454639.0, 504002302.0, 497450713.0, 490801017.0, 484067485.0, 477257549.0, 470401391.0, 463516547.0, 456756147.0, 449897159.0, 443004625.0, 436073028.0, 429102172.0, 422094543.0, 415039901.0, 407883520.0, 400635740.0, 393174484.0, 385191570.0, 377146578.0, 368974524.0, 360813704.0, 352730571.0, 344598113.0, 336494457.0, 328470594.0, 320447865.0, 312378954.0, 304214003.0, 296063622.0, 287945998.0, 279874029.0, 271836281.0, 263825309.0, 255888839.0, 248048678.0, 240291028.0, 232587418.0, 225002531.0, 217600018.0, 210352093.0, 203267735.0, 196339867.0, 189562190.0, 182943633.0, 176460910.0, 170063111.0, 163794806.0, 157694787.0, 151729415.0, 145899638.0, 140216213.0, 134669170.0, 129257800.0, 123855511.0, 118625617.0, 113585006.0, 108761448.0], \"yaxis\": \"y\"}, {\"hoverlabel\": {\"namelength\": 0}, \"hovertemplate\": \"Country=Africa<br>Date=%{x}<br>Urban Population=%{y}\", \"legendgroup\": \"Country=Africa\", \"line\": {\"color\": \"#ab63fa\", \"dash\": \"solid\"}, \"mode\": \"lines\", \"name\": \"Country=Africa\", \"showlegend\": true, \"type\": \"scatter\", \"x\": [\"2018\", \"2017\", \"2016\", \"2015\", \"2014\", \"2013\", \"2012\", \"2011\", \"2010\", \"2009\", \"2008\", \"2007\", \"2006\", \"2005\", \"2004\", \"2003\", \"2002\", \"2001\", \"2000\", \"1999\", \"1998\", \"1997\", \"1996\", \"1995\", \"1994\", \"1993\", \"1992\", \"1991\", \"1990\", \"1989\", \"1988\", \"1987\", \"1986\", \"1985\", \"1984\", \"1983\", \"1982\", \"1981\", \"1980\", \"1979\", \"1978\", \"1977\", \"1976\", \"1975\", \"1974\", \"1973\", \"1972\", \"1971\", \"1970\", \"1969\", \"1968\", \"1967\", \"1966\", \"1965\", \"1964\", \"1963\", \"1962\", \"1961\", \"1960\"], \"xaxis\": \"x\", \"y\": [433229303.0, 416329874.0, 399973167.0, 384158105.0, 368874311.0, 354122414.0, 339900644.0, 326174892.0, 312834987.0, 300021875.0, 287747756.0, 275977884.0, 265359797.0, 254841261.0, 244719384.0, 235096238.0, 225886053.0, 217045674.0, 208604477.0, 200883919.0, 193440991.0, 186236499.0, 179183259.0, 172359341.0, 165682794.0, 159086059.0, 152384337.0, 145817745.0, 139406814.0, 132797324.0, 126524879.0, 120453617.0, 114614216.0, 108996884.0, 103678047.0, 98734387.0, 94123455.0, 89766757.0, 85602042.0, 81797260.0, 78069861.0, 74306045.0, 70722151.0, 67275054.0, 64031950.0, 60972688.0, 58050087.0, 55269107.0, 52658096.0, 50265973.0, 47957495.0, 45780399.0, 43721417.0, 41767939.0, 39882276.0, 38098805.0, 36425236.0, 34863268.0, 33380807.0], \"yaxis\": \"y\"}, {\"hoverlabel\": {\"namelength\": 0}, \"hovertemplate\": \"Country=North America<br>Date=%{x}<br>Urban Population=%{y}\", \"legendgroup\": \"Country=North America\", \"line\": {\"color\": \"#FFA15A\", \"dash\": \"solid\"}, \"mode\": \"lines\", \"name\": \"Country=North America\", \"showlegend\": true, \"type\": \"scatter\", \"x\": [\"2018\", \"2017\", \"2016\", \"2015\", \"2014\", \"2013\", \"2012\", \"2011\", \"2010\", \"2009\", \"2008\", \"2007\", \"2006\", \"2005\", \"2004\", \"2003\", \"2002\", \"2001\", \"2000\", \"1999\", \"1998\", \"1997\", \"1996\", \"1995\", \"1994\", \"1993\", \"1992\", \"1991\", \"1990\", \"1989\", \"1988\", \"1987\", \"1986\", \"1985\", \"1984\", \"1983\", \"1982\", \"1981\", \"1980\", \"1979\", \"1978\", \"1977\", \"1976\", \"1975\", \"1974\", \"1973\", \"1972\", \"1971\", \"1970\", \"1969\", \"1968\", \"1967\", \"1966\", \"1965\", \"1964\", \"1963\", \"1962\", \"1961\", \"1960\"], \"xaxis\": \"x\", \"y\": [299348798.0, 296598607.0, 293894230.0, 291030813.0, 288277522.0, 285496412.0, 282842503.0, 280117707.0, 277436526.0, 274499918.0, 271462240.0, 268301627.0, 265190165.0, 262099001.0, 259163359.0, 256244701.0, 253516142.0, 250612588.0, 247519374.0, 243831291.0, 240006391.0, 236183090.0, 232288316.0, 228538710.0, 224788006.0, 220996624.0, 217071868.0, 213050439.0, 209231872.0, 206276409.0, 203797727.0, 201510529.0, 199269494.0, 197027492.0, 194889455.0, 192802947.0, 190641337.0, 188399131.0, 186155130.0, 184203265.0, 182170788.0, 180233292.0, 178369631.0, 176622456.0, 174814604.0, 173148992.0, 171465521.0, 169631002.0, 167109832.0, 164487979.0, 162004081.0, 159477276.0, 156823451.0, 154056841.0, 151199564.0, 148185763.0, 145157046.0, 142050755.0, 138875014.0], \"yaxis\": \"y\"}, {\"hoverlabel\": {\"namelength\": 0}, \"hovertemplate\": \"Country=Middle East<br>Date=%{x}<br>Urban Population=%{y}\", \"legendgroup\": \"Country=Middle East\", \"line\": {\"color\": \"#19d3f3\", \"dash\": \"solid\"}, \"mode\": \"lines\", \"name\": \"Country=Middle East\", \"showlegend\": true, \"type\": \"scatter\", \"x\": [\"2018\", \"2017\", \"2016\", \"2015\", \"2014\", \"2013\", \"2012\", \"2011\", \"2010\", \"2009\", \"2008\", \"2007\", \"2006\", \"2005\", \"2004\", \"2003\", \"2002\", \"2001\", \"2000\", \"1999\", \"1998\", \"1997\", \"1996\", \"1995\", \"1994\", \"1993\", \"1992\", \"1991\", \"1990\", \"1989\", \"1988\", \"1987\", \"1986\", \"1985\", \"1984\", \"1983\", \"1982\", \"1981\", \"1980\", \"1979\", \"1978\", \"1977\", \"1976\", \"1975\", \"1974\", \"1973\", \"1972\", \"1971\", \"1970\", \"1969\", \"1968\", \"1967\", \"1966\", \"1965\", \"1964\", \"1963\", \"1962\", \"1961\", \"1960\"], \"xaxis\": \"x\", \"y\": [293463198.0, 287047910.0, 280622420.0, 274105309.0, 267476927.0, 261050633.0, 254611631.0, 248192942.0, 241803108.0, 235187474.0, 228610587.0, 222207051.0, 216006638.0, 210036919.0, 204420062.0, 199218951.0, 194266427.0, 189474459.0, 184767866.0, 180164193.0, 175668732.0, 171273206.0, 166923263.0, 162593631.0, 156596433.0, 151964154.0, 147229296.0, 144406997.0, 139666927.0, 133705181.0, 129069928.0, 124347202.0, 119494701.0, 114531210.0, 109660638.0, 104893039.0, 100255121.0, 95812149.0, 91593392.0, 87614194.0, 83885707.0, 80373651.0, 77009263.0, 73721047.0, 70573772.0, 67535142.0, 64571650.0, 61765818.0, 59064223.0, 56425119.0, 53901920.0, 51486093.0, 49145617.0, 46854943.0, 44600567.0, 42474856.0, 40472920.0, 38554939.0, 36736033.0], \"yaxis\": \"y\"}, {\"hoverlabel\": {\"namelength\": 0}, \"hovertemplate\": \"Country=Europe<br>Date=%{x}<br>Urban Population=%{y}\", \"legendgroup\": \"Country=Europe\", \"line\": {\"color\": \"#FF6692\", \"dash\": \"solid\"}, \"mode\": \"lines\", \"name\": \"Country=Europe\", \"showlegend\": true, \"type\": \"scatter\", \"x\": [\"2018\", \"2017\", \"2016\", \"2015\", \"2014\", \"2013\", \"2012\", \"2011\", \"2010\", \"2009\", \"2008\", \"2007\", \"2006\", \"2005\", \"2004\", \"2003\", \"2002\", \"2001\", \"2000\", \"1999\", \"1998\", \"1997\", \"1996\", \"1995\", \"1994\", \"1993\", \"1992\", \"1991\", \"1990\", \"1989\", \"1988\", \"1987\", \"1986\", \"1985\", \"1984\", \"1983\", \"1982\", \"1981\", \"1980\", \"1979\", \"1978\", \"1977\", \"1976\", \"1975\", \"1974\", \"1973\", \"1972\", \"1971\", \"1970\", \"1969\", \"1968\", \"1967\", \"1966\", \"1965\", \"1964\", \"1963\", \"1962\", \"1961\", \"1960\"], \"xaxis\": \"x\", \"y\": [263144784.0, 261911604.0, 260756917.0, 259198842.0, 257668061.0, 256110532.0, 254552159.0, 253272096.0, 253060543.0, 251691335.0, 250114873.0, 248142077.0, 246100105.0, 244169604.0, 242114378.0, 239986941.0, 237878107.0, 235934885.0, 234371053.0, 233000247.0, 231837254.0, 230802308.0, 229700813.0, 228549321.0, 227399932.0, 226165011.0, 224726427.0, 223220677.0, 221681277.0, 220211027.0, 218940388.0, 217721472.0, 216603493.0, 215791198.0, 215221599.0, 214652134.0, 213887984.0, 212831306.0, 211297243.0, 209667686.0, 208082003.0, 206512117.0, 204966410.0, 203392781.0, 201599083.0, 199574711.0, 197403261.0, 195114378.0, 192924096.0, 190705184.0, 188236267.0, 185581869.0, 182738464.0, 179694856.0, 176562532.0, 173439820.0, 170318133.0, 167440680.0, 164665919.0], \"yaxis\": \"y\"}, {\"hoverlabel\": {\"namelength\": 0}, \"hovertemplate\": \"Country=Russia<br>Date=%{x}<br>Urban Population=%{y}\", \"legendgroup\": \"Country=Russia\", \"line\": {\"color\": \"#B6E880\", \"dash\": \"solid\"}, \"mode\": \"lines\", \"name\": \"Country=Russia\", \"showlegend\": true, \"type\": \"scatter\", \"x\": [\"1992\", \"1991\", \"1993\", \"1995\", \"1994\", \"1990\", \"1996\", \"1997\", \"1989\", \"1998\", \"1999\", \"2018\", \"2000\", \"1988\", \"2017\", \"2001\", \"2016\", \"2015\", \"2002\", \"2014\", \"1987\", \"2003\", \"2013\", \"2004\", \"2012\", \"2005\", \"2011\", \"2010\", \"2006\", \"2009\", \"2008\", \"2007\", \"1986\", \"1985\", \"1984\", \"1983\", \"1982\", \"1981\", \"1980\", \"1979\", \"1978\", \"1977\", \"1976\", \"1975\", \"1974\", \"1973\", \"1972\", \"1971\", \"1970\", \"1969\", \"1968\", \"1967\", \"1966\", \"1965\", \"1964\", \"1963\", \"1962\", \"1961\", \"1960\"], \"xaxis\": \"x\", \"y\": [109115423.0, 109073667.0, 108985461.0, 108866238.0, 108843023.0, 108837430.0, 108700578.0, 108515107.0, 108424260.0, 108329743.0, 107987645.0, 107539347.0, 107528575.0, 107471421.0, 107349518.0, 107067618.0, 107050095.0, 106703732.0, 106568907.0, 106354643.0, 106169956.0, 106132766.0, 105998510.0, 105771150.0, 105669949.0, 105433013.0, 105407907.0, 105261473.0, 105152847.0, 105149982.0, 105055515.0, 105037426.0, 104825013.0, 103466989.0, 102058393.0, 100677781.0, 99464693.0, 98228786.0, 96960865.0, 95659612.0, 94157479.0, 92479950.0, 90810675.0, 89145034.0, 87600777.0, 86061054.0, 84524649.0, 82992261.0, 81464683.0, 79922296.0, 78366306.0, 76812479.0, 75267305.0, 73731369.0, 71815164.0, 69923357.0, 68060071.0, 66226377.0, 64421857.0], \"yaxis\": \"y\"}],\n",
       "                        {\"height\": 600, \"legend\": {\"tracegroupgap\": 0}, \"template\": {\"data\": {\"bar\": [{\"error_x\": {\"color\": \"#2a3f5f\"}, \"error_y\": {\"color\": \"#2a3f5f\"}, \"marker\": {\"line\": {\"color\": \"#E5ECF6\", \"width\": 0.5}}, \"type\": \"bar\"}], \"barpolar\": [{\"marker\": {\"line\": {\"color\": \"#E5ECF6\", \"width\": 0.5}}, \"type\": \"barpolar\"}], \"carpet\": [{\"aaxis\": {\"endlinecolor\": \"#2a3f5f\", \"gridcolor\": \"white\", \"linecolor\": \"white\", \"minorgridcolor\": \"white\", \"startlinecolor\": \"#2a3f5f\"}, \"baxis\": {\"endlinecolor\": \"#2a3f5f\", \"gridcolor\": \"white\", \"linecolor\": \"white\", \"minorgridcolor\": \"white\", \"startlinecolor\": \"#2a3f5f\"}, \"type\": \"carpet\"}], \"choropleth\": [{\"colorbar\": {\"outlinewidth\": 0, \"ticks\": \"\"}, \"type\": \"choropleth\"}], \"contour\": [{\"colorbar\": {\"outlinewidth\": 0, \"ticks\": \"\"}, \"colorscale\": [[0.0, \"#0d0887\"], [0.1111111111111111, \"#46039f\"], [0.2222222222222222, \"#7201a8\"], [0.3333333333333333, \"#9c179e\"], [0.4444444444444444, \"#bd3786\"], [0.5555555555555556, \"#d8576b\"], [0.6666666666666666, \"#ed7953\"], [0.7777777777777778, \"#fb9f3a\"], [0.8888888888888888, \"#fdca26\"], [1.0, \"#f0f921\"]], \"type\": \"contour\"}], \"contourcarpet\": [{\"colorbar\": {\"outlinewidth\": 0, \"ticks\": \"\"}, \"type\": \"contourcarpet\"}], \"heatmap\": [{\"colorbar\": {\"outlinewidth\": 0, \"ticks\": \"\"}, \"colorscale\": [[0.0, \"#0d0887\"], [0.1111111111111111, \"#46039f\"], [0.2222222222222222, \"#7201a8\"], [0.3333333333333333, \"#9c179e\"], [0.4444444444444444, \"#bd3786\"], [0.5555555555555556, \"#d8576b\"], [0.6666666666666666, \"#ed7953\"], [0.7777777777777778, \"#fb9f3a\"], [0.8888888888888888, \"#fdca26\"], [1.0, \"#f0f921\"]], \"type\": \"heatmap\"}], \"heatmapgl\": [{\"colorbar\": {\"outlinewidth\": 0, \"ticks\": \"\"}, \"colorscale\": [[0.0, \"#0d0887\"], [0.1111111111111111, \"#46039f\"], [0.2222222222222222, \"#7201a8\"], [0.3333333333333333, \"#9c179e\"], [0.4444444444444444, \"#bd3786\"], [0.5555555555555556, \"#d8576b\"], [0.6666666666666666, \"#ed7953\"], [0.7777777777777778, \"#fb9f3a\"], [0.8888888888888888, \"#fdca26\"], [1.0, \"#f0f921\"]], \"type\": \"heatmapgl\"}], \"histogram\": [{\"marker\": {\"colorbar\": {\"outlinewidth\": 0, \"ticks\": \"\"}}, \"type\": \"histogram\"}], \"histogram2d\": [{\"colorbar\": {\"outlinewidth\": 0, \"ticks\": \"\"}, \"colorscale\": [[0.0, \"#0d0887\"], [0.1111111111111111, \"#46039f\"], [0.2222222222222222, \"#7201a8\"], [0.3333333333333333, \"#9c179e\"], [0.4444444444444444, \"#bd3786\"], [0.5555555555555556, \"#d8576b\"], [0.6666666666666666, \"#ed7953\"], [0.7777777777777778, \"#fb9f3a\"], [0.8888888888888888, \"#fdca26\"], [1.0, \"#f0f921\"]], \"type\": \"histogram2d\"}], \"histogram2dcontour\": [{\"colorbar\": {\"outlinewidth\": 0, \"ticks\": \"\"}, \"colorscale\": [[0.0, \"#0d0887\"], [0.1111111111111111, \"#46039f\"], [0.2222222222222222, \"#7201a8\"], [0.3333333333333333, \"#9c179e\"], [0.4444444444444444, \"#bd3786\"], [0.5555555555555556, \"#d8576b\"], [0.6666666666666666, \"#ed7953\"], [0.7777777777777778, \"#fb9f3a\"], [0.8888888888888888, \"#fdca26\"], [1.0, \"#f0f921\"]], \"type\": \"histogram2dcontour\"}], \"mesh3d\": [{\"colorbar\": {\"outlinewidth\": 0, \"ticks\": \"\"}, \"type\": \"mesh3d\"}], \"parcoords\": [{\"line\": {\"colorbar\": {\"outlinewidth\": 0, \"ticks\": \"\"}}, \"type\": \"parcoords\"}], \"pie\": [{\"automargin\": true, \"type\": \"pie\"}], \"scatter\": [{\"marker\": {\"colorbar\": {\"outlinewidth\": 0, \"ticks\": \"\"}}, \"type\": \"scatter\"}], \"scatter3d\": [{\"line\": {\"colorbar\": {\"outlinewidth\": 0, \"ticks\": \"\"}}, \"marker\": {\"colorbar\": {\"outlinewidth\": 0, \"ticks\": \"\"}}, \"type\": \"scatter3d\"}], \"scattercarpet\": [{\"marker\": {\"colorbar\": {\"outlinewidth\": 0, \"ticks\": \"\"}}, \"type\": \"scattercarpet\"}], \"scattergeo\": [{\"marker\": {\"colorbar\": {\"outlinewidth\": 0, \"ticks\": \"\"}}, \"type\": \"scattergeo\"}], \"scattergl\": [{\"marker\": {\"colorbar\": {\"outlinewidth\": 0, \"ticks\": \"\"}}, \"type\": \"scattergl\"}], \"scattermapbox\": [{\"marker\": {\"colorbar\": {\"outlinewidth\": 0, \"ticks\": \"\"}}, \"type\": \"scattermapbox\"}], \"scatterpolar\": [{\"marker\": {\"colorbar\": {\"outlinewidth\": 0, \"ticks\": \"\"}}, \"type\": \"scatterpolar\"}], \"scatterpolargl\": [{\"marker\": {\"colorbar\": {\"outlinewidth\": 0, \"ticks\": \"\"}}, \"type\": \"scatterpolargl\"}], \"scatterternary\": [{\"marker\": {\"colorbar\": {\"outlinewidth\": 0, \"ticks\": \"\"}}, \"type\": \"scatterternary\"}], \"surface\": [{\"colorbar\": {\"outlinewidth\": 0, \"ticks\": \"\"}, \"colorscale\": [[0.0, \"#0d0887\"], [0.1111111111111111, \"#46039f\"], [0.2222222222222222, \"#7201a8\"], [0.3333333333333333, \"#9c179e\"], [0.4444444444444444, \"#bd3786\"], [0.5555555555555556, \"#d8576b\"], [0.6666666666666666, \"#ed7953\"], [0.7777777777777778, \"#fb9f3a\"], [0.8888888888888888, \"#fdca26\"], [1.0, \"#f0f921\"]], \"type\": \"surface\"}], \"table\": [{\"cells\": {\"fill\": {\"color\": \"#EBF0F8\"}, \"line\": {\"color\": \"white\"}}, \"header\": {\"fill\": {\"color\": \"#C8D4E3\"}, \"line\": {\"color\": \"white\"}}, \"type\": \"table\"}]}, \"layout\": {\"annotationdefaults\": {\"arrowcolor\": \"#2a3f5f\", \"arrowhead\": 0, \"arrowwidth\": 1}, \"coloraxis\": {\"colorbar\": {\"outlinewidth\": 0, \"ticks\": \"\"}}, \"colorscale\": {\"diverging\": [[0, \"#8e0152\"], [0.1, \"#c51b7d\"], [0.2, \"#de77ae\"], [0.3, \"#f1b6da\"], [0.4, \"#fde0ef\"], [0.5, \"#f7f7f7\"], [0.6, \"#e6f5d0\"], [0.7, \"#b8e186\"], [0.8, \"#7fbc41\"], [0.9, \"#4d9221\"], [1, \"#276419\"]], \"sequential\": [[0.0, \"#0d0887\"], [0.1111111111111111, \"#46039f\"], [0.2222222222222222, \"#7201a8\"], [0.3333333333333333, \"#9c179e\"], [0.4444444444444444, \"#bd3786\"], [0.5555555555555556, \"#d8576b\"], [0.6666666666666666, \"#ed7953\"], [0.7777777777777778, \"#fb9f3a\"], [0.8888888888888888, \"#fdca26\"], [1.0, \"#f0f921\"]], \"sequentialminus\": [[0.0, \"#0d0887\"], [0.1111111111111111, \"#46039f\"], [0.2222222222222222, \"#7201a8\"], [0.3333333333333333, \"#9c179e\"], [0.4444444444444444, \"#bd3786\"], [0.5555555555555556, \"#d8576b\"], [0.6666666666666666, \"#ed7953\"], [0.7777777777777778, \"#fb9f3a\"], [0.8888888888888888, \"#fdca26\"], [1.0, \"#f0f921\"]]}, \"colorway\": [\"#636efa\", \"#EF553B\", \"#00cc96\", \"#ab63fa\", \"#FFA15A\", \"#19d3f3\", \"#FF6692\", \"#B6E880\", \"#FF97FF\", \"#FECB52\"], \"font\": {\"color\": \"#2a3f5f\"}, \"geo\": {\"bgcolor\": \"white\", \"lakecolor\": \"white\", \"landcolor\": \"#E5ECF6\", \"showlakes\": true, \"showland\": true, \"subunitcolor\": \"white\"}, \"hoverlabel\": {\"align\": \"left\"}, \"hovermode\": \"closest\", \"mapbox\": {\"style\": \"light\"}, \"paper_bgcolor\": \"white\", \"plot_bgcolor\": \"#E5ECF6\", \"polar\": {\"angularaxis\": {\"gridcolor\": \"white\", \"linecolor\": \"white\", \"ticks\": \"\"}, \"bgcolor\": \"#E5ECF6\", \"radialaxis\": {\"gridcolor\": \"white\", \"linecolor\": \"white\", \"ticks\": \"\"}}, \"scene\": {\"xaxis\": {\"backgroundcolor\": \"#E5ECF6\", \"gridcolor\": \"white\", \"gridwidth\": 2, \"linecolor\": \"white\", \"showbackground\": true, \"ticks\": \"\", \"zerolinecolor\": \"white\"}, \"yaxis\": {\"backgroundcolor\": \"#E5ECF6\", \"gridcolor\": \"white\", \"gridwidth\": 2, \"linecolor\": \"white\", \"showbackground\": true, \"ticks\": \"\", \"zerolinecolor\": \"white\"}, \"zaxis\": {\"backgroundcolor\": \"#E5ECF6\", \"gridcolor\": \"white\", \"gridwidth\": 2, \"linecolor\": \"white\", \"showbackground\": true, \"ticks\": \"\", \"zerolinecolor\": \"white\"}}, \"shapedefaults\": {\"line\": {\"color\": \"#2a3f5f\"}}, \"ternary\": {\"aaxis\": {\"gridcolor\": \"white\", \"linecolor\": \"white\", \"ticks\": \"\"}, \"baxis\": {\"gridcolor\": \"white\", \"linecolor\": \"white\", \"ticks\": \"\"}, \"bgcolor\": \"#E5ECF6\", \"caxis\": {\"gridcolor\": \"white\", \"linecolor\": \"white\", \"ticks\": \"\"}}, \"title\": {\"x\": 0.05}, \"xaxis\": {\"automargin\": true, \"gridcolor\": \"white\", \"linecolor\": \"white\", \"ticks\": \"\", \"title\": {\"standoff\": 15}, \"zerolinecolor\": \"white\", \"zerolinewidth\": 2}, \"yaxis\": {\"automargin\": true, \"gridcolor\": \"white\", \"linecolor\": \"white\", \"ticks\": \"\", \"title\": {\"standoff\": 15}, \"zerolinecolor\": \"white\", \"zerolinewidth\": 2}}}, \"title\": {\"text\": \"Evolution de la population mondiale urbaine\"}, \"xaxis\": {\"anchor\": \"y\", \"domain\": [0.0, 1.0], \"title\": {\"text\": \"Date\"}}, \"yaxis\": {\"anchor\": \"x\", \"domain\": [0.0, 1.0], \"title\": {\"text\": \"Urban Population\"}}},\n",
       "                        {\"responsive\": true}\n",
       "                    ).then(function(){\n",
       "                            \n",
       "var gd = document.getElementById('ec65900b-d3d8-4ec3-be43-fea4320a1a9a');\n",
       "var x = new MutationObserver(function (mutations, observer) {{\n",
       "        var display = window.getComputedStyle(gd).display;\n",
       "        if (!display || display === 'none') {{\n",
       "            console.log([gd, 'removed!']);\n",
       "            Plotly.purge(gd);\n",
       "            observer.disconnect();\n",
       "        }}\n",
       "}});\n",
       "\n",
       "// Listen for the removal of the full notebook cells\n",
       "var notebookContainer = gd.closest('#notebook-container');\n",
       "if (notebookContainer) {{\n",
       "    x.observe(notebookContainer, {childList: true});\n",
       "}}\n",
       "\n",
       "// Listen for the clearing of the current output cell\n",
       "var outputEl = gd.closest('.output');\n",
       "if (outputEl) {{\n",
       "    x.observe(outputEl, {childList: true});\n",
       "}}\n",
       "\n",
       "                        })\n",
       "                };\n",
       "                });\n",
       "            </script>\n",
       "        </div>"
      ]
     },
     "metadata": {},
     "output_type": "display_data"
    },
    {
     "data": {
      "application/vnd.plotly.v1+json": {
       "config": {
        "plotlyServerURL": "https://plot.ly"
       },
       "data": [
        {
         "hoverlabel": {
          "namelength": 0
         },
         "hovertemplate": "Country=World<br>Date=%{x}<br>GDP in $=%{y}",
         "legendgroup": "Country=World",
         "line": {
          "color": "#636efa",
          "dash": "solid"
         },
         "mode": "lines",
         "name": "Country=World",
         "showlegend": true,
         "type": "scatter",
         "x": [
          "2018",
          "2017",
          "2016",
          "2015",
          "2014",
          "2013",
          "2012",
          "2011",
          "2010",
          "2009",
          "2008",
          "2007",
          "2006",
          "2005",
          "2004",
          "2003",
          "2002",
          "2001",
          "2000",
          "1999",
          "1998",
          "1997",
          "1996",
          "1995",
          "1994",
          "1993",
          "1992",
          "1991",
          "1990",
          "1989",
          "1988",
          "1987",
          "1986",
          "1985",
          "1984",
          "1983",
          "1982",
          "1981",
          "1980",
          "1979",
          "1978",
          "1977",
          "1976",
          "1975",
          "1974",
          "1973",
          "1972",
          "1971",
          "1970",
          "1969",
          "1968",
          "1967",
          "1966",
          "1965",
          "1964",
          "1963",
          "1962",
          "1961",
          "1960"
         ],
         "xaxis": "x",
         "y": [
          85804390603622,
          80891341462319.1,
          76102831192800.1,
          75003074210656.5,
          79296107902414.6,
          77189608277384.9,
          75045654452275.2,
          73357420394392,
          66036932045341.4,
          60340071198873.6,
          63616066492489.3,
          57968741828029.4,
          51442676003488.1,
          47459060744747.3,
          43811772234694.6,
          38899897038562.5,
          34669304532580.9,
          33382422263799,
          33581571601703.8,
          32529370037527.9,
          31367309193548.1,
          31435985940809.5,
          31549409160506.7,
          30865108095791.8,
          27753090818176.4,
          25838198034038.6,
          25425855198396.5,
          23942384829866.4,
          22603206098495.3,
          20068920934036.3,
          19226665300870.3,
          17186317201890.2,
          15109518321326.6,
          12786868776197.2,
          12172632270220,
          11739581031767.4,
          11507419044047.1,
          11616548460676.7,
          11219651208332.4,
          9958993254911.54,
          8570950836042.56,
          7280008873683.09,
          6436618979871.82,
          5916138399186.38,
          5313811666230.22,
          4607296495839.12,
          3780008408344.25,
          3277473529735.25,
          2967134190513.09,
          2702384325609.14,
          2454039687169.93,
          2274766100844.97,
          2137443239818.92,
          1970263431689.46,
          1809566507676.47,
          1651254441090.99,
          1533428552164.23,
          1428243252162.75,
          1370773175299.13
         ],
         "yaxis": "y"
        },
        {
         "hoverlabel": {
          "namelength": 0
         },
         "hovertemplate": "Country=Asia Pacific<br>Date=%{x}<br>GDP in $=%{y}",
         "legendgroup": "Country=Asia Pacific",
         "line": {
          "color": "#EF553B",
          "dash": "solid"
         },
         "mode": "lines",
         "name": "Country=Asia Pacific",
         "showlegend": true,
         "type": "scatter",
         "x": [
          "2018",
          "2017",
          "2016",
          "2015",
          "2014",
          "2013",
          "2012",
          "2011",
          "2010",
          "2009",
          "2008",
          "2007",
          "2006",
          "2005",
          "2004",
          "2003",
          "2002",
          "2001",
          "2000",
          "1999",
          "1998",
          "1997",
          "1996",
          "1995",
          "1994",
          "1993",
          "1992",
          "1991",
          "1990",
          "1989",
          "1988",
          "1987",
          "1986",
          "1985",
          "1984",
          "1983",
          "1982",
          "1981",
          "1980",
          "1979",
          "1978",
          "1977",
          "1976",
          "1975",
          "1974",
          "1973",
          "1972",
          "1971",
          "1970",
          "1969",
          "1968",
          "1967",
          "1966",
          "1965",
          "1964",
          "1963",
          "1962",
          "1961",
          "1960"
         ],
         "xaxis": "x",
         "y": [
          25918289434655.4,
          23912261117830.8,
          22447570589125.6,
          21747800265057,
          21876509488557.4,
          21243898145787,
          21010207451844.7,
          19632602228096.1,
          16935062447071.5,
          14526067836583.6,
          14100855248279.8,
          12209776362940.2,
          10917624046693.7,
          10294176822671.1,
          9647688135570.9,
          8602544831389.09,
          7825085614731.88,
          7702594292620.73,
          8281309000052.6,
          7655807408380.83,
          6856985467434.18,
          7647524374400.17,
          7992328893743.43,
          8296083785441.65,
          7301176579946.07,
          6529005124704.31,
          5837716046226.37,
          5343085731008.26,
          4732335225532.58,
          4531271742927.52,
          4351569576481.54,
          3616694140444.28,
          3079846933950.54,
          2356153018861.55,
          2232501979109.45,
          2084048804226.94,
          1957988285914.51,
          1998159987915.9,
          1812588096947.17,
          1677237851815.55,
          1544651627275.45,
          1223807642026.92,
          1026636623171.61,
          933855748726.9641,
          852923019058.2859,
          740847314440.857,
          562046587327.059,
          452777589749.766,
          407459534509.48206,
          345296836101.877,
          299760122004.444,
          272057157235.571,
          251083324930.35602,
          224579636903.702,
          201633565228.63898,
          175497305283.124,
          157269806179.996,
          153709302349.40698,
          153259252512.441
         ],
         "yaxis": "y"
        },
        {
         "hoverlabel": {
          "namelength": 0
         },
         "hovertemplate": "Country=Latin America<br>Date=%{x}<br>GDP in $=%{y}",
         "legendgroup": "Country=Latin America",
         "line": {
          "color": "#00cc96",
          "dash": "solid"
         },
         "mode": "lines",
         "name": "Country=Latin America",
         "showlegend": true,
         "type": "scatter",
         "x": [
          "2018",
          "2017",
          "2016",
          "2015",
          "2014",
          "2013",
          "2012",
          "2011",
          "2010",
          "2009",
          "2008",
          "2007",
          "2006",
          "2005",
          "2004",
          "2003",
          "2002",
          "2001",
          "2000",
          "1999",
          "1998",
          "1997",
          "1996",
          "1995",
          "1994",
          "1993",
          "1992",
          "1991",
          "1990",
          "1989",
          "1988",
          "1987",
          "1986",
          "1985",
          "1984",
          "1983",
          "1982",
          "1981",
          "1980",
          "1979",
          "1978",
          "1977",
          "1976",
          "1975",
          "1974",
          "1973",
          "1972",
          "1971",
          "1970",
          "1969",
          "1968",
          "1967",
          "1966",
          "1965",
          "1964",
          "1963",
          "1962",
          "1961",
          "1960"
         ],
         "xaxis": "x",
         "y": [
          5787292630122.98,
          5970989904971.93,
          5387475015449.07,
          5517742948141.7,
          6416225701699.74,
          6294625532171.87,
          6143036728395.19,
          6080012753550.91,
          5347162175796.48,
          4312105501412.17,
          4588436486040.13,
          3947928508462.87,
          3350771445882.55,
          2858100756633.53,
          2363958082179.67,
          2051191419284.12,
          2007714754373.6,
          2237512350937.42,
          2286930519732.8,
          2073279888299.07,
          2297915055244.36,
          2277266787746.16,
          2077237385814.28,
          1919636489927.56,
          1800205595450.76,
          1575484838602.26,
          1369927204648.79,
          1449485344516.14,
          1178166874370.62,
          1006296671041.03,
          921828566820.827,
          817561849917.264,
          774460413571.5,
          768852209952.423,
          746420837980.004,
          739244129762.9391,
          838671751679.881,
          898983453972.667,
          779588642794.659,
          647306451890.903,
          542951074061.68396,
          478237747719.78705,
          435125044340.445,
          391671560201.435,
          374033795340.455,
          287801878039.306,
          219740143990.978,
          195615117884.728,
          175071035102.951,
          160810810704.896,
          143599791791.911,
          133326445950.31401,
          129903917602.08199,
          118439031787.985,
          111098331108.909,
          99694830662.0759,
          98783719063.8261,
          86359716456.7515,
          81565903441.8461
         ],
         "yaxis": "y"
        },
        {
         "hoverlabel": {
          "namelength": 0
         },
         "hovertemplate": "Country=Africa<br>Date=%{x}<br>GDP in $=%{y}",
         "legendgroup": "Country=Africa",
         "line": {
          "color": "#ab63fa",
          "dash": "solid"
         },
         "mode": "lines",
         "name": "Country=Africa",
         "showlegend": true,
         "type": "scatter",
         "x": [
          "2018",
          "2017",
          "2016",
          "2015",
          "2014",
          "2013",
          "2012",
          "2011",
          "2010",
          "2009",
          "2008",
          "2007",
          "2006",
          "2005",
          "2004",
          "2003",
          "2002",
          "2001",
          "2000",
          "1999",
          "1998",
          "1997",
          "1996",
          "1995",
          "1994",
          "1993",
          "1992",
          "1991",
          "1990",
          "1989",
          "1988",
          "1987",
          "1986",
          "1985",
          "1984",
          "1983",
          "1982",
          "1981",
          "1980",
          "1979",
          "1978",
          "1977",
          "1976",
          "1975",
          "1974",
          "1973",
          "1972",
          "1971",
          "1970",
          "1969",
          "1968",
          "1967",
          "1966",
          "1965",
          "1964",
          "1963",
          "1962",
          "1961",
          "1960"
         ],
         "xaxis": "x",
         "y": [
          1699461795349.79,
          1679945005255.79,
          1545944112397.67,
          1661740323494.26,
          1827031487774.01,
          1739513778367.17,
          1635765918245.35,
          1552537242838.54,
          1369735391918.67,
          1148078019919.25,
          1209764859134.98,
          1055254020414.74,
          909081981434.4641,
          764713213465.115,
          644304487627.321,
          517212827881.005,
          412465897700.99396,
          378359733583.336,
          396810544343.938,
          372308147165.275,
          368923301966.081,
          382330961343.94104,
          367775706181.72296,
          356222737428.803,
          310652448774.628,
          315308704270.542,
          338025357341.352,
          342668045723.391,
          336946365795.332,
          301056772873.864,
          302566908437.938,
          294043923959.352,
          260336111190.53,
          252988063151.375,
          266231902787.32898,
          303964037529.75604,
          349108366367.861,
          379427965294.484,
          272115993019.12198,
          216800304514.963,
          180120012417.832,
          162942418866.278,
          148277830288.536,
          136529239382.866,
          123878024941.134,
          94735321513.7962,
          74100936022.6026,
          65689134019.6069,
          64569009491.3264,
          54910863990.5405,
          47958300734.9815,
          44845327519.7909,
          45374364958.4609,
          42047655887.1146,
          37760332631.0638,
          38685028470.2561,
          33760238394.1226,
          31157389139.8673,
          29973666709.2225
         ],
         "yaxis": "y"
        },
        {
         "hoverlabel": {
          "namelength": 0
         },
         "hovertemplate": "Country=North America<br>Date=%{x}<br>GDP in $=%{y}",
         "legendgroup": "Country=North America",
         "line": {
          "color": "#FFA15A",
          "dash": "solid"
         },
         "mode": "lines",
         "name": "Country=North America",
         "showlegend": true,
         "type": "scatter",
         "x": [
          "2018",
          "2017",
          "2016",
          "2015",
          "2014",
          "2013",
          "2012",
          "2011",
          "2010",
          "2009",
          "2008",
          "2007",
          "2006",
          "2005",
          "2004",
          "2003",
          "2002",
          "2001",
          "2000",
          "1999",
          "1998",
          "1997",
          "1996",
          "1995",
          "1994",
          "1993",
          "1992",
          "1991",
          "1990",
          "1989",
          "1988",
          "1987",
          "1986",
          "1985",
          "1984",
          "1983",
          "1982",
          "1981",
          "1980",
          "1979",
          "1978",
          "1977",
          "1976",
          "1975",
          "1974",
          "1973",
          "1972",
          "1971",
          "1970",
          "1969",
          "1968",
          "1967",
          "1966",
          "1965",
          "1964",
          "1963",
          "1962",
          "1961",
          "1960"
         ],
         "xaxis": "x",
         "y": [
          22213254904898.5,
          21138584471481.7,
          20239948343915.9,
          19778113935832.2,
          19329008738304.3,
          18632441320853.1,
          18026511572523.6,
          17337272540202.8,
          16611339953589.4,
          15825892407986.4,
          16268085220997.2,
          15922730888205.8,
          15135440910461.2,
          14210866344864.7,
          13241410621714.1,
          12354812816817.7,
          11698306960646.5,
          11321881659892.6,
          10998121151318.6,
          10310072635807.7,
          9697762238406.81,
          9233311210265.78,
          8704363777972.13,
          8245811373385.4,
          7867242439501.61,
          7437550121892.44,
          7114394589284.92,
          6770092083611.19,
          6558665950908.47,
          6208137243275.24,
          5745207451214.25,
          5287828242049.45,
          4958242427343.98,
          4704774999482.75,
          4393971258071.62,
          3975475111781.89,
          3658081025119.14,
          3513995963656.99,
          3131774126345.01,
          2870923302185.42,
          2570707667449.81,
          2293885156934.65,
          2080373864401.62,
          1859083029787.65,
          1705964297648.26,
          1556967359214.08,
          1392428220992.02,
          1264333061477.52,
          1161385395224.42,
          1100414094243.72,
          1015569560567.08,
          928520035935.36,
          877149346286.871,
          799156583591.8491,
          736034209690.038,
          684409517702.8,
          648062241978.7211,
          604945237601.491,
          583464887370.094
         ],
         "yaxis": "y"
        },
        {
         "hoverlabel": {
          "namelength": 0
         },
         "hovertemplate": "Country=Middle East<br>Date=%{x}<br>GDP in $=%{y}",
         "legendgroup": "Country=Middle East",
         "line": {
          "color": "#19d3f3",
          "dash": "solid"
         },
         "mode": "lines",
         "name": "Country=Middle East",
         "showlegend": true,
         "type": "scatter",
         "x": [
          "2018",
          "2017",
          "2016",
          "2015",
          "2014",
          "2013",
          "2012",
          "2011",
          "2010",
          "2009",
          "2008",
          "2007",
          "2006",
          "2005",
          "2004",
          "2003",
          "2002",
          "2001",
          "2000",
          "1999",
          "1998",
          "1997",
          "1996",
          "1995",
          "1994",
          "1993",
          "1992",
          "1991",
          "1990",
          "1989",
          "1988",
          "1987",
          "1986",
          "1985",
          "1984",
          "1983",
          "1982",
          "1981",
          "1980",
          "1979",
          "1978",
          "1977",
          "1976",
          "1975",
          "1974",
          "1973",
          "1972",
          "1971",
          "1970",
          "1969",
          "1968",
          "1967",
          "1966",
          "1965",
          "1964",
          "1963",
          "1962",
          "1961",
          "1960"
         ],
         "xaxis": "x",
         "y": [
          3616868655711.47,
          3275008659269.25,
          3149687655679.88,
          3146224148913.01,
          3569443658321.09,
          3553668416591.58,
          3575615120555.34,
          3282325618009.2,
          2768122882414.01,
          2368422381889.97,
          2648080083193.21,
          2123656501279.28,
          1791193599349.88,
          1530292026599.53,
          1271305394517.72,
          1089041747053.17,
          966794595638.065,
          970588701268.5441,
          966940531199.356,
          866753216731.7579,
          809324954316.0841,
          832628504235.547,
          802281807818.04,
          708644708098.4979,
          633727283356.403,
          607894528644.182,
          603659416995.199,
          554619640067.1,
          550672700031.725,
          420664060516.896,
          408409905957.318,
          410970895760.933,
          446708185515.019,
          435916738779.892,
          428820268874.78296,
          422819099218.39703,
          415696836243.358,
          414879769427.901,
          401373052870.681,
          311571986065.14,
          238456857098.57397,
          224453533285.254,
          193617322983.28,
          155891439603.545,
          142778756162.06198,
          78672070731.1584,
          58546679180.8722,
          47873000169.229004,
          41515837165.5785,
          36096691228.0146,
          32442600991.2546,
          26560000000,
          24320000000,
          21840000000,
          20080000000,
          16960000000,
          15200000000,
          14160000000,
          13040000000
         ],
         "yaxis": "y"
        },
        {
         "hoverlabel": {
          "namelength": 0
         },
         "hovertemplate": "Country=Europe<br>Date=%{x}<br>GDP in $=%{y}",
         "legendgroup": "Country=Europe",
         "line": {
          "color": "#FF6692",
          "dash": "solid"
         },
         "mode": "lines",
         "name": "Country=Europe",
         "showlegend": true,
         "type": "scatter",
         "x": [
          "2018",
          "2017",
          "2016",
          "2015",
          "2014",
          "2013",
          "2012",
          "2011",
          "2010",
          "2009",
          "2008",
          "2007",
          "2006",
          "2005",
          "2004",
          "2003",
          "2002",
          "2001",
          "2000",
          "1999",
          "1998",
          "1997",
          "1996",
          "1995",
          "1994",
          "1993",
          "1992",
          "1991",
          "1990",
          "1989",
          "1988",
          "1987",
          "1986",
          "1985",
          "1984",
          "1983",
          "1982",
          "1981",
          "1980",
          "1979",
          "1978",
          "1977",
          "1976",
          "1975",
          "1974",
          "1973",
          "1972",
          "1971",
          "1970",
          "1969",
          "1968",
          "1967",
          "1966",
          "1965",
          "1964",
          "1963",
          "1962",
          "1961",
          "1960"
         ],
         "xaxis": "x",
         "y": [
          13675599697568.1,
          12639380729565.5,
          11981439102404.6,
          11684180189186.4,
          13499117646931.9,
          13202692493055.8,
          12651386953652.8,
          13630795393394,
          12651387614510.3,
          12915145836358.7,
          14124882309427.2,
          12881558619442,
          11185953973661.5,
          10535354545600.8,
          10151027906176.7,
          8850827901132.02,
          7174014361860.81,
          6592352067950.52,
          6484573532448.5,
          7116772457710.09,
          7149352017482.07,
          6956703610586.5,
          7608600706357.79,
          7517783242200.44,
          6509747580056.97,
          6162113917507.5,
          6726742780089.63,
          6098788978230.53,
          5871571762095.75,
          4665534944904.77,
          4567521859474.51,
          4153063175251.52,
          3357838291838.19,
          2392628694168.01,
          2328909303034.65,
          2427979491829.1,
          2488863293583.92,
          2570726515718.05,
          2957969373274.26,
          2641054833759.96,
          2180286679717.84,
          1780493928969.08,
          1565338413159.44,
          1499896046642.12,
          1293479528389.8,
          1140551985188.26,
          878564933796.335,
          727250878322.0391,
          641661352571.282,
          572667208434.026,
          518385655080.567,
          483555287610.93604,
          445145127213.125,
          408215217814.03204,
          374098342452.394,
          336351025948.426,
          299820176697.464,
          270172398741.054,
          245447359429.401
         ],
         "yaxis": "y"
        },
        {
         "hoverlabel": {
          "namelength": 0
         },
         "hovertemplate": "Country=Russia<br>Date=%{x}<br>GDP in $=%{y}",
         "legendgroup": "Country=Russia",
         "line": {
          "color": "#B6E880",
          "dash": "solid"
         },
         "mode": "lines",
         "name": "Country=Russia",
         "showlegend": true,
         "type": "scatter",
         "x": [
          "1992",
          "1991",
          "1993",
          "1995",
          "1994",
          "1990",
          "1996",
          "1997",
          "1989",
          "1998",
          "1999",
          "2018",
          "2000",
          "1988",
          "2017",
          "2001",
          "2016",
          "2015",
          "2002",
          "2014",
          "1987",
          "2003",
          "2013",
          "2004",
          "2012",
          "2005",
          "2011",
          "2010",
          "2006",
          "2009",
          "2008",
          "2007",
          "1986",
          "1985",
          "1984",
          "1983",
          "1982",
          "1981",
          "1980",
          "1979",
          "1978",
          "1977",
          "1976",
          "1975",
          "1974",
          "1973",
          "1972",
          "1971",
          "1970",
          "1969",
          "1968",
          "1967",
          "1966",
          "1965",
          "1964",
          "1963",
          "1962",
          "1961",
          "1960"
         ],
         "xaxis": "x",
         "y": [
          460290556900.726,
          517962962962.96295,
          435083713850.83704,
          395537185734.854,
          395077301248.464,
          516814274021.956,
          391724890744.498,
          404928954191.87604,
          506500173960.269,
          270955486862.442,
          195907128350.934,
          1657553765580.67,
          259710142196.943,
          554713455149.5021,
          1578624060588.26,
          306602070620.5,
          1282723881083.71,
          1363594369511.4,
          345470494417.86304,
          2059984158384.6,
          2157434025.16467,
          430347770733.155,
          2297128039058.16,
          591016690742.937,
          2210256976944.74,
          764017107993.346,
          2051661732059.47,
          1524917468442.6,
          989930542278.6841,
          1222644282200.48,
          1660846387626,
          1299705764824.48,
          1944711061.30888,
          1715625839.1797302,
          1587412957.22263,
          1479688125.8852,
          1407242640.23211,
          1407062607.63214,
          1254765349.93185,
          1109346220.52885,
          905709147.27019,
          746650558.55469,
          637754162.101094,
          571863295.740122,
          308458423.183854,
          290746157.145921,
          246457838.336681,
          222952578.196381,
          219900006,
          188700037,
          172200018,
          159560018,
          124525702.857143,
          148799980,
          129999994,
          128000000,
          125000008,
          122000016,
          119000024
         ],
         "yaxis": "y"
        }
       ],
       "layout": {
        "height": 600,
        "legend": {
         "tracegroupgap": 0
        },
        "template": {
         "data": {
          "bar": [
           {
            "error_x": {
             "color": "#2a3f5f"
            },
            "error_y": {
             "color": "#2a3f5f"
            },
            "marker": {
             "line": {
              "color": "#E5ECF6",
              "width": 0.5
             }
            },
            "type": "bar"
           }
          ],
          "barpolar": [
           {
            "marker": {
             "line": {
              "color": "#E5ECF6",
              "width": 0.5
             }
            },
            "type": "barpolar"
           }
          ],
          "carpet": [
           {
            "aaxis": {
             "endlinecolor": "#2a3f5f",
             "gridcolor": "white",
             "linecolor": "white",
             "minorgridcolor": "white",
             "startlinecolor": "#2a3f5f"
            },
            "baxis": {
             "endlinecolor": "#2a3f5f",
             "gridcolor": "white",
             "linecolor": "white",
             "minorgridcolor": "white",
             "startlinecolor": "#2a3f5f"
            },
            "type": "carpet"
           }
          ],
          "choropleth": [
           {
            "colorbar": {
             "outlinewidth": 0,
             "ticks": ""
            },
            "type": "choropleth"
           }
          ],
          "contour": [
           {
            "colorbar": {
             "outlinewidth": 0,
             "ticks": ""
            },
            "colorscale": [
             [
              0,
              "#0d0887"
             ],
             [
              0.1111111111111111,
              "#46039f"
             ],
             [
              0.2222222222222222,
              "#7201a8"
             ],
             [
              0.3333333333333333,
              "#9c179e"
             ],
             [
              0.4444444444444444,
              "#bd3786"
             ],
             [
              0.5555555555555556,
              "#d8576b"
             ],
             [
              0.6666666666666666,
              "#ed7953"
             ],
             [
              0.7777777777777778,
              "#fb9f3a"
             ],
             [
              0.8888888888888888,
              "#fdca26"
             ],
             [
              1,
              "#f0f921"
             ]
            ],
            "type": "contour"
           }
          ],
          "contourcarpet": [
           {
            "colorbar": {
             "outlinewidth": 0,
             "ticks": ""
            },
            "type": "contourcarpet"
           }
          ],
          "heatmap": [
           {
            "colorbar": {
             "outlinewidth": 0,
             "ticks": ""
            },
            "colorscale": [
             [
              0,
              "#0d0887"
             ],
             [
              0.1111111111111111,
              "#46039f"
             ],
             [
              0.2222222222222222,
              "#7201a8"
             ],
             [
              0.3333333333333333,
              "#9c179e"
             ],
             [
              0.4444444444444444,
              "#bd3786"
             ],
             [
              0.5555555555555556,
              "#d8576b"
             ],
             [
              0.6666666666666666,
              "#ed7953"
             ],
             [
              0.7777777777777778,
              "#fb9f3a"
             ],
             [
              0.8888888888888888,
              "#fdca26"
             ],
             [
              1,
              "#f0f921"
             ]
            ],
            "type": "heatmap"
           }
          ],
          "heatmapgl": [
           {
            "colorbar": {
             "outlinewidth": 0,
             "ticks": ""
            },
            "colorscale": [
             [
              0,
              "#0d0887"
             ],
             [
              0.1111111111111111,
              "#46039f"
             ],
             [
              0.2222222222222222,
              "#7201a8"
             ],
             [
              0.3333333333333333,
              "#9c179e"
             ],
             [
              0.4444444444444444,
              "#bd3786"
             ],
             [
              0.5555555555555556,
              "#d8576b"
             ],
             [
              0.6666666666666666,
              "#ed7953"
             ],
             [
              0.7777777777777778,
              "#fb9f3a"
             ],
             [
              0.8888888888888888,
              "#fdca26"
             ],
             [
              1,
              "#f0f921"
             ]
            ],
            "type": "heatmapgl"
           }
          ],
          "histogram": [
           {
            "marker": {
             "colorbar": {
              "outlinewidth": 0,
              "ticks": ""
             }
            },
            "type": "histogram"
           }
          ],
          "histogram2d": [
           {
            "colorbar": {
             "outlinewidth": 0,
             "ticks": ""
            },
            "colorscale": [
             [
              0,
              "#0d0887"
             ],
             [
              0.1111111111111111,
              "#46039f"
             ],
             [
              0.2222222222222222,
              "#7201a8"
             ],
             [
              0.3333333333333333,
              "#9c179e"
             ],
             [
              0.4444444444444444,
              "#bd3786"
             ],
             [
              0.5555555555555556,
              "#d8576b"
             ],
             [
              0.6666666666666666,
              "#ed7953"
             ],
             [
              0.7777777777777778,
              "#fb9f3a"
             ],
             [
              0.8888888888888888,
              "#fdca26"
             ],
             [
              1,
              "#f0f921"
             ]
            ],
            "type": "histogram2d"
           }
          ],
          "histogram2dcontour": [
           {
            "colorbar": {
             "outlinewidth": 0,
             "ticks": ""
            },
            "colorscale": [
             [
              0,
              "#0d0887"
             ],
             [
              0.1111111111111111,
              "#46039f"
             ],
             [
              0.2222222222222222,
              "#7201a8"
             ],
             [
              0.3333333333333333,
              "#9c179e"
             ],
             [
              0.4444444444444444,
              "#bd3786"
             ],
             [
              0.5555555555555556,
              "#d8576b"
             ],
             [
              0.6666666666666666,
              "#ed7953"
             ],
             [
              0.7777777777777778,
              "#fb9f3a"
             ],
             [
              0.8888888888888888,
              "#fdca26"
             ],
             [
              1,
              "#f0f921"
             ]
            ],
            "type": "histogram2dcontour"
           }
          ],
          "mesh3d": [
           {
            "colorbar": {
             "outlinewidth": 0,
             "ticks": ""
            },
            "type": "mesh3d"
           }
          ],
          "parcoords": [
           {
            "line": {
             "colorbar": {
              "outlinewidth": 0,
              "ticks": ""
             }
            },
            "type": "parcoords"
           }
          ],
          "pie": [
           {
            "automargin": true,
            "type": "pie"
           }
          ],
          "scatter": [
           {
            "marker": {
             "colorbar": {
              "outlinewidth": 0,
              "ticks": ""
             }
            },
            "type": "scatter"
           }
          ],
          "scatter3d": [
           {
            "line": {
             "colorbar": {
              "outlinewidth": 0,
              "ticks": ""
             }
            },
            "marker": {
             "colorbar": {
              "outlinewidth": 0,
              "ticks": ""
             }
            },
            "type": "scatter3d"
           }
          ],
          "scattercarpet": [
           {
            "marker": {
             "colorbar": {
              "outlinewidth": 0,
              "ticks": ""
             }
            },
            "type": "scattercarpet"
           }
          ],
          "scattergeo": [
           {
            "marker": {
             "colorbar": {
              "outlinewidth": 0,
              "ticks": ""
             }
            },
            "type": "scattergeo"
           }
          ],
          "scattergl": [
           {
            "marker": {
             "colorbar": {
              "outlinewidth": 0,
              "ticks": ""
             }
            },
            "type": "scattergl"
           }
          ],
          "scattermapbox": [
           {
            "marker": {
             "colorbar": {
              "outlinewidth": 0,
              "ticks": ""
             }
            },
            "type": "scattermapbox"
           }
          ],
          "scatterpolar": [
           {
            "marker": {
             "colorbar": {
              "outlinewidth": 0,
              "ticks": ""
             }
            },
            "type": "scatterpolar"
           }
          ],
          "scatterpolargl": [
           {
            "marker": {
             "colorbar": {
              "outlinewidth": 0,
              "ticks": ""
             }
            },
            "type": "scatterpolargl"
           }
          ],
          "scatterternary": [
           {
            "marker": {
             "colorbar": {
              "outlinewidth": 0,
              "ticks": ""
             }
            },
            "type": "scatterternary"
           }
          ],
          "surface": [
           {
            "colorbar": {
             "outlinewidth": 0,
             "ticks": ""
            },
            "colorscale": [
             [
              0,
              "#0d0887"
             ],
             [
              0.1111111111111111,
              "#46039f"
             ],
             [
              0.2222222222222222,
              "#7201a8"
             ],
             [
              0.3333333333333333,
              "#9c179e"
             ],
             [
              0.4444444444444444,
              "#bd3786"
             ],
             [
              0.5555555555555556,
              "#d8576b"
             ],
             [
              0.6666666666666666,
              "#ed7953"
             ],
             [
              0.7777777777777778,
              "#fb9f3a"
             ],
             [
              0.8888888888888888,
              "#fdca26"
             ],
             [
              1,
              "#f0f921"
             ]
            ],
            "type": "surface"
           }
          ],
          "table": [
           {
            "cells": {
             "fill": {
              "color": "#EBF0F8"
             },
             "line": {
              "color": "white"
             }
            },
            "header": {
             "fill": {
              "color": "#C8D4E3"
             },
             "line": {
              "color": "white"
             }
            },
            "type": "table"
           }
          ]
         },
         "layout": {
          "annotationdefaults": {
           "arrowcolor": "#2a3f5f",
           "arrowhead": 0,
           "arrowwidth": 1
          },
          "coloraxis": {
           "colorbar": {
            "outlinewidth": 0,
            "ticks": ""
           }
          },
          "colorscale": {
           "diverging": [
            [
             0,
             "#8e0152"
            ],
            [
             0.1,
             "#c51b7d"
            ],
            [
             0.2,
             "#de77ae"
            ],
            [
             0.3,
             "#f1b6da"
            ],
            [
             0.4,
             "#fde0ef"
            ],
            [
             0.5,
             "#f7f7f7"
            ],
            [
             0.6,
             "#e6f5d0"
            ],
            [
             0.7,
             "#b8e186"
            ],
            [
             0.8,
             "#7fbc41"
            ],
            [
             0.9,
             "#4d9221"
            ],
            [
             1,
             "#276419"
            ]
           ],
           "sequential": [
            [
             0,
             "#0d0887"
            ],
            [
             0.1111111111111111,
             "#46039f"
            ],
            [
             0.2222222222222222,
             "#7201a8"
            ],
            [
             0.3333333333333333,
             "#9c179e"
            ],
            [
             0.4444444444444444,
             "#bd3786"
            ],
            [
             0.5555555555555556,
             "#d8576b"
            ],
            [
             0.6666666666666666,
             "#ed7953"
            ],
            [
             0.7777777777777778,
             "#fb9f3a"
            ],
            [
             0.8888888888888888,
             "#fdca26"
            ],
            [
             1,
             "#f0f921"
            ]
           ],
           "sequentialminus": [
            [
             0,
             "#0d0887"
            ],
            [
             0.1111111111111111,
             "#46039f"
            ],
            [
             0.2222222222222222,
             "#7201a8"
            ],
            [
             0.3333333333333333,
             "#9c179e"
            ],
            [
             0.4444444444444444,
             "#bd3786"
            ],
            [
             0.5555555555555556,
             "#d8576b"
            ],
            [
             0.6666666666666666,
             "#ed7953"
            ],
            [
             0.7777777777777778,
             "#fb9f3a"
            ],
            [
             0.8888888888888888,
             "#fdca26"
            ],
            [
             1,
             "#f0f921"
            ]
           ]
          },
          "colorway": [
           "#636efa",
           "#EF553B",
           "#00cc96",
           "#ab63fa",
           "#FFA15A",
           "#19d3f3",
           "#FF6692",
           "#B6E880",
           "#FF97FF",
           "#FECB52"
          ],
          "font": {
           "color": "#2a3f5f"
          },
          "geo": {
           "bgcolor": "white",
           "lakecolor": "white",
           "landcolor": "#E5ECF6",
           "showlakes": true,
           "showland": true,
           "subunitcolor": "white"
          },
          "hoverlabel": {
           "align": "left"
          },
          "hovermode": "closest",
          "mapbox": {
           "style": "light"
          },
          "paper_bgcolor": "white",
          "plot_bgcolor": "#E5ECF6",
          "polar": {
           "angularaxis": {
            "gridcolor": "white",
            "linecolor": "white",
            "ticks": ""
           },
           "bgcolor": "#E5ECF6",
           "radialaxis": {
            "gridcolor": "white",
            "linecolor": "white",
            "ticks": ""
           }
          },
          "scene": {
           "xaxis": {
            "backgroundcolor": "#E5ECF6",
            "gridcolor": "white",
            "gridwidth": 2,
            "linecolor": "white",
            "showbackground": true,
            "ticks": "",
            "zerolinecolor": "white"
           },
           "yaxis": {
            "backgroundcolor": "#E5ECF6",
            "gridcolor": "white",
            "gridwidth": 2,
            "linecolor": "white",
            "showbackground": true,
            "ticks": "",
            "zerolinecolor": "white"
           },
           "zaxis": {
            "backgroundcolor": "#E5ECF6",
            "gridcolor": "white",
            "gridwidth": 2,
            "linecolor": "white",
            "showbackground": true,
            "ticks": "",
            "zerolinecolor": "white"
           }
          },
          "shapedefaults": {
           "line": {
            "color": "#2a3f5f"
           }
          },
          "ternary": {
           "aaxis": {
            "gridcolor": "white",
            "linecolor": "white",
            "ticks": ""
           },
           "baxis": {
            "gridcolor": "white",
            "linecolor": "white",
            "ticks": ""
           },
           "bgcolor": "#E5ECF6",
           "caxis": {
            "gridcolor": "white",
            "linecolor": "white",
            "ticks": ""
           }
          },
          "title": {
           "x": 0.05
          },
          "xaxis": {
           "automargin": true,
           "gridcolor": "white",
           "linecolor": "white",
           "ticks": "",
           "title": {
            "standoff": 15
           },
           "zerolinecolor": "white",
           "zerolinewidth": 2
          },
          "yaxis": {
           "automargin": true,
           "gridcolor": "white",
           "linecolor": "white",
           "ticks": "",
           "title": {
            "standoff": 15
           },
           "zerolinecolor": "white",
           "zerolinewidth": 2
          }
         }
        },
        "title": {
         "text": "Evolution du GDP in $"
        },
        "xaxis": {
         "anchor": "y",
         "domain": [
          0,
          1
         ],
         "title": {
          "text": "Date"
         }
        },
        "yaxis": {
         "anchor": "x",
         "domain": [
          0,
          1
         ],
         "title": {
          "text": "GDP in $"
         }
        }
       }
      },
      "text/html": [
       "<div>\n",
       "        \n",
       "        \n",
       "            <div id=\"d9b83bb6-87da-4f8a-b494-ca62aff573ee\" class=\"plotly-graph-div\" style=\"height:600px; width:100%;\"></div>\n",
       "            <script type=\"text/javascript\">\n",
       "                require([\"plotly\"], function(Plotly) {\n",
       "                    window.PLOTLYENV=window.PLOTLYENV || {};\n",
       "                    \n",
       "                if (document.getElementById(\"d9b83bb6-87da-4f8a-b494-ca62aff573ee\")) {\n",
       "                    Plotly.newPlot(\n",
       "                        'd9b83bb6-87da-4f8a-b494-ca62aff573ee',\n",
       "                        [{\"hoverlabel\": {\"namelength\": 0}, \"hovertemplate\": \"Country=World<br>Date=%{x}<br>GDP in $=%{y}\", \"legendgroup\": \"Country=World\", \"line\": {\"color\": \"#636efa\", \"dash\": \"solid\"}, \"mode\": \"lines\", \"name\": \"Country=World\", \"showlegend\": true, \"type\": \"scatter\", \"x\": [\"2018\", \"2017\", \"2016\", \"2015\", \"2014\", \"2013\", \"2012\", \"2011\", \"2010\", \"2009\", \"2008\", \"2007\", \"2006\", \"2005\", \"2004\", \"2003\", \"2002\", \"2001\", \"2000\", \"1999\", \"1998\", \"1997\", \"1996\", \"1995\", \"1994\", \"1993\", \"1992\", \"1991\", \"1990\", \"1989\", \"1988\", \"1987\", \"1986\", \"1985\", \"1984\", \"1983\", \"1982\", \"1981\", \"1980\", \"1979\", \"1978\", \"1977\", \"1976\", \"1975\", \"1974\", \"1973\", \"1972\", \"1971\", \"1970\", \"1969\", \"1968\", \"1967\", \"1966\", \"1965\", \"1964\", \"1963\", \"1962\", \"1961\", \"1960\"], \"xaxis\": \"x\", \"y\": [85804390603622.0, 80891341462319.1, 76102831192800.1, 75003074210656.5, 79296107902414.6, 77189608277384.9, 75045654452275.2, 73357420394392.0, 66036932045341.4, 60340071198873.6, 63616066492489.3, 57968741828029.4, 51442676003488.1, 47459060744747.3, 43811772234694.6, 38899897038562.5, 34669304532580.9, 33382422263799.0, 33581571601703.8, 32529370037527.9, 31367309193548.1, 31435985940809.5, 31549409160506.7, 30865108095791.8, 27753090818176.4, 25838198034038.6, 25425855198396.5, 23942384829866.4, 22603206098495.3, 20068920934036.3, 19226665300870.3, 17186317201890.2, 15109518321326.6, 12786868776197.2, 12172632270220.0, 11739581031767.4, 11507419044047.1, 11616548460676.7, 11219651208332.4, 9958993254911.54, 8570950836042.56, 7280008873683.09, 6436618979871.82, 5916138399186.38, 5313811666230.22, 4607296495839.12, 3780008408344.25, 3277473529735.25, 2967134190513.09, 2702384325609.14, 2454039687169.93, 2274766100844.97, 2137443239818.92, 1970263431689.46, 1809566507676.47, 1651254441090.99, 1533428552164.23, 1428243252162.75, 1370773175299.13], \"yaxis\": \"y\"}, {\"hoverlabel\": {\"namelength\": 0}, \"hovertemplate\": \"Country=Asia Pacific<br>Date=%{x}<br>GDP in $=%{y}\", \"legendgroup\": \"Country=Asia Pacific\", \"line\": {\"color\": \"#EF553B\", \"dash\": \"solid\"}, \"mode\": \"lines\", \"name\": \"Country=Asia Pacific\", \"showlegend\": true, \"type\": \"scatter\", \"x\": [\"2018\", \"2017\", \"2016\", \"2015\", \"2014\", \"2013\", \"2012\", \"2011\", \"2010\", \"2009\", \"2008\", \"2007\", \"2006\", \"2005\", \"2004\", \"2003\", \"2002\", \"2001\", \"2000\", \"1999\", \"1998\", \"1997\", \"1996\", \"1995\", \"1994\", \"1993\", \"1992\", \"1991\", \"1990\", \"1989\", \"1988\", \"1987\", \"1986\", \"1985\", \"1984\", \"1983\", \"1982\", \"1981\", \"1980\", \"1979\", \"1978\", \"1977\", \"1976\", \"1975\", \"1974\", \"1973\", \"1972\", \"1971\", \"1970\", \"1969\", \"1968\", \"1967\", \"1966\", \"1965\", \"1964\", \"1963\", \"1962\", \"1961\", \"1960\"], \"xaxis\": \"x\", \"y\": [25918289434655.4, 23912261117830.8, 22447570589125.6, 21747800265057.0, 21876509488557.4, 21243898145787.0, 21010207451844.7, 19632602228096.1, 16935062447071.5, 14526067836583.6, 14100855248279.8, 12209776362940.2, 10917624046693.7, 10294176822671.1, 9647688135570.9, 8602544831389.09, 7825085614731.88, 7702594292620.73, 8281309000052.6, 7655807408380.83, 6856985467434.18, 7647524374400.17, 7992328893743.43, 8296083785441.65, 7301176579946.07, 6529005124704.31, 5837716046226.37, 5343085731008.26, 4732335225532.58, 4531271742927.52, 4351569576481.54, 3616694140444.28, 3079846933950.54, 2356153018861.55, 2232501979109.45, 2084048804226.94, 1957988285914.51, 1998159987915.9, 1812588096947.17, 1677237851815.55, 1544651627275.45, 1223807642026.92, 1026636623171.61, 933855748726.9641, 852923019058.2859, 740847314440.857, 562046587327.059, 452777589749.766, 407459534509.48206, 345296836101.877, 299760122004.444, 272057157235.571, 251083324930.35602, 224579636903.702, 201633565228.63898, 175497305283.124, 157269806179.996, 153709302349.40698, 153259252512.441], \"yaxis\": \"y\"}, {\"hoverlabel\": {\"namelength\": 0}, \"hovertemplate\": \"Country=Latin America<br>Date=%{x}<br>GDP in $=%{y}\", \"legendgroup\": \"Country=Latin America\", \"line\": {\"color\": \"#00cc96\", \"dash\": \"solid\"}, \"mode\": \"lines\", \"name\": \"Country=Latin America\", \"showlegend\": true, \"type\": \"scatter\", \"x\": [\"2018\", \"2017\", \"2016\", \"2015\", \"2014\", \"2013\", \"2012\", \"2011\", \"2010\", \"2009\", \"2008\", \"2007\", \"2006\", \"2005\", \"2004\", \"2003\", \"2002\", \"2001\", \"2000\", \"1999\", \"1998\", \"1997\", \"1996\", \"1995\", \"1994\", \"1993\", \"1992\", \"1991\", \"1990\", \"1989\", \"1988\", \"1987\", \"1986\", \"1985\", \"1984\", \"1983\", \"1982\", \"1981\", \"1980\", \"1979\", \"1978\", \"1977\", \"1976\", \"1975\", \"1974\", \"1973\", \"1972\", \"1971\", \"1970\", \"1969\", \"1968\", \"1967\", \"1966\", \"1965\", \"1964\", \"1963\", \"1962\", \"1961\", \"1960\"], \"xaxis\": \"x\", \"y\": [5787292630122.98, 5970989904971.93, 5387475015449.07, 5517742948141.7, 6416225701699.74, 6294625532171.87, 6143036728395.19, 6080012753550.91, 5347162175796.48, 4312105501412.17, 4588436486040.13, 3947928508462.87, 3350771445882.55, 2858100756633.53, 2363958082179.67, 2051191419284.12, 2007714754373.6, 2237512350937.42, 2286930519732.8, 2073279888299.07, 2297915055244.36, 2277266787746.16, 2077237385814.28, 1919636489927.56, 1800205595450.76, 1575484838602.26, 1369927204648.79, 1449485344516.14, 1178166874370.62, 1006296671041.03, 921828566820.827, 817561849917.264, 774460413571.5, 768852209952.423, 746420837980.004, 739244129762.9391, 838671751679.881, 898983453972.667, 779588642794.659, 647306451890.903, 542951074061.68396, 478237747719.78705, 435125044340.445, 391671560201.435, 374033795340.455, 287801878039.306, 219740143990.978, 195615117884.728, 175071035102.951, 160810810704.896, 143599791791.911, 133326445950.31401, 129903917602.08199, 118439031787.985, 111098331108.909, 99694830662.0759, 98783719063.8261, 86359716456.7515, 81565903441.8461], \"yaxis\": \"y\"}, {\"hoverlabel\": {\"namelength\": 0}, \"hovertemplate\": \"Country=Africa<br>Date=%{x}<br>GDP in $=%{y}\", \"legendgroup\": \"Country=Africa\", \"line\": {\"color\": \"#ab63fa\", \"dash\": \"solid\"}, \"mode\": \"lines\", \"name\": \"Country=Africa\", \"showlegend\": true, \"type\": \"scatter\", \"x\": [\"2018\", \"2017\", \"2016\", \"2015\", \"2014\", \"2013\", \"2012\", \"2011\", \"2010\", \"2009\", \"2008\", \"2007\", \"2006\", \"2005\", \"2004\", \"2003\", \"2002\", \"2001\", \"2000\", \"1999\", \"1998\", \"1997\", \"1996\", \"1995\", \"1994\", \"1993\", \"1992\", \"1991\", \"1990\", \"1989\", \"1988\", \"1987\", \"1986\", \"1985\", \"1984\", \"1983\", \"1982\", \"1981\", \"1980\", \"1979\", \"1978\", \"1977\", \"1976\", \"1975\", \"1974\", \"1973\", \"1972\", \"1971\", \"1970\", \"1969\", \"1968\", \"1967\", \"1966\", \"1965\", \"1964\", \"1963\", \"1962\", \"1961\", \"1960\"], \"xaxis\": \"x\", \"y\": [1699461795349.79, 1679945005255.79, 1545944112397.67, 1661740323494.26, 1827031487774.01, 1739513778367.17, 1635765918245.35, 1552537242838.54, 1369735391918.67, 1148078019919.25, 1209764859134.98, 1055254020414.74, 909081981434.4641, 764713213465.115, 644304487627.321, 517212827881.005, 412465897700.99396, 378359733583.336, 396810544343.938, 372308147165.275, 368923301966.081, 382330961343.94104, 367775706181.72296, 356222737428.803, 310652448774.628, 315308704270.542, 338025357341.352, 342668045723.391, 336946365795.332, 301056772873.864, 302566908437.938, 294043923959.352, 260336111190.53, 252988063151.375, 266231902787.32898, 303964037529.75604, 349108366367.861, 379427965294.484, 272115993019.12198, 216800304514.963, 180120012417.832, 162942418866.278, 148277830288.536, 136529239382.866, 123878024941.134, 94735321513.7962, 74100936022.6026, 65689134019.6069, 64569009491.3264, 54910863990.5405, 47958300734.9815, 44845327519.7909, 45374364958.4609, 42047655887.1146, 37760332631.0638, 38685028470.2561, 33760238394.1226, 31157389139.8673, 29973666709.2225], \"yaxis\": \"y\"}, {\"hoverlabel\": {\"namelength\": 0}, \"hovertemplate\": \"Country=North America<br>Date=%{x}<br>GDP in $=%{y}\", \"legendgroup\": \"Country=North America\", \"line\": {\"color\": \"#FFA15A\", \"dash\": \"solid\"}, \"mode\": \"lines\", \"name\": \"Country=North America\", \"showlegend\": true, \"type\": \"scatter\", \"x\": [\"2018\", \"2017\", \"2016\", \"2015\", \"2014\", \"2013\", \"2012\", \"2011\", \"2010\", \"2009\", \"2008\", \"2007\", \"2006\", \"2005\", \"2004\", \"2003\", \"2002\", \"2001\", \"2000\", \"1999\", \"1998\", \"1997\", \"1996\", \"1995\", \"1994\", \"1993\", \"1992\", \"1991\", \"1990\", \"1989\", \"1988\", \"1987\", \"1986\", \"1985\", \"1984\", \"1983\", \"1982\", \"1981\", \"1980\", \"1979\", \"1978\", \"1977\", \"1976\", \"1975\", \"1974\", \"1973\", \"1972\", \"1971\", \"1970\", \"1969\", \"1968\", \"1967\", \"1966\", \"1965\", \"1964\", \"1963\", \"1962\", \"1961\", \"1960\"], \"xaxis\": \"x\", \"y\": [22213254904898.5, 21138584471481.7, 20239948343915.9, 19778113935832.2, 19329008738304.3, 18632441320853.1, 18026511572523.6, 17337272540202.8, 16611339953589.4, 15825892407986.4, 16268085220997.2, 15922730888205.8, 15135440910461.2, 14210866344864.7, 13241410621714.1, 12354812816817.7, 11698306960646.5, 11321881659892.6, 10998121151318.6, 10310072635807.7, 9697762238406.81, 9233311210265.78, 8704363777972.13, 8245811373385.4, 7867242439501.61, 7437550121892.44, 7114394589284.92, 6770092083611.19, 6558665950908.47, 6208137243275.24, 5745207451214.25, 5287828242049.45, 4958242427343.98, 4704774999482.75, 4393971258071.62, 3975475111781.89, 3658081025119.14, 3513995963656.99, 3131774126345.01, 2870923302185.42, 2570707667449.81, 2293885156934.65, 2080373864401.62, 1859083029787.65, 1705964297648.26, 1556967359214.08, 1392428220992.02, 1264333061477.52, 1161385395224.42, 1100414094243.72, 1015569560567.08, 928520035935.36, 877149346286.871, 799156583591.8491, 736034209690.038, 684409517702.8, 648062241978.7211, 604945237601.491, 583464887370.094], \"yaxis\": \"y\"}, {\"hoverlabel\": {\"namelength\": 0}, \"hovertemplate\": \"Country=Middle East<br>Date=%{x}<br>GDP in $=%{y}\", \"legendgroup\": \"Country=Middle East\", \"line\": {\"color\": \"#19d3f3\", \"dash\": \"solid\"}, \"mode\": \"lines\", \"name\": \"Country=Middle East\", \"showlegend\": true, \"type\": \"scatter\", \"x\": [\"2018\", \"2017\", \"2016\", \"2015\", \"2014\", \"2013\", \"2012\", \"2011\", \"2010\", \"2009\", \"2008\", \"2007\", \"2006\", \"2005\", \"2004\", \"2003\", \"2002\", \"2001\", \"2000\", \"1999\", \"1998\", \"1997\", \"1996\", \"1995\", \"1994\", \"1993\", \"1992\", \"1991\", \"1990\", \"1989\", \"1988\", \"1987\", \"1986\", \"1985\", \"1984\", \"1983\", \"1982\", \"1981\", \"1980\", \"1979\", \"1978\", \"1977\", \"1976\", \"1975\", \"1974\", \"1973\", \"1972\", \"1971\", \"1970\", \"1969\", \"1968\", \"1967\", \"1966\", \"1965\", \"1964\", \"1963\", \"1962\", \"1961\", \"1960\"], \"xaxis\": \"x\", \"y\": [3616868655711.47, 3275008659269.25, 3149687655679.88, 3146224148913.01, 3569443658321.09, 3553668416591.58, 3575615120555.34, 3282325618009.2, 2768122882414.01, 2368422381889.97, 2648080083193.21, 2123656501279.28, 1791193599349.88, 1530292026599.53, 1271305394517.72, 1089041747053.17, 966794595638.065, 970588701268.5441, 966940531199.356, 866753216731.7579, 809324954316.0841, 832628504235.547, 802281807818.04, 708644708098.4979, 633727283356.403, 607894528644.182, 603659416995.199, 554619640067.1, 550672700031.725, 420664060516.896, 408409905957.318, 410970895760.933, 446708185515.019, 435916738779.892, 428820268874.78296, 422819099218.39703, 415696836243.358, 414879769427.901, 401373052870.681, 311571986065.14, 238456857098.57397, 224453533285.254, 193617322983.28, 155891439603.545, 142778756162.06198, 78672070731.1584, 58546679180.8722, 47873000169.229004, 41515837165.5785, 36096691228.0146, 32442600991.2546, 26560000000.0, 24320000000.0, 21840000000.0, 20080000000.0, 16960000000.0, 15200000000.0, 14160000000.0, 13040000000.0], \"yaxis\": \"y\"}, {\"hoverlabel\": {\"namelength\": 0}, \"hovertemplate\": \"Country=Europe<br>Date=%{x}<br>GDP in $=%{y}\", \"legendgroup\": \"Country=Europe\", \"line\": {\"color\": \"#FF6692\", \"dash\": \"solid\"}, \"mode\": \"lines\", \"name\": \"Country=Europe\", \"showlegend\": true, \"type\": \"scatter\", \"x\": [\"2018\", \"2017\", \"2016\", \"2015\", \"2014\", \"2013\", \"2012\", \"2011\", \"2010\", \"2009\", \"2008\", \"2007\", \"2006\", \"2005\", \"2004\", \"2003\", \"2002\", \"2001\", \"2000\", \"1999\", \"1998\", \"1997\", \"1996\", \"1995\", \"1994\", \"1993\", \"1992\", \"1991\", \"1990\", \"1989\", \"1988\", \"1987\", \"1986\", \"1985\", \"1984\", \"1983\", \"1982\", \"1981\", \"1980\", \"1979\", \"1978\", \"1977\", \"1976\", \"1975\", \"1974\", \"1973\", \"1972\", \"1971\", \"1970\", \"1969\", \"1968\", \"1967\", \"1966\", \"1965\", \"1964\", \"1963\", \"1962\", \"1961\", \"1960\"], \"xaxis\": \"x\", \"y\": [13675599697568.1, 12639380729565.5, 11981439102404.6, 11684180189186.4, 13499117646931.9, 13202692493055.8, 12651386953652.8, 13630795393394.0, 12651387614510.3, 12915145836358.7, 14124882309427.2, 12881558619442.0, 11185953973661.5, 10535354545600.8, 10151027906176.7, 8850827901132.02, 7174014361860.81, 6592352067950.52, 6484573532448.5, 7116772457710.09, 7149352017482.07, 6956703610586.5, 7608600706357.79, 7517783242200.44, 6509747580056.97, 6162113917507.5, 6726742780089.63, 6098788978230.53, 5871571762095.75, 4665534944904.77, 4567521859474.51, 4153063175251.52, 3357838291838.19, 2392628694168.01, 2328909303034.65, 2427979491829.1, 2488863293583.92, 2570726515718.05, 2957969373274.26, 2641054833759.96, 2180286679717.84, 1780493928969.08, 1565338413159.44, 1499896046642.12, 1293479528389.8, 1140551985188.26, 878564933796.335, 727250878322.0391, 641661352571.282, 572667208434.026, 518385655080.567, 483555287610.93604, 445145127213.125, 408215217814.03204, 374098342452.394, 336351025948.426, 299820176697.464, 270172398741.054, 245447359429.401], \"yaxis\": \"y\"}, {\"hoverlabel\": {\"namelength\": 0}, \"hovertemplate\": \"Country=Russia<br>Date=%{x}<br>GDP in $=%{y}\", \"legendgroup\": \"Country=Russia\", \"line\": {\"color\": \"#B6E880\", \"dash\": \"solid\"}, \"mode\": \"lines\", \"name\": \"Country=Russia\", \"showlegend\": true, \"type\": \"scatter\", \"x\": [\"1992\", \"1991\", \"1993\", \"1995\", \"1994\", \"1990\", \"1996\", \"1997\", \"1989\", \"1998\", \"1999\", \"2018\", \"2000\", \"1988\", \"2017\", \"2001\", \"2016\", \"2015\", \"2002\", \"2014\", \"1987\", \"2003\", \"2013\", \"2004\", \"2012\", \"2005\", \"2011\", \"2010\", \"2006\", \"2009\", \"2008\", \"2007\", \"1986\", \"1985\", \"1984\", \"1983\", \"1982\", \"1981\", \"1980\", \"1979\", \"1978\", \"1977\", \"1976\", \"1975\", \"1974\", \"1973\", \"1972\", \"1971\", \"1970\", \"1969\", \"1968\", \"1967\", \"1966\", \"1965\", \"1964\", \"1963\", \"1962\", \"1961\", \"1960\"], \"xaxis\": \"x\", \"y\": [460290556900.726, 517962962962.96295, 435083713850.83704, 395537185734.854, 395077301248.464, 516814274021.956, 391724890744.498, 404928954191.87604, 506500173960.269, 270955486862.442, 195907128350.934, 1657553765580.67, 259710142196.943, 554713455149.5021, 1578624060588.26, 306602070620.5, 1282723881083.71, 1363594369511.4, 345470494417.86304, 2059984158384.6, 2157434025.16467, 430347770733.155, 2297128039058.16, 591016690742.937, 2210256976944.74, 764017107993.346, 2051661732059.47, 1524917468442.6, 989930542278.6841, 1222644282200.48, 1660846387626.0, 1299705764824.48, 1944711061.30888, 1715625839.1797302, 1587412957.22263, 1479688125.8852, 1407242640.23211, 1407062607.63214, 1254765349.93185, 1109346220.52885, 905709147.27019, 746650558.55469, 637754162.101094, 571863295.740122, 308458423.183854, 290746157.145921, 246457838.336681, 222952578.196381, 219900006.0, 188700037.0, 172200018.0, 159560018.0, 124525702.857143, 148799980.0, 129999994.0, 128000000.0, 125000008.0, 122000016.0, 119000024.0], \"yaxis\": \"y\"}],\n",
       "                        {\"height\": 600, \"legend\": {\"tracegroupgap\": 0}, \"template\": {\"data\": {\"bar\": [{\"error_x\": {\"color\": \"#2a3f5f\"}, \"error_y\": {\"color\": \"#2a3f5f\"}, \"marker\": {\"line\": {\"color\": \"#E5ECF6\", \"width\": 0.5}}, \"type\": \"bar\"}], \"barpolar\": [{\"marker\": {\"line\": {\"color\": \"#E5ECF6\", \"width\": 0.5}}, \"type\": \"barpolar\"}], \"carpet\": [{\"aaxis\": {\"endlinecolor\": \"#2a3f5f\", \"gridcolor\": \"white\", \"linecolor\": \"white\", \"minorgridcolor\": \"white\", \"startlinecolor\": \"#2a3f5f\"}, \"baxis\": {\"endlinecolor\": \"#2a3f5f\", \"gridcolor\": \"white\", \"linecolor\": \"white\", \"minorgridcolor\": \"white\", \"startlinecolor\": \"#2a3f5f\"}, \"type\": \"carpet\"}], \"choropleth\": [{\"colorbar\": {\"outlinewidth\": 0, \"ticks\": \"\"}, \"type\": \"choropleth\"}], \"contour\": [{\"colorbar\": {\"outlinewidth\": 0, \"ticks\": \"\"}, \"colorscale\": [[0.0, \"#0d0887\"], [0.1111111111111111, \"#46039f\"], [0.2222222222222222, \"#7201a8\"], [0.3333333333333333, \"#9c179e\"], [0.4444444444444444, \"#bd3786\"], [0.5555555555555556, \"#d8576b\"], [0.6666666666666666, \"#ed7953\"], [0.7777777777777778, \"#fb9f3a\"], [0.8888888888888888, \"#fdca26\"], [1.0, \"#f0f921\"]], \"type\": \"contour\"}], \"contourcarpet\": [{\"colorbar\": {\"outlinewidth\": 0, \"ticks\": \"\"}, \"type\": \"contourcarpet\"}], \"heatmap\": [{\"colorbar\": {\"outlinewidth\": 0, \"ticks\": \"\"}, \"colorscale\": [[0.0, \"#0d0887\"], [0.1111111111111111, \"#46039f\"], [0.2222222222222222, \"#7201a8\"], [0.3333333333333333, \"#9c179e\"], [0.4444444444444444, \"#bd3786\"], [0.5555555555555556, \"#d8576b\"], [0.6666666666666666, \"#ed7953\"], [0.7777777777777778, \"#fb9f3a\"], [0.8888888888888888, \"#fdca26\"], [1.0, \"#f0f921\"]], \"type\": \"heatmap\"}], \"heatmapgl\": [{\"colorbar\": {\"outlinewidth\": 0, \"ticks\": \"\"}, \"colorscale\": [[0.0, \"#0d0887\"], [0.1111111111111111, \"#46039f\"], [0.2222222222222222, \"#7201a8\"], [0.3333333333333333, \"#9c179e\"], [0.4444444444444444, \"#bd3786\"], [0.5555555555555556, \"#d8576b\"], [0.6666666666666666, \"#ed7953\"], [0.7777777777777778, \"#fb9f3a\"], [0.8888888888888888, \"#fdca26\"], [1.0, \"#f0f921\"]], \"type\": \"heatmapgl\"}], \"histogram\": [{\"marker\": {\"colorbar\": {\"outlinewidth\": 0, \"ticks\": \"\"}}, \"type\": \"histogram\"}], \"histogram2d\": [{\"colorbar\": {\"outlinewidth\": 0, \"ticks\": \"\"}, \"colorscale\": [[0.0, \"#0d0887\"], [0.1111111111111111, \"#46039f\"], [0.2222222222222222, \"#7201a8\"], [0.3333333333333333, \"#9c179e\"], [0.4444444444444444, \"#bd3786\"], [0.5555555555555556, \"#d8576b\"], [0.6666666666666666, \"#ed7953\"], [0.7777777777777778, \"#fb9f3a\"], [0.8888888888888888, \"#fdca26\"], [1.0, \"#f0f921\"]], \"type\": \"histogram2d\"}], \"histogram2dcontour\": [{\"colorbar\": {\"outlinewidth\": 0, \"ticks\": \"\"}, \"colorscale\": [[0.0, \"#0d0887\"], [0.1111111111111111, \"#46039f\"], [0.2222222222222222, \"#7201a8\"], [0.3333333333333333, \"#9c179e\"], [0.4444444444444444, \"#bd3786\"], [0.5555555555555556, \"#d8576b\"], [0.6666666666666666, \"#ed7953\"], [0.7777777777777778, \"#fb9f3a\"], [0.8888888888888888, \"#fdca26\"], [1.0, \"#f0f921\"]], \"type\": \"histogram2dcontour\"}], \"mesh3d\": [{\"colorbar\": {\"outlinewidth\": 0, \"ticks\": \"\"}, \"type\": \"mesh3d\"}], \"parcoords\": [{\"line\": {\"colorbar\": {\"outlinewidth\": 0, \"ticks\": \"\"}}, \"type\": \"parcoords\"}], \"pie\": [{\"automargin\": true, \"type\": \"pie\"}], \"scatter\": [{\"marker\": {\"colorbar\": {\"outlinewidth\": 0, \"ticks\": \"\"}}, \"type\": \"scatter\"}], \"scatter3d\": [{\"line\": {\"colorbar\": {\"outlinewidth\": 0, \"ticks\": \"\"}}, \"marker\": {\"colorbar\": {\"outlinewidth\": 0, \"ticks\": \"\"}}, \"type\": \"scatter3d\"}], \"scattercarpet\": [{\"marker\": {\"colorbar\": {\"outlinewidth\": 0, \"ticks\": \"\"}}, \"type\": \"scattercarpet\"}], \"scattergeo\": [{\"marker\": {\"colorbar\": {\"outlinewidth\": 0, \"ticks\": \"\"}}, \"type\": \"scattergeo\"}], \"scattergl\": [{\"marker\": {\"colorbar\": {\"outlinewidth\": 0, \"ticks\": \"\"}}, \"type\": \"scattergl\"}], \"scattermapbox\": [{\"marker\": {\"colorbar\": {\"outlinewidth\": 0, \"ticks\": \"\"}}, \"type\": \"scattermapbox\"}], \"scatterpolar\": [{\"marker\": {\"colorbar\": {\"outlinewidth\": 0, \"ticks\": \"\"}}, \"type\": \"scatterpolar\"}], \"scatterpolargl\": [{\"marker\": {\"colorbar\": {\"outlinewidth\": 0, \"ticks\": \"\"}}, \"type\": \"scatterpolargl\"}], \"scatterternary\": [{\"marker\": {\"colorbar\": {\"outlinewidth\": 0, \"ticks\": \"\"}}, \"type\": \"scatterternary\"}], \"surface\": [{\"colorbar\": {\"outlinewidth\": 0, \"ticks\": \"\"}, \"colorscale\": [[0.0, \"#0d0887\"], [0.1111111111111111, \"#46039f\"], [0.2222222222222222, \"#7201a8\"], [0.3333333333333333, \"#9c179e\"], [0.4444444444444444, \"#bd3786\"], [0.5555555555555556, \"#d8576b\"], [0.6666666666666666, \"#ed7953\"], [0.7777777777777778, \"#fb9f3a\"], [0.8888888888888888, \"#fdca26\"], [1.0, \"#f0f921\"]], \"type\": \"surface\"}], \"table\": [{\"cells\": {\"fill\": {\"color\": \"#EBF0F8\"}, \"line\": {\"color\": \"white\"}}, \"header\": {\"fill\": {\"color\": \"#C8D4E3\"}, \"line\": {\"color\": \"white\"}}, \"type\": \"table\"}]}, \"layout\": {\"annotationdefaults\": {\"arrowcolor\": \"#2a3f5f\", \"arrowhead\": 0, \"arrowwidth\": 1}, \"coloraxis\": {\"colorbar\": {\"outlinewidth\": 0, \"ticks\": \"\"}}, \"colorscale\": {\"diverging\": [[0, \"#8e0152\"], [0.1, \"#c51b7d\"], [0.2, \"#de77ae\"], [0.3, \"#f1b6da\"], [0.4, \"#fde0ef\"], [0.5, \"#f7f7f7\"], [0.6, \"#e6f5d0\"], [0.7, \"#b8e186\"], [0.8, \"#7fbc41\"], [0.9, \"#4d9221\"], [1, \"#276419\"]], \"sequential\": [[0.0, \"#0d0887\"], [0.1111111111111111, \"#46039f\"], [0.2222222222222222, \"#7201a8\"], [0.3333333333333333, \"#9c179e\"], [0.4444444444444444, \"#bd3786\"], [0.5555555555555556, \"#d8576b\"], [0.6666666666666666, \"#ed7953\"], [0.7777777777777778, \"#fb9f3a\"], [0.8888888888888888, \"#fdca26\"], [1.0, \"#f0f921\"]], \"sequentialminus\": [[0.0, \"#0d0887\"], [0.1111111111111111, \"#46039f\"], [0.2222222222222222, \"#7201a8\"], [0.3333333333333333, \"#9c179e\"], [0.4444444444444444, \"#bd3786\"], [0.5555555555555556, \"#d8576b\"], [0.6666666666666666, \"#ed7953\"], [0.7777777777777778, \"#fb9f3a\"], [0.8888888888888888, \"#fdca26\"], [1.0, \"#f0f921\"]]}, \"colorway\": [\"#636efa\", \"#EF553B\", \"#00cc96\", \"#ab63fa\", \"#FFA15A\", \"#19d3f3\", \"#FF6692\", \"#B6E880\", \"#FF97FF\", \"#FECB52\"], \"font\": {\"color\": \"#2a3f5f\"}, \"geo\": {\"bgcolor\": \"white\", \"lakecolor\": \"white\", \"landcolor\": \"#E5ECF6\", \"showlakes\": true, \"showland\": true, \"subunitcolor\": \"white\"}, \"hoverlabel\": {\"align\": \"left\"}, \"hovermode\": \"closest\", \"mapbox\": {\"style\": \"light\"}, \"paper_bgcolor\": \"white\", \"plot_bgcolor\": \"#E5ECF6\", \"polar\": {\"angularaxis\": {\"gridcolor\": \"white\", \"linecolor\": \"white\", \"ticks\": \"\"}, \"bgcolor\": \"#E5ECF6\", \"radialaxis\": {\"gridcolor\": \"white\", \"linecolor\": \"white\", \"ticks\": \"\"}}, \"scene\": {\"xaxis\": {\"backgroundcolor\": \"#E5ECF6\", \"gridcolor\": \"white\", \"gridwidth\": 2, \"linecolor\": \"white\", \"showbackground\": true, \"ticks\": \"\", \"zerolinecolor\": \"white\"}, \"yaxis\": {\"backgroundcolor\": \"#E5ECF6\", \"gridcolor\": \"white\", \"gridwidth\": 2, \"linecolor\": \"white\", \"showbackground\": true, \"ticks\": \"\", \"zerolinecolor\": \"white\"}, \"zaxis\": {\"backgroundcolor\": \"#E5ECF6\", \"gridcolor\": \"white\", \"gridwidth\": 2, \"linecolor\": \"white\", \"showbackground\": true, \"ticks\": \"\", \"zerolinecolor\": \"white\"}}, \"shapedefaults\": {\"line\": {\"color\": \"#2a3f5f\"}}, \"ternary\": {\"aaxis\": {\"gridcolor\": \"white\", \"linecolor\": \"white\", \"ticks\": \"\"}, \"baxis\": {\"gridcolor\": \"white\", \"linecolor\": \"white\", \"ticks\": \"\"}, \"bgcolor\": \"#E5ECF6\", \"caxis\": {\"gridcolor\": \"white\", \"linecolor\": \"white\", \"ticks\": \"\"}}, \"title\": {\"x\": 0.05}, \"xaxis\": {\"automargin\": true, \"gridcolor\": \"white\", \"linecolor\": \"white\", \"ticks\": \"\", \"title\": {\"standoff\": 15}, \"zerolinecolor\": \"white\", \"zerolinewidth\": 2}, \"yaxis\": {\"automargin\": true, \"gridcolor\": \"white\", \"linecolor\": \"white\", \"ticks\": \"\", \"title\": {\"standoff\": 15}, \"zerolinecolor\": \"white\", \"zerolinewidth\": 2}}}, \"title\": {\"text\": \"Evolution du GDP in $\"}, \"xaxis\": {\"anchor\": \"y\", \"domain\": [0.0, 1.0], \"title\": {\"text\": \"Date\"}}, \"yaxis\": {\"anchor\": \"x\", \"domain\": [0.0, 1.0], \"title\": {\"text\": \"GDP in $\"}}},\n",
       "                        {\"responsive\": true}\n",
       "                    ).then(function(){\n",
       "                            \n",
       "var gd = document.getElementById('d9b83bb6-87da-4f8a-b494-ca62aff573ee');\n",
       "var x = new MutationObserver(function (mutations, observer) {{\n",
       "        var display = window.getComputedStyle(gd).display;\n",
       "        if (!display || display === 'none') {{\n",
       "            console.log([gd, 'removed!']);\n",
       "            Plotly.purge(gd);\n",
       "            observer.disconnect();\n",
       "        }}\n",
       "}});\n",
       "\n",
       "// Listen for the removal of the full notebook cells\n",
       "var notebookContainer = gd.closest('#notebook-container');\n",
       "if (notebookContainer) {{\n",
       "    x.observe(notebookContainer, {childList: true});\n",
       "}}\n",
       "\n",
       "// Listen for the clearing of the current output cell\n",
       "var outputEl = gd.closest('.output');\n",
       "if (outputEl) {{\n",
       "    x.observe(outputEl, {childList: true});\n",
       "}}\n",
       "\n",
       "                        })\n",
       "                };\n",
       "                });\n",
       "            </script>\n",
       "        </div>"
      ]
     },
     "metadata": {},
     "output_type": "display_data"
    },
    {
     "data": {
      "application/vnd.plotly.v1+json": {
       "config": {
        "plotlyServerURL": "https://plot.ly"
       },
       "data": [
        {
         "hoverlabel": {
          "namelength": 0
         },
         "hovertemplate": "Country=World<br>Date=%{x}<br>Nitrous Oxyd Emission=%{y}",
         "legendgroup": "Country=World",
         "line": {
          "color": "#636efa",
          "dash": "solid"
         },
         "mode": "lines",
         "name": "Country=World",
         "showlegend": true,
         "type": "scatter",
         "x": [
          "2018",
          "2017",
          "2016",
          "2015",
          "2014",
          "2013",
          "2012",
          "2011",
          "2010",
          "2009",
          "2008",
          "2007",
          "2006",
          "2005",
          "2004",
          "2003",
          "2002",
          "2001",
          "2000",
          "1999",
          "1998",
          "1997",
          "1996",
          "1995",
          "1994",
          "1993",
          "1992",
          "1991",
          "1990",
          "1989",
          "1988",
          "1987",
          "1986",
          "1985",
          "1984",
          "1983",
          "1982",
          "1981",
          "1980",
          "1979",
          "1978",
          "1977",
          "1976",
          "1975",
          "1974",
          "1973",
          "1972",
          "1971",
          "1970",
          "1969",
          "1968",
          "1967",
          "1966",
          "1965",
          "1964",
          "1963",
          "1962",
          "1961",
          "1960"
         ],
         "xaxis": "x",
         "y": [
          null,
          null,
          null,
          null,
          null,
          null,
          3153742.47904923,
          3123551.39682461,
          3084899.9,
          3068677.6,
          3031989.1,
          3260053,
          3100186,
          2965813.4,
          2907452.8,
          2836658.1,
          2850332.2,
          2785436.8,
          2920510,
          2955561.7,
          3120987,
          3236772,
          3011978.6,
          2978718.7,
          2955369.5,
          2848968.2,
          3076061.8,
          2904557.4,
          2953007.3,
          2840340.9,
          2791221.4,
          2928827.3,
          2747396.7,
          2695397.3,
          2693295.5,
          2778356.4,
          2803906.6,
          2636112.9,
          2732925.9,
          2710503.6,
          2552326.1,
          2524965.5,
          2412556.4,
          2329578.7,
          2240345.2,
          2291020.9,
          2245410.6,
          2089238.8,
          2225930.2,
          null,
          null,
          null,
          null,
          null,
          null,
          null,
          null,
          null,
          null
         ],
         "yaxis": "y"
        },
        {
         "hoverlabel": {
          "namelength": 0
         },
         "hovertemplate": "Country=Asia Pacific<br>Date=%{x}<br>Nitrous Oxyd Emission=%{y}",
         "legendgroup": "Country=Asia Pacific",
         "line": {
          "color": "#EF553B",
          "dash": "solid"
         },
         "mode": "lines",
         "name": "Country=Asia Pacific",
         "showlegend": true,
         "type": "scatter",
         "x": [
          "2018",
          "2017",
          "2016",
          "2015",
          "2014",
          "2013",
          "2012",
          "2011",
          "2010",
          "2009",
          "2008",
          "2007",
          "2006",
          "2005",
          "2004",
          "2003",
          "2002",
          "2001",
          "2000",
          "1999",
          "1998",
          "1997",
          "1996",
          "1995",
          "1994",
          "1993",
          "1992",
          "1991",
          "1990",
          "1989",
          "1988",
          "1987",
          "1986",
          "1985",
          "1984",
          "1983",
          "1982",
          "1981",
          "1980",
          "1979",
          "1978",
          "1977",
          "1976",
          "1975",
          "1974",
          "1973",
          "1972",
          "1971",
          "1970",
          "1969",
          "1968",
          "1967",
          "1966",
          "1965",
          "1964",
          "1963",
          "1962",
          "1961",
          "1960"
         ],
         "xaxis": "x",
         "y": [
          null,
          null,
          null,
          null,
          null,
          null,
          951651.319520596,
          929550.767505615,
          906938.157490632,
          914961.075164245,
          843545.396117068,
          865453.11313458,
          961837.714473058,
          875222.741270807,
          839895.714580963,
          775009.4673380309,
          828090.100170105,
          799884.302694467,
          773329.6762466,
          799496.486782333,
          851863.522806127,
          1044260.4070941999,
          775584.394458588,
          772509.8196714859,
          793472.097927018,
          716330.068255809,
          796572.222555512,
          769824.748867852,
          695526.84522724,
          621975.625574998,
          629015.158490014,
          698078.433635058,
          609607.772020532,
          572951.6757452961,
          569782.059134824,
          627646.099954282,
          666488.2049168879,
          510791.985059594,
          545851.569932968,
          512921.46470595204,
          483155.282442106,
          486615.379629778,
          424977.022312096,
          396653.077997608,
          381371.94856805,
          415587.492376084,
          417740.070008548,
          355243.981444586,
          377661.19992278796,
          null,
          null,
          null,
          null,
          null,
          null,
          null,
          null,
          null,
          null
         ],
         "yaxis": "y"
        },
        {
         "hoverlabel": {
          "namelength": 0
         },
         "hovertemplate": "Country=Latin America<br>Date=%{x}<br>Nitrous Oxyd Emission=%{y}",
         "legendgroup": "Country=Latin America",
         "line": {
          "color": "#00cc96",
          "dash": "solid"
         },
         "mode": "lines",
         "name": "Country=Latin America",
         "showlegend": true,
         "type": "scatter",
         "x": [
          "2018",
          "2017",
          "2016",
          "2015",
          "2014",
          "2013",
          "2012",
          "2011",
          "2010",
          "2009",
          "2008",
          "2007",
          "2006",
          "2005",
          "2004",
          "2003",
          "2002",
          "2001",
          "2000",
          "1999",
          "1998",
          "1997",
          "1996",
          "1995",
          "1994",
          "1993",
          "1992",
          "1991",
          "1990",
          "1989",
          "1988",
          "1987",
          "1986",
          "1985",
          "1984",
          "1983",
          "1982",
          "1981",
          "1980",
          "1979",
          "1978",
          "1977",
          "1976",
          "1975",
          "1974",
          "1973",
          "1972",
          "1971",
          "1970",
          "1969",
          "1968",
          "1967",
          "1966",
          "1965",
          "1964",
          "1963",
          "1962",
          "1961",
          "1960"
         ],
         "xaxis": "x",
         "y": [
          null,
          null,
          null,
          null,
          null,
          null,
          432323.79788877396,
          427036.78057123703,
          421749.76325370005,
          401814.34858309996,
          404029.31766359997,
          400261.8383209,
          390349.7073144,
          449814.48338988,
          438841.49919416,
          414058.75515692,
          385625.46827012,
          380295.5106983,
          375036.92174467,
          385569.93373242,
          416763.40453247,
          367403.22835656,
          363947.48232926,
          361353.77989407,
          346296.20907307,
          371090.03279086,
          353724.92265817,
          343462.55716893,
          345935.58992482,
          334213.3308869,
          329902.17390287,
          343844.15140419,
          314537.20568842,
          303561.76659712,
          294608.70368395,
          307816.04287961,
          309013.71575303,
          300487.13316242,
          308880.83849228,
          295949.36094683,
          283829.74540466,
          268117.21054422,
          284368.71110117,
          261628.48092297,
          245092.02598150002,
          229490.6250993,
          239382.04226539997,
          217191.02966847,
          244931.82732552,
          null,
          null,
          null,
          null,
          null,
          null,
          null,
          null,
          null,
          null
         ],
         "yaxis": "y"
        },
        {
         "hoverlabel": {
          "namelength": 0
         },
         "hovertemplate": "Country=Africa<br>Date=%{x}<br>Nitrous Oxyd Emission=%{y}",
         "legendgroup": "Country=Africa",
         "line": {
          "color": "#ab63fa",
          "dash": "solid"
         },
         "mode": "lines",
         "name": "Country=Africa",
         "showlegend": true,
         "type": "scatter",
         "x": [
          "2018",
          "2017",
          "2016",
          "2015",
          "2014",
          "2013",
          "2012",
          "2011",
          "2010",
          "2009",
          "2008",
          "2007",
          "2006",
          "2005",
          "2004",
          "2003",
          "2002",
          "2001",
          "2000",
          "1999",
          "1998",
          "1997",
          "1996",
          "1995",
          "1994",
          "1993",
          "1992",
          "1991",
          "1990",
          "1989",
          "1988",
          "1987",
          "1986",
          "1985",
          "1984",
          "1983",
          "1982",
          "1981",
          "1980",
          "1979",
          "1978",
          "1977",
          "1976",
          "1975",
          "1974",
          "1973",
          "1972",
          "1971",
          "1970",
          "1969",
          "1968",
          "1967",
          "1966",
          "1965",
          "1964",
          "1963",
          "1962",
          "1961",
          "1960"
         ],
         "xaxis": "x",
         "y": [
          null,
          null,
          null,
          null,
          null,
          null,
          557857.49991114,
          552956.50645907,
          548055.513007,
          552462.901024,
          579087.350937,
          769800.059814,
          525412.364295,
          393479.220852,
          373649.635612,
          367531.032281,
          377331.26179699996,
          392467.75926900003,
          377534.669475,
          363263.354847,
          375769.369825,
          375756.934733,
          385157.390946,
          414841.40269200003,
          389809.958738,
          358872.996835,
          505907.47510100005,
          363475.091233,
          444205.66434899997,
          337927.539935,
          302593.616927,
          371397.731876,
          307943.302799,
          311365.865859,
          323450.899752,
          373301.347977,
          388175.45686100004,
          342053.924453,
          397866.060519,
          406413.255682,
          334065.669086,
          346538.799946,
          299825.637126,
          313803.940219,
          275425.711439,
          329128.937655,
          307378.868067,
          297752.503012,
          414258.765318,
          null,
          null,
          null,
          null,
          null,
          null,
          null,
          null,
          null,
          null
         ],
         "yaxis": "y"
        },
        {
         "hoverlabel": {
          "namelength": 0
         },
         "hovertemplate": "Country=North America<br>Date=%{x}<br>Nitrous Oxyd Emission=%{y}",
         "legendgroup": "Country=North America",
         "line": {
          "color": "#FFA15A",
          "dash": "solid"
         },
         "mode": "lines",
         "name": "Country=North America",
         "showlegend": true,
         "type": "scatter",
         "x": [
          "2018",
          "2017",
          "2016",
          "2015",
          "2014",
          "2013",
          "2012",
          "2011",
          "2010",
          "2009",
          "2008",
          "2007",
          "2006",
          "2005",
          "2004",
          "2003",
          "2002",
          "2001",
          "2000",
          "1999",
          "1998",
          "1997",
          "1996",
          "1995",
          "1994",
          "1993",
          "1992",
          "1991",
          "1990",
          "1989",
          "1988",
          "1987",
          "1986",
          "1985",
          "1984",
          "1983",
          "1982",
          "1981",
          "1980",
          "1979",
          "1978",
          "1977",
          "1976",
          "1975",
          "1974",
          "1973",
          "1972",
          "1971",
          "1970",
          "1969",
          "1968",
          "1967",
          "1966",
          "1965",
          "1964",
          "1963",
          "1962",
          "1961",
          "1960"
         ],
         "xaxis": "x",
         "y": [
          null,
          null,
          null,
          null,
          null,
          null,
          322312.380244984,
          330042.16963549197,
          337112.279026,
          337770.770052,
          338259.291395,
          348396.813125,
          348678.498097,
          359893.311057,
          366905.782214,
          363375.646395,
          358998.606386,
          357281.484983,
          370464.357247,
          390930.061495,
          411586.67468600004,
          418339.524873,
          422721.065338,
          425435.253815,
          423953.25761599996,
          394293.278558,
          385494.225073,
          378642.583404,
          377941.399147,
          432174.872985,
          406488.053722,
          398451.710442,
          395285.00535500003,
          403660.016381,
          409096.752237,
          394949.921736,
          386509.091386,
          429997.832854,
          432510.72782200004,
          440730.558397,
          412597.703819,
          406298.783408,
          400030.248608,
          380530.441523,
          375858.251785,
          376650.024676,
          357768.590556,
          349879.934407,
          340006.53438200004,
          null,
          null,
          null,
          null,
          null,
          null,
          null,
          null,
          null,
          null
         ],
         "yaxis": "y"
        },
        {
         "hoverlabel": {
          "namelength": 0
         },
         "hovertemplate": "Country=Middle East<br>Date=%{x}<br>Nitrous Oxyd Emission=%{y}",
         "legendgroup": "Country=Middle East",
         "line": {
          "color": "#19d3f3",
          "dash": "solid"
         },
         "mode": "lines",
         "name": "Country=Middle East",
         "showlegend": true,
         "type": "scatter",
         "x": [
          "2018",
          "2017",
          "2016",
          "2015",
          "2014",
          "2013",
          "2012",
          "2011",
          "2010",
          "2009",
          "2008",
          "2007",
          "2006",
          "2005",
          "2004",
          "2003",
          "2002",
          "2001",
          "2000",
          "1999",
          "1998",
          "1997",
          "1996",
          "1995",
          "1994",
          "1993",
          "1992",
          "1991",
          "1990",
          "1989",
          "1988",
          "1987",
          "1986",
          "1985",
          "1984",
          "1983",
          "1982",
          "1981",
          "1980",
          "1979",
          "1978",
          "1977",
          "1976",
          "1975",
          "1974",
          "1973",
          "1972",
          "1971",
          "1970",
          "1969",
          "1968",
          "1967",
          "1966",
          "1965",
          "1964",
          "1963",
          "1962",
          "1961",
          "1960"
         ],
         "xaxis": "x",
         "y": [
          null,
          null,
          null,
          null,
          null,
          null,
          96185.9134564717,
          94797.20534323581,
          93408.49723,
          89980.53117999999,
          93661.84845,
          94451.89306,
          91788.0178,
          89590.98952,
          88039.25568999999,
          83950.08227,
          84186.08093,
          82227.46435,
          85310.6081,
          86918.35955,
          88241.30811,
          85883.26707,
          85088.14528,
          86949.84935,
          84621.19631,
          83661.71282999999,
          82158.76091,
          75194.49249,
          75770.2837,
          75169.58182,
          72034.74495,
          69922.33861,
          68849.94724,
          64953.04233,
          63405.162110000005,
          62995.937620000004,
          59711.720120000005,
          55957.40064,
          53551.827919999996,
          48003.75668,
          45431.84788,
          44313.58395,
          42631.156445,
          41105.073689,
          40000.426570999996,
          38618.300623,
          37904.256419,
          36286.595819,
          34969.580566000004,
          null,
          null,
          null,
          null,
          null,
          null,
          null,
          null,
          null,
          null
         ],
         "yaxis": "y"
        },
        {
         "hoverlabel": {
          "namelength": 0
         },
         "hovertemplate": "Country=Europe<br>Date=%{x}<br>Nitrous Oxyd Emission=%{y}",
         "legendgroup": "Country=Europe",
         "line": {
          "color": "#FF6692",
          "dash": "solid"
         },
         "mode": "lines",
         "name": "Country=Europe",
         "showlegend": true,
         "type": "scatter",
         "x": [
          "2018",
          "2017",
          "2016",
          "2015",
          "2014",
          "2013",
          "2012",
          "2011",
          "2010",
          "2009",
          "2008",
          "2007",
          "2006",
          "2005",
          "2004",
          "2003",
          "2002",
          "2001",
          "2000",
          "1999",
          "1998",
          "1997",
          "1996",
          "1995",
          "1994",
          "1993",
          "1992",
          "1991",
          "1990",
          "1989",
          "1988",
          "1987",
          "1986",
          "1985",
          "1984",
          "1983",
          "1982",
          "1981",
          "1980",
          "1979",
          "1978",
          "1977",
          "1976",
          "1975",
          "1974",
          "1973",
          "1972",
          "1971",
          "1970",
          "1969",
          "1968",
          "1967",
          "1966",
          "1965",
          "1964",
          "1963",
          "1962",
          "1961",
          "1960"
         ],
         "xaxis": "x",
         "y": [
          null,
          null,
          null,
          null,
          null,
          null,
          175870.287453388,
          178147.80817669397,
          181649.2492,
          196502.74792,
          200047.84623,
          206497.46629,
          209336.64035,
          217967.59308000002,
          219254.48926,
          220405.9483,
          222289.41715999998,
          223703.23478000003,
          237070.72804000002,
          243601.47230999998,
          258914.39599000002,
          283016.52244000003,
          279779.86916999996,
          275357.38375,
          273327.33232,
          263853.3721,
          270492.46075,
          282237.26335,
          283293.63485,
          293325.59786,
          294687.75646,
          298102.12622,
          298194.86086,
          300869.53714000003,
          301401.97237,
          293881.97686999995,
          290425.75525,
          296106.15433,
          301534.82256,
          308357.67766,
          303161.11139000003,
          292946.48708,
          290194.53896,
          289775.48096,
          298174.17176999996,
          292509.73241999996,
          278624.83056,
          271393.11894,
          267254.12356,
          null,
          null,
          null,
          null,
          null,
          null,
          null,
          null,
          null,
          null
         ],
         "yaxis": "y"
        },
        {
         "hoverlabel": {
          "namelength": 0
         },
         "hovertemplate": "Country=Russia<br>Date=%{x}<br>Nitrous Oxyd Emission=%{y}",
         "legendgroup": "Country=Russia",
         "line": {
          "color": "#B6E880",
          "dash": "solid"
         },
         "mode": "lines",
         "name": "Country=Russia",
         "showlegend": true,
         "type": "scatter",
         "x": [
          "1992",
          "1991",
          "1993",
          "1995",
          "1994",
          "1990",
          "1996",
          "1997",
          "1989",
          "1998",
          "1999",
          "2018",
          "2000",
          "1988",
          "2017",
          "2001",
          "2016",
          "2015",
          "2002",
          "2014",
          "1987",
          "2003",
          "2013",
          "2004",
          "2012",
          "2005",
          "2011",
          "2010",
          "2006",
          "2009",
          "2008",
          "2007",
          "1986",
          "1985",
          "1984",
          "1983",
          "1982",
          "1981",
          "1980",
          "1979",
          "1978",
          "1977",
          "1976",
          "1975",
          "1974",
          "1973",
          "1972",
          "1971",
          "1970",
          "1969",
          "1968",
          "1967",
          "1966",
          "1965",
          "1964",
          "1963",
          "1962",
          "1961",
          "1960"
         ],
         "xaxis": "x",
         "y": [
          127569.03,
          143176.91,
          119550.26,
          89825.29,
          99808.53,
          160717.02,
          122296.86,
          89468.79,
          168057.82,
          155584.66,
          98265.97,
          null,
          93000,
          175220.37,
          null,
          90116.38,
          null,
          null,
          108805.66,
          null,
          177655.42,
          119441.45,
          null,
          77519.22,
          65193.99975,
          77471.17,
          64461.124875,
          63728.25,
          65002.04,
          64810.77,
          62545.6,
          65020.33,
          176420.69,
          170495.66,
          166476.2,
          162238.19,
          160564.5,
          161114.13,
          158450.3,
          155602.33,
          154822.68,
          155592.1,
          155255.13,
          149387.45,
          143498.69,
          143006.41,
          151926.35,
          127834.39,
          125301.38,
          null,
          null,
          null,
          null,
          null,
          null,
          null,
          null,
          null,
          null
         ],
         "yaxis": "y"
        }
       ],
       "layout": {
        "height": 600,
        "legend": {
         "tracegroupgap": 0
        },
        "template": {
         "data": {
          "bar": [
           {
            "error_x": {
             "color": "#2a3f5f"
            },
            "error_y": {
             "color": "#2a3f5f"
            },
            "marker": {
             "line": {
              "color": "#E5ECF6",
              "width": 0.5
             }
            },
            "type": "bar"
           }
          ],
          "barpolar": [
           {
            "marker": {
             "line": {
              "color": "#E5ECF6",
              "width": 0.5
             }
            },
            "type": "barpolar"
           }
          ],
          "carpet": [
           {
            "aaxis": {
             "endlinecolor": "#2a3f5f",
             "gridcolor": "white",
             "linecolor": "white",
             "minorgridcolor": "white",
             "startlinecolor": "#2a3f5f"
            },
            "baxis": {
             "endlinecolor": "#2a3f5f",
             "gridcolor": "white",
             "linecolor": "white",
             "minorgridcolor": "white",
             "startlinecolor": "#2a3f5f"
            },
            "type": "carpet"
           }
          ],
          "choropleth": [
           {
            "colorbar": {
             "outlinewidth": 0,
             "ticks": ""
            },
            "type": "choropleth"
           }
          ],
          "contour": [
           {
            "colorbar": {
             "outlinewidth": 0,
             "ticks": ""
            },
            "colorscale": [
             [
              0,
              "#0d0887"
             ],
             [
              0.1111111111111111,
              "#46039f"
             ],
             [
              0.2222222222222222,
              "#7201a8"
             ],
             [
              0.3333333333333333,
              "#9c179e"
             ],
             [
              0.4444444444444444,
              "#bd3786"
             ],
             [
              0.5555555555555556,
              "#d8576b"
             ],
             [
              0.6666666666666666,
              "#ed7953"
             ],
             [
              0.7777777777777778,
              "#fb9f3a"
             ],
             [
              0.8888888888888888,
              "#fdca26"
             ],
             [
              1,
              "#f0f921"
             ]
            ],
            "type": "contour"
           }
          ],
          "contourcarpet": [
           {
            "colorbar": {
             "outlinewidth": 0,
             "ticks": ""
            },
            "type": "contourcarpet"
           }
          ],
          "heatmap": [
           {
            "colorbar": {
             "outlinewidth": 0,
             "ticks": ""
            },
            "colorscale": [
             [
              0,
              "#0d0887"
             ],
             [
              0.1111111111111111,
              "#46039f"
             ],
             [
              0.2222222222222222,
              "#7201a8"
             ],
             [
              0.3333333333333333,
              "#9c179e"
             ],
             [
              0.4444444444444444,
              "#bd3786"
             ],
             [
              0.5555555555555556,
              "#d8576b"
             ],
             [
              0.6666666666666666,
              "#ed7953"
             ],
             [
              0.7777777777777778,
              "#fb9f3a"
             ],
             [
              0.8888888888888888,
              "#fdca26"
             ],
             [
              1,
              "#f0f921"
             ]
            ],
            "type": "heatmap"
           }
          ],
          "heatmapgl": [
           {
            "colorbar": {
             "outlinewidth": 0,
             "ticks": ""
            },
            "colorscale": [
             [
              0,
              "#0d0887"
             ],
             [
              0.1111111111111111,
              "#46039f"
             ],
             [
              0.2222222222222222,
              "#7201a8"
             ],
             [
              0.3333333333333333,
              "#9c179e"
             ],
             [
              0.4444444444444444,
              "#bd3786"
             ],
             [
              0.5555555555555556,
              "#d8576b"
             ],
             [
              0.6666666666666666,
              "#ed7953"
             ],
             [
              0.7777777777777778,
              "#fb9f3a"
             ],
             [
              0.8888888888888888,
              "#fdca26"
             ],
             [
              1,
              "#f0f921"
             ]
            ],
            "type": "heatmapgl"
           }
          ],
          "histogram": [
           {
            "marker": {
             "colorbar": {
              "outlinewidth": 0,
              "ticks": ""
             }
            },
            "type": "histogram"
           }
          ],
          "histogram2d": [
           {
            "colorbar": {
             "outlinewidth": 0,
             "ticks": ""
            },
            "colorscale": [
             [
              0,
              "#0d0887"
             ],
             [
              0.1111111111111111,
              "#46039f"
             ],
             [
              0.2222222222222222,
              "#7201a8"
             ],
             [
              0.3333333333333333,
              "#9c179e"
             ],
             [
              0.4444444444444444,
              "#bd3786"
             ],
             [
              0.5555555555555556,
              "#d8576b"
             ],
             [
              0.6666666666666666,
              "#ed7953"
             ],
             [
              0.7777777777777778,
              "#fb9f3a"
             ],
             [
              0.8888888888888888,
              "#fdca26"
             ],
             [
              1,
              "#f0f921"
             ]
            ],
            "type": "histogram2d"
           }
          ],
          "histogram2dcontour": [
           {
            "colorbar": {
             "outlinewidth": 0,
             "ticks": ""
            },
            "colorscale": [
             [
              0,
              "#0d0887"
             ],
             [
              0.1111111111111111,
              "#46039f"
             ],
             [
              0.2222222222222222,
              "#7201a8"
             ],
             [
              0.3333333333333333,
              "#9c179e"
             ],
             [
              0.4444444444444444,
              "#bd3786"
             ],
             [
              0.5555555555555556,
              "#d8576b"
             ],
             [
              0.6666666666666666,
              "#ed7953"
             ],
             [
              0.7777777777777778,
              "#fb9f3a"
             ],
             [
              0.8888888888888888,
              "#fdca26"
             ],
             [
              1,
              "#f0f921"
             ]
            ],
            "type": "histogram2dcontour"
           }
          ],
          "mesh3d": [
           {
            "colorbar": {
             "outlinewidth": 0,
             "ticks": ""
            },
            "type": "mesh3d"
           }
          ],
          "parcoords": [
           {
            "line": {
             "colorbar": {
              "outlinewidth": 0,
              "ticks": ""
             }
            },
            "type": "parcoords"
           }
          ],
          "pie": [
           {
            "automargin": true,
            "type": "pie"
           }
          ],
          "scatter": [
           {
            "marker": {
             "colorbar": {
              "outlinewidth": 0,
              "ticks": ""
             }
            },
            "type": "scatter"
           }
          ],
          "scatter3d": [
           {
            "line": {
             "colorbar": {
              "outlinewidth": 0,
              "ticks": ""
             }
            },
            "marker": {
             "colorbar": {
              "outlinewidth": 0,
              "ticks": ""
             }
            },
            "type": "scatter3d"
           }
          ],
          "scattercarpet": [
           {
            "marker": {
             "colorbar": {
              "outlinewidth": 0,
              "ticks": ""
             }
            },
            "type": "scattercarpet"
           }
          ],
          "scattergeo": [
           {
            "marker": {
             "colorbar": {
              "outlinewidth": 0,
              "ticks": ""
             }
            },
            "type": "scattergeo"
           }
          ],
          "scattergl": [
           {
            "marker": {
             "colorbar": {
              "outlinewidth": 0,
              "ticks": ""
             }
            },
            "type": "scattergl"
           }
          ],
          "scattermapbox": [
           {
            "marker": {
             "colorbar": {
              "outlinewidth": 0,
              "ticks": ""
             }
            },
            "type": "scattermapbox"
           }
          ],
          "scatterpolar": [
           {
            "marker": {
             "colorbar": {
              "outlinewidth": 0,
              "ticks": ""
             }
            },
            "type": "scatterpolar"
           }
          ],
          "scatterpolargl": [
           {
            "marker": {
             "colorbar": {
              "outlinewidth": 0,
              "ticks": ""
             }
            },
            "type": "scatterpolargl"
           }
          ],
          "scatterternary": [
           {
            "marker": {
             "colorbar": {
              "outlinewidth": 0,
              "ticks": ""
             }
            },
            "type": "scatterternary"
           }
          ],
          "surface": [
           {
            "colorbar": {
             "outlinewidth": 0,
             "ticks": ""
            },
            "colorscale": [
             [
              0,
              "#0d0887"
             ],
             [
              0.1111111111111111,
              "#46039f"
             ],
             [
              0.2222222222222222,
              "#7201a8"
             ],
             [
              0.3333333333333333,
              "#9c179e"
             ],
             [
              0.4444444444444444,
              "#bd3786"
             ],
             [
              0.5555555555555556,
              "#d8576b"
             ],
             [
              0.6666666666666666,
              "#ed7953"
             ],
             [
              0.7777777777777778,
              "#fb9f3a"
             ],
             [
              0.8888888888888888,
              "#fdca26"
             ],
             [
              1,
              "#f0f921"
             ]
            ],
            "type": "surface"
           }
          ],
          "table": [
           {
            "cells": {
             "fill": {
              "color": "#EBF0F8"
             },
             "line": {
              "color": "white"
             }
            },
            "header": {
             "fill": {
              "color": "#C8D4E3"
             },
             "line": {
              "color": "white"
             }
            },
            "type": "table"
           }
          ]
         },
         "layout": {
          "annotationdefaults": {
           "arrowcolor": "#2a3f5f",
           "arrowhead": 0,
           "arrowwidth": 1
          },
          "coloraxis": {
           "colorbar": {
            "outlinewidth": 0,
            "ticks": ""
           }
          },
          "colorscale": {
           "diverging": [
            [
             0,
             "#8e0152"
            ],
            [
             0.1,
             "#c51b7d"
            ],
            [
             0.2,
             "#de77ae"
            ],
            [
             0.3,
             "#f1b6da"
            ],
            [
             0.4,
             "#fde0ef"
            ],
            [
             0.5,
             "#f7f7f7"
            ],
            [
             0.6,
             "#e6f5d0"
            ],
            [
             0.7,
             "#b8e186"
            ],
            [
             0.8,
             "#7fbc41"
            ],
            [
             0.9,
             "#4d9221"
            ],
            [
             1,
             "#276419"
            ]
           ],
           "sequential": [
            [
             0,
             "#0d0887"
            ],
            [
             0.1111111111111111,
             "#46039f"
            ],
            [
             0.2222222222222222,
             "#7201a8"
            ],
            [
             0.3333333333333333,
             "#9c179e"
            ],
            [
             0.4444444444444444,
             "#bd3786"
            ],
            [
             0.5555555555555556,
             "#d8576b"
            ],
            [
             0.6666666666666666,
             "#ed7953"
            ],
            [
             0.7777777777777778,
             "#fb9f3a"
            ],
            [
             0.8888888888888888,
             "#fdca26"
            ],
            [
             1,
             "#f0f921"
            ]
           ],
           "sequentialminus": [
            [
             0,
             "#0d0887"
            ],
            [
             0.1111111111111111,
             "#46039f"
            ],
            [
             0.2222222222222222,
             "#7201a8"
            ],
            [
             0.3333333333333333,
             "#9c179e"
            ],
            [
             0.4444444444444444,
             "#bd3786"
            ],
            [
             0.5555555555555556,
             "#d8576b"
            ],
            [
             0.6666666666666666,
             "#ed7953"
            ],
            [
             0.7777777777777778,
             "#fb9f3a"
            ],
            [
             0.8888888888888888,
             "#fdca26"
            ],
            [
             1,
             "#f0f921"
            ]
           ]
          },
          "colorway": [
           "#636efa",
           "#EF553B",
           "#00cc96",
           "#ab63fa",
           "#FFA15A",
           "#19d3f3",
           "#FF6692",
           "#B6E880",
           "#FF97FF",
           "#FECB52"
          ],
          "font": {
           "color": "#2a3f5f"
          },
          "geo": {
           "bgcolor": "white",
           "lakecolor": "white",
           "landcolor": "#E5ECF6",
           "showlakes": true,
           "showland": true,
           "subunitcolor": "white"
          },
          "hoverlabel": {
           "align": "left"
          },
          "hovermode": "closest",
          "mapbox": {
           "style": "light"
          },
          "paper_bgcolor": "white",
          "plot_bgcolor": "#E5ECF6",
          "polar": {
           "angularaxis": {
            "gridcolor": "white",
            "linecolor": "white",
            "ticks": ""
           },
           "bgcolor": "#E5ECF6",
           "radialaxis": {
            "gridcolor": "white",
            "linecolor": "white",
            "ticks": ""
           }
          },
          "scene": {
           "xaxis": {
            "backgroundcolor": "#E5ECF6",
            "gridcolor": "white",
            "gridwidth": 2,
            "linecolor": "white",
            "showbackground": true,
            "ticks": "",
            "zerolinecolor": "white"
           },
           "yaxis": {
            "backgroundcolor": "#E5ECF6",
            "gridcolor": "white",
            "gridwidth": 2,
            "linecolor": "white",
            "showbackground": true,
            "ticks": "",
            "zerolinecolor": "white"
           },
           "zaxis": {
            "backgroundcolor": "#E5ECF6",
            "gridcolor": "white",
            "gridwidth": 2,
            "linecolor": "white",
            "showbackground": true,
            "ticks": "",
            "zerolinecolor": "white"
           }
          },
          "shapedefaults": {
           "line": {
            "color": "#2a3f5f"
           }
          },
          "ternary": {
           "aaxis": {
            "gridcolor": "white",
            "linecolor": "white",
            "ticks": ""
           },
           "baxis": {
            "gridcolor": "white",
            "linecolor": "white",
            "ticks": ""
           },
           "bgcolor": "#E5ECF6",
           "caxis": {
            "gridcolor": "white",
            "linecolor": "white",
            "ticks": ""
           }
          },
          "title": {
           "x": 0.05
          },
          "xaxis": {
           "automargin": true,
           "gridcolor": "white",
           "linecolor": "white",
           "ticks": "",
           "title": {
            "standoff": 15
           },
           "zerolinecolor": "white",
           "zerolinewidth": 2
          },
          "yaxis": {
           "automargin": true,
           "gridcolor": "white",
           "linecolor": "white",
           "ticks": "",
           "title": {
            "standoff": 15
           },
           "zerolinecolor": "white",
           "zerolinewidth": 2
          }
         }
        },
        "title": {
         "text": "Evolution des émissions de protoxyde d'azote"
        },
        "xaxis": {
         "anchor": "y",
         "domain": [
          0,
          1
         ],
         "title": {
          "text": "Date"
         }
        },
        "yaxis": {
         "anchor": "x",
         "domain": [
          0,
          1
         ],
         "title": {
          "text": "Nitrous Oxyd Emission"
         }
        }
       }
      },
      "text/html": [
       "<div>\n",
       "        \n",
       "        \n",
       "            <div id=\"2020c4a0-2b6f-4221-8a88-4f9b478a3331\" class=\"plotly-graph-div\" style=\"height:600px; width:100%;\"></div>\n",
       "            <script type=\"text/javascript\">\n",
       "                require([\"plotly\"], function(Plotly) {\n",
       "                    window.PLOTLYENV=window.PLOTLYENV || {};\n",
       "                    \n",
       "                if (document.getElementById(\"2020c4a0-2b6f-4221-8a88-4f9b478a3331\")) {\n",
       "                    Plotly.newPlot(\n",
       "                        '2020c4a0-2b6f-4221-8a88-4f9b478a3331',\n",
       "                        [{\"hoverlabel\": {\"namelength\": 0}, \"hovertemplate\": \"Country=World<br>Date=%{x}<br>Nitrous Oxyd Emission=%{y}\", \"legendgroup\": \"Country=World\", \"line\": {\"color\": \"#636efa\", \"dash\": \"solid\"}, \"mode\": \"lines\", \"name\": \"Country=World\", \"showlegend\": true, \"type\": \"scatter\", \"x\": [\"2018\", \"2017\", \"2016\", \"2015\", \"2014\", \"2013\", \"2012\", \"2011\", \"2010\", \"2009\", \"2008\", \"2007\", \"2006\", \"2005\", \"2004\", \"2003\", \"2002\", \"2001\", \"2000\", \"1999\", \"1998\", \"1997\", \"1996\", \"1995\", \"1994\", \"1993\", \"1992\", \"1991\", \"1990\", \"1989\", \"1988\", \"1987\", \"1986\", \"1985\", \"1984\", \"1983\", \"1982\", \"1981\", \"1980\", \"1979\", \"1978\", \"1977\", \"1976\", \"1975\", \"1974\", \"1973\", \"1972\", \"1971\", \"1970\", \"1969\", \"1968\", \"1967\", \"1966\", \"1965\", \"1964\", \"1963\", \"1962\", \"1961\", \"1960\"], \"xaxis\": \"x\", \"y\": [null, null, null, null, null, null, 3153742.47904923, 3123551.39682461, 3084899.9, 3068677.6, 3031989.1, 3260053.0, 3100186.0, 2965813.4, 2907452.8, 2836658.1, 2850332.2, 2785436.8, 2920510.0, 2955561.7, 3120987.0, 3236772.0, 3011978.6, 2978718.7, 2955369.5, 2848968.2, 3076061.8, 2904557.4, 2953007.3, 2840340.9, 2791221.4, 2928827.3, 2747396.7, 2695397.3, 2693295.5, 2778356.4, 2803906.6, 2636112.9, 2732925.9, 2710503.6, 2552326.1, 2524965.5, 2412556.4, 2329578.7, 2240345.2, 2291020.9, 2245410.6, 2089238.8, 2225930.2, null, null, null, null, null, null, null, null, null, null], \"yaxis\": \"y\"}, {\"hoverlabel\": {\"namelength\": 0}, \"hovertemplate\": \"Country=Asia Pacific<br>Date=%{x}<br>Nitrous Oxyd Emission=%{y}\", \"legendgroup\": \"Country=Asia Pacific\", \"line\": {\"color\": \"#EF553B\", \"dash\": \"solid\"}, \"mode\": \"lines\", \"name\": \"Country=Asia Pacific\", \"showlegend\": true, \"type\": \"scatter\", \"x\": [\"2018\", \"2017\", \"2016\", \"2015\", \"2014\", \"2013\", \"2012\", \"2011\", \"2010\", \"2009\", \"2008\", \"2007\", \"2006\", \"2005\", \"2004\", \"2003\", \"2002\", \"2001\", \"2000\", \"1999\", \"1998\", \"1997\", \"1996\", \"1995\", \"1994\", \"1993\", \"1992\", \"1991\", \"1990\", \"1989\", \"1988\", \"1987\", \"1986\", \"1985\", \"1984\", \"1983\", \"1982\", \"1981\", \"1980\", \"1979\", \"1978\", \"1977\", \"1976\", \"1975\", \"1974\", \"1973\", \"1972\", \"1971\", \"1970\", \"1969\", \"1968\", \"1967\", \"1966\", \"1965\", \"1964\", \"1963\", \"1962\", \"1961\", \"1960\"], \"xaxis\": \"x\", \"y\": [null, null, null, null, null, null, 951651.319520596, 929550.767505615, 906938.157490632, 914961.075164245, 843545.396117068, 865453.11313458, 961837.714473058, 875222.741270807, 839895.714580963, 775009.4673380309, 828090.100170105, 799884.302694467, 773329.6762466, 799496.486782333, 851863.522806127, 1044260.4070941999, 775584.394458588, 772509.8196714859, 793472.097927018, 716330.068255809, 796572.222555512, 769824.748867852, 695526.84522724, 621975.625574998, 629015.158490014, 698078.433635058, 609607.772020532, 572951.6757452961, 569782.059134824, 627646.099954282, 666488.2049168879, 510791.985059594, 545851.569932968, 512921.46470595204, 483155.282442106, 486615.379629778, 424977.022312096, 396653.077997608, 381371.94856805, 415587.492376084, 417740.070008548, 355243.981444586, 377661.19992278796, null, null, null, null, null, null, null, null, null, null], \"yaxis\": \"y\"}, {\"hoverlabel\": {\"namelength\": 0}, \"hovertemplate\": \"Country=Latin America<br>Date=%{x}<br>Nitrous Oxyd Emission=%{y}\", \"legendgroup\": \"Country=Latin America\", \"line\": {\"color\": \"#00cc96\", \"dash\": \"solid\"}, \"mode\": \"lines\", \"name\": \"Country=Latin America\", \"showlegend\": true, \"type\": \"scatter\", \"x\": [\"2018\", \"2017\", \"2016\", \"2015\", \"2014\", \"2013\", \"2012\", \"2011\", \"2010\", \"2009\", \"2008\", \"2007\", \"2006\", \"2005\", \"2004\", \"2003\", \"2002\", \"2001\", \"2000\", \"1999\", \"1998\", \"1997\", \"1996\", \"1995\", \"1994\", \"1993\", \"1992\", \"1991\", \"1990\", \"1989\", \"1988\", \"1987\", \"1986\", \"1985\", \"1984\", \"1983\", \"1982\", \"1981\", \"1980\", \"1979\", \"1978\", \"1977\", \"1976\", \"1975\", \"1974\", \"1973\", \"1972\", \"1971\", \"1970\", \"1969\", \"1968\", \"1967\", \"1966\", \"1965\", \"1964\", \"1963\", \"1962\", \"1961\", \"1960\"], \"xaxis\": \"x\", \"y\": [null, null, null, null, null, null, 432323.79788877396, 427036.78057123703, 421749.76325370005, 401814.34858309996, 404029.31766359997, 400261.8383209, 390349.7073144, 449814.48338988, 438841.49919416, 414058.75515692, 385625.46827012, 380295.5106983, 375036.92174467, 385569.93373242, 416763.40453247, 367403.22835656, 363947.48232926, 361353.77989407, 346296.20907307, 371090.03279086, 353724.92265817, 343462.55716893, 345935.58992482, 334213.3308869, 329902.17390287, 343844.15140419, 314537.20568842, 303561.76659712, 294608.70368395, 307816.04287961, 309013.71575303, 300487.13316242, 308880.83849228, 295949.36094683, 283829.74540466, 268117.21054422, 284368.71110117, 261628.48092297, 245092.02598150002, 229490.6250993, 239382.04226539997, 217191.02966847, 244931.82732552, null, null, null, null, null, null, null, null, null, null], \"yaxis\": \"y\"}, {\"hoverlabel\": {\"namelength\": 0}, \"hovertemplate\": \"Country=Africa<br>Date=%{x}<br>Nitrous Oxyd Emission=%{y}\", \"legendgroup\": \"Country=Africa\", \"line\": {\"color\": \"#ab63fa\", \"dash\": \"solid\"}, \"mode\": \"lines\", \"name\": \"Country=Africa\", \"showlegend\": true, \"type\": \"scatter\", \"x\": [\"2018\", \"2017\", \"2016\", \"2015\", \"2014\", \"2013\", \"2012\", \"2011\", \"2010\", \"2009\", \"2008\", \"2007\", \"2006\", \"2005\", \"2004\", \"2003\", \"2002\", \"2001\", \"2000\", \"1999\", \"1998\", \"1997\", \"1996\", \"1995\", \"1994\", \"1993\", \"1992\", \"1991\", \"1990\", \"1989\", \"1988\", \"1987\", \"1986\", \"1985\", \"1984\", \"1983\", \"1982\", \"1981\", \"1980\", \"1979\", \"1978\", \"1977\", \"1976\", \"1975\", \"1974\", \"1973\", \"1972\", \"1971\", \"1970\", \"1969\", \"1968\", \"1967\", \"1966\", \"1965\", \"1964\", \"1963\", \"1962\", \"1961\", \"1960\"], \"xaxis\": \"x\", \"y\": [null, null, null, null, null, null, 557857.49991114, 552956.50645907, 548055.513007, 552462.901024, 579087.350937, 769800.059814, 525412.364295, 393479.220852, 373649.635612, 367531.032281, 377331.26179699996, 392467.75926900003, 377534.669475, 363263.354847, 375769.369825, 375756.934733, 385157.390946, 414841.40269200003, 389809.958738, 358872.996835, 505907.47510100005, 363475.091233, 444205.66434899997, 337927.539935, 302593.616927, 371397.731876, 307943.302799, 311365.865859, 323450.899752, 373301.347977, 388175.45686100004, 342053.924453, 397866.060519, 406413.255682, 334065.669086, 346538.799946, 299825.637126, 313803.940219, 275425.711439, 329128.937655, 307378.868067, 297752.503012, 414258.765318, null, null, null, null, null, null, null, null, null, null], \"yaxis\": \"y\"}, {\"hoverlabel\": {\"namelength\": 0}, \"hovertemplate\": \"Country=North America<br>Date=%{x}<br>Nitrous Oxyd Emission=%{y}\", \"legendgroup\": \"Country=North America\", \"line\": {\"color\": \"#FFA15A\", \"dash\": \"solid\"}, \"mode\": \"lines\", \"name\": \"Country=North America\", \"showlegend\": true, \"type\": \"scatter\", \"x\": [\"2018\", \"2017\", \"2016\", \"2015\", \"2014\", \"2013\", \"2012\", \"2011\", \"2010\", \"2009\", \"2008\", \"2007\", \"2006\", \"2005\", \"2004\", \"2003\", \"2002\", \"2001\", \"2000\", \"1999\", \"1998\", \"1997\", \"1996\", \"1995\", \"1994\", \"1993\", \"1992\", \"1991\", \"1990\", \"1989\", \"1988\", \"1987\", \"1986\", \"1985\", \"1984\", \"1983\", \"1982\", \"1981\", \"1980\", \"1979\", \"1978\", \"1977\", \"1976\", \"1975\", \"1974\", \"1973\", \"1972\", \"1971\", \"1970\", \"1969\", \"1968\", \"1967\", \"1966\", \"1965\", \"1964\", \"1963\", \"1962\", \"1961\", \"1960\"], \"xaxis\": \"x\", \"y\": [null, null, null, null, null, null, 322312.380244984, 330042.16963549197, 337112.279026, 337770.770052, 338259.291395, 348396.813125, 348678.498097, 359893.311057, 366905.782214, 363375.646395, 358998.606386, 357281.484983, 370464.357247, 390930.061495, 411586.67468600004, 418339.524873, 422721.065338, 425435.253815, 423953.25761599996, 394293.278558, 385494.225073, 378642.583404, 377941.399147, 432174.872985, 406488.053722, 398451.710442, 395285.00535500003, 403660.016381, 409096.752237, 394949.921736, 386509.091386, 429997.832854, 432510.72782200004, 440730.558397, 412597.703819, 406298.783408, 400030.248608, 380530.441523, 375858.251785, 376650.024676, 357768.590556, 349879.934407, 340006.53438200004, null, null, null, null, null, null, null, null, null, null], \"yaxis\": \"y\"}, {\"hoverlabel\": {\"namelength\": 0}, \"hovertemplate\": \"Country=Middle East<br>Date=%{x}<br>Nitrous Oxyd Emission=%{y}\", \"legendgroup\": \"Country=Middle East\", \"line\": {\"color\": \"#19d3f3\", \"dash\": \"solid\"}, \"mode\": \"lines\", \"name\": \"Country=Middle East\", \"showlegend\": true, \"type\": \"scatter\", \"x\": [\"2018\", \"2017\", \"2016\", \"2015\", \"2014\", \"2013\", \"2012\", \"2011\", \"2010\", \"2009\", \"2008\", \"2007\", \"2006\", \"2005\", \"2004\", \"2003\", \"2002\", \"2001\", \"2000\", \"1999\", \"1998\", \"1997\", \"1996\", \"1995\", \"1994\", \"1993\", \"1992\", \"1991\", \"1990\", \"1989\", \"1988\", \"1987\", \"1986\", \"1985\", \"1984\", \"1983\", \"1982\", \"1981\", \"1980\", \"1979\", \"1978\", \"1977\", \"1976\", \"1975\", \"1974\", \"1973\", \"1972\", \"1971\", \"1970\", \"1969\", \"1968\", \"1967\", \"1966\", \"1965\", \"1964\", \"1963\", \"1962\", \"1961\", \"1960\"], \"xaxis\": \"x\", \"y\": [null, null, null, null, null, null, 96185.9134564717, 94797.20534323581, 93408.49723, 89980.53117999999, 93661.84845, 94451.89306, 91788.0178, 89590.98952, 88039.25568999999, 83950.08227, 84186.08093, 82227.46435, 85310.6081, 86918.35955, 88241.30811, 85883.26707, 85088.14528, 86949.84935, 84621.19631, 83661.71282999999, 82158.76091, 75194.49249, 75770.2837, 75169.58182, 72034.74495, 69922.33861, 68849.94724, 64953.04233, 63405.162110000005, 62995.937620000004, 59711.720120000005, 55957.40064, 53551.827919999996, 48003.75668, 45431.84788, 44313.58395, 42631.156445, 41105.073689, 40000.426570999996, 38618.300623, 37904.256419, 36286.595819, 34969.580566000004, null, null, null, null, null, null, null, null, null, null], \"yaxis\": \"y\"}, {\"hoverlabel\": {\"namelength\": 0}, \"hovertemplate\": \"Country=Europe<br>Date=%{x}<br>Nitrous Oxyd Emission=%{y}\", \"legendgroup\": \"Country=Europe\", \"line\": {\"color\": \"#FF6692\", \"dash\": \"solid\"}, \"mode\": \"lines\", \"name\": \"Country=Europe\", \"showlegend\": true, \"type\": \"scatter\", \"x\": [\"2018\", \"2017\", \"2016\", \"2015\", \"2014\", \"2013\", \"2012\", \"2011\", \"2010\", \"2009\", \"2008\", \"2007\", \"2006\", \"2005\", \"2004\", \"2003\", \"2002\", \"2001\", \"2000\", \"1999\", \"1998\", \"1997\", \"1996\", \"1995\", \"1994\", \"1993\", \"1992\", \"1991\", \"1990\", \"1989\", \"1988\", \"1987\", \"1986\", \"1985\", \"1984\", \"1983\", \"1982\", \"1981\", \"1980\", \"1979\", \"1978\", \"1977\", \"1976\", \"1975\", \"1974\", \"1973\", \"1972\", \"1971\", \"1970\", \"1969\", \"1968\", \"1967\", \"1966\", \"1965\", \"1964\", \"1963\", \"1962\", \"1961\", \"1960\"], \"xaxis\": \"x\", \"y\": [null, null, null, null, null, null, 175870.287453388, 178147.80817669397, 181649.2492, 196502.74792, 200047.84623, 206497.46629, 209336.64035, 217967.59308000002, 219254.48926, 220405.9483, 222289.41715999998, 223703.23478000003, 237070.72804000002, 243601.47230999998, 258914.39599000002, 283016.52244000003, 279779.86916999996, 275357.38375, 273327.33232, 263853.3721, 270492.46075, 282237.26335, 283293.63485, 293325.59786, 294687.75646, 298102.12622, 298194.86086, 300869.53714000003, 301401.97237, 293881.97686999995, 290425.75525, 296106.15433, 301534.82256, 308357.67766, 303161.11139000003, 292946.48708, 290194.53896, 289775.48096, 298174.17176999996, 292509.73241999996, 278624.83056, 271393.11894, 267254.12356, null, null, null, null, null, null, null, null, null, null], \"yaxis\": \"y\"}, {\"hoverlabel\": {\"namelength\": 0}, \"hovertemplate\": \"Country=Russia<br>Date=%{x}<br>Nitrous Oxyd Emission=%{y}\", \"legendgroup\": \"Country=Russia\", \"line\": {\"color\": \"#B6E880\", \"dash\": \"solid\"}, \"mode\": \"lines\", \"name\": \"Country=Russia\", \"showlegend\": true, \"type\": \"scatter\", \"x\": [\"1992\", \"1991\", \"1993\", \"1995\", \"1994\", \"1990\", \"1996\", \"1997\", \"1989\", \"1998\", \"1999\", \"2018\", \"2000\", \"1988\", \"2017\", \"2001\", \"2016\", \"2015\", \"2002\", \"2014\", \"1987\", \"2003\", \"2013\", \"2004\", \"2012\", \"2005\", \"2011\", \"2010\", \"2006\", \"2009\", \"2008\", \"2007\", \"1986\", \"1985\", \"1984\", \"1983\", \"1982\", \"1981\", \"1980\", \"1979\", \"1978\", \"1977\", \"1976\", \"1975\", \"1974\", \"1973\", \"1972\", \"1971\", \"1970\", \"1969\", \"1968\", \"1967\", \"1966\", \"1965\", \"1964\", \"1963\", \"1962\", \"1961\", \"1960\"], \"xaxis\": \"x\", \"y\": [127569.03, 143176.91, 119550.26, 89825.29, 99808.53, 160717.02, 122296.86, 89468.79, 168057.82, 155584.66, 98265.97, null, 93000.0, 175220.37, null, 90116.38, null, null, 108805.66, null, 177655.42, 119441.45, null, 77519.22, 65193.99975, 77471.17, 64461.124875, 63728.25, 65002.04, 64810.77, 62545.6, 65020.33, 176420.69, 170495.66, 166476.2, 162238.19, 160564.5, 161114.13, 158450.3, 155602.33, 154822.68, 155592.1, 155255.13, 149387.45, 143498.69, 143006.41, 151926.35, 127834.39, 125301.38, null, null, null, null, null, null, null, null, null, null], \"yaxis\": \"y\"}],\n",
       "                        {\"height\": 600, \"legend\": {\"tracegroupgap\": 0}, \"template\": {\"data\": {\"bar\": [{\"error_x\": {\"color\": \"#2a3f5f\"}, \"error_y\": {\"color\": \"#2a3f5f\"}, \"marker\": {\"line\": {\"color\": \"#E5ECF6\", \"width\": 0.5}}, \"type\": \"bar\"}], \"barpolar\": [{\"marker\": {\"line\": {\"color\": \"#E5ECF6\", \"width\": 0.5}}, \"type\": \"barpolar\"}], \"carpet\": [{\"aaxis\": {\"endlinecolor\": \"#2a3f5f\", \"gridcolor\": \"white\", \"linecolor\": \"white\", \"minorgridcolor\": \"white\", \"startlinecolor\": \"#2a3f5f\"}, \"baxis\": {\"endlinecolor\": \"#2a3f5f\", \"gridcolor\": \"white\", \"linecolor\": \"white\", \"minorgridcolor\": \"white\", \"startlinecolor\": \"#2a3f5f\"}, \"type\": \"carpet\"}], \"choropleth\": [{\"colorbar\": {\"outlinewidth\": 0, \"ticks\": \"\"}, \"type\": \"choropleth\"}], \"contour\": [{\"colorbar\": {\"outlinewidth\": 0, \"ticks\": \"\"}, \"colorscale\": [[0.0, \"#0d0887\"], [0.1111111111111111, \"#46039f\"], [0.2222222222222222, \"#7201a8\"], [0.3333333333333333, \"#9c179e\"], [0.4444444444444444, \"#bd3786\"], [0.5555555555555556, \"#d8576b\"], [0.6666666666666666, \"#ed7953\"], [0.7777777777777778, \"#fb9f3a\"], [0.8888888888888888, \"#fdca26\"], [1.0, \"#f0f921\"]], \"type\": \"contour\"}], \"contourcarpet\": [{\"colorbar\": {\"outlinewidth\": 0, \"ticks\": \"\"}, \"type\": \"contourcarpet\"}], \"heatmap\": [{\"colorbar\": {\"outlinewidth\": 0, \"ticks\": \"\"}, \"colorscale\": [[0.0, \"#0d0887\"], [0.1111111111111111, \"#46039f\"], [0.2222222222222222, \"#7201a8\"], [0.3333333333333333, \"#9c179e\"], [0.4444444444444444, \"#bd3786\"], [0.5555555555555556, \"#d8576b\"], [0.6666666666666666, \"#ed7953\"], [0.7777777777777778, \"#fb9f3a\"], [0.8888888888888888, \"#fdca26\"], [1.0, \"#f0f921\"]], \"type\": \"heatmap\"}], \"heatmapgl\": [{\"colorbar\": {\"outlinewidth\": 0, \"ticks\": \"\"}, \"colorscale\": [[0.0, \"#0d0887\"], [0.1111111111111111, \"#46039f\"], [0.2222222222222222, \"#7201a8\"], [0.3333333333333333, \"#9c179e\"], [0.4444444444444444, \"#bd3786\"], [0.5555555555555556, \"#d8576b\"], [0.6666666666666666, \"#ed7953\"], [0.7777777777777778, \"#fb9f3a\"], [0.8888888888888888, \"#fdca26\"], [1.0, \"#f0f921\"]], \"type\": \"heatmapgl\"}], \"histogram\": [{\"marker\": {\"colorbar\": {\"outlinewidth\": 0, \"ticks\": \"\"}}, \"type\": \"histogram\"}], \"histogram2d\": [{\"colorbar\": {\"outlinewidth\": 0, \"ticks\": \"\"}, \"colorscale\": [[0.0, \"#0d0887\"], [0.1111111111111111, \"#46039f\"], [0.2222222222222222, \"#7201a8\"], [0.3333333333333333, \"#9c179e\"], [0.4444444444444444, \"#bd3786\"], [0.5555555555555556, \"#d8576b\"], [0.6666666666666666, \"#ed7953\"], [0.7777777777777778, \"#fb9f3a\"], [0.8888888888888888, \"#fdca26\"], [1.0, \"#f0f921\"]], \"type\": \"histogram2d\"}], \"histogram2dcontour\": [{\"colorbar\": {\"outlinewidth\": 0, \"ticks\": \"\"}, \"colorscale\": [[0.0, \"#0d0887\"], [0.1111111111111111, \"#46039f\"], [0.2222222222222222, \"#7201a8\"], [0.3333333333333333, \"#9c179e\"], [0.4444444444444444, \"#bd3786\"], [0.5555555555555556, \"#d8576b\"], [0.6666666666666666, \"#ed7953\"], [0.7777777777777778, \"#fb9f3a\"], [0.8888888888888888, \"#fdca26\"], [1.0, \"#f0f921\"]], \"type\": \"histogram2dcontour\"}], \"mesh3d\": [{\"colorbar\": {\"outlinewidth\": 0, \"ticks\": \"\"}, \"type\": \"mesh3d\"}], \"parcoords\": [{\"line\": {\"colorbar\": {\"outlinewidth\": 0, \"ticks\": \"\"}}, \"type\": \"parcoords\"}], \"pie\": [{\"automargin\": true, \"type\": \"pie\"}], \"scatter\": [{\"marker\": {\"colorbar\": {\"outlinewidth\": 0, \"ticks\": \"\"}}, \"type\": \"scatter\"}], \"scatter3d\": [{\"line\": {\"colorbar\": {\"outlinewidth\": 0, \"ticks\": \"\"}}, \"marker\": {\"colorbar\": {\"outlinewidth\": 0, \"ticks\": \"\"}}, \"type\": \"scatter3d\"}], \"scattercarpet\": [{\"marker\": {\"colorbar\": {\"outlinewidth\": 0, \"ticks\": \"\"}}, \"type\": \"scattercarpet\"}], \"scattergeo\": [{\"marker\": {\"colorbar\": {\"outlinewidth\": 0, \"ticks\": \"\"}}, \"type\": \"scattergeo\"}], \"scattergl\": [{\"marker\": {\"colorbar\": {\"outlinewidth\": 0, \"ticks\": \"\"}}, \"type\": \"scattergl\"}], \"scattermapbox\": [{\"marker\": {\"colorbar\": {\"outlinewidth\": 0, \"ticks\": \"\"}}, \"type\": \"scattermapbox\"}], \"scatterpolar\": [{\"marker\": {\"colorbar\": {\"outlinewidth\": 0, \"ticks\": \"\"}}, \"type\": \"scatterpolar\"}], \"scatterpolargl\": [{\"marker\": {\"colorbar\": {\"outlinewidth\": 0, \"ticks\": \"\"}}, \"type\": \"scatterpolargl\"}], \"scatterternary\": [{\"marker\": {\"colorbar\": {\"outlinewidth\": 0, \"ticks\": \"\"}}, \"type\": \"scatterternary\"}], \"surface\": [{\"colorbar\": {\"outlinewidth\": 0, \"ticks\": \"\"}, \"colorscale\": [[0.0, \"#0d0887\"], [0.1111111111111111, \"#46039f\"], [0.2222222222222222, \"#7201a8\"], [0.3333333333333333, \"#9c179e\"], [0.4444444444444444, \"#bd3786\"], [0.5555555555555556, \"#d8576b\"], [0.6666666666666666, \"#ed7953\"], [0.7777777777777778, \"#fb9f3a\"], [0.8888888888888888, \"#fdca26\"], [1.0, \"#f0f921\"]], \"type\": \"surface\"}], \"table\": [{\"cells\": {\"fill\": {\"color\": \"#EBF0F8\"}, \"line\": {\"color\": \"white\"}}, \"header\": {\"fill\": {\"color\": \"#C8D4E3\"}, \"line\": {\"color\": \"white\"}}, \"type\": \"table\"}]}, \"layout\": {\"annotationdefaults\": {\"arrowcolor\": \"#2a3f5f\", \"arrowhead\": 0, \"arrowwidth\": 1}, \"coloraxis\": {\"colorbar\": {\"outlinewidth\": 0, \"ticks\": \"\"}}, \"colorscale\": {\"diverging\": [[0, \"#8e0152\"], [0.1, \"#c51b7d\"], [0.2, \"#de77ae\"], [0.3, \"#f1b6da\"], [0.4, \"#fde0ef\"], [0.5, \"#f7f7f7\"], [0.6, \"#e6f5d0\"], [0.7, \"#b8e186\"], [0.8, \"#7fbc41\"], [0.9, \"#4d9221\"], [1, \"#276419\"]], \"sequential\": [[0.0, \"#0d0887\"], [0.1111111111111111, \"#46039f\"], [0.2222222222222222, \"#7201a8\"], [0.3333333333333333, \"#9c179e\"], [0.4444444444444444, \"#bd3786\"], [0.5555555555555556, \"#d8576b\"], [0.6666666666666666, \"#ed7953\"], [0.7777777777777778, \"#fb9f3a\"], [0.8888888888888888, \"#fdca26\"], [1.0, \"#f0f921\"]], \"sequentialminus\": [[0.0, \"#0d0887\"], [0.1111111111111111, \"#46039f\"], [0.2222222222222222, \"#7201a8\"], [0.3333333333333333, \"#9c179e\"], [0.4444444444444444, \"#bd3786\"], [0.5555555555555556, \"#d8576b\"], [0.6666666666666666, \"#ed7953\"], [0.7777777777777778, \"#fb9f3a\"], [0.8888888888888888, \"#fdca26\"], [1.0, \"#f0f921\"]]}, \"colorway\": [\"#636efa\", \"#EF553B\", \"#00cc96\", \"#ab63fa\", \"#FFA15A\", \"#19d3f3\", \"#FF6692\", \"#B6E880\", \"#FF97FF\", \"#FECB52\"], \"font\": {\"color\": \"#2a3f5f\"}, \"geo\": {\"bgcolor\": \"white\", \"lakecolor\": \"white\", \"landcolor\": \"#E5ECF6\", \"showlakes\": true, \"showland\": true, \"subunitcolor\": \"white\"}, \"hoverlabel\": {\"align\": \"left\"}, \"hovermode\": \"closest\", \"mapbox\": {\"style\": \"light\"}, \"paper_bgcolor\": \"white\", \"plot_bgcolor\": \"#E5ECF6\", \"polar\": {\"angularaxis\": {\"gridcolor\": \"white\", \"linecolor\": \"white\", \"ticks\": \"\"}, \"bgcolor\": \"#E5ECF6\", \"radialaxis\": {\"gridcolor\": \"white\", \"linecolor\": \"white\", \"ticks\": \"\"}}, \"scene\": {\"xaxis\": {\"backgroundcolor\": \"#E5ECF6\", \"gridcolor\": \"white\", \"gridwidth\": 2, \"linecolor\": \"white\", \"showbackground\": true, \"ticks\": \"\", \"zerolinecolor\": \"white\"}, \"yaxis\": {\"backgroundcolor\": \"#E5ECF6\", \"gridcolor\": \"white\", \"gridwidth\": 2, \"linecolor\": \"white\", \"showbackground\": true, \"ticks\": \"\", \"zerolinecolor\": \"white\"}, \"zaxis\": {\"backgroundcolor\": \"#E5ECF6\", \"gridcolor\": \"white\", \"gridwidth\": 2, \"linecolor\": \"white\", \"showbackground\": true, \"ticks\": \"\", \"zerolinecolor\": \"white\"}}, \"shapedefaults\": {\"line\": {\"color\": \"#2a3f5f\"}}, \"ternary\": {\"aaxis\": {\"gridcolor\": \"white\", \"linecolor\": \"white\", \"ticks\": \"\"}, \"baxis\": {\"gridcolor\": \"white\", \"linecolor\": \"white\", \"ticks\": \"\"}, \"bgcolor\": \"#E5ECF6\", \"caxis\": {\"gridcolor\": \"white\", \"linecolor\": \"white\", \"ticks\": \"\"}}, \"title\": {\"x\": 0.05}, \"xaxis\": {\"automargin\": true, \"gridcolor\": \"white\", \"linecolor\": \"white\", \"ticks\": \"\", \"title\": {\"standoff\": 15}, \"zerolinecolor\": \"white\", \"zerolinewidth\": 2}, \"yaxis\": {\"automargin\": true, \"gridcolor\": \"white\", \"linecolor\": \"white\", \"ticks\": \"\", \"title\": {\"standoff\": 15}, \"zerolinecolor\": \"white\", \"zerolinewidth\": 2}}}, \"title\": {\"text\": \"Evolution des \\u00e9missions de protoxyde d'azote\"}, \"xaxis\": {\"anchor\": \"y\", \"domain\": [0.0, 1.0], \"title\": {\"text\": \"Date\"}}, \"yaxis\": {\"anchor\": \"x\", \"domain\": [0.0, 1.0], \"title\": {\"text\": \"Nitrous Oxyd Emission\"}}},\n",
       "                        {\"responsive\": true}\n",
       "                    ).then(function(){\n",
       "                            \n",
       "var gd = document.getElementById('2020c4a0-2b6f-4221-8a88-4f9b478a3331');\n",
       "var x = new MutationObserver(function (mutations, observer) {{\n",
       "        var display = window.getComputedStyle(gd).display;\n",
       "        if (!display || display === 'none') {{\n",
       "            console.log([gd, 'removed!']);\n",
       "            Plotly.purge(gd);\n",
       "            observer.disconnect();\n",
       "        }}\n",
       "}});\n",
       "\n",
       "// Listen for the removal of the full notebook cells\n",
       "var notebookContainer = gd.closest('#notebook-container');\n",
       "if (notebookContainer) {{\n",
       "    x.observe(notebookContainer, {childList: true});\n",
       "}}\n",
       "\n",
       "// Listen for the clearing of the current output cell\n",
       "var outputEl = gd.closest('.output');\n",
       "if (outputEl) {{\n",
       "    x.observe(outputEl, {childList: true});\n",
       "}}\n",
       "\n",
       "                        })\n",
       "                };\n",
       "                });\n",
       "            </script>\n",
       "        </div>"
      ]
     },
     "metadata": {},
     "output_type": "display_data"
    },
    {
     "data": {
      "application/vnd.plotly.v1+json": {
       "config": {
        "plotlyServerURL": "https://plot.ly"
       },
       "data": [
        {
         "hoverlabel": {
          "namelength": 0
         },
         "hovertemplate": "Country=World<br>Date=%{x}<br>Methan Oxyd Emission=%{y}",
         "legendgroup": "Country=World",
         "line": {
          "color": "#636efa",
          "dash": "solid"
         },
         "mode": "lines",
         "name": "Country=World",
         "showlegend": true,
         "type": "scatter",
         "x": [
          "2018",
          "2017",
          "2016",
          "2015",
          "2014",
          "2013",
          "2012",
          "2011",
          "2010",
          "2009",
          "2008",
          "2007",
          "2006",
          "2005",
          "2004",
          "2003",
          "2002",
          "2001",
          "2000",
          "1999",
          "1998",
          "1997",
          "1996",
          "1995",
          "1994",
          "1993",
          "1992",
          "1991",
          "1990",
          "1989",
          "1988",
          "1987",
          "1986",
          "1985",
          "1984",
          "1983",
          "1982",
          "1981",
          "1980",
          "1979",
          "1978",
          "1977",
          "1976",
          "1975",
          "1974",
          "1973",
          "1972",
          "1971",
          "1970",
          "1969",
          "1968",
          "1967",
          "1966",
          "1965",
          "1964",
          "1963",
          "1962",
          "1961",
          "1960"
         ],
         "xaxis": "x",
         "y": [
          null,
          null,
          null,
          null,
          null,
          null,
          8014066.56168444,
          7927060.64451536,
          7815790,
          7774920,
          7643170,
          7697440,
          7617940,
          7275910,
          7088150,
          6831780,
          6789740,
          6591630,
          6480650,
          6503140,
          6681100,
          7211170,
          6551630,
          6556730,
          6617590,
          6503170,
          6846520,
          6708550,
          6668380,
          6429940,
          6290090,
          6463470,
          6198880,
          6039460,
          5987230,
          6140330,
          6289190,
          5871770,
          6011410,
          5972760,
          5795950,
          5796380,
          5649430,
          5503270,
          5379140,
          5421500,
          5360610,
          5145430,
          5305820,
          null,
          null,
          null,
          null,
          null,
          null,
          null,
          null,
          null,
          null
         ],
         "yaxis": "y"
        },
        {
         "hoverlabel": {
          "namelength": 0
         },
         "hovertemplate": "Country=Asia Pacific<br>Date=%{x}<br>Methan Oxyd Emission=%{y}",
         "legendgroup": "Country=Asia Pacific",
         "line": {
          "color": "#EF553B",
          "dash": "solid"
         },
         "mode": "lines",
         "name": "Country=Asia Pacific",
         "showlegend": true,
         "type": "scatter",
         "x": [
          "2018",
          "2017",
          "2016",
          "2015",
          "2014",
          "2013",
          "2012",
          "2011",
          "2010",
          "2009",
          "2008",
          "2007",
          "2006",
          "2005",
          "2004",
          "2003",
          "2002",
          "2001",
          "2000",
          "1999",
          "1998",
          "1997",
          "1996",
          "1995",
          "1994",
          "1993",
          "1992",
          "1991",
          "1990",
          "1989",
          "1988",
          "1987",
          "1986",
          "1985",
          "1984",
          "1983",
          "1982",
          "1981",
          "1980",
          "1979",
          "1978",
          "1977",
          "1976",
          "1975",
          "1974",
          "1973",
          "1972",
          "1971",
          "1970",
          "1969",
          "1968",
          "1967",
          "1966",
          "1965",
          "1964",
          "1963",
          "1962",
          "1961",
          "1960"
         ],
         "xaxis": "x",
         "y": [
          null,
          null,
          null,
          null,
          null,
          null,
          2694982.46466527,
          2631497.93871764,
          2568023.15277,
          2581693.35481,
          2438316.79794,
          2359554.58553,
          2565922.6930400003,
          2291621.37528,
          2165409.33332,
          1983852.58097,
          2052437.48312,
          1898798.53939,
          1821939.89908,
          1873672.16218,
          1961985.43376,
          2593521.5467,
          1882973.21743,
          1891603.1059400002,
          1989736.74483,
          1840629.9565400002,
          2016171.3444599998,
          2008460.74198,
          1835031.0587900002,
          1730910.5572400002,
          1710169.61265,
          1881576.2670599998,
          1748192.1126700002,
          1661511.54865,
          1651366.9457959998,
          1766201.0500110001,
          1932387.4649220002,
          1600263.6030920001,
          1649089.510217,
          1630931.59268,
          1613134.733945,
          1663852.0237760001,
          1562340.896386,
          1519492.546811,
          1487481.489938,
          1536218.3148120001,
          1566962.392707,
          1460523.382614,
          1473797.705044,
          null,
          null,
          null,
          null,
          null,
          null,
          null,
          null,
          null,
          null
         ],
         "yaxis": "y"
        },
        {
         "hoverlabel": {
          "namelength": 0
         },
         "hovertemplate": "Country=Latin America<br>Date=%{x}<br>Methan Oxyd Emission=%{y}",
         "legendgroup": "Country=Latin America",
         "line": {
          "color": "#00cc96",
          "dash": "solid"
         },
         "mode": "lines",
         "name": "Country=Latin America",
         "showlegend": true,
         "type": "scatter",
         "x": [
          "2018",
          "2017",
          "2016",
          "2015",
          "2014",
          "2013",
          "2012",
          "2011",
          "2010",
          "2009",
          "2008",
          "2007",
          "2006",
          "2005",
          "2004",
          "2003",
          "2002",
          "2001",
          "2000",
          "1999",
          "1998",
          "1997",
          "1996",
          "1995",
          "1994",
          "1993",
          "1992",
          "1991",
          "1990",
          "1989",
          "1988",
          "1987",
          "1986",
          "1985",
          "1984",
          "1983",
          "1982",
          "1981",
          "1980",
          "1979",
          "1978",
          "1977",
          "1976",
          "1975",
          "1974",
          "1973",
          "1972",
          "1971",
          "1970",
          "1969",
          "1968",
          "1967",
          "1966",
          "1965",
          "1964",
          "1963",
          "1962",
          "1961",
          "1960"
         ],
         "xaxis": "x",
         "y": [
          null,
          null,
          null,
          null,
          null,
          null,
          991163.4119898,
          979241.5857399,
          948748.2294899999,
          943339.25872,
          931051.02847,
          918176.6188299999,
          907165.6523,
          1003512.9792200001,
          988750.4555299999,
          918128.74549,
          873030.85339,
          848007.0640199999,
          827160.26998,
          844085.14315,
          880256.88819,
          825944.73146,
          815487.7616600001,
          810102.70288,
          772893.10044,
          801597.13465,
          775294.28324,
          753186.50268,
          758513.0056800001,
          739010.6074699999,
          725335.6567899999,
          736016.37023,
          699669.24917,
          684377.0406300001,
          671443.58145,
          689776.51233,
          688820.6768100001,
          667801.31407,
          674769.50224,
          644979.54715,
          626011.03892,
          600258.08468,
          621694.12234,
          582454.1161699999,
          555924.8577,
          531346.11885,
          537934.61,
          505250.52372,
          542609.9226800001,
          null,
          null,
          null,
          null,
          null,
          null,
          null,
          null,
          null,
          null
         ],
         "yaxis": "y"
        },
        {
         "hoverlabel": {
          "namelength": 0
         },
         "hovertemplate": "Country=Africa<br>Date=%{x}<br>Methan Oxyd Emission=%{y}",
         "legendgroup": "Country=Africa",
         "line": {
          "color": "#ab63fa",
          "dash": "solid"
         },
         "mode": "lines",
         "name": "Country=Africa",
         "showlegend": true,
         "type": "scatter",
         "x": [
          "2018",
          "2017",
          "2016",
          "2015",
          "2014",
          "2013",
          "2012",
          "2011",
          "2010",
          "2009",
          "2008",
          "2007",
          "2006",
          "2005",
          "2004",
          "2003",
          "2002",
          "2001",
          "2000",
          "1999",
          "1998",
          "1997",
          "1996",
          "1995",
          "1994",
          "1993",
          "1992",
          "1991",
          "1990",
          "1989",
          "1988",
          "1987",
          "1986",
          "1985",
          "1984",
          "1983",
          "1982",
          "1981",
          "1980",
          "1979",
          "1978",
          "1977",
          "1976",
          "1975",
          "1974",
          "1973",
          "1972",
          "1971",
          "1970",
          "1969",
          "1968",
          "1967",
          "1966",
          "1965",
          "1964",
          "1963",
          "1962",
          "1961",
          "1960"
         ],
         "xaxis": "x",
         "y": [
          null,
          null,
          null,
          null,
          null,
          null,
          851188.316394,
          844540.145047,
          837891.9137,
          847350.0328,
          860949.2321,
          1056781.9643,
          817666.9352,
          685180.9223,
          664668.056,
          646904.3277,
          649258.6359,
          663278.6595,
          645133.735,
          615109.3559,
          627784.0455,
          615241.24,
          618830.2013,
          638824.4212,
          604583.3811,
          568369.2592,
          719489.8897,
          567541.5807,
          640216.62,
          527745.8011,
          480854.5585,
          548779.9922,
          482815.1776,
          481742.6656,
          485630.0988,
          533795.4983,
          542150.9701,
          494563.2655,
          553508.0759,
          573162.6242,
          480375.468,
          485817.5341,
          440839.3316,
          449188.1273,
          416763.7193,
          457924.6329,
          427373.23494,
          410386.04842,
          528461.2537100001,
          null,
          null,
          null,
          null,
          null,
          null,
          null,
          null,
          null,
          null
         ],
         "yaxis": "y"
        },
        {
         "hoverlabel": {
          "namelength": 0
         },
         "hovertemplate": "Country=North America<br>Date=%{x}<br>Methan Oxyd Emission=%{y}",
         "legendgroup": "Country=North America",
         "line": {
          "color": "#FFA15A",
          "dash": "solid"
         },
         "mode": "lines",
         "name": "Country=North America",
         "showlegend": true,
         "type": "scatter",
         "x": [
          "2018",
          "2017",
          "2016",
          "2015",
          "2014",
          "2013",
          "2012",
          "2011",
          "2010",
          "2009",
          "2008",
          "2007",
          "2006",
          "2005",
          "2004",
          "2003",
          "2002",
          "2001",
          "2000",
          "1999",
          "1998",
          "1997",
          "1996",
          "1995",
          "1994",
          "1993",
          "1992",
          "1991",
          "1990",
          "1989",
          "1988",
          "1987",
          "1986",
          "1985",
          "1984",
          "1983",
          "1982",
          "1981",
          "1980",
          "1979",
          "1978",
          "1977",
          "1976",
          "1975",
          "1974",
          "1973",
          "1972",
          "1971",
          "1970",
          "1969",
          "1968",
          "1967",
          "1966",
          "1965",
          "1964",
          "1963",
          "1962",
          "1961",
          "1960"
         ],
         "xaxis": "x",
         "y": [
          null,
          null,
          null,
          null,
          null,
          null,
          606687.079302027,
          620667.141101014,
          629268.3529,
          632553.879,
          655677.4193,
          650999.9614,
          648751.7162,
          646943.3213,
          658640.9943,
          662416.5822,
          657823.2319,
          654490.8384,
          658805.5171,
          673069.0423,
          692751.6326,
          687839.5834,
          696626.9665,
          714152.1052,
          719746.8384,
          706494.3629,
          706618.8345,
          708821.2707,
          714823.5812,
          714003.6998,
          696462.875,
          679067.0462,
          672132.8011,
          675568.9878,
          678799.4363,
          660584.0723,
          674978.9669,
          686864.0682,
          686534.0306,
          673245.2242,
          644041.9584,
          649217.6596,
          657349.7867,
          654641.948,
          654702.8776,
          656679.336,
          652288.95,
          647667.3561,
          661570.4698,
          null,
          null,
          null,
          null,
          null,
          null,
          null,
          null,
          null,
          null
         ],
         "yaxis": "y"
        },
        {
         "hoverlabel": {
          "namelength": 0
         },
         "hovertemplate": "Country=Middle East<br>Date=%{x}<br>Methan Oxyd Emission=%{y}",
         "legendgroup": "Country=Middle East",
         "line": {
          "color": "#19d3f3",
          "dash": "solid"
         },
         "mode": "lines",
         "name": "Country=Middle East",
         "showlegend": true,
         "type": "scatter",
         "x": [
          "2018",
          "2017",
          "2016",
          "2015",
          "2014",
          "2013",
          "2012",
          "2011",
          "2010",
          "2009",
          "2008",
          "2007",
          "2006",
          "2005",
          "2004",
          "2003",
          "2002",
          "2001",
          "2000",
          "1999",
          "1998",
          "1997",
          "1996",
          "1995",
          "1994",
          "1993",
          "1992",
          "1991",
          "1990",
          "1989",
          "1988",
          "1987",
          "1986",
          "1985",
          "1984",
          "1983",
          "1982",
          "1981",
          "1980",
          "1979",
          "1978",
          "1977",
          "1976",
          "1975",
          "1974",
          "1973",
          "1972",
          "1971",
          "1970",
          "1969",
          "1968",
          "1967",
          "1966",
          "1965",
          "1964",
          "1963",
          "1962",
          "1961",
          "1960"
         ],
         "xaxis": "x",
         "y": [
          null,
          null,
          null,
          null,
          null,
          null,
          476559.404985406,
          469446.36914270296,
          462334.487,
          443887.18700000003,
          439231.726,
          424225.083,
          418018.42100000003,
          402199.249,
          384455.786,
          368705.601,
          344363.179,
          335936.04799999995,
          337183.81700000004,
          320368.30100000004,
          310888.941,
          305369.669,
          292895.697,
          283766.432,
          274360.71,
          264771.769,
          258494.657,
          245967.488,
          246030.62399999998,
          233790.51899999997,
          222115.901,
          215061.832,
          212015.264,
          201208.836,
          199919.099,
          213740.307,
          220563.16,
          226085.18399999998,
          265616.445,
          286859.619,
          302318.252,
          306169.001,
          310465.529,
          274040.841,
          286965.69399999996,
          293913.109,
          260761.94199999998,
          242013.6,
          229788.426,
          null,
          null,
          null,
          null,
          null,
          null,
          null,
          null,
          null,
          null
         ],
         "yaxis": "y"
        },
        {
         "hoverlabel": {
          "namelength": 0
         },
         "hovertemplate": "Country=Europe<br>Date=%{x}<br>Methan Oxyd Emission=%{y}",
         "legendgroup": "Country=Europe",
         "line": {
          "color": "#FF6692",
          "dash": "solid"
         },
         "mode": "lines",
         "name": "Country=Europe",
         "showlegend": true,
         "type": "scatter",
         "x": [
          "2018",
          "2017",
          "2016",
          "2015",
          "2014",
          "2013",
          "2012",
          "2011",
          "2010",
          "2009",
          "2008",
          "2007",
          "2006",
          "2005",
          "2004",
          "2003",
          "2002",
          "2001",
          "2000",
          "1999",
          "1998",
          "1997",
          "1996",
          "1995",
          "1994",
          "1993",
          "1992",
          "1991",
          "1990",
          "1989",
          "1988",
          "1987",
          "1986",
          "1985",
          "1984",
          "1983",
          "1982",
          "1981",
          "1980",
          "1979",
          "1978",
          "1977",
          "1976",
          "1975",
          "1974",
          "1973",
          "1972",
          "1971",
          "1970",
          "1969",
          "1968",
          "1967",
          "1966",
          "1965",
          "1964",
          "1963",
          "1962",
          "1961",
          "1960"
         ],
         "xaxis": "x",
         "y": [
          null,
          null,
          null,
          null,
          null,
          null,
          308804.682412662,
          313613.166056331,
          317055.19,
          317961.48600000003,
          317568.17,
          321012.439,
          322608.419,
          326534.541,
          330208.618,
          335580.05100000004,
          340219.87799999997,
          347076.291,
          352961.295,
          356930.81899999996,
          362181.11600000004,
          367650.585,
          371658.88200000004,
          359600.16,
          362037.38399999996,
          367619.416,
          376930.26399999997,
          386794.906,
          392976.18,
          391944.45,
          387689.211,
          390996.00399999996,
          397621.499,
          398309.775,
          395170.434,
          392955.68799999997,
          394506.31,
          397275.49700000003,
          398555.895,
          397092.922,
          390953.277,
          387337.97,
          382060.15,
          377345.38899999997,
          376315.344,
          371431.019,
          367922.715,
          367594.398,
          370604.73,
          null,
          null,
          null,
          null,
          null,
          null,
          null,
          null,
          null,
          null
         ],
         "yaxis": "y"
        },
        {
         "hoverlabel": {
          "namelength": 0
         },
         "hovertemplate": "Country=Russia<br>Date=%{x}<br>Methan Oxyd Emission=%{y}",
         "legendgroup": "Country=Russia",
         "line": {
          "color": "#B6E880",
          "dash": "solid"
         },
         "mode": "lines",
         "name": "Country=Russia",
         "showlegend": true,
         "type": "scatter",
         "x": [
          "1992",
          "1991",
          "1993",
          "1995",
          "1994",
          "1990",
          "1996",
          "1997",
          "1989",
          "1998",
          "1999",
          "2018",
          "2000",
          "1988",
          "2017",
          "2001",
          "2016",
          "2015",
          "2002",
          "2014",
          "1987",
          "2003",
          "2013",
          "2004",
          "2012",
          "2005",
          "2011",
          "2010",
          "2006",
          "2009",
          "2008",
          "2007",
          "1986",
          "1985",
          "1984",
          "1983",
          "1982",
          "1981",
          "1980",
          "1979",
          "1978",
          "1977",
          "1976",
          "1975",
          "1974",
          "1973",
          "1972",
          "1971",
          "1970",
          "1969",
          "1968",
          "1967",
          "1966",
          "1965",
          "1964",
          "1963",
          "1962",
          "1961",
          "1960"
         ],
         "xaxis": "x",
         "y": [
          576744,
          601461,
          553641,
          485644,
          514496,
          624883,
          490520,
          451678,
          611597,
          498651,
          455382,
          null,
          465970,
          600128,
          null,
          470194,
          null,
          null,
          489125,
          null,
          577899,
          509646,
          null,
          486820,
          545818.581,
          494483,
          539682.7905,
          533546,
          495215,
          507742,
          511550,
          504013,
          562391,
          540792,
          525561,
          504821,
          492411,
          474129,
          460809,
          446764,
          434155,
          420972,
          411531,
          395119,
          380300,
          369515,
          366735,
          344005,
          338496,
          null,
          null,
          null,
          null,
          null,
          null,
          null,
          null,
          null,
          null
         ],
         "yaxis": "y"
        }
       ],
       "layout": {
        "height": 600,
        "legend": {
         "tracegroupgap": 0
        },
        "template": {
         "data": {
          "bar": [
           {
            "error_x": {
             "color": "#2a3f5f"
            },
            "error_y": {
             "color": "#2a3f5f"
            },
            "marker": {
             "line": {
              "color": "#E5ECF6",
              "width": 0.5
             }
            },
            "type": "bar"
           }
          ],
          "barpolar": [
           {
            "marker": {
             "line": {
              "color": "#E5ECF6",
              "width": 0.5
             }
            },
            "type": "barpolar"
           }
          ],
          "carpet": [
           {
            "aaxis": {
             "endlinecolor": "#2a3f5f",
             "gridcolor": "white",
             "linecolor": "white",
             "minorgridcolor": "white",
             "startlinecolor": "#2a3f5f"
            },
            "baxis": {
             "endlinecolor": "#2a3f5f",
             "gridcolor": "white",
             "linecolor": "white",
             "minorgridcolor": "white",
             "startlinecolor": "#2a3f5f"
            },
            "type": "carpet"
           }
          ],
          "choropleth": [
           {
            "colorbar": {
             "outlinewidth": 0,
             "ticks": ""
            },
            "type": "choropleth"
           }
          ],
          "contour": [
           {
            "colorbar": {
             "outlinewidth": 0,
             "ticks": ""
            },
            "colorscale": [
             [
              0,
              "#0d0887"
             ],
             [
              0.1111111111111111,
              "#46039f"
             ],
             [
              0.2222222222222222,
              "#7201a8"
             ],
             [
              0.3333333333333333,
              "#9c179e"
             ],
             [
              0.4444444444444444,
              "#bd3786"
             ],
             [
              0.5555555555555556,
              "#d8576b"
             ],
             [
              0.6666666666666666,
              "#ed7953"
             ],
             [
              0.7777777777777778,
              "#fb9f3a"
             ],
             [
              0.8888888888888888,
              "#fdca26"
             ],
             [
              1,
              "#f0f921"
             ]
            ],
            "type": "contour"
           }
          ],
          "contourcarpet": [
           {
            "colorbar": {
             "outlinewidth": 0,
             "ticks": ""
            },
            "type": "contourcarpet"
           }
          ],
          "heatmap": [
           {
            "colorbar": {
             "outlinewidth": 0,
             "ticks": ""
            },
            "colorscale": [
             [
              0,
              "#0d0887"
             ],
             [
              0.1111111111111111,
              "#46039f"
             ],
             [
              0.2222222222222222,
              "#7201a8"
             ],
             [
              0.3333333333333333,
              "#9c179e"
             ],
             [
              0.4444444444444444,
              "#bd3786"
             ],
             [
              0.5555555555555556,
              "#d8576b"
             ],
             [
              0.6666666666666666,
              "#ed7953"
             ],
             [
              0.7777777777777778,
              "#fb9f3a"
             ],
             [
              0.8888888888888888,
              "#fdca26"
             ],
             [
              1,
              "#f0f921"
             ]
            ],
            "type": "heatmap"
           }
          ],
          "heatmapgl": [
           {
            "colorbar": {
             "outlinewidth": 0,
             "ticks": ""
            },
            "colorscale": [
             [
              0,
              "#0d0887"
             ],
             [
              0.1111111111111111,
              "#46039f"
             ],
             [
              0.2222222222222222,
              "#7201a8"
             ],
             [
              0.3333333333333333,
              "#9c179e"
             ],
             [
              0.4444444444444444,
              "#bd3786"
             ],
             [
              0.5555555555555556,
              "#d8576b"
             ],
             [
              0.6666666666666666,
              "#ed7953"
             ],
             [
              0.7777777777777778,
              "#fb9f3a"
             ],
             [
              0.8888888888888888,
              "#fdca26"
             ],
             [
              1,
              "#f0f921"
             ]
            ],
            "type": "heatmapgl"
           }
          ],
          "histogram": [
           {
            "marker": {
             "colorbar": {
              "outlinewidth": 0,
              "ticks": ""
             }
            },
            "type": "histogram"
           }
          ],
          "histogram2d": [
           {
            "colorbar": {
             "outlinewidth": 0,
             "ticks": ""
            },
            "colorscale": [
             [
              0,
              "#0d0887"
             ],
             [
              0.1111111111111111,
              "#46039f"
             ],
             [
              0.2222222222222222,
              "#7201a8"
             ],
             [
              0.3333333333333333,
              "#9c179e"
             ],
             [
              0.4444444444444444,
              "#bd3786"
             ],
             [
              0.5555555555555556,
              "#d8576b"
             ],
             [
              0.6666666666666666,
              "#ed7953"
             ],
             [
              0.7777777777777778,
              "#fb9f3a"
             ],
             [
              0.8888888888888888,
              "#fdca26"
             ],
             [
              1,
              "#f0f921"
             ]
            ],
            "type": "histogram2d"
           }
          ],
          "histogram2dcontour": [
           {
            "colorbar": {
             "outlinewidth": 0,
             "ticks": ""
            },
            "colorscale": [
             [
              0,
              "#0d0887"
             ],
             [
              0.1111111111111111,
              "#46039f"
             ],
             [
              0.2222222222222222,
              "#7201a8"
             ],
             [
              0.3333333333333333,
              "#9c179e"
             ],
             [
              0.4444444444444444,
              "#bd3786"
             ],
             [
              0.5555555555555556,
              "#d8576b"
             ],
             [
              0.6666666666666666,
              "#ed7953"
             ],
             [
              0.7777777777777778,
              "#fb9f3a"
             ],
             [
              0.8888888888888888,
              "#fdca26"
             ],
             [
              1,
              "#f0f921"
             ]
            ],
            "type": "histogram2dcontour"
           }
          ],
          "mesh3d": [
           {
            "colorbar": {
             "outlinewidth": 0,
             "ticks": ""
            },
            "type": "mesh3d"
           }
          ],
          "parcoords": [
           {
            "line": {
             "colorbar": {
              "outlinewidth": 0,
              "ticks": ""
             }
            },
            "type": "parcoords"
           }
          ],
          "pie": [
           {
            "automargin": true,
            "type": "pie"
           }
          ],
          "scatter": [
           {
            "marker": {
             "colorbar": {
              "outlinewidth": 0,
              "ticks": ""
             }
            },
            "type": "scatter"
           }
          ],
          "scatter3d": [
           {
            "line": {
             "colorbar": {
              "outlinewidth": 0,
              "ticks": ""
             }
            },
            "marker": {
             "colorbar": {
              "outlinewidth": 0,
              "ticks": ""
             }
            },
            "type": "scatter3d"
           }
          ],
          "scattercarpet": [
           {
            "marker": {
             "colorbar": {
              "outlinewidth": 0,
              "ticks": ""
             }
            },
            "type": "scattercarpet"
           }
          ],
          "scattergeo": [
           {
            "marker": {
             "colorbar": {
              "outlinewidth": 0,
              "ticks": ""
             }
            },
            "type": "scattergeo"
           }
          ],
          "scattergl": [
           {
            "marker": {
             "colorbar": {
              "outlinewidth": 0,
              "ticks": ""
             }
            },
            "type": "scattergl"
           }
          ],
          "scattermapbox": [
           {
            "marker": {
             "colorbar": {
              "outlinewidth": 0,
              "ticks": ""
             }
            },
            "type": "scattermapbox"
           }
          ],
          "scatterpolar": [
           {
            "marker": {
             "colorbar": {
              "outlinewidth": 0,
              "ticks": ""
             }
            },
            "type": "scatterpolar"
           }
          ],
          "scatterpolargl": [
           {
            "marker": {
             "colorbar": {
              "outlinewidth": 0,
              "ticks": ""
             }
            },
            "type": "scatterpolargl"
           }
          ],
          "scatterternary": [
           {
            "marker": {
             "colorbar": {
              "outlinewidth": 0,
              "ticks": ""
             }
            },
            "type": "scatterternary"
           }
          ],
          "surface": [
           {
            "colorbar": {
             "outlinewidth": 0,
             "ticks": ""
            },
            "colorscale": [
             [
              0,
              "#0d0887"
             ],
             [
              0.1111111111111111,
              "#46039f"
             ],
             [
              0.2222222222222222,
              "#7201a8"
             ],
             [
              0.3333333333333333,
              "#9c179e"
             ],
             [
              0.4444444444444444,
              "#bd3786"
             ],
             [
              0.5555555555555556,
              "#d8576b"
             ],
             [
              0.6666666666666666,
              "#ed7953"
             ],
             [
              0.7777777777777778,
              "#fb9f3a"
             ],
             [
              0.8888888888888888,
              "#fdca26"
             ],
             [
              1,
              "#f0f921"
             ]
            ],
            "type": "surface"
           }
          ],
          "table": [
           {
            "cells": {
             "fill": {
              "color": "#EBF0F8"
             },
             "line": {
              "color": "white"
             }
            },
            "header": {
             "fill": {
              "color": "#C8D4E3"
             },
             "line": {
              "color": "white"
             }
            },
            "type": "table"
           }
          ]
         },
         "layout": {
          "annotationdefaults": {
           "arrowcolor": "#2a3f5f",
           "arrowhead": 0,
           "arrowwidth": 1
          },
          "coloraxis": {
           "colorbar": {
            "outlinewidth": 0,
            "ticks": ""
           }
          },
          "colorscale": {
           "diverging": [
            [
             0,
             "#8e0152"
            ],
            [
             0.1,
             "#c51b7d"
            ],
            [
             0.2,
             "#de77ae"
            ],
            [
             0.3,
             "#f1b6da"
            ],
            [
             0.4,
             "#fde0ef"
            ],
            [
             0.5,
             "#f7f7f7"
            ],
            [
             0.6,
             "#e6f5d0"
            ],
            [
             0.7,
             "#b8e186"
            ],
            [
             0.8,
             "#7fbc41"
            ],
            [
             0.9,
             "#4d9221"
            ],
            [
             1,
             "#276419"
            ]
           ],
           "sequential": [
            [
             0,
             "#0d0887"
            ],
            [
             0.1111111111111111,
             "#46039f"
            ],
            [
             0.2222222222222222,
             "#7201a8"
            ],
            [
             0.3333333333333333,
             "#9c179e"
            ],
            [
             0.4444444444444444,
             "#bd3786"
            ],
            [
             0.5555555555555556,
             "#d8576b"
            ],
            [
             0.6666666666666666,
             "#ed7953"
            ],
            [
             0.7777777777777778,
             "#fb9f3a"
            ],
            [
             0.8888888888888888,
             "#fdca26"
            ],
            [
             1,
             "#f0f921"
            ]
           ],
           "sequentialminus": [
            [
             0,
             "#0d0887"
            ],
            [
             0.1111111111111111,
             "#46039f"
            ],
            [
             0.2222222222222222,
             "#7201a8"
            ],
            [
             0.3333333333333333,
             "#9c179e"
            ],
            [
             0.4444444444444444,
             "#bd3786"
            ],
            [
             0.5555555555555556,
             "#d8576b"
            ],
            [
             0.6666666666666666,
             "#ed7953"
            ],
            [
             0.7777777777777778,
             "#fb9f3a"
            ],
            [
             0.8888888888888888,
             "#fdca26"
            ],
            [
             1,
             "#f0f921"
            ]
           ]
          },
          "colorway": [
           "#636efa",
           "#EF553B",
           "#00cc96",
           "#ab63fa",
           "#FFA15A",
           "#19d3f3",
           "#FF6692",
           "#B6E880",
           "#FF97FF",
           "#FECB52"
          ],
          "font": {
           "color": "#2a3f5f"
          },
          "geo": {
           "bgcolor": "white",
           "lakecolor": "white",
           "landcolor": "#E5ECF6",
           "showlakes": true,
           "showland": true,
           "subunitcolor": "white"
          },
          "hoverlabel": {
           "align": "left"
          },
          "hovermode": "closest",
          "mapbox": {
           "style": "light"
          },
          "paper_bgcolor": "white",
          "plot_bgcolor": "#E5ECF6",
          "polar": {
           "angularaxis": {
            "gridcolor": "white",
            "linecolor": "white",
            "ticks": ""
           },
           "bgcolor": "#E5ECF6",
           "radialaxis": {
            "gridcolor": "white",
            "linecolor": "white",
            "ticks": ""
           }
          },
          "scene": {
           "xaxis": {
            "backgroundcolor": "#E5ECF6",
            "gridcolor": "white",
            "gridwidth": 2,
            "linecolor": "white",
            "showbackground": true,
            "ticks": "",
            "zerolinecolor": "white"
           },
           "yaxis": {
            "backgroundcolor": "#E5ECF6",
            "gridcolor": "white",
            "gridwidth": 2,
            "linecolor": "white",
            "showbackground": true,
            "ticks": "",
            "zerolinecolor": "white"
           },
           "zaxis": {
            "backgroundcolor": "#E5ECF6",
            "gridcolor": "white",
            "gridwidth": 2,
            "linecolor": "white",
            "showbackground": true,
            "ticks": "",
            "zerolinecolor": "white"
           }
          },
          "shapedefaults": {
           "line": {
            "color": "#2a3f5f"
           }
          },
          "ternary": {
           "aaxis": {
            "gridcolor": "white",
            "linecolor": "white",
            "ticks": ""
           },
           "baxis": {
            "gridcolor": "white",
            "linecolor": "white",
            "ticks": ""
           },
           "bgcolor": "#E5ECF6",
           "caxis": {
            "gridcolor": "white",
            "linecolor": "white",
            "ticks": ""
           }
          },
          "title": {
           "x": 0.05
          },
          "xaxis": {
           "automargin": true,
           "gridcolor": "white",
           "linecolor": "white",
           "ticks": "",
           "title": {
            "standoff": 15
           },
           "zerolinecolor": "white",
           "zerolinewidth": 2
          },
          "yaxis": {
           "automargin": true,
           "gridcolor": "white",
           "linecolor": "white",
           "ticks": "",
           "title": {
            "standoff": 15
           },
           "zerolinecolor": "white",
           "zerolinewidth": 2
          }
         }
        },
        "title": {
         "text": "Evolution des émissions de protoxyde d'azote"
        },
        "xaxis": {
         "anchor": "y",
         "domain": [
          0,
          1
         ],
         "title": {
          "text": "Date"
         }
        },
        "yaxis": {
         "anchor": "x",
         "domain": [
          0,
          1
         ],
         "title": {
          "text": "Methan Oxyd Emission"
         }
        }
       }
      },
      "text/html": [
       "<div>\n",
       "        \n",
       "        \n",
       "            <div id=\"b45492df-88b4-47c5-8143-fe95f09c60c1\" class=\"plotly-graph-div\" style=\"height:600px; width:100%;\"></div>\n",
       "            <script type=\"text/javascript\">\n",
       "                require([\"plotly\"], function(Plotly) {\n",
       "                    window.PLOTLYENV=window.PLOTLYENV || {};\n",
       "                    \n",
       "                if (document.getElementById(\"b45492df-88b4-47c5-8143-fe95f09c60c1\")) {\n",
       "                    Plotly.newPlot(\n",
       "                        'b45492df-88b4-47c5-8143-fe95f09c60c1',\n",
       "                        [{\"hoverlabel\": {\"namelength\": 0}, \"hovertemplate\": \"Country=World<br>Date=%{x}<br>Methan Oxyd Emission=%{y}\", \"legendgroup\": \"Country=World\", \"line\": {\"color\": \"#636efa\", \"dash\": \"solid\"}, \"mode\": \"lines\", \"name\": \"Country=World\", \"showlegend\": true, \"type\": \"scatter\", \"x\": [\"2018\", \"2017\", \"2016\", \"2015\", \"2014\", \"2013\", \"2012\", \"2011\", \"2010\", \"2009\", \"2008\", \"2007\", \"2006\", \"2005\", \"2004\", \"2003\", \"2002\", \"2001\", \"2000\", \"1999\", \"1998\", \"1997\", \"1996\", \"1995\", \"1994\", \"1993\", \"1992\", \"1991\", \"1990\", \"1989\", \"1988\", \"1987\", \"1986\", \"1985\", \"1984\", \"1983\", \"1982\", \"1981\", \"1980\", \"1979\", \"1978\", \"1977\", \"1976\", \"1975\", \"1974\", \"1973\", \"1972\", \"1971\", \"1970\", \"1969\", \"1968\", \"1967\", \"1966\", \"1965\", \"1964\", \"1963\", \"1962\", \"1961\", \"1960\"], \"xaxis\": \"x\", \"y\": [null, null, null, null, null, null, 8014066.56168444, 7927060.64451536, 7815790.0, 7774920.0, 7643170.0, 7697440.0, 7617940.0, 7275910.0, 7088150.0, 6831780.0, 6789740.0, 6591630.0, 6480650.0, 6503140.0, 6681100.0, 7211170.0, 6551630.0, 6556730.0, 6617590.0, 6503170.0, 6846520.0, 6708550.0, 6668380.0, 6429940.0, 6290090.0, 6463470.0, 6198880.0, 6039460.0, 5987230.0, 6140330.0, 6289190.0, 5871770.0, 6011410.0, 5972760.0, 5795950.0, 5796380.0, 5649430.0, 5503270.0, 5379140.0, 5421500.0, 5360610.0, 5145430.0, 5305820.0, null, null, null, null, null, null, null, null, null, null], \"yaxis\": \"y\"}, {\"hoverlabel\": {\"namelength\": 0}, \"hovertemplate\": \"Country=Asia Pacific<br>Date=%{x}<br>Methan Oxyd Emission=%{y}\", \"legendgroup\": \"Country=Asia Pacific\", \"line\": {\"color\": \"#EF553B\", \"dash\": \"solid\"}, \"mode\": \"lines\", \"name\": \"Country=Asia Pacific\", \"showlegend\": true, \"type\": \"scatter\", \"x\": [\"2018\", \"2017\", \"2016\", \"2015\", \"2014\", \"2013\", \"2012\", \"2011\", \"2010\", \"2009\", \"2008\", \"2007\", \"2006\", \"2005\", \"2004\", \"2003\", \"2002\", \"2001\", \"2000\", \"1999\", \"1998\", \"1997\", \"1996\", \"1995\", \"1994\", \"1993\", \"1992\", \"1991\", \"1990\", \"1989\", \"1988\", \"1987\", \"1986\", \"1985\", \"1984\", \"1983\", \"1982\", \"1981\", \"1980\", \"1979\", \"1978\", \"1977\", \"1976\", \"1975\", \"1974\", \"1973\", \"1972\", \"1971\", \"1970\", \"1969\", \"1968\", \"1967\", \"1966\", \"1965\", \"1964\", \"1963\", \"1962\", \"1961\", \"1960\"], \"xaxis\": \"x\", \"y\": [null, null, null, null, null, null, 2694982.46466527, 2631497.93871764, 2568023.15277, 2581693.35481, 2438316.79794, 2359554.58553, 2565922.6930400003, 2291621.37528, 2165409.33332, 1983852.58097, 2052437.48312, 1898798.53939, 1821939.89908, 1873672.16218, 1961985.43376, 2593521.5467, 1882973.21743, 1891603.1059400002, 1989736.74483, 1840629.9565400002, 2016171.3444599998, 2008460.74198, 1835031.0587900002, 1730910.5572400002, 1710169.61265, 1881576.2670599998, 1748192.1126700002, 1661511.54865, 1651366.9457959998, 1766201.0500110001, 1932387.4649220002, 1600263.6030920001, 1649089.510217, 1630931.59268, 1613134.733945, 1663852.0237760001, 1562340.896386, 1519492.546811, 1487481.489938, 1536218.3148120001, 1566962.392707, 1460523.382614, 1473797.705044, null, null, null, null, null, null, null, null, null, null], \"yaxis\": \"y\"}, {\"hoverlabel\": {\"namelength\": 0}, \"hovertemplate\": \"Country=Latin America<br>Date=%{x}<br>Methan Oxyd Emission=%{y}\", \"legendgroup\": \"Country=Latin America\", \"line\": {\"color\": \"#00cc96\", \"dash\": \"solid\"}, \"mode\": \"lines\", \"name\": \"Country=Latin America\", \"showlegend\": true, \"type\": \"scatter\", \"x\": [\"2018\", \"2017\", \"2016\", \"2015\", \"2014\", \"2013\", \"2012\", \"2011\", \"2010\", \"2009\", \"2008\", \"2007\", \"2006\", \"2005\", \"2004\", \"2003\", \"2002\", \"2001\", \"2000\", \"1999\", \"1998\", \"1997\", \"1996\", \"1995\", \"1994\", \"1993\", \"1992\", \"1991\", \"1990\", \"1989\", \"1988\", \"1987\", \"1986\", \"1985\", \"1984\", \"1983\", \"1982\", \"1981\", \"1980\", \"1979\", \"1978\", \"1977\", \"1976\", \"1975\", \"1974\", \"1973\", \"1972\", \"1971\", \"1970\", \"1969\", \"1968\", \"1967\", \"1966\", \"1965\", \"1964\", \"1963\", \"1962\", \"1961\", \"1960\"], \"xaxis\": \"x\", \"y\": [null, null, null, null, null, null, 991163.4119898, 979241.5857399, 948748.2294899999, 943339.25872, 931051.02847, 918176.6188299999, 907165.6523, 1003512.9792200001, 988750.4555299999, 918128.74549, 873030.85339, 848007.0640199999, 827160.26998, 844085.14315, 880256.88819, 825944.73146, 815487.7616600001, 810102.70288, 772893.10044, 801597.13465, 775294.28324, 753186.50268, 758513.0056800001, 739010.6074699999, 725335.6567899999, 736016.37023, 699669.24917, 684377.0406300001, 671443.58145, 689776.51233, 688820.6768100001, 667801.31407, 674769.50224, 644979.54715, 626011.03892, 600258.08468, 621694.12234, 582454.1161699999, 555924.8577, 531346.11885, 537934.61, 505250.52372, 542609.9226800001, null, null, null, null, null, null, null, null, null, null], \"yaxis\": \"y\"}, {\"hoverlabel\": {\"namelength\": 0}, \"hovertemplate\": \"Country=Africa<br>Date=%{x}<br>Methan Oxyd Emission=%{y}\", \"legendgroup\": \"Country=Africa\", \"line\": {\"color\": \"#ab63fa\", \"dash\": \"solid\"}, \"mode\": \"lines\", \"name\": \"Country=Africa\", \"showlegend\": true, \"type\": \"scatter\", \"x\": [\"2018\", \"2017\", \"2016\", \"2015\", \"2014\", \"2013\", \"2012\", \"2011\", \"2010\", \"2009\", \"2008\", \"2007\", \"2006\", \"2005\", \"2004\", \"2003\", \"2002\", \"2001\", \"2000\", \"1999\", \"1998\", \"1997\", \"1996\", \"1995\", \"1994\", \"1993\", \"1992\", \"1991\", \"1990\", \"1989\", \"1988\", \"1987\", \"1986\", \"1985\", \"1984\", \"1983\", \"1982\", \"1981\", \"1980\", \"1979\", \"1978\", \"1977\", \"1976\", \"1975\", \"1974\", \"1973\", \"1972\", \"1971\", \"1970\", \"1969\", \"1968\", \"1967\", \"1966\", \"1965\", \"1964\", \"1963\", \"1962\", \"1961\", \"1960\"], \"xaxis\": \"x\", \"y\": [null, null, null, null, null, null, 851188.316394, 844540.145047, 837891.9137, 847350.0328, 860949.2321, 1056781.9643, 817666.9352, 685180.9223, 664668.056, 646904.3277, 649258.6359, 663278.6595, 645133.735, 615109.3559, 627784.0455, 615241.24, 618830.2013, 638824.4212, 604583.3811, 568369.2592, 719489.8897, 567541.5807, 640216.62, 527745.8011, 480854.5585, 548779.9922, 482815.1776, 481742.6656, 485630.0988, 533795.4983, 542150.9701, 494563.2655, 553508.0759, 573162.6242, 480375.468, 485817.5341, 440839.3316, 449188.1273, 416763.7193, 457924.6329, 427373.23494, 410386.04842, 528461.2537100001, null, null, null, null, null, null, null, null, null, null], \"yaxis\": \"y\"}, {\"hoverlabel\": {\"namelength\": 0}, \"hovertemplate\": \"Country=North America<br>Date=%{x}<br>Methan Oxyd Emission=%{y}\", \"legendgroup\": \"Country=North America\", \"line\": {\"color\": \"#FFA15A\", \"dash\": \"solid\"}, \"mode\": \"lines\", \"name\": \"Country=North America\", \"showlegend\": true, \"type\": \"scatter\", \"x\": [\"2018\", \"2017\", \"2016\", \"2015\", \"2014\", \"2013\", \"2012\", \"2011\", \"2010\", \"2009\", \"2008\", \"2007\", \"2006\", \"2005\", \"2004\", \"2003\", \"2002\", \"2001\", \"2000\", \"1999\", \"1998\", \"1997\", \"1996\", \"1995\", \"1994\", \"1993\", \"1992\", \"1991\", \"1990\", \"1989\", \"1988\", \"1987\", \"1986\", \"1985\", \"1984\", \"1983\", \"1982\", \"1981\", \"1980\", \"1979\", \"1978\", \"1977\", \"1976\", \"1975\", \"1974\", \"1973\", \"1972\", \"1971\", \"1970\", \"1969\", \"1968\", \"1967\", \"1966\", \"1965\", \"1964\", \"1963\", \"1962\", \"1961\", \"1960\"], \"xaxis\": \"x\", \"y\": [null, null, null, null, null, null, 606687.079302027, 620667.141101014, 629268.3529, 632553.879, 655677.4193, 650999.9614, 648751.7162, 646943.3213, 658640.9943, 662416.5822, 657823.2319, 654490.8384, 658805.5171, 673069.0423, 692751.6326, 687839.5834, 696626.9665, 714152.1052, 719746.8384, 706494.3629, 706618.8345, 708821.2707, 714823.5812, 714003.6998, 696462.875, 679067.0462, 672132.8011, 675568.9878, 678799.4363, 660584.0723, 674978.9669, 686864.0682, 686534.0306, 673245.2242, 644041.9584, 649217.6596, 657349.7867, 654641.948, 654702.8776, 656679.336, 652288.95, 647667.3561, 661570.4698, null, null, null, null, null, null, null, null, null, null], \"yaxis\": \"y\"}, {\"hoverlabel\": {\"namelength\": 0}, \"hovertemplate\": \"Country=Middle East<br>Date=%{x}<br>Methan Oxyd Emission=%{y}\", \"legendgroup\": \"Country=Middle East\", \"line\": {\"color\": \"#19d3f3\", \"dash\": \"solid\"}, \"mode\": \"lines\", \"name\": \"Country=Middle East\", \"showlegend\": true, \"type\": \"scatter\", \"x\": [\"2018\", \"2017\", \"2016\", \"2015\", \"2014\", \"2013\", \"2012\", \"2011\", \"2010\", \"2009\", \"2008\", \"2007\", \"2006\", \"2005\", \"2004\", \"2003\", \"2002\", \"2001\", \"2000\", \"1999\", \"1998\", \"1997\", \"1996\", \"1995\", \"1994\", \"1993\", \"1992\", \"1991\", \"1990\", \"1989\", \"1988\", \"1987\", \"1986\", \"1985\", \"1984\", \"1983\", \"1982\", \"1981\", \"1980\", \"1979\", \"1978\", \"1977\", \"1976\", \"1975\", \"1974\", \"1973\", \"1972\", \"1971\", \"1970\", \"1969\", \"1968\", \"1967\", \"1966\", \"1965\", \"1964\", \"1963\", \"1962\", \"1961\", \"1960\"], \"xaxis\": \"x\", \"y\": [null, null, null, null, null, null, 476559.404985406, 469446.36914270296, 462334.487, 443887.18700000003, 439231.726, 424225.083, 418018.42100000003, 402199.249, 384455.786, 368705.601, 344363.179, 335936.04799999995, 337183.81700000004, 320368.30100000004, 310888.941, 305369.669, 292895.697, 283766.432, 274360.71, 264771.769, 258494.657, 245967.488, 246030.62399999998, 233790.51899999997, 222115.901, 215061.832, 212015.264, 201208.836, 199919.099, 213740.307, 220563.16, 226085.18399999998, 265616.445, 286859.619, 302318.252, 306169.001, 310465.529, 274040.841, 286965.69399999996, 293913.109, 260761.94199999998, 242013.6, 229788.426, null, null, null, null, null, null, null, null, null, null], \"yaxis\": \"y\"}, {\"hoverlabel\": {\"namelength\": 0}, \"hovertemplate\": \"Country=Europe<br>Date=%{x}<br>Methan Oxyd Emission=%{y}\", \"legendgroup\": \"Country=Europe\", \"line\": {\"color\": \"#FF6692\", \"dash\": \"solid\"}, \"mode\": \"lines\", \"name\": \"Country=Europe\", \"showlegend\": true, \"type\": \"scatter\", \"x\": [\"2018\", \"2017\", \"2016\", \"2015\", \"2014\", \"2013\", \"2012\", \"2011\", \"2010\", \"2009\", \"2008\", \"2007\", \"2006\", \"2005\", \"2004\", \"2003\", \"2002\", \"2001\", \"2000\", \"1999\", \"1998\", \"1997\", \"1996\", \"1995\", \"1994\", \"1993\", \"1992\", \"1991\", \"1990\", \"1989\", \"1988\", \"1987\", \"1986\", \"1985\", \"1984\", \"1983\", \"1982\", \"1981\", \"1980\", \"1979\", \"1978\", \"1977\", \"1976\", \"1975\", \"1974\", \"1973\", \"1972\", \"1971\", \"1970\", \"1969\", \"1968\", \"1967\", \"1966\", \"1965\", \"1964\", \"1963\", \"1962\", \"1961\", \"1960\"], \"xaxis\": \"x\", \"y\": [null, null, null, null, null, null, 308804.682412662, 313613.166056331, 317055.19, 317961.48600000003, 317568.17, 321012.439, 322608.419, 326534.541, 330208.618, 335580.05100000004, 340219.87799999997, 347076.291, 352961.295, 356930.81899999996, 362181.11600000004, 367650.585, 371658.88200000004, 359600.16, 362037.38399999996, 367619.416, 376930.26399999997, 386794.906, 392976.18, 391944.45, 387689.211, 390996.00399999996, 397621.499, 398309.775, 395170.434, 392955.68799999997, 394506.31, 397275.49700000003, 398555.895, 397092.922, 390953.277, 387337.97, 382060.15, 377345.38899999997, 376315.344, 371431.019, 367922.715, 367594.398, 370604.73, null, null, null, null, null, null, null, null, null, null], \"yaxis\": \"y\"}, {\"hoverlabel\": {\"namelength\": 0}, \"hovertemplate\": \"Country=Russia<br>Date=%{x}<br>Methan Oxyd Emission=%{y}\", \"legendgroup\": \"Country=Russia\", \"line\": {\"color\": \"#B6E880\", \"dash\": \"solid\"}, \"mode\": \"lines\", \"name\": \"Country=Russia\", \"showlegend\": true, \"type\": \"scatter\", \"x\": [\"1992\", \"1991\", \"1993\", \"1995\", \"1994\", \"1990\", \"1996\", \"1997\", \"1989\", \"1998\", \"1999\", \"2018\", \"2000\", \"1988\", \"2017\", \"2001\", \"2016\", \"2015\", \"2002\", \"2014\", \"1987\", \"2003\", \"2013\", \"2004\", \"2012\", \"2005\", \"2011\", \"2010\", \"2006\", \"2009\", \"2008\", \"2007\", \"1986\", \"1985\", \"1984\", \"1983\", \"1982\", \"1981\", \"1980\", \"1979\", \"1978\", \"1977\", \"1976\", \"1975\", \"1974\", \"1973\", \"1972\", \"1971\", \"1970\", \"1969\", \"1968\", \"1967\", \"1966\", \"1965\", \"1964\", \"1963\", \"1962\", \"1961\", \"1960\"], \"xaxis\": \"x\", \"y\": [576744.0, 601461.0, 553641.0, 485644.0, 514496.0, 624883.0, 490520.0, 451678.0, 611597.0, 498651.0, 455382.0, null, 465970.0, 600128.0, null, 470194.0, null, null, 489125.0, null, 577899.0, 509646.0, null, 486820.0, 545818.581, 494483.0, 539682.7905, 533546.0, 495215.0, 507742.0, 511550.0, 504013.0, 562391.0, 540792.0, 525561.0, 504821.0, 492411.0, 474129.0, 460809.0, 446764.0, 434155.0, 420972.0, 411531.0, 395119.0, 380300.0, 369515.0, 366735.0, 344005.0, 338496.0, null, null, null, null, null, null, null, null, null, null], \"yaxis\": \"y\"}],\n",
       "                        {\"height\": 600, \"legend\": {\"tracegroupgap\": 0}, \"template\": {\"data\": {\"bar\": [{\"error_x\": {\"color\": \"#2a3f5f\"}, \"error_y\": {\"color\": \"#2a3f5f\"}, \"marker\": {\"line\": {\"color\": \"#E5ECF6\", \"width\": 0.5}}, \"type\": \"bar\"}], \"barpolar\": [{\"marker\": {\"line\": {\"color\": \"#E5ECF6\", \"width\": 0.5}}, \"type\": \"barpolar\"}], \"carpet\": [{\"aaxis\": {\"endlinecolor\": \"#2a3f5f\", \"gridcolor\": \"white\", \"linecolor\": \"white\", \"minorgridcolor\": \"white\", \"startlinecolor\": \"#2a3f5f\"}, \"baxis\": {\"endlinecolor\": \"#2a3f5f\", \"gridcolor\": \"white\", \"linecolor\": \"white\", \"minorgridcolor\": \"white\", \"startlinecolor\": \"#2a3f5f\"}, \"type\": \"carpet\"}], \"choropleth\": [{\"colorbar\": {\"outlinewidth\": 0, \"ticks\": \"\"}, \"type\": \"choropleth\"}], \"contour\": [{\"colorbar\": {\"outlinewidth\": 0, \"ticks\": \"\"}, \"colorscale\": [[0.0, \"#0d0887\"], [0.1111111111111111, \"#46039f\"], [0.2222222222222222, \"#7201a8\"], [0.3333333333333333, \"#9c179e\"], [0.4444444444444444, \"#bd3786\"], [0.5555555555555556, \"#d8576b\"], [0.6666666666666666, \"#ed7953\"], [0.7777777777777778, \"#fb9f3a\"], [0.8888888888888888, \"#fdca26\"], [1.0, \"#f0f921\"]], \"type\": \"contour\"}], \"contourcarpet\": [{\"colorbar\": {\"outlinewidth\": 0, \"ticks\": \"\"}, \"type\": \"contourcarpet\"}], \"heatmap\": [{\"colorbar\": {\"outlinewidth\": 0, \"ticks\": \"\"}, \"colorscale\": [[0.0, \"#0d0887\"], [0.1111111111111111, \"#46039f\"], [0.2222222222222222, \"#7201a8\"], [0.3333333333333333, \"#9c179e\"], [0.4444444444444444, \"#bd3786\"], [0.5555555555555556, \"#d8576b\"], [0.6666666666666666, \"#ed7953\"], [0.7777777777777778, \"#fb9f3a\"], [0.8888888888888888, \"#fdca26\"], [1.0, \"#f0f921\"]], \"type\": \"heatmap\"}], \"heatmapgl\": [{\"colorbar\": {\"outlinewidth\": 0, \"ticks\": \"\"}, \"colorscale\": [[0.0, \"#0d0887\"], [0.1111111111111111, \"#46039f\"], [0.2222222222222222, \"#7201a8\"], [0.3333333333333333, \"#9c179e\"], [0.4444444444444444, \"#bd3786\"], [0.5555555555555556, \"#d8576b\"], [0.6666666666666666, \"#ed7953\"], [0.7777777777777778, \"#fb9f3a\"], [0.8888888888888888, \"#fdca26\"], [1.0, \"#f0f921\"]], \"type\": \"heatmapgl\"}], \"histogram\": [{\"marker\": {\"colorbar\": {\"outlinewidth\": 0, \"ticks\": \"\"}}, \"type\": \"histogram\"}], \"histogram2d\": [{\"colorbar\": {\"outlinewidth\": 0, \"ticks\": \"\"}, \"colorscale\": [[0.0, \"#0d0887\"], [0.1111111111111111, \"#46039f\"], [0.2222222222222222, \"#7201a8\"], [0.3333333333333333, \"#9c179e\"], [0.4444444444444444, \"#bd3786\"], [0.5555555555555556, \"#d8576b\"], [0.6666666666666666, \"#ed7953\"], [0.7777777777777778, \"#fb9f3a\"], [0.8888888888888888, \"#fdca26\"], [1.0, \"#f0f921\"]], \"type\": \"histogram2d\"}], \"histogram2dcontour\": [{\"colorbar\": {\"outlinewidth\": 0, \"ticks\": \"\"}, \"colorscale\": [[0.0, \"#0d0887\"], [0.1111111111111111, \"#46039f\"], [0.2222222222222222, \"#7201a8\"], [0.3333333333333333, \"#9c179e\"], [0.4444444444444444, \"#bd3786\"], [0.5555555555555556, \"#d8576b\"], [0.6666666666666666, \"#ed7953\"], [0.7777777777777778, \"#fb9f3a\"], [0.8888888888888888, \"#fdca26\"], [1.0, \"#f0f921\"]], \"type\": \"histogram2dcontour\"}], \"mesh3d\": [{\"colorbar\": {\"outlinewidth\": 0, \"ticks\": \"\"}, \"type\": \"mesh3d\"}], \"parcoords\": [{\"line\": {\"colorbar\": {\"outlinewidth\": 0, \"ticks\": \"\"}}, \"type\": \"parcoords\"}], \"pie\": [{\"automargin\": true, \"type\": \"pie\"}], \"scatter\": [{\"marker\": {\"colorbar\": {\"outlinewidth\": 0, \"ticks\": \"\"}}, \"type\": \"scatter\"}], \"scatter3d\": [{\"line\": {\"colorbar\": {\"outlinewidth\": 0, \"ticks\": \"\"}}, \"marker\": {\"colorbar\": {\"outlinewidth\": 0, \"ticks\": \"\"}}, \"type\": \"scatter3d\"}], \"scattercarpet\": [{\"marker\": {\"colorbar\": {\"outlinewidth\": 0, \"ticks\": \"\"}}, \"type\": \"scattercarpet\"}], \"scattergeo\": [{\"marker\": {\"colorbar\": {\"outlinewidth\": 0, \"ticks\": \"\"}}, \"type\": \"scattergeo\"}], \"scattergl\": [{\"marker\": {\"colorbar\": {\"outlinewidth\": 0, \"ticks\": \"\"}}, \"type\": \"scattergl\"}], \"scattermapbox\": [{\"marker\": {\"colorbar\": {\"outlinewidth\": 0, \"ticks\": \"\"}}, \"type\": \"scattermapbox\"}], \"scatterpolar\": [{\"marker\": {\"colorbar\": {\"outlinewidth\": 0, \"ticks\": \"\"}}, \"type\": \"scatterpolar\"}], \"scatterpolargl\": [{\"marker\": {\"colorbar\": {\"outlinewidth\": 0, \"ticks\": \"\"}}, \"type\": \"scatterpolargl\"}], \"scatterternary\": [{\"marker\": {\"colorbar\": {\"outlinewidth\": 0, \"ticks\": \"\"}}, \"type\": \"scatterternary\"}], \"surface\": [{\"colorbar\": {\"outlinewidth\": 0, \"ticks\": \"\"}, \"colorscale\": [[0.0, \"#0d0887\"], [0.1111111111111111, \"#46039f\"], [0.2222222222222222, \"#7201a8\"], [0.3333333333333333, \"#9c179e\"], [0.4444444444444444, \"#bd3786\"], [0.5555555555555556, \"#d8576b\"], [0.6666666666666666, \"#ed7953\"], [0.7777777777777778, \"#fb9f3a\"], [0.8888888888888888, \"#fdca26\"], [1.0, \"#f0f921\"]], \"type\": \"surface\"}], \"table\": [{\"cells\": {\"fill\": {\"color\": \"#EBF0F8\"}, \"line\": {\"color\": \"white\"}}, \"header\": {\"fill\": {\"color\": \"#C8D4E3\"}, \"line\": {\"color\": \"white\"}}, \"type\": \"table\"}]}, \"layout\": {\"annotationdefaults\": {\"arrowcolor\": \"#2a3f5f\", \"arrowhead\": 0, \"arrowwidth\": 1}, \"coloraxis\": {\"colorbar\": {\"outlinewidth\": 0, \"ticks\": \"\"}}, \"colorscale\": {\"diverging\": [[0, \"#8e0152\"], [0.1, \"#c51b7d\"], [0.2, \"#de77ae\"], [0.3, \"#f1b6da\"], [0.4, \"#fde0ef\"], [0.5, \"#f7f7f7\"], [0.6, \"#e6f5d0\"], [0.7, \"#b8e186\"], [0.8, \"#7fbc41\"], [0.9, \"#4d9221\"], [1, \"#276419\"]], \"sequential\": [[0.0, \"#0d0887\"], [0.1111111111111111, \"#46039f\"], [0.2222222222222222, \"#7201a8\"], [0.3333333333333333, \"#9c179e\"], [0.4444444444444444, \"#bd3786\"], [0.5555555555555556, \"#d8576b\"], [0.6666666666666666, \"#ed7953\"], [0.7777777777777778, \"#fb9f3a\"], [0.8888888888888888, \"#fdca26\"], [1.0, \"#f0f921\"]], \"sequentialminus\": [[0.0, \"#0d0887\"], [0.1111111111111111, \"#46039f\"], [0.2222222222222222, \"#7201a8\"], [0.3333333333333333, \"#9c179e\"], [0.4444444444444444, \"#bd3786\"], [0.5555555555555556, \"#d8576b\"], [0.6666666666666666, \"#ed7953\"], [0.7777777777777778, \"#fb9f3a\"], [0.8888888888888888, \"#fdca26\"], [1.0, \"#f0f921\"]]}, \"colorway\": [\"#636efa\", \"#EF553B\", \"#00cc96\", \"#ab63fa\", \"#FFA15A\", \"#19d3f3\", \"#FF6692\", \"#B6E880\", \"#FF97FF\", \"#FECB52\"], \"font\": {\"color\": \"#2a3f5f\"}, \"geo\": {\"bgcolor\": \"white\", \"lakecolor\": \"white\", \"landcolor\": \"#E5ECF6\", \"showlakes\": true, \"showland\": true, \"subunitcolor\": \"white\"}, \"hoverlabel\": {\"align\": \"left\"}, \"hovermode\": \"closest\", \"mapbox\": {\"style\": \"light\"}, \"paper_bgcolor\": \"white\", \"plot_bgcolor\": \"#E5ECF6\", \"polar\": {\"angularaxis\": {\"gridcolor\": \"white\", \"linecolor\": \"white\", \"ticks\": \"\"}, \"bgcolor\": \"#E5ECF6\", \"radialaxis\": {\"gridcolor\": \"white\", \"linecolor\": \"white\", \"ticks\": \"\"}}, \"scene\": {\"xaxis\": {\"backgroundcolor\": \"#E5ECF6\", \"gridcolor\": \"white\", \"gridwidth\": 2, \"linecolor\": \"white\", \"showbackground\": true, \"ticks\": \"\", \"zerolinecolor\": \"white\"}, \"yaxis\": {\"backgroundcolor\": \"#E5ECF6\", \"gridcolor\": \"white\", \"gridwidth\": 2, \"linecolor\": \"white\", \"showbackground\": true, \"ticks\": \"\", \"zerolinecolor\": \"white\"}, \"zaxis\": {\"backgroundcolor\": \"#E5ECF6\", \"gridcolor\": \"white\", \"gridwidth\": 2, \"linecolor\": \"white\", \"showbackground\": true, \"ticks\": \"\", \"zerolinecolor\": \"white\"}}, \"shapedefaults\": {\"line\": {\"color\": \"#2a3f5f\"}}, \"ternary\": {\"aaxis\": {\"gridcolor\": \"white\", \"linecolor\": \"white\", \"ticks\": \"\"}, \"baxis\": {\"gridcolor\": \"white\", \"linecolor\": \"white\", \"ticks\": \"\"}, \"bgcolor\": \"#E5ECF6\", \"caxis\": {\"gridcolor\": \"white\", \"linecolor\": \"white\", \"ticks\": \"\"}}, \"title\": {\"x\": 0.05}, \"xaxis\": {\"automargin\": true, \"gridcolor\": \"white\", \"linecolor\": \"white\", \"ticks\": \"\", \"title\": {\"standoff\": 15}, \"zerolinecolor\": \"white\", \"zerolinewidth\": 2}, \"yaxis\": {\"automargin\": true, \"gridcolor\": \"white\", \"linecolor\": \"white\", \"ticks\": \"\", \"title\": {\"standoff\": 15}, \"zerolinecolor\": \"white\", \"zerolinewidth\": 2}}}, \"title\": {\"text\": \"Evolution des \\u00e9missions de protoxyde d'azote\"}, \"xaxis\": {\"anchor\": \"y\", \"domain\": [0.0, 1.0], \"title\": {\"text\": \"Date\"}}, \"yaxis\": {\"anchor\": \"x\", \"domain\": [0.0, 1.0], \"title\": {\"text\": \"Methan Oxyd Emission\"}}},\n",
       "                        {\"responsive\": true}\n",
       "                    ).then(function(){\n",
       "                            \n",
       "var gd = document.getElementById('b45492df-88b4-47c5-8143-fe95f09c60c1');\n",
       "var x = new MutationObserver(function (mutations, observer) {{\n",
       "        var display = window.getComputedStyle(gd).display;\n",
       "        if (!display || display === 'none') {{\n",
       "            console.log([gd, 'removed!']);\n",
       "            Plotly.purge(gd);\n",
       "            observer.disconnect();\n",
       "        }}\n",
       "}});\n",
       "\n",
       "// Listen for the removal of the full notebook cells\n",
       "var notebookContainer = gd.closest('#notebook-container');\n",
       "if (notebookContainer) {{\n",
       "    x.observe(notebookContainer, {childList: true});\n",
       "}}\n",
       "\n",
       "// Listen for the clearing of the current output cell\n",
       "var outputEl = gd.closest('.output');\n",
       "if (outputEl) {{\n",
       "    x.observe(outputEl, {childList: true});\n",
       "}}\n",
       "\n",
       "                        })\n",
       "                };\n",
       "                });\n",
       "            </script>\n",
       "        </div>"
      ]
     },
     "metadata": {},
     "output_type": "display_data"
    },
    {
     "data": {
      "application/vnd.plotly.v1+json": {
       "config": {
        "plotlyServerURL": "https://plot.ly"
       },
       "data": [
        {
         "hoverlabel": {
          "namelength": 0
         },
         "hovertemplate": "Country=World<br>Date=%{x}<br>CO2 Emission=%{y}",
         "legendgroup": "Country=World",
         "line": {
          "color": "#636efa",
          "dash": "solid"
         },
         "mode": "lines",
         "name": "Country=World",
         "showlegend": true,
         "type": "scatter",
         "x": [
          "2018",
          "2017",
          "2016",
          "2015",
          "2014",
          "2013",
          "2012",
          "2011",
          "2010",
          "2009",
          "2008",
          "2007",
          "2006",
          "2005",
          "2004",
          "2003",
          "2002",
          "2001",
          "2000",
          "1999",
          "1998",
          "1997",
          "1996",
          "1995",
          "1994",
          "1993",
          "1992",
          "1991",
          "1990",
          "1989",
          "1988",
          "1987",
          "1986",
          "1985",
          "1984",
          "1983",
          "1982",
          "1981",
          "1980",
          "1979",
          "1978",
          "1977",
          "1976",
          "1975",
          "1974",
          "1973",
          "1972",
          "1971",
          "1970",
          "1969",
          "1968",
          "1967",
          "1966",
          "1965",
          "1964",
          "1963",
          "1962",
          "1961",
          "1960"
         ],
         "xaxis": "x",
         "y": [
          null,
          null,
          null,
          null,
          36138285,
          35837591,
          35470891,
          34847501,
          33472376,
          31891899,
          32181592,
          31180501,
          30568112,
          29490014,
          28393581,
          27047792,
          25646998,
          25276631,
          24689911,
          24059187,
          24114192,
          23975007.348,
          23571556.674000002,
          23037524.13,
          22551690.634,
          22162174.56,
          22183417.491,
          22403928.869000003,
          22149402.399,
          22029385.156,
          21565403.313,
          20817151.963,
          20315356.016,
          19719241.162,
          19145865.375,
          18484356.91,
          18562354,
          18726246.898,
          19324327.264000002,
          19533547.949,
          18497906.475,
          18279804.316,
          17726098.317,
          16745791.873,
          16850822.087,
          16822109.477,
          15957192.522,
          15323175.556,
          14788798.314000001,
          13797116.836,
          13017193.607,
          12389685.566,
          12009447.002,
          11433441.976,
          10947007.092,
          10355747.346,
          9818839.874,
          9434402.595,
          9396705.835
         ],
         "yaxis": "y"
        },
        {
         "hoverlabel": {
          "namelength": 0
         },
         "hovertemplate": "Country=Asia Pacific<br>Date=%{x}<br>CO2 Emission=%{y}",
         "legendgroup": "Country=Asia Pacific",
         "line": {
          "color": "#EF553B",
          "dash": "solid"
         },
         "mode": "lines",
         "name": "Country=Asia Pacific",
         "showlegend": true,
         "type": "scatter",
         "x": [
          "2018",
          "2017",
          "2016",
          "2015",
          "2014",
          "2013",
          "2012",
          "2011",
          "2010",
          "2009",
          "2008",
          "2007",
          "2006",
          "2005",
          "2004",
          "2003",
          "2002",
          "2001",
          "2000",
          "1999",
          "1998",
          "1997",
          "1996",
          "1995",
          "1994",
          "1993",
          "1992",
          "1991",
          "1990",
          "1989",
          "1988",
          "1987",
          "1986",
          "1985",
          "1984",
          "1983",
          "1982",
          "1981",
          "1980",
          "1979",
          "1978",
          "1977",
          "1976",
          "1975",
          "1974",
          "1973",
          "1972",
          "1971",
          "1970",
          "1969",
          "1968",
          "1967",
          "1966",
          "1965",
          "1964",
          "1963",
          "1962",
          "1961",
          "1960"
         ],
         "xaxis": "x",
         "y": [
          null,
          null,
          null,
          null,
          14272114.6815449,
          14258139.274655402,
          14109486.4296155,
          13753828.8306651,
          12584718.184775399,
          11631078.2348174,
          11224859.741230698,
          10634881.153433802,
          10029012.4179611,
          9373914.30299666,
          8716017.43856854,
          7900304.85077778,
          7132996.3231742,
          6681613.48013782,
          6547512.56528968,
          6313362.34652766,
          6184239.13673583,
          6523428.28242819,
          6413087.36897593,
          6122092.977311499,
          5758134.25389388,
          5447899.73718718,
          5156986.82439685,
          4912997.30841039,
          4703785.13167394,
          4559018.58064161,
          4421226.09811271,
          4093944.87805174,
          3913007.9855406,
          3782659.9415098,
          3613904.52075002,
          3379308.41184069,
          3279927.00974151,
          3161341.91927784,
          3193797.44890909,
          3203041.88596941,
          3081138.27963793,
          2903579.16220653,
          2701949.69363129,
          2570142.39150683,
          2434009.16691184,
          2412761.03573594,
          2264146.33962921,
          2127031.63433671,
          1971531.75854444,
          1608550.07805351,
          1376913.79181703,
          1241556.91114791,
          1230384.45503114,
          1134631.20721679,
          1046001.61295184,
          991794.6224782859,
          948555.1622953641,
          1041180.50508214,
          1210071.82510335
         ],
         "yaxis": "y"
        },
        {
         "hoverlabel": {
          "namelength": 0
         },
         "hovertemplate": "Country=Latin America<br>Date=%{x}<br>CO2 Emission=%{y}",
         "legendgroup": "Country=Latin America",
         "line": {
          "color": "#00cc96",
          "dash": "solid"
         },
         "mode": "lines",
         "name": "Country=Latin America",
         "showlegend": true,
         "type": "scatter",
         "x": [
          "2018",
          "2017",
          "2016",
          "2015",
          "2014",
          "2013",
          "2012",
          "2011",
          "2010",
          "2009",
          "2008",
          "2007",
          "2006",
          "2005",
          "2004",
          "2003",
          "2002",
          "2001",
          "2000",
          "1999",
          "1998",
          "1997",
          "1996",
          "1995",
          "1994",
          "1993",
          "1992",
          "1991",
          "1990",
          "1989",
          "1988",
          "1987",
          "1986",
          "1985",
          "1984",
          "1983",
          "1982",
          "1981",
          "1980",
          "1979",
          "1978",
          "1977",
          "1976",
          "1975",
          "1974",
          "1973",
          "1972",
          "1971",
          "1970",
          "1969",
          "1968",
          "1967",
          "1966",
          "1965",
          "1964",
          "1963",
          "1962",
          "1961",
          "1960"
         ],
         "xaxis": "x",
         "y": [
          null,
          null,
          null,
          null,
          1912531.50401786,
          1874741.57657565,
          1847427.22022797,
          1768915.68527039,
          1732851.36795638,
          1645895.05116335,
          1681713.72916438,
          1600704.86119156,
          1572705.70132022,
          1526838.14233386,
          1449766.94698418,
          1440172.12654708,
          1405749.12646068,
          1389064.26221726,
          1357198.14407046,
          1365147.92547218,
          1340747.7537167,
          1262083.62464046,
          1196088.52922126,
          1140823.40560974,
          1129594.71156058,
          1089708.09766438,
          1051596.78607558,
          1031335.26456295,
          1012610.84966029,
          1051772.86254728,
          993454.141778767,
          970270.3194756809,
          923999.444716975,
          890060.02673428,
          865058.696124236,
          859240.191099891,
          895502.543909963,
          872563.5624896091,
          881401.1382591521,
          838732.1014139559,
          783435.829096862,
          727231.229699832,
          695391.387426498,
          663905.197090024,
          651795.410241531,
          616084.009922567,
          564421.0459252179,
          537867.369444954,
          510025.655384126,
          462308.702471744,
          427248.76624699705,
          400427.058825113,
          372972.500568848,
          354400.189905728,
          342186.168802161,
          316108.991773667,
          315874.46469974896,
          297789.60831017897,
          291252.554415555
         ],
         "yaxis": "y"
        },
        {
         "hoverlabel": {
          "namelength": 0
         },
         "hovertemplate": "Country=Africa<br>Date=%{x}<br>CO2 Emission=%{y}",
         "legendgroup": "Country=Africa",
         "line": {
          "color": "#ab63fa",
          "dash": "solid"
         },
         "mode": "lines",
         "name": "Country=Africa",
         "showlegend": true,
         "type": "scatter",
         "x": [
          "2018",
          "2017",
          "2016",
          "2015",
          "2014",
          "2013",
          "2012",
          "2011",
          "2010",
          "2009",
          "2008",
          "2007",
          "2006",
          "2005",
          "2004",
          "2003",
          "2002",
          "2001",
          "2000",
          "1999",
          "1998",
          "1997",
          "1996",
          "1995",
          "1994",
          "1993",
          "1992",
          "1991",
          "1990",
          "1989",
          "1988",
          "1987",
          "1986",
          "1985",
          "1984",
          "1983",
          "1982",
          "1981",
          "1980",
          "1979",
          "1978",
          "1977",
          "1976",
          "1975",
          "1974",
          "1973",
          "1972",
          "1971",
          "1970",
          "1969",
          "1968",
          "1967",
          "1966",
          "1965",
          "1964",
          "1963",
          "1962",
          "1961",
          "1960"
         ],
         "xaxis": "x",
         "y": [
          null,
          null,
          null,
          null,
          822819.0340742429,
          784109.182285252,
          767551.980068843,
          757777.9736951779,
          746611.911868295,
          743994.403343226,
          754971.6491378909,
          721088.427042521,
          695990.703858024,
          663129.309701719,
          690781.602733878,
          625891.826328114,
          571035.215555922,
          573267.68746627,
          564526.615857096,
          523849.71887700004,
          519714.277543901,
          532827.7360952339,
          511091.678739255,
          500758.62881921796,
          466742.12481875205,
          458492.822286055,
          437483.80720278295,
          453466.830859884,
          438830.25361437,
          481497.976564295,
          505904.52453451796,
          475233.49277081,
          482696.529019139,
          476651.655768622,
          464893.186188336,
          433261.823575716,
          426457.618956291,
          404131.78782537795,
          378496.90969957,
          365707.387231111,
          324275.438861956,
          318915.452728492,
          316295.015063243,
          300695.222087309,
          309676.92107345304,
          291761.911864869,
          274572.734111859,
          260423.45316881101,
          226258.207050609,
          205192.492539505,
          189021.88574745102,
          184956.898957183,
          177902.732320226,
          174355.175167181,
          157082.703823918,
          143107.05279729998,
          136503.804032449,
          131878.754307474,
          126086.808539963
         ],
         "yaxis": "y"
        },
        {
         "hoverlabel": {
          "namelength": 0
         },
         "hovertemplate": "Country=North America<br>Date=%{x}<br>CO2 Emission=%{y}",
         "legendgroup": "Country=North America",
         "line": {
          "color": "#FFA15A",
          "dash": "solid"
         },
         "mode": "lines",
         "name": "Country=North America",
         "showlegend": true,
         "type": "scatter",
         "x": [
          "2018",
          "2017",
          "2016",
          "2015",
          "2014",
          "2013",
          "2012",
          "2011",
          "2010",
          "2009",
          "2008",
          "2007",
          "2006",
          "2005",
          "2004",
          "2003",
          "2002",
          "2001",
          "2000",
          "1999",
          "1998",
          "1997",
          "1996",
          "1995",
          "1994",
          "1993",
          "1992",
          "1991",
          "1990",
          "1989",
          "1988",
          "1987",
          "1986",
          "1985",
          "1984",
          "1983",
          "1982",
          "1981",
          "1980",
          "1979",
          "1978",
          "1977",
          "1976",
          "1975",
          "1974",
          "1973",
          "1972",
          "1971",
          "1970",
          "1969",
          "1968",
          "1967",
          "1966",
          "1965",
          "1964",
          "1963",
          "1962",
          "1961",
          "1960"
         ],
         "xaxis": "x",
         "y": [
          null,
          null,
          null,
          null,
          5792048.502,
          5676780.024,
          5637370.775,
          5827237.034,
          5930811.449,
          5800746.626,
          6175789.051,
          6344115.352000001,
          6241758.381,
          6347727.347,
          6308857.147000001,
          6229363.921,
          6161201.725,
          6124249.366,
          6228582.85,
          6020572.275,
          5908065.0479999995,
          5864534.091,
          5732060.049,
          5601089.477000001,
          5551735.324,
          5474794.33,
          5350974.408,
          5248166.396000001,
          5259086.722,
          5419136.603999999,
          5349225.249,
          5120294.438999999,
          4900938.166,
          4915085.452,
          4901231.526000001,
          4751016.538,
          4721955.563,
          4966192.431,
          5166880.007,
          5344326.137,
          5307183.094,
          5150899.221,
          5012888.009,
          4803931.348,
          4988902.162,
          5152241.343,
          4946342.96,
          4709608.774,
          4670617.563,
          4332347.813999999,
          4135118.2189999996,
          3977818.587,
          3821399.035,
          3643256.175,
          3493998.2739999997,
          3330490.4110000003,
          3194551.0539999995,
          3074863.841,
          3083748.982
         ],
         "yaxis": "y"
        },
        {
         "hoverlabel": {
          "namelength": 0
         },
         "hovertemplate": "Country=Middle East<br>Date=%{x}<br>CO2 Emission=%{y}",
         "legendgroup": "Country=Middle East",
         "line": {
          "color": "#19d3f3",
          "dash": "solid"
         },
         "mode": "lines",
         "name": "Country=Middle East",
         "showlegend": true,
         "type": "scatter",
         "x": [
          "2018",
          "2017",
          "2016",
          "2015",
          "2014",
          "2013",
          "2012",
          "2011",
          "2010",
          "2009",
          "2008",
          "2007",
          "2006",
          "2005",
          "2004",
          "2003",
          "2002",
          "2001",
          "2000",
          "1999",
          "1998",
          "1997",
          "1996",
          "1995",
          "1994",
          "1993",
          "1992",
          "1991",
          "1990",
          "1989",
          "1988",
          "1987",
          "1986",
          "1985",
          "1984",
          "1983",
          "1982",
          "1981",
          "1980",
          "1979",
          "1978",
          "1977",
          "1976",
          "1975",
          "1974",
          "1973",
          "1972",
          "1971",
          "1970",
          "1969",
          "1968",
          "1967",
          "1966",
          "1965",
          "1964",
          "1963",
          "1962",
          "1961",
          "1960"
         ],
         "xaxis": "x",
         "y": [
          null,
          null,
          null,
          null,
          2593273.8930242998,
          2445353.6180000002,
          2468881.09,
          2297742.2,
          2271079.443,
          2184057.866,
          2086820.0269999998,
          1928295.6169999999,
          1941947.858,
          1833500,
          1747453.845,
          1615889.219,
          1515868.1269999999,
          1496924.405,
          1473033.9,
          1353489.7,
          1267747.906,
          1153542.858,
          1187235.82051655,
          1186766.28331436,
          1211915.86970668,
          1158095.16790561,
          1062834.13975185,
          999941.83247408,
          913726.7319812629,
          916881.43505848,
          887318.932617446,
          830537.945486939,
          819048.957070844,
          767990.454592032,
          725247.8961551391,
          677289.072862662,
          634634.55265118,
          627866.614072733,
          646347.304890194,
          637209.670744443,
          605684.649528629,
          574566.80510534,
          545550.873313731,
          462031.94347411796,
          468359.69092551206,
          461976.91958323604,
          390544.90444063296,
          363832.63954727,
          324061.371217988,
          306981.955488313,
          272067.462594188,
          228041.01337005603,
          214211.67546179198,
          188222.05766867602,
          158237.70539755,
          135940.474132045,
          118397.63768722,
          107498.48104197199,
          102252.505275326
         ],
         "yaxis": "y"
        },
        {
         "hoverlabel": {
          "namelength": 0
         },
         "hovertemplate": "Country=Europe<br>Date=%{x}<br>CO2 Emission=%{y}",
         "legendgroup": "Country=Europe",
         "line": {
          "color": "#FF6692",
          "dash": "solid"
         },
         "mode": "lines",
         "name": "Country=Europe",
         "showlegend": true,
         "type": "scatter",
         "x": [
          "2018",
          "2017",
          "2016",
          "2015",
          "2014",
          "2013",
          "2012",
          "2011",
          "2010",
          "2009",
          "2008",
          "2007",
          "2006",
          "2005",
          "2004",
          "2003",
          "2002",
          "2001",
          "2000",
          "1999",
          "1998",
          "1997",
          "1996",
          "1995",
          "1994",
          "1993",
          "1992",
          "1991",
          "1990",
          "1989",
          "1988",
          "1987",
          "1986",
          "1985",
          "1984",
          "1983",
          "1982",
          "1981",
          "1980",
          "1979",
          "1978",
          "1977",
          "1976",
          "1975",
          "1974",
          "1973",
          "1972",
          "1971",
          "1970",
          "1969",
          "1968",
          "1967",
          "1966",
          "1965",
          "1964",
          "1963",
          "1962",
          "1961",
          "1960"
         ],
         "xaxis": "x",
         "y": [
          null,
          null,
          null,
          null,
          2191542.213,
          2308651.525,
          2352138.478,
          2402097.6859999998,
          2496137.901,
          2443076.411,
          2642509.873,
          2704749.8639999996,
          2752365.8589999997,
          2750877.057,
          2767041.193,
          2741595.88,
          2701885.937,
          2702325.977,
          2637002.039,
          2618685.374,
          2648245.0609999998,
          2600981.098,
          2634270.124,
          2567956.096,
          2513970.522,
          2526548.332,
          2580075.531,
          2648355.74202849,
          218597.204,
          226671.938,
          199033.759,
          190878.35100000002,
          190467.647,
          201233.95899999997,
          198953.085,
          204867.956,
          209906.414,
          207288.176,
          215003.544,
          203745.854,
          200493.225,
          195663.78600000002,
          198443.372,
          181644.845,
          173152.073,
          155367.12300000002,
          145026.18300000002,
          128682.364,
          116929.629,
          96882.14,
          97157.165,
          86519.198,
          77729.399,
          71117.798,
          64410.855,
          58822.347,
          60054.459,
          53677.545999999995,
          48928.780999999995
         ],
         "yaxis": "y"
        },
        {
         "hoverlabel": {
          "namelength": 0
         },
         "hovertemplate": "Country=Russia<br>Date=%{x}<br>CO2 Emission=%{y}",
         "legendgroup": "Country=Russia",
         "line": {
          "color": "#B6E880",
          "dash": "solid"
         },
         "mode": "lines",
         "name": "Country=Russia",
         "showlegend": true,
         "type": "scatter",
         "x": [
          "1992",
          "1991",
          "1993",
          "1995",
          "1994",
          "1990",
          "1996",
          "1997",
          "1989",
          "1998",
          "1999",
          "2018",
          "2000",
          "1988",
          "2017",
          "2001",
          "2016",
          "2015",
          "2002",
          "2014",
          "1987",
          "2003",
          "2013",
          "2004",
          "2012",
          "2005",
          "2011",
          "2010",
          "2006",
          "2009",
          "2008",
          "2007",
          "1986",
          "1985",
          "1984",
          "1983",
          "1982",
          "1981",
          "1980",
          "1979",
          "1978",
          "1977",
          "1976",
          "1975",
          "1974",
          "1973",
          "1972",
          "1971",
          "1970",
          "1969",
          "1968",
          "1967",
          "1966",
          "1965",
          "1964",
          "1963",
          "1962",
          "1961",
          "1960"
         ],
         "xaxis": "x",
         "y": [
          2078668.2859999998,
          487.711,
          1938445.8730000001,
          1631473.969,
          1698378.384,
          542.716,
          1612966.62,
          1526011.049,
          689.3960000000001,
          1495505.2759999998,
          1531130.1809999999,
          null,
          1557899.281,
          696.73,
          null,
          1557506.9119999998,
          null,
          null,
          1557085.207,
          1705345.6840000001,
          616.056,
          1604242.8269999998,
          1778561.006,
          1602115.967,
          1830830.424,
          1615089.813,
          1763405.295,
          1670531.186,
          1669262.404,
          1574045.082,
          1714978.8930000002,
          1666886.188,
          597.721,
          616.056,
          634.391,
          696.73,
          608.722,
          601.388,
          495.045,
          297.027,
          289.693,
          267.691,
          267.691,
          176.016,
          73.34,
          69.673,
          66.006,
          62.339,
          58.672,
          58.672,
          55.005,
          40.336999999999996,
          44.004,
          47.67100000000001,
          36.67,
          84.34100000000001,
          84.34100000000001,
          139.346,
          106.34299999999999
         ],
         "yaxis": "y"
        }
       ],
       "layout": {
        "height": 600,
        "legend": {
         "tracegroupgap": 0
        },
        "template": {
         "data": {
          "bar": [
           {
            "error_x": {
             "color": "#2a3f5f"
            },
            "error_y": {
             "color": "#2a3f5f"
            },
            "marker": {
             "line": {
              "color": "#E5ECF6",
              "width": 0.5
             }
            },
            "type": "bar"
           }
          ],
          "barpolar": [
           {
            "marker": {
             "line": {
              "color": "#E5ECF6",
              "width": 0.5
             }
            },
            "type": "barpolar"
           }
          ],
          "carpet": [
           {
            "aaxis": {
             "endlinecolor": "#2a3f5f",
             "gridcolor": "white",
             "linecolor": "white",
             "minorgridcolor": "white",
             "startlinecolor": "#2a3f5f"
            },
            "baxis": {
             "endlinecolor": "#2a3f5f",
             "gridcolor": "white",
             "linecolor": "white",
             "minorgridcolor": "white",
             "startlinecolor": "#2a3f5f"
            },
            "type": "carpet"
           }
          ],
          "choropleth": [
           {
            "colorbar": {
             "outlinewidth": 0,
             "ticks": ""
            },
            "type": "choropleth"
           }
          ],
          "contour": [
           {
            "colorbar": {
             "outlinewidth": 0,
             "ticks": ""
            },
            "colorscale": [
             [
              0,
              "#0d0887"
             ],
             [
              0.1111111111111111,
              "#46039f"
             ],
             [
              0.2222222222222222,
              "#7201a8"
             ],
             [
              0.3333333333333333,
              "#9c179e"
             ],
             [
              0.4444444444444444,
              "#bd3786"
             ],
             [
              0.5555555555555556,
              "#d8576b"
             ],
             [
              0.6666666666666666,
              "#ed7953"
             ],
             [
              0.7777777777777778,
              "#fb9f3a"
             ],
             [
              0.8888888888888888,
              "#fdca26"
             ],
             [
              1,
              "#f0f921"
             ]
            ],
            "type": "contour"
           }
          ],
          "contourcarpet": [
           {
            "colorbar": {
             "outlinewidth": 0,
             "ticks": ""
            },
            "type": "contourcarpet"
           }
          ],
          "heatmap": [
           {
            "colorbar": {
             "outlinewidth": 0,
             "ticks": ""
            },
            "colorscale": [
             [
              0,
              "#0d0887"
             ],
             [
              0.1111111111111111,
              "#46039f"
             ],
             [
              0.2222222222222222,
              "#7201a8"
             ],
             [
              0.3333333333333333,
              "#9c179e"
             ],
             [
              0.4444444444444444,
              "#bd3786"
             ],
             [
              0.5555555555555556,
              "#d8576b"
             ],
             [
              0.6666666666666666,
              "#ed7953"
             ],
             [
              0.7777777777777778,
              "#fb9f3a"
             ],
             [
              0.8888888888888888,
              "#fdca26"
             ],
             [
              1,
              "#f0f921"
             ]
            ],
            "type": "heatmap"
           }
          ],
          "heatmapgl": [
           {
            "colorbar": {
             "outlinewidth": 0,
             "ticks": ""
            },
            "colorscale": [
             [
              0,
              "#0d0887"
             ],
             [
              0.1111111111111111,
              "#46039f"
             ],
             [
              0.2222222222222222,
              "#7201a8"
             ],
             [
              0.3333333333333333,
              "#9c179e"
             ],
             [
              0.4444444444444444,
              "#bd3786"
             ],
             [
              0.5555555555555556,
              "#d8576b"
             ],
             [
              0.6666666666666666,
              "#ed7953"
             ],
             [
              0.7777777777777778,
              "#fb9f3a"
             ],
             [
              0.8888888888888888,
              "#fdca26"
             ],
             [
              1,
              "#f0f921"
             ]
            ],
            "type": "heatmapgl"
           }
          ],
          "histogram": [
           {
            "marker": {
             "colorbar": {
              "outlinewidth": 0,
              "ticks": ""
             }
            },
            "type": "histogram"
           }
          ],
          "histogram2d": [
           {
            "colorbar": {
             "outlinewidth": 0,
             "ticks": ""
            },
            "colorscale": [
             [
              0,
              "#0d0887"
             ],
             [
              0.1111111111111111,
              "#46039f"
             ],
             [
              0.2222222222222222,
              "#7201a8"
             ],
             [
              0.3333333333333333,
              "#9c179e"
             ],
             [
              0.4444444444444444,
              "#bd3786"
             ],
             [
              0.5555555555555556,
              "#d8576b"
             ],
             [
              0.6666666666666666,
              "#ed7953"
             ],
             [
              0.7777777777777778,
              "#fb9f3a"
             ],
             [
              0.8888888888888888,
              "#fdca26"
             ],
             [
              1,
              "#f0f921"
             ]
            ],
            "type": "histogram2d"
           }
          ],
          "histogram2dcontour": [
           {
            "colorbar": {
             "outlinewidth": 0,
             "ticks": ""
            },
            "colorscale": [
             [
              0,
              "#0d0887"
             ],
             [
              0.1111111111111111,
              "#46039f"
             ],
             [
              0.2222222222222222,
              "#7201a8"
             ],
             [
              0.3333333333333333,
              "#9c179e"
             ],
             [
              0.4444444444444444,
              "#bd3786"
             ],
             [
              0.5555555555555556,
              "#d8576b"
             ],
             [
              0.6666666666666666,
              "#ed7953"
             ],
             [
              0.7777777777777778,
              "#fb9f3a"
             ],
             [
              0.8888888888888888,
              "#fdca26"
             ],
             [
              1,
              "#f0f921"
             ]
            ],
            "type": "histogram2dcontour"
           }
          ],
          "mesh3d": [
           {
            "colorbar": {
             "outlinewidth": 0,
             "ticks": ""
            },
            "type": "mesh3d"
           }
          ],
          "parcoords": [
           {
            "line": {
             "colorbar": {
              "outlinewidth": 0,
              "ticks": ""
             }
            },
            "type": "parcoords"
           }
          ],
          "pie": [
           {
            "automargin": true,
            "type": "pie"
           }
          ],
          "scatter": [
           {
            "marker": {
             "colorbar": {
              "outlinewidth": 0,
              "ticks": ""
             }
            },
            "type": "scatter"
           }
          ],
          "scatter3d": [
           {
            "line": {
             "colorbar": {
              "outlinewidth": 0,
              "ticks": ""
             }
            },
            "marker": {
             "colorbar": {
              "outlinewidth": 0,
              "ticks": ""
             }
            },
            "type": "scatter3d"
           }
          ],
          "scattercarpet": [
           {
            "marker": {
             "colorbar": {
              "outlinewidth": 0,
              "ticks": ""
             }
            },
            "type": "scattercarpet"
           }
          ],
          "scattergeo": [
           {
            "marker": {
             "colorbar": {
              "outlinewidth": 0,
              "ticks": ""
             }
            },
            "type": "scattergeo"
           }
          ],
          "scattergl": [
           {
            "marker": {
             "colorbar": {
              "outlinewidth": 0,
              "ticks": ""
             }
            },
            "type": "scattergl"
           }
          ],
          "scattermapbox": [
           {
            "marker": {
             "colorbar": {
              "outlinewidth": 0,
              "ticks": ""
             }
            },
            "type": "scattermapbox"
           }
          ],
          "scatterpolar": [
           {
            "marker": {
             "colorbar": {
              "outlinewidth": 0,
              "ticks": ""
             }
            },
            "type": "scatterpolar"
           }
          ],
          "scatterpolargl": [
           {
            "marker": {
             "colorbar": {
              "outlinewidth": 0,
              "ticks": ""
             }
            },
            "type": "scatterpolargl"
           }
          ],
          "scatterternary": [
           {
            "marker": {
             "colorbar": {
              "outlinewidth": 0,
              "ticks": ""
             }
            },
            "type": "scatterternary"
           }
          ],
          "surface": [
           {
            "colorbar": {
             "outlinewidth": 0,
             "ticks": ""
            },
            "colorscale": [
             [
              0,
              "#0d0887"
             ],
             [
              0.1111111111111111,
              "#46039f"
             ],
             [
              0.2222222222222222,
              "#7201a8"
             ],
             [
              0.3333333333333333,
              "#9c179e"
             ],
             [
              0.4444444444444444,
              "#bd3786"
             ],
             [
              0.5555555555555556,
              "#d8576b"
             ],
             [
              0.6666666666666666,
              "#ed7953"
             ],
             [
              0.7777777777777778,
              "#fb9f3a"
             ],
             [
              0.8888888888888888,
              "#fdca26"
             ],
             [
              1,
              "#f0f921"
             ]
            ],
            "type": "surface"
           }
          ],
          "table": [
           {
            "cells": {
             "fill": {
              "color": "#EBF0F8"
             },
             "line": {
              "color": "white"
             }
            },
            "header": {
             "fill": {
              "color": "#C8D4E3"
             },
             "line": {
              "color": "white"
             }
            },
            "type": "table"
           }
          ]
         },
         "layout": {
          "annotationdefaults": {
           "arrowcolor": "#2a3f5f",
           "arrowhead": 0,
           "arrowwidth": 1
          },
          "coloraxis": {
           "colorbar": {
            "outlinewidth": 0,
            "ticks": ""
           }
          },
          "colorscale": {
           "diverging": [
            [
             0,
             "#8e0152"
            ],
            [
             0.1,
             "#c51b7d"
            ],
            [
             0.2,
             "#de77ae"
            ],
            [
             0.3,
             "#f1b6da"
            ],
            [
             0.4,
             "#fde0ef"
            ],
            [
             0.5,
             "#f7f7f7"
            ],
            [
             0.6,
             "#e6f5d0"
            ],
            [
             0.7,
             "#b8e186"
            ],
            [
             0.8,
             "#7fbc41"
            ],
            [
             0.9,
             "#4d9221"
            ],
            [
             1,
             "#276419"
            ]
           ],
           "sequential": [
            [
             0,
             "#0d0887"
            ],
            [
             0.1111111111111111,
             "#46039f"
            ],
            [
             0.2222222222222222,
             "#7201a8"
            ],
            [
             0.3333333333333333,
             "#9c179e"
            ],
            [
             0.4444444444444444,
             "#bd3786"
            ],
            [
             0.5555555555555556,
             "#d8576b"
            ],
            [
             0.6666666666666666,
             "#ed7953"
            ],
            [
             0.7777777777777778,
             "#fb9f3a"
            ],
            [
             0.8888888888888888,
             "#fdca26"
            ],
            [
             1,
             "#f0f921"
            ]
           ],
           "sequentialminus": [
            [
             0,
             "#0d0887"
            ],
            [
             0.1111111111111111,
             "#46039f"
            ],
            [
             0.2222222222222222,
             "#7201a8"
            ],
            [
             0.3333333333333333,
             "#9c179e"
            ],
            [
             0.4444444444444444,
             "#bd3786"
            ],
            [
             0.5555555555555556,
             "#d8576b"
            ],
            [
             0.6666666666666666,
             "#ed7953"
            ],
            [
             0.7777777777777778,
             "#fb9f3a"
            ],
            [
             0.8888888888888888,
             "#fdca26"
            ],
            [
             1,
             "#f0f921"
            ]
           ]
          },
          "colorway": [
           "#636efa",
           "#EF553B",
           "#00cc96",
           "#ab63fa",
           "#FFA15A",
           "#19d3f3",
           "#FF6692",
           "#B6E880",
           "#FF97FF",
           "#FECB52"
          ],
          "font": {
           "color": "#2a3f5f"
          },
          "geo": {
           "bgcolor": "white",
           "lakecolor": "white",
           "landcolor": "#E5ECF6",
           "showlakes": true,
           "showland": true,
           "subunitcolor": "white"
          },
          "hoverlabel": {
           "align": "left"
          },
          "hovermode": "closest",
          "mapbox": {
           "style": "light"
          },
          "paper_bgcolor": "white",
          "plot_bgcolor": "#E5ECF6",
          "polar": {
           "angularaxis": {
            "gridcolor": "white",
            "linecolor": "white",
            "ticks": ""
           },
           "bgcolor": "#E5ECF6",
           "radialaxis": {
            "gridcolor": "white",
            "linecolor": "white",
            "ticks": ""
           }
          },
          "scene": {
           "xaxis": {
            "backgroundcolor": "#E5ECF6",
            "gridcolor": "white",
            "gridwidth": 2,
            "linecolor": "white",
            "showbackground": true,
            "ticks": "",
            "zerolinecolor": "white"
           },
           "yaxis": {
            "backgroundcolor": "#E5ECF6",
            "gridcolor": "white",
            "gridwidth": 2,
            "linecolor": "white",
            "showbackground": true,
            "ticks": "",
            "zerolinecolor": "white"
           },
           "zaxis": {
            "backgroundcolor": "#E5ECF6",
            "gridcolor": "white",
            "gridwidth": 2,
            "linecolor": "white",
            "showbackground": true,
            "ticks": "",
            "zerolinecolor": "white"
           }
          },
          "shapedefaults": {
           "line": {
            "color": "#2a3f5f"
           }
          },
          "ternary": {
           "aaxis": {
            "gridcolor": "white",
            "linecolor": "white",
            "ticks": ""
           },
           "baxis": {
            "gridcolor": "white",
            "linecolor": "white",
            "ticks": ""
           },
           "bgcolor": "#E5ECF6",
           "caxis": {
            "gridcolor": "white",
            "linecolor": "white",
            "ticks": ""
           }
          },
          "title": {
           "x": 0.05
          },
          "xaxis": {
           "automargin": true,
           "gridcolor": "white",
           "linecolor": "white",
           "ticks": "",
           "title": {
            "standoff": 15
           },
           "zerolinecolor": "white",
           "zerolinewidth": 2
          },
          "yaxis": {
           "automargin": true,
           "gridcolor": "white",
           "linecolor": "white",
           "ticks": "",
           "title": {
            "standoff": 15
           },
           "zerolinecolor": "white",
           "zerolinewidth": 2
          }
         }
        },
        "title": {
         "text": "Evolution des émissions de CO2"
        },
        "xaxis": {
         "anchor": "y",
         "domain": [
          0,
          1
         ],
         "title": {
          "text": "Date"
         }
        },
        "yaxis": {
         "anchor": "x",
         "domain": [
          0,
          1
         ],
         "title": {
          "text": "CO2 Emission"
         }
        }
       }
      },
      "text/html": [
       "<div>\n",
       "        \n",
       "        \n",
       "            <div id=\"475456c0-997e-4aaf-a6b3-b7ee18efedee\" class=\"plotly-graph-div\" style=\"height:600px; width:100%;\"></div>\n",
       "            <script type=\"text/javascript\">\n",
       "                require([\"plotly\"], function(Plotly) {\n",
       "                    window.PLOTLYENV=window.PLOTLYENV || {};\n",
       "                    \n",
       "                if (document.getElementById(\"475456c0-997e-4aaf-a6b3-b7ee18efedee\")) {\n",
       "                    Plotly.newPlot(\n",
       "                        '475456c0-997e-4aaf-a6b3-b7ee18efedee',\n",
       "                        [{\"hoverlabel\": {\"namelength\": 0}, \"hovertemplate\": \"Country=World<br>Date=%{x}<br>CO2 Emission=%{y}\", \"legendgroup\": \"Country=World\", \"line\": {\"color\": \"#636efa\", \"dash\": \"solid\"}, \"mode\": \"lines\", \"name\": \"Country=World\", \"showlegend\": true, \"type\": \"scatter\", \"x\": [\"2018\", \"2017\", \"2016\", \"2015\", \"2014\", \"2013\", \"2012\", \"2011\", \"2010\", \"2009\", \"2008\", \"2007\", \"2006\", \"2005\", \"2004\", \"2003\", \"2002\", \"2001\", \"2000\", \"1999\", \"1998\", \"1997\", \"1996\", \"1995\", \"1994\", \"1993\", \"1992\", \"1991\", \"1990\", \"1989\", \"1988\", \"1987\", \"1986\", \"1985\", \"1984\", \"1983\", \"1982\", \"1981\", \"1980\", \"1979\", \"1978\", \"1977\", \"1976\", \"1975\", \"1974\", \"1973\", \"1972\", \"1971\", \"1970\", \"1969\", \"1968\", \"1967\", \"1966\", \"1965\", \"1964\", \"1963\", \"1962\", \"1961\", \"1960\"], \"xaxis\": \"x\", \"y\": [null, null, null, null, 36138285.0, 35837591.0, 35470891.0, 34847501.0, 33472376.0, 31891899.0, 32181592.0, 31180501.0, 30568112.0, 29490014.0, 28393581.0, 27047792.0, 25646998.0, 25276631.0, 24689911.0, 24059187.0, 24114192.0, 23975007.348, 23571556.674000002, 23037524.13, 22551690.634, 22162174.56, 22183417.491, 22403928.869000003, 22149402.399, 22029385.156, 21565403.313, 20817151.963, 20315356.016, 19719241.162, 19145865.375, 18484356.91, 18562354.0, 18726246.898, 19324327.264000002, 19533547.949, 18497906.475, 18279804.316, 17726098.317, 16745791.873, 16850822.087, 16822109.477, 15957192.522, 15323175.556, 14788798.314000001, 13797116.836, 13017193.607, 12389685.566, 12009447.002, 11433441.976, 10947007.092, 10355747.346, 9818839.874, 9434402.595, 9396705.835], \"yaxis\": \"y\"}, {\"hoverlabel\": {\"namelength\": 0}, \"hovertemplate\": \"Country=Asia Pacific<br>Date=%{x}<br>CO2 Emission=%{y}\", \"legendgroup\": \"Country=Asia Pacific\", \"line\": {\"color\": \"#EF553B\", \"dash\": \"solid\"}, \"mode\": \"lines\", \"name\": \"Country=Asia Pacific\", \"showlegend\": true, \"type\": \"scatter\", \"x\": [\"2018\", \"2017\", \"2016\", \"2015\", \"2014\", \"2013\", \"2012\", \"2011\", \"2010\", \"2009\", \"2008\", \"2007\", \"2006\", \"2005\", \"2004\", \"2003\", \"2002\", \"2001\", \"2000\", \"1999\", \"1998\", \"1997\", \"1996\", \"1995\", \"1994\", \"1993\", \"1992\", \"1991\", \"1990\", \"1989\", \"1988\", \"1987\", \"1986\", \"1985\", \"1984\", \"1983\", \"1982\", \"1981\", \"1980\", \"1979\", \"1978\", \"1977\", \"1976\", \"1975\", \"1974\", \"1973\", \"1972\", \"1971\", \"1970\", \"1969\", \"1968\", \"1967\", \"1966\", \"1965\", \"1964\", \"1963\", \"1962\", \"1961\", \"1960\"], \"xaxis\": \"x\", \"y\": [null, null, null, null, 14272114.6815449, 14258139.274655402, 14109486.4296155, 13753828.8306651, 12584718.184775399, 11631078.2348174, 11224859.741230698, 10634881.153433802, 10029012.4179611, 9373914.30299666, 8716017.43856854, 7900304.85077778, 7132996.3231742, 6681613.48013782, 6547512.56528968, 6313362.34652766, 6184239.13673583, 6523428.28242819, 6413087.36897593, 6122092.977311499, 5758134.25389388, 5447899.73718718, 5156986.82439685, 4912997.30841039, 4703785.13167394, 4559018.58064161, 4421226.09811271, 4093944.87805174, 3913007.9855406, 3782659.9415098, 3613904.52075002, 3379308.41184069, 3279927.00974151, 3161341.91927784, 3193797.44890909, 3203041.88596941, 3081138.27963793, 2903579.16220653, 2701949.69363129, 2570142.39150683, 2434009.16691184, 2412761.03573594, 2264146.33962921, 2127031.63433671, 1971531.75854444, 1608550.07805351, 1376913.79181703, 1241556.91114791, 1230384.45503114, 1134631.20721679, 1046001.61295184, 991794.6224782859, 948555.1622953641, 1041180.50508214, 1210071.82510335], \"yaxis\": \"y\"}, {\"hoverlabel\": {\"namelength\": 0}, \"hovertemplate\": \"Country=Latin America<br>Date=%{x}<br>CO2 Emission=%{y}\", \"legendgroup\": \"Country=Latin America\", \"line\": {\"color\": \"#00cc96\", \"dash\": \"solid\"}, \"mode\": \"lines\", \"name\": \"Country=Latin America\", \"showlegend\": true, \"type\": \"scatter\", \"x\": [\"2018\", \"2017\", \"2016\", \"2015\", \"2014\", \"2013\", \"2012\", \"2011\", \"2010\", \"2009\", \"2008\", \"2007\", \"2006\", \"2005\", \"2004\", \"2003\", \"2002\", \"2001\", \"2000\", \"1999\", \"1998\", \"1997\", \"1996\", \"1995\", \"1994\", \"1993\", \"1992\", \"1991\", \"1990\", \"1989\", \"1988\", \"1987\", \"1986\", \"1985\", \"1984\", \"1983\", \"1982\", \"1981\", \"1980\", \"1979\", \"1978\", \"1977\", \"1976\", \"1975\", \"1974\", \"1973\", \"1972\", \"1971\", \"1970\", \"1969\", \"1968\", \"1967\", \"1966\", \"1965\", \"1964\", \"1963\", \"1962\", \"1961\", \"1960\"], \"xaxis\": \"x\", \"y\": [null, null, null, null, 1912531.50401786, 1874741.57657565, 1847427.22022797, 1768915.68527039, 1732851.36795638, 1645895.05116335, 1681713.72916438, 1600704.86119156, 1572705.70132022, 1526838.14233386, 1449766.94698418, 1440172.12654708, 1405749.12646068, 1389064.26221726, 1357198.14407046, 1365147.92547218, 1340747.7537167, 1262083.62464046, 1196088.52922126, 1140823.40560974, 1129594.71156058, 1089708.09766438, 1051596.78607558, 1031335.26456295, 1012610.84966029, 1051772.86254728, 993454.141778767, 970270.3194756809, 923999.444716975, 890060.02673428, 865058.696124236, 859240.191099891, 895502.543909963, 872563.5624896091, 881401.1382591521, 838732.1014139559, 783435.829096862, 727231.229699832, 695391.387426498, 663905.197090024, 651795.410241531, 616084.009922567, 564421.0459252179, 537867.369444954, 510025.655384126, 462308.702471744, 427248.76624699705, 400427.058825113, 372972.500568848, 354400.189905728, 342186.168802161, 316108.991773667, 315874.46469974896, 297789.60831017897, 291252.554415555], \"yaxis\": \"y\"}, {\"hoverlabel\": {\"namelength\": 0}, \"hovertemplate\": \"Country=Africa<br>Date=%{x}<br>CO2 Emission=%{y}\", \"legendgroup\": \"Country=Africa\", \"line\": {\"color\": \"#ab63fa\", \"dash\": \"solid\"}, \"mode\": \"lines\", \"name\": \"Country=Africa\", \"showlegend\": true, \"type\": \"scatter\", \"x\": [\"2018\", \"2017\", \"2016\", \"2015\", \"2014\", \"2013\", \"2012\", \"2011\", \"2010\", \"2009\", \"2008\", \"2007\", \"2006\", \"2005\", \"2004\", \"2003\", \"2002\", \"2001\", \"2000\", \"1999\", \"1998\", \"1997\", \"1996\", \"1995\", \"1994\", \"1993\", \"1992\", \"1991\", \"1990\", \"1989\", \"1988\", \"1987\", \"1986\", \"1985\", \"1984\", \"1983\", \"1982\", \"1981\", \"1980\", \"1979\", \"1978\", \"1977\", \"1976\", \"1975\", \"1974\", \"1973\", \"1972\", \"1971\", \"1970\", \"1969\", \"1968\", \"1967\", \"1966\", \"1965\", \"1964\", \"1963\", \"1962\", \"1961\", \"1960\"], \"xaxis\": \"x\", \"y\": [null, null, null, null, 822819.0340742429, 784109.182285252, 767551.980068843, 757777.9736951779, 746611.911868295, 743994.403343226, 754971.6491378909, 721088.427042521, 695990.703858024, 663129.309701719, 690781.602733878, 625891.826328114, 571035.215555922, 573267.68746627, 564526.615857096, 523849.71887700004, 519714.277543901, 532827.7360952339, 511091.678739255, 500758.62881921796, 466742.12481875205, 458492.822286055, 437483.80720278295, 453466.830859884, 438830.25361437, 481497.976564295, 505904.52453451796, 475233.49277081, 482696.529019139, 476651.655768622, 464893.186188336, 433261.823575716, 426457.618956291, 404131.78782537795, 378496.90969957, 365707.387231111, 324275.438861956, 318915.452728492, 316295.015063243, 300695.222087309, 309676.92107345304, 291761.911864869, 274572.734111859, 260423.45316881101, 226258.207050609, 205192.492539505, 189021.88574745102, 184956.898957183, 177902.732320226, 174355.175167181, 157082.703823918, 143107.05279729998, 136503.804032449, 131878.754307474, 126086.808539963], \"yaxis\": \"y\"}, {\"hoverlabel\": {\"namelength\": 0}, \"hovertemplate\": \"Country=North America<br>Date=%{x}<br>CO2 Emission=%{y}\", \"legendgroup\": \"Country=North America\", \"line\": {\"color\": \"#FFA15A\", \"dash\": \"solid\"}, \"mode\": \"lines\", \"name\": \"Country=North America\", \"showlegend\": true, \"type\": \"scatter\", \"x\": [\"2018\", \"2017\", \"2016\", \"2015\", \"2014\", \"2013\", \"2012\", \"2011\", \"2010\", \"2009\", \"2008\", \"2007\", \"2006\", \"2005\", \"2004\", \"2003\", \"2002\", \"2001\", \"2000\", \"1999\", \"1998\", \"1997\", \"1996\", \"1995\", \"1994\", \"1993\", \"1992\", \"1991\", \"1990\", \"1989\", \"1988\", \"1987\", \"1986\", \"1985\", \"1984\", \"1983\", \"1982\", \"1981\", \"1980\", \"1979\", \"1978\", \"1977\", \"1976\", \"1975\", \"1974\", \"1973\", \"1972\", \"1971\", \"1970\", \"1969\", \"1968\", \"1967\", \"1966\", \"1965\", \"1964\", \"1963\", \"1962\", \"1961\", \"1960\"], \"xaxis\": \"x\", \"y\": [null, null, null, null, 5792048.502, 5676780.024, 5637370.775, 5827237.034, 5930811.449, 5800746.626, 6175789.051, 6344115.352000001, 6241758.381, 6347727.347, 6308857.147000001, 6229363.921, 6161201.725, 6124249.366, 6228582.85, 6020572.275, 5908065.0479999995, 5864534.091, 5732060.049, 5601089.477000001, 5551735.324, 5474794.33, 5350974.408, 5248166.396000001, 5259086.722, 5419136.603999999, 5349225.249, 5120294.438999999, 4900938.166, 4915085.452, 4901231.526000001, 4751016.538, 4721955.563, 4966192.431, 5166880.007, 5344326.137, 5307183.094, 5150899.221, 5012888.009, 4803931.348, 4988902.162, 5152241.343, 4946342.96, 4709608.774, 4670617.563, 4332347.813999999, 4135118.2189999996, 3977818.587, 3821399.035, 3643256.175, 3493998.2739999997, 3330490.4110000003, 3194551.0539999995, 3074863.841, 3083748.982], \"yaxis\": \"y\"}, {\"hoverlabel\": {\"namelength\": 0}, \"hovertemplate\": \"Country=Middle East<br>Date=%{x}<br>CO2 Emission=%{y}\", \"legendgroup\": \"Country=Middle East\", \"line\": {\"color\": \"#19d3f3\", \"dash\": \"solid\"}, \"mode\": \"lines\", \"name\": \"Country=Middle East\", \"showlegend\": true, \"type\": \"scatter\", \"x\": [\"2018\", \"2017\", \"2016\", \"2015\", \"2014\", \"2013\", \"2012\", \"2011\", \"2010\", \"2009\", \"2008\", \"2007\", \"2006\", \"2005\", \"2004\", \"2003\", \"2002\", \"2001\", \"2000\", \"1999\", \"1998\", \"1997\", \"1996\", \"1995\", \"1994\", \"1993\", \"1992\", \"1991\", \"1990\", \"1989\", \"1988\", \"1987\", \"1986\", \"1985\", \"1984\", \"1983\", \"1982\", \"1981\", \"1980\", \"1979\", \"1978\", \"1977\", \"1976\", \"1975\", \"1974\", \"1973\", \"1972\", \"1971\", \"1970\", \"1969\", \"1968\", \"1967\", \"1966\", \"1965\", \"1964\", \"1963\", \"1962\", \"1961\", \"1960\"], \"xaxis\": \"x\", \"y\": [null, null, null, null, 2593273.8930242998, 2445353.6180000002, 2468881.09, 2297742.2, 2271079.443, 2184057.866, 2086820.0269999998, 1928295.6169999999, 1941947.858, 1833500.0, 1747453.845, 1615889.219, 1515868.1269999999, 1496924.405, 1473033.9, 1353489.7, 1267747.906, 1153542.858, 1187235.82051655, 1186766.28331436, 1211915.86970668, 1158095.16790561, 1062834.13975185, 999941.83247408, 913726.7319812629, 916881.43505848, 887318.932617446, 830537.945486939, 819048.957070844, 767990.454592032, 725247.8961551391, 677289.072862662, 634634.55265118, 627866.614072733, 646347.304890194, 637209.670744443, 605684.649528629, 574566.80510534, 545550.873313731, 462031.94347411796, 468359.69092551206, 461976.91958323604, 390544.90444063296, 363832.63954727, 324061.371217988, 306981.955488313, 272067.462594188, 228041.01337005603, 214211.67546179198, 188222.05766867602, 158237.70539755, 135940.474132045, 118397.63768722, 107498.48104197199, 102252.505275326], \"yaxis\": \"y\"}, {\"hoverlabel\": {\"namelength\": 0}, \"hovertemplate\": \"Country=Europe<br>Date=%{x}<br>CO2 Emission=%{y}\", \"legendgroup\": \"Country=Europe\", \"line\": {\"color\": \"#FF6692\", \"dash\": \"solid\"}, \"mode\": \"lines\", \"name\": \"Country=Europe\", \"showlegend\": true, \"type\": \"scatter\", \"x\": [\"2018\", \"2017\", \"2016\", \"2015\", \"2014\", \"2013\", \"2012\", \"2011\", \"2010\", \"2009\", \"2008\", \"2007\", \"2006\", \"2005\", \"2004\", \"2003\", \"2002\", \"2001\", \"2000\", \"1999\", \"1998\", \"1997\", \"1996\", \"1995\", \"1994\", \"1993\", \"1992\", \"1991\", \"1990\", \"1989\", \"1988\", \"1987\", \"1986\", \"1985\", \"1984\", \"1983\", \"1982\", \"1981\", \"1980\", \"1979\", \"1978\", \"1977\", \"1976\", \"1975\", \"1974\", \"1973\", \"1972\", \"1971\", \"1970\", \"1969\", \"1968\", \"1967\", \"1966\", \"1965\", \"1964\", \"1963\", \"1962\", \"1961\", \"1960\"], \"xaxis\": \"x\", \"y\": [null, null, null, null, 2191542.213, 2308651.525, 2352138.478, 2402097.6859999998, 2496137.901, 2443076.411, 2642509.873, 2704749.8639999996, 2752365.8589999997, 2750877.057, 2767041.193, 2741595.88, 2701885.937, 2702325.977, 2637002.039, 2618685.374, 2648245.0609999998, 2600981.098, 2634270.124, 2567956.096, 2513970.522, 2526548.332, 2580075.531, 2648355.74202849, 218597.204, 226671.938, 199033.759, 190878.35100000002, 190467.647, 201233.95899999997, 198953.085, 204867.956, 209906.414, 207288.176, 215003.544, 203745.854, 200493.225, 195663.78600000002, 198443.372, 181644.845, 173152.073, 155367.12300000002, 145026.18300000002, 128682.364, 116929.629, 96882.14, 97157.165, 86519.198, 77729.399, 71117.798, 64410.855, 58822.347, 60054.459, 53677.545999999995, 48928.780999999995], \"yaxis\": \"y\"}, {\"hoverlabel\": {\"namelength\": 0}, \"hovertemplate\": \"Country=Russia<br>Date=%{x}<br>CO2 Emission=%{y}\", \"legendgroup\": \"Country=Russia\", \"line\": {\"color\": \"#B6E880\", \"dash\": \"solid\"}, \"mode\": \"lines\", \"name\": \"Country=Russia\", \"showlegend\": true, \"type\": \"scatter\", \"x\": [\"1992\", \"1991\", \"1993\", \"1995\", \"1994\", \"1990\", \"1996\", \"1997\", \"1989\", \"1998\", \"1999\", \"2018\", \"2000\", \"1988\", \"2017\", \"2001\", \"2016\", \"2015\", \"2002\", \"2014\", \"1987\", \"2003\", \"2013\", \"2004\", \"2012\", \"2005\", \"2011\", \"2010\", \"2006\", \"2009\", \"2008\", \"2007\", \"1986\", \"1985\", \"1984\", \"1983\", \"1982\", \"1981\", \"1980\", \"1979\", \"1978\", \"1977\", \"1976\", \"1975\", \"1974\", \"1973\", \"1972\", \"1971\", \"1970\", \"1969\", \"1968\", \"1967\", \"1966\", \"1965\", \"1964\", \"1963\", \"1962\", \"1961\", \"1960\"], \"xaxis\": \"x\", \"y\": [2078668.2859999998, 487.711, 1938445.8730000001, 1631473.969, 1698378.384, 542.716, 1612966.62, 1526011.049, 689.3960000000001, 1495505.2759999998, 1531130.1809999999, null, 1557899.281, 696.73, null, 1557506.9119999998, null, null, 1557085.207, 1705345.6840000001, 616.056, 1604242.8269999998, 1778561.006, 1602115.967, 1830830.424, 1615089.813, 1763405.295, 1670531.186, 1669262.404, 1574045.082, 1714978.8930000002, 1666886.188, 597.721, 616.056, 634.391, 696.73, 608.722, 601.388, 495.045, 297.027, 289.693, 267.691, 267.691, 176.016, 73.34, 69.673, 66.006, 62.339, 58.672, 58.672, 55.005, 40.336999999999996, 44.004, 47.67100000000001, 36.67, 84.34100000000001, 84.34100000000001, 139.346, 106.34299999999999], \"yaxis\": \"y\"}],\n",
       "                        {\"height\": 600, \"legend\": {\"tracegroupgap\": 0}, \"template\": {\"data\": {\"bar\": [{\"error_x\": {\"color\": \"#2a3f5f\"}, \"error_y\": {\"color\": \"#2a3f5f\"}, \"marker\": {\"line\": {\"color\": \"#E5ECF6\", \"width\": 0.5}}, \"type\": \"bar\"}], \"barpolar\": [{\"marker\": {\"line\": {\"color\": \"#E5ECF6\", \"width\": 0.5}}, \"type\": \"barpolar\"}], \"carpet\": [{\"aaxis\": {\"endlinecolor\": \"#2a3f5f\", \"gridcolor\": \"white\", \"linecolor\": \"white\", \"minorgridcolor\": \"white\", \"startlinecolor\": \"#2a3f5f\"}, \"baxis\": {\"endlinecolor\": \"#2a3f5f\", \"gridcolor\": \"white\", \"linecolor\": \"white\", \"minorgridcolor\": \"white\", \"startlinecolor\": \"#2a3f5f\"}, \"type\": \"carpet\"}], \"choropleth\": [{\"colorbar\": {\"outlinewidth\": 0, \"ticks\": \"\"}, \"type\": \"choropleth\"}], \"contour\": [{\"colorbar\": {\"outlinewidth\": 0, \"ticks\": \"\"}, \"colorscale\": [[0.0, \"#0d0887\"], [0.1111111111111111, \"#46039f\"], [0.2222222222222222, \"#7201a8\"], [0.3333333333333333, \"#9c179e\"], [0.4444444444444444, \"#bd3786\"], [0.5555555555555556, \"#d8576b\"], [0.6666666666666666, \"#ed7953\"], [0.7777777777777778, \"#fb9f3a\"], [0.8888888888888888, \"#fdca26\"], [1.0, \"#f0f921\"]], \"type\": \"contour\"}], \"contourcarpet\": [{\"colorbar\": {\"outlinewidth\": 0, \"ticks\": \"\"}, \"type\": \"contourcarpet\"}], \"heatmap\": [{\"colorbar\": {\"outlinewidth\": 0, \"ticks\": \"\"}, \"colorscale\": [[0.0, \"#0d0887\"], [0.1111111111111111, \"#46039f\"], [0.2222222222222222, \"#7201a8\"], [0.3333333333333333, \"#9c179e\"], [0.4444444444444444, \"#bd3786\"], [0.5555555555555556, \"#d8576b\"], [0.6666666666666666, \"#ed7953\"], [0.7777777777777778, \"#fb9f3a\"], [0.8888888888888888, \"#fdca26\"], [1.0, \"#f0f921\"]], \"type\": \"heatmap\"}], \"heatmapgl\": [{\"colorbar\": {\"outlinewidth\": 0, \"ticks\": \"\"}, \"colorscale\": [[0.0, \"#0d0887\"], [0.1111111111111111, \"#46039f\"], [0.2222222222222222, \"#7201a8\"], [0.3333333333333333, \"#9c179e\"], [0.4444444444444444, \"#bd3786\"], [0.5555555555555556, \"#d8576b\"], [0.6666666666666666, \"#ed7953\"], [0.7777777777777778, \"#fb9f3a\"], [0.8888888888888888, \"#fdca26\"], [1.0, \"#f0f921\"]], \"type\": \"heatmapgl\"}], \"histogram\": [{\"marker\": {\"colorbar\": {\"outlinewidth\": 0, \"ticks\": \"\"}}, \"type\": \"histogram\"}], \"histogram2d\": [{\"colorbar\": {\"outlinewidth\": 0, \"ticks\": \"\"}, \"colorscale\": [[0.0, \"#0d0887\"], [0.1111111111111111, \"#46039f\"], [0.2222222222222222, \"#7201a8\"], [0.3333333333333333, \"#9c179e\"], [0.4444444444444444, \"#bd3786\"], [0.5555555555555556, \"#d8576b\"], [0.6666666666666666, \"#ed7953\"], [0.7777777777777778, \"#fb9f3a\"], [0.8888888888888888, \"#fdca26\"], [1.0, \"#f0f921\"]], \"type\": \"histogram2d\"}], \"histogram2dcontour\": [{\"colorbar\": {\"outlinewidth\": 0, \"ticks\": \"\"}, \"colorscale\": [[0.0, \"#0d0887\"], [0.1111111111111111, \"#46039f\"], [0.2222222222222222, \"#7201a8\"], [0.3333333333333333, \"#9c179e\"], [0.4444444444444444, \"#bd3786\"], [0.5555555555555556, \"#d8576b\"], [0.6666666666666666, \"#ed7953\"], [0.7777777777777778, \"#fb9f3a\"], [0.8888888888888888, \"#fdca26\"], [1.0, \"#f0f921\"]], \"type\": \"histogram2dcontour\"}], \"mesh3d\": [{\"colorbar\": {\"outlinewidth\": 0, \"ticks\": \"\"}, \"type\": \"mesh3d\"}], \"parcoords\": [{\"line\": {\"colorbar\": {\"outlinewidth\": 0, \"ticks\": \"\"}}, \"type\": \"parcoords\"}], \"pie\": [{\"automargin\": true, \"type\": \"pie\"}], \"scatter\": [{\"marker\": {\"colorbar\": {\"outlinewidth\": 0, \"ticks\": \"\"}}, \"type\": \"scatter\"}], \"scatter3d\": [{\"line\": {\"colorbar\": {\"outlinewidth\": 0, \"ticks\": \"\"}}, \"marker\": {\"colorbar\": {\"outlinewidth\": 0, \"ticks\": \"\"}}, \"type\": \"scatter3d\"}], \"scattercarpet\": [{\"marker\": {\"colorbar\": {\"outlinewidth\": 0, \"ticks\": \"\"}}, \"type\": \"scattercarpet\"}], \"scattergeo\": [{\"marker\": {\"colorbar\": {\"outlinewidth\": 0, \"ticks\": \"\"}}, \"type\": \"scattergeo\"}], \"scattergl\": [{\"marker\": {\"colorbar\": {\"outlinewidth\": 0, \"ticks\": \"\"}}, \"type\": \"scattergl\"}], \"scattermapbox\": [{\"marker\": {\"colorbar\": {\"outlinewidth\": 0, \"ticks\": \"\"}}, \"type\": \"scattermapbox\"}], \"scatterpolar\": [{\"marker\": {\"colorbar\": {\"outlinewidth\": 0, \"ticks\": \"\"}}, \"type\": \"scatterpolar\"}], \"scatterpolargl\": [{\"marker\": {\"colorbar\": {\"outlinewidth\": 0, \"ticks\": \"\"}}, \"type\": \"scatterpolargl\"}], \"scatterternary\": [{\"marker\": {\"colorbar\": {\"outlinewidth\": 0, \"ticks\": \"\"}}, \"type\": \"scatterternary\"}], \"surface\": [{\"colorbar\": {\"outlinewidth\": 0, \"ticks\": \"\"}, \"colorscale\": [[0.0, \"#0d0887\"], [0.1111111111111111, \"#46039f\"], [0.2222222222222222, \"#7201a8\"], [0.3333333333333333, \"#9c179e\"], [0.4444444444444444, \"#bd3786\"], [0.5555555555555556, \"#d8576b\"], [0.6666666666666666, \"#ed7953\"], [0.7777777777777778, \"#fb9f3a\"], [0.8888888888888888, \"#fdca26\"], [1.0, \"#f0f921\"]], \"type\": \"surface\"}], \"table\": [{\"cells\": {\"fill\": {\"color\": \"#EBF0F8\"}, \"line\": {\"color\": \"white\"}}, \"header\": {\"fill\": {\"color\": \"#C8D4E3\"}, \"line\": {\"color\": \"white\"}}, \"type\": \"table\"}]}, \"layout\": {\"annotationdefaults\": {\"arrowcolor\": \"#2a3f5f\", \"arrowhead\": 0, \"arrowwidth\": 1}, \"coloraxis\": {\"colorbar\": {\"outlinewidth\": 0, \"ticks\": \"\"}}, \"colorscale\": {\"diverging\": [[0, \"#8e0152\"], [0.1, \"#c51b7d\"], [0.2, \"#de77ae\"], [0.3, \"#f1b6da\"], [0.4, \"#fde0ef\"], [0.5, \"#f7f7f7\"], [0.6, \"#e6f5d0\"], [0.7, \"#b8e186\"], [0.8, \"#7fbc41\"], [0.9, \"#4d9221\"], [1, \"#276419\"]], \"sequential\": [[0.0, \"#0d0887\"], [0.1111111111111111, \"#46039f\"], [0.2222222222222222, \"#7201a8\"], [0.3333333333333333, \"#9c179e\"], [0.4444444444444444, \"#bd3786\"], [0.5555555555555556, \"#d8576b\"], [0.6666666666666666, \"#ed7953\"], [0.7777777777777778, \"#fb9f3a\"], [0.8888888888888888, \"#fdca26\"], [1.0, \"#f0f921\"]], \"sequentialminus\": [[0.0, \"#0d0887\"], [0.1111111111111111, \"#46039f\"], [0.2222222222222222, \"#7201a8\"], [0.3333333333333333, \"#9c179e\"], [0.4444444444444444, \"#bd3786\"], [0.5555555555555556, \"#d8576b\"], [0.6666666666666666, \"#ed7953\"], [0.7777777777777778, \"#fb9f3a\"], [0.8888888888888888, \"#fdca26\"], [1.0, \"#f0f921\"]]}, \"colorway\": [\"#636efa\", \"#EF553B\", \"#00cc96\", \"#ab63fa\", \"#FFA15A\", \"#19d3f3\", \"#FF6692\", \"#B6E880\", \"#FF97FF\", \"#FECB52\"], \"font\": {\"color\": \"#2a3f5f\"}, \"geo\": {\"bgcolor\": \"white\", \"lakecolor\": \"white\", \"landcolor\": \"#E5ECF6\", \"showlakes\": true, \"showland\": true, \"subunitcolor\": \"white\"}, \"hoverlabel\": {\"align\": \"left\"}, \"hovermode\": \"closest\", \"mapbox\": {\"style\": \"light\"}, \"paper_bgcolor\": \"white\", \"plot_bgcolor\": \"#E5ECF6\", \"polar\": {\"angularaxis\": {\"gridcolor\": \"white\", \"linecolor\": \"white\", \"ticks\": \"\"}, \"bgcolor\": \"#E5ECF6\", \"radialaxis\": {\"gridcolor\": \"white\", \"linecolor\": \"white\", \"ticks\": \"\"}}, \"scene\": {\"xaxis\": {\"backgroundcolor\": \"#E5ECF6\", \"gridcolor\": \"white\", \"gridwidth\": 2, \"linecolor\": \"white\", \"showbackground\": true, \"ticks\": \"\", \"zerolinecolor\": \"white\"}, \"yaxis\": {\"backgroundcolor\": \"#E5ECF6\", \"gridcolor\": \"white\", \"gridwidth\": 2, \"linecolor\": \"white\", \"showbackground\": true, \"ticks\": \"\", \"zerolinecolor\": \"white\"}, \"zaxis\": {\"backgroundcolor\": \"#E5ECF6\", \"gridcolor\": \"white\", \"gridwidth\": 2, \"linecolor\": \"white\", \"showbackground\": true, \"ticks\": \"\", \"zerolinecolor\": \"white\"}}, \"shapedefaults\": {\"line\": {\"color\": \"#2a3f5f\"}}, \"ternary\": {\"aaxis\": {\"gridcolor\": \"white\", \"linecolor\": \"white\", \"ticks\": \"\"}, \"baxis\": {\"gridcolor\": \"white\", \"linecolor\": \"white\", \"ticks\": \"\"}, \"bgcolor\": \"#E5ECF6\", \"caxis\": {\"gridcolor\": \"white\", \"linecolor\": \"white\", \"ticks\": \"\"}}, \"title\": {\"x\": 0.05}, \"xaxis\": {\"automargin\": true, \"gridcolor\": \"white\", \"linecolor\": \"white\", \"ticks\": \"\", \"title\": {\"standoff\": 15}, \"zerolinecolor\": \"white\", \"zerolinewidth\": 2}, \"yaxis\": {\"automargin\": true, \"gridcolor\": \"white\", \"linecolor\": \"white\", \"ticks\": \"\", \"title\": {\"standoff\": 15}, \"zerolinecolor\": \"white\", \"zerolinewidth\": 2}}}, \"title\": {\"text\": \"Evolution des \\u00e9missions de CO2\"}, \"xaxis\": {\"anchor\": \"y\", \"domain\": [0.0, 1.0], \"title\": {\"text\": \"Date\"}}, \"yaxis\": {\"anchor\": \"x\", \"domain\": [0.0, 1.0], \"title\": {\"text\": \"CO2 Emission\"}}},\n",
       "                        {\"responsive\": true}\n",
       "                    ).then(function(){\n",
       "                            \n",
       "var gd = document.getElementById('475456c0-997e-4aaf-a6b3-b7ee18efedee');\n",
       "var x = new MutationObserver(function (mutations, observer) {{\n",
       "        var display = window.getComputedStyle(gd).display;\n",
       "        if (!display || display === 'none') {{\n",
       "            console.log([gd, 'removed!']);\n",
       "            Plotly.purge(gd);\n",
       "            observer.disconnect();\n",
       "        }}\n",
       "}});\n",
       "\n",
       "// Listen for the removal of the full notebook cells\n",
       "var notebookContainer = gd.closest('#notebook-container');\n",
       "if (notebookContainer) {{\n",
       "    x.observe(notebookContainer, {childList: true});\n",
       "}}\n",
       "\n",
       "// Listen for the clearing of the current output cell\n",
       "var outputEl = gd.closest('.output');\n",
       "if (outputEl) {{\n",
       "    x.observe(outputEl, {childList: true});\n",
       "}}\n",
       "\n",
       "                        })\n",
       "                };\n",
       "                });\n",
       "            </script>\n",
       "        </div>"
      ]
     },
     "metadata": {},
     "output_type": "display_data"
    }
   ],
   "source": [
    "for key in plots.keys():\n",
    "    plot_time_serie(df_demographic_grouped, key, plots.get(key))"
   ]
  },
  {
   "cell_type": "code",
   "execution_count": null,
   "metadata": {},
   "outputs": [],
   "source": []
  }
 ],
 "metadata": {
  "kernelspec": {
   "display_name": "Python 3",
   "language": "python",
   "name": "python3"
  },
  "language_info": {
   "codemirror_mode": {
    "name": "ipython",
    "version": 3
   },
   "file_extension": ".py",
   "mimetype": "text/x-python",
   "name": "python",
   "nbconvert_exporter": "python",
   "pygments_lexer": "ipython3",
   "version": "3.7.4"
  },
  "toc": {
   "base_numbering": 1,
   "nav_menu": {},
   "number_sections": false,
   "sideBar": false,
   "skip_h1_title": false,
   "title_cell": "Table of Contents",
   "title_sidebar": "Contents",
   "toc_cell": false,
   "toc_position": {},
   "toc_section_display": false,
   "toc_window_display": false
  },
  "varInspector": {
   "cols": {
    "lenName": 16,
    "lenType": 16,
    "lenVar": 40
   },
   "kernels_config": {
    "python": {
     "delete_cmd_postfix": "",
     "delete_cmd_prefix": "del ",
     "library": "var_list.py",
     "varRefreshCmd": "print(var_dic_list())"
    },
    "r": {
     "delete_cmd_postfix": ") ",
     "delete_cmd_prefix": "rm(",
     "library": "var_list.r",
     "varRefreshCmd": "cat(var_dic_list()) "
    }
   },
   "types_to_exclude": [
    "module",
    "function",
    "builtin_function_or_method",
    "instance",
    "_Feature"
   ],
   "window_display": false
  }
 },
 "nbformat": 4,
 "nbformat_minor": 2
}
