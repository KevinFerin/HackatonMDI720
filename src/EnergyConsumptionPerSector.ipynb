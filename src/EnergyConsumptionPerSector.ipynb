{
 "cells": [
  {
   "cell_type": "markdown",
   "metadata": {},
   "source": [
    "### Energy consumption per country for different sectors"
   ]
  },
  {
   "cell_type": "code",
   "execution_count": 5,
   "metadata": {},
   "outputs": [],
   "source": [
    "import pandas as pd\n",
    "import numpy as np\n",
    "import os"
   ]
  },
  {
   "cell_type": "code",
   "execution_count": 6,
   "metadata": {},
   "outputs": [],
   "source": [
    "dataPath ='/'.join(os.getcwd().split(\"/\")[:-1])+\"/data/\""
   ]
  },
  {
   "cell_type": "code",
   "execution_count": 7,
   "metadata": {
    "scrolled": true
   },
   "outputs": [],
   "source": [
    "df_elec = pd.read_csv(dataPath+\"Electricity.csv\")\n",
    "df_oil = pd.read_csv(dataPath+\"Oil.csv\")\n",
    "df_gaz = pd.read_csv(dataPath+\"NaturalGaz.csv\")"
   ]
  },
  {
   "cell_type": "code",
   "execution_count": 8,
   "metadata": {},
   "outputs": [],
   "source": [
    "def clean(df,commodity):\n",
    "    table = df[df[\"Commodity - Transaction\"] == commodity]\n",
    "    table.set_index(\"Country or Area\")\n",
    "    table.Year = table.Year.astype(int)\n",
    "    df_table = table.pivot_table(values = [\"Quantity\"], index=['Country or Area'], columns=['Year'])\n",
    "    df_table = df_table.dropna(thresh = 27)\n",
    "    return df_table\n",
    "\n",
    "pd.options.mode.chained_assignment = None"
   ]
  },
  {
   "cell_type": "code",
   "execution_count": 9,
   "metadata": {},
   "outputs": [],
   "source": [
    "commodities_elec = np.unique(df_elec[\"Commodity - Transaction\"].values)\n",
    "commodities_oil = np.unique(df_oil[\"Commodity - Transaction\"].values)\n",
    "commodities_gaz = np.unique(df_oil[\"Commodity - Transaction\"].values)"
   ]
  },
  {
   "cell_type": "markdown",
   "metadata": {
    "scrolled": true
   },
   "source": [
    "#### Sectors chosen: \n",
    "- Food and tobacco \n",
    "- Transport\n",
    "- Households\n",
    "- Consumption by agriculture, forestry and fishing"
   ]
  },
  {
   "cell_type": "markdown",
   "metadata": {},
   "source": [
    "#### Energy 1: Electricity "
   ]
  },
  {
   "cell_type": "code",
   "execution_count": 11,
   "metadata": {},
   "outputs": [],
   "source": [
    "food_elec = clean(df_elec,\"Electricity - Consumption by food and tobacco\")\n",
    "transport_elec = clean(df_elec,\"Electricity - Consumption by transport\")\n",
    "household_elec = clean(df_elec,\"Electricity - Consumption by households\")\n",
    "agri_elec = clean(df_elec,\"Electricity - Consumption by agriculture, forestry and fishing\")"
   ]
  },
  {
   "cell_type": "markdown",
   "metadata": {},
   "source": [
    "#### Energy 2: Oil"
   ]
  },
  {
   "cell_type": "code",
   "execution_count": 12,
   "metadata": {},
   "outputs": [],
   "source": [
    "food_oil = clean(df_oil,\"Electricity - Consumption by food and tobacco\")\n",
    "transport_oil = clean(df_oil,\"Electricity - Consumption by transport\")\n",
    "household_oil = clean(df_oil,\"Electricity - Consumption by households\")\n",
    "agri_oil = clean(df_oil,\"Electricity - Consumption by agriculture, forestry and fishing\")"
   ]
  },
  {
   "cell_type": "markdown",
   "metadata": {},
   "source": [
    "#### Energy 3: Natural Gaz"
   ]
  },
  {
   "cell_type": "code",
   "execution_count": 13,
   "metadata": {},
   "outputs": [],
   "source": [
    "food_gaz = clean(df_gaz,\"Electricity - Consumption by food and tobacco\")\n",
    "transport_gaz = clean(df_gaz,\"Electricity - Consumption by transport\")\n",
    "household_gaz = clean(df_gaz,\"Electricity - Consumption by households\")\n",
    "agri_gaz = clean(df_gaz,\"Electricity - Consumption by agriculture, forestry and fishing\")"
   ]
  }
 ],
 "metadata": {
  "kernelspec": {
   "display_name": "Python 3",
   "language": "python",
   "name": "python3"
  },
  "language_info": {
   "codemirror_mode": {
    "name": "ipython",
    "version": 3
   },
   "file_extension": ".py",
   "mimetype": "text/x-python",
   "name": "python",
   "nbconvert_exporter": "python",
   "pygments_lexer": "ipython3",
   "version": "3.6.5"
  }
 },
 "nbformat": 4,
 "nbformat_minor": 2
}
