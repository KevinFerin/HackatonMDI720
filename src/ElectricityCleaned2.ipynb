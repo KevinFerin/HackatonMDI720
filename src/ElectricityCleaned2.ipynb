{
 "cells": [
  {
   "cell_type": "code",
   "execution_count": 164,
   "metadata": {},
   "outputs": [],
   "source": [
    "import pandas as pd\n",
    "import numpy as np"
   ]
  },
  {
   "cell_type": "code",
   "execution_count": 165,
   "metadata": {
    "scrolled": true
   },
   "outputs": [],
   "source": [
    "df = pd.read_csv(\"Electricity.csv\")"
   ]
  },
  {
   "cell_type": "code",
   "execution_count": 196,
   "metadata": {},
   "outputs": [],
   "source": [
    "def clean(commodity):\n",
    "    table = df[df[\"Commodity - Transaction\"]== commodity]\n",
    "    table.set_index(\"Country or Area\")\n",
    "    df_table = table.pivot_table(values = [\"Quantity\"], index=['Country or Area'], columns=['Year'])\n",
    "    df_table = df_table.dropna(thresh = 27)\n",
    "    return df_table"
   ]
  },
  {
   "cell_type": "code",
   "execution_count": 178,
   "metadata": {},
   "outputs": [
    {
     "data": {
      "text/plain": [
       "array(['Electricity - Consumption by chemical and petrochemical',\n",
       "       'Electricity - Consumption by commercial and public services',\n",
       "       'Electricity - Consumption by construction',\n",
       "       'Electricity - Consumption by food and tobacco',\n",
       "       'Electricity - Consumption by households',\n",
       "       'Electricity - Consumption by iron and steel',\n",
       "       'Electricity - Consumption by machinery',\n",
       "       'Electricity - Consumption by manufacturing, construction and non-fuel industry',\n",
       "       'Electricity - Consumption by mining and quarrying',\n",
       "       'Electricity - Consumption by non-ferrous metals',\n",
       "       'Electricity - Consumption by non-metallic minerals',\n",
       "       'Electricity - Consumption by other',\n",
       "       'Electricity - Consumption by other manuf., const. and non-fuel ind.',\n",
       "       'Electricity - Consumption by paper, pulp and print',\n",
       "       'Electricity - Consumption by pipeline transport',\n",
       "       'Electricity - Consumption by rail',\n",
       "       'Electricity - Consumption by road',\n",
       "       'Electricity - Consumption by textile and leather',\n",
       "       'Electricity - Consumption by transport',\n",
       "       'Electricity - Consumption by transport equipment',\n",
       "       'Electricity - Consumption by wood and wood products',\n",
       "       'Electricity - Consumption in agriculture, forestry and fishing',\n",
       "       'Electricity - Consumption not elsewhere specified (industry)',\n",
       "       'Electricity - Consumption not elsewhere specified (other)',\n",
       "       'Electricity - Consumption not elsewhere specified (transport)',\n",
       "       'Electricity - Energy industries own use',\n",
       "       'Electricity - Final energy consumption',\n",
       "       'Electricity - Gross demand', 'Electricity - Gross production',\n",
       "       'Electricity - Losses',\n",
       "       'Electricity - Other energy industry own use',\n",
       "       'Electricity - Own use by LNG/regasification plants',\n",
       "       'Electricity - Own use by blast furnaces',\n",
       "       'Electricity - Own use by briquetting plants',\n",
       "       'Electricity - Own use by charcoal plants',\n",
       "       'Electricity - Own use by coal liquefaction plants',\n",
       "       'Electricity - Own use by coal mines',\n",
       "       'Electricity - Own use by coke ovens',\n",
       "       'Electricity - Own use by electricity, heat and CHP plants',\n",
       "       'Electricity - Own use by gas works',\n",
       "       'Electricity - Own use by gas-to-liquid (GTL) plants',\n",
       "       'Electricity - Own use by nuclear fuel extraction and processing',\n",
       "       'Electricity - Own use by oil and gas extraction',\n",
       "       'Electricity - Own use by oil refineries',\n",
       "       'Electricity - Own use by pump-storage plants',\n",
       "       'Electricity - Used for electric boilers',\n",
       "       'Electricity - Used for heat pumps', 'Electricity - exports',\n",
       "       'Electricity - imports', 'Electricity - net production',\n",
       "       'Electricity - total production, autoproducer',\n",
       "       'Electricity - total production, main activity', 'Estimate',\n",
       "       'Footnote', 'From chemical heat – Autoproducer',\n",
       "       'From chemical heat – Autoproducer – CHP plants',\n",
       "       'From chemical heat – Autoproducer – Electricity plants',\n",
       "       'From chemical heat – Main activity',\n",
       "       'From chemical heat – Main activity – CHP plants',\n",
       "       'From chemical heat – Main activity – Electricity plants',\n",
       "       'From combustible fuels – Autoproducer',\n",
       "       'From combustible fuels – Autoproducer – CHP plants',\n",
       "       'From combustible fuels – Autoproducer – Electricity plants',\n",
       "       'From combustible fuels – Main activity',\n",
       "       'From combustible fuels – Main activity – CHP plants',\n",
       "       'From combustible fuels – Main activity – Electricity plants',\n",
       "       'From other sources – Autoproducer',\n",
       "       'From other sources – Autoproducer – CHP plants',\n",
       "       'From other sources – Autoproducer – Electricity plants',\n",
       "       'From other sources – Main activity',\n",
       "       'From other sources – Main activity – CHP plants',\n",
       "       'From other sources – Main activity – Electricity plants',\n",
       "       'Geothermal – Autoproducer',\n",
       "       'Geothermal – Autoproducer – CHP plants',\n",
       "       'Geothermal – Autoproducer – Electricity plants',\n",
       "       'Geothermal – Main activity',\n",
       "       'Geothermal – Main activity – CHP plants',\n",
       "       'Geothermal – Main activity – Electricity plants',\n",
       "       'Hydro – Autoproducer', 'Hydro – Main activity',\n",
       "       'Nuclear – Autoproducer',\n",
       "       'Nuclear – Autoproducer – Electricity plants',\n",
       "       'Nuclear – Main activity', 'Nuclear – Main activity – CHP plants',\n",
       "       'Nuclear – Main activity – Electricity plants',\n",
       "       'Of which: Pumped hydro – Autoproducer',\n",
       "       'Of which: Pumped hydro – Main activity',\n",
       "       'Solar photovoltaic – Autoproducer',\n",
       "       'Solar photovoltaic – Main activity',\n",
       "       'Solar thermal – Autoproducer', 'Solar thermal – Main activity',\n",
       "       'Solar – Autoproducer', 'Solar – Main activity',\n",
       "       'Tide, wave and marine – Main activity', 'Wind – Autoproducer',\n",
       "       'Wind – Main activity'], dtype=object)"
      ]
     },
     "execution_count": 178,
     "metadata": {},
     "output_type": "execute_result"
    }
   ],
   "source": [
    "commodities = np.unique(df[\"Commodity - Transaction\"].values)\n",
    "commodities"
   ]
  },
  {
   "cell_type": "code",
   "execution_count": 200,
   "metadata": {
    "scrolled": true
   },
   "outputs": [],
   "source": [
    "food = clean(\"Electricity - Consumption by food and tobacco\")"
   ]
  },
  {
   "cell_type": "code",
   "execution_count": 201,
   "metadata": {},
   "outputs": [],
   "source": [
    "transport = clean(\"Electricity - Consumption by transport\")"
   ]
  },
  {
   "cell_type": "code",
   "execution_count": 202,
   "metadata": {},
   "outputs": [],
   "source": [
    "household = clean(\"Electricity - Consumption by households\")"
   ]
  },
  {
   "cell_type": "code",
   "execution_count": 205,
   "metadata": {},
   "outputs": [],
   "source": [
    "manufact = clean(\"'Electricity - Consumption by manufacturing, construction and non-fuel industry\")"
   ]
  },
  {
   "cell_type": "code",
   "execution_count": 206,
   "metadata": {},
   "outputs": [
    {
     "data": {
      "text/html": [
       "<div>\n",
       "<style scoped>\n",
       "    .dataframe tbody tr th:only-of-type {\n",
       "        vertical-align: middle;\n",
       "    }\n",
       "\n",
       "    .dataframe tbody tr th {\n",
       "        vertical-align: top;\n",
       "    }\n",
       "\n",
       "    .dataframe thead tr th {\n",
       "        text-align: left;\n",
       "    }\n",
       "\n",
       "    .dataframe thead tr:last-of-type th {\n",
       "        text-align: right;\n",
       "    }\n",
       "</style>\n",
       "<table border=\"1\" class=\"dataframe\">\n",
       "  <thead>\n",
       "    <tr>\n",
       "      <th>Country or Area</th>\n",
       "    </tr>\n",
       "  </thead>\n",
       "  <tbody>\n",
       "  </tbody>\n",
       "</table>\n",
       "</div>"
      ],
      "text/plain": [
       "Empty DataFrame\n",
       "Columns: []\n",
       "Index: []"
      ]
     },
     "execution_count": 206,
     "metadata": {},
     "output_type": "execute_result"
    }
   ],
   "source": [
    "manufact"
   ]
  },
  {
   "cell_type": "code",
   "execution_count": null,
   "metadata": {},
   "outputs": [],
   "source": []
  }
 ],
 "metadata": {
  "kernelspec": {
   "display_name": "Python 3",
   "language": "python",
   "name": "python3"
  },
  "language_info": {
   "codemirror_mode": {
    "name": "ipython",
    "version": 3
   },
   "file_extension": ".py",
   "mimetype": "text/x-python",
   "name": "python",
   "nbconvert_exporter": "python",
   "pygments_lexer": "ipython3",
   "version": "3.6.5"
  }
 },
 "nbformat": 4,
 "nbformat_minor": 2
}
