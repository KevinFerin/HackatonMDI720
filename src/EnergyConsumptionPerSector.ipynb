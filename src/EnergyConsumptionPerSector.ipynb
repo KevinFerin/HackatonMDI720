{
 "cells": [
  {
   "cell_type": "markdown",
   "metadata": {},
   "source": [
    "### Energy consumption per country for different sectors"
   ]
  },
  {
   "cell_type": "code",
   "execution_count": 1,
   "metadata": {},
   "outputs": [],
   "source": [
    "import pandas as pd\n",
    "import numpy as np\n",
    "import os"
   ]
  },
  {
   "cell_type": "code",
   "execution_count": 2,
   "metadata": {},
   "outputs": [],
   "source": [
    "dataPath ='/'.join(os.getcwd().split(\"/\")[:-1])+\"/data/\""
   ]
  },
  {
   "cell_type": "code",
   "execution_count": 3,
   "metadata": {
    "scrolled": true
   },
   "outputs": [],
   "source": [
    "df_elec = pd.read_csv(dataPath+\"Electricity.csv\")\n",
    "df_oil = pd.read_csv(dataPath+\"Oil.csv\")\n",
    "df_gaz = pd.read_csv(dataPath+\"NaturalGaz.csv\")"
   ]
  },
  {
   "cell_type": "code",
   "execution_count": 4,
   "metadata": {},
   "outputs": [],
   "source": [
    "def clean(df,commodity,limit = 27):\n",
    "    table = df[df[\"Commodity - Transaction\"] == commodity]\n",
    "    table.set_index(\"Country or Area\")\n",
    "    table.Year = table.Year.astype(int)\n",
    "    df_table = table.pivot_table(values = [\"Quantity\"], index=['Country or Area'], columns=['Year'])\n",
    "    df_table = df_table.dropna(thresh = limit)\n",
    "    return df_table\n",
    "\n",
    "pd.options.mode.chained_assignment = None"
   ]
  },
  {
   "cell_type": "code",
   "execution_count": 5,
   "metadata": {},
   "outputs": [
    {
     "data": {
      "text/plain": [
       "array(['Conventional crude oil -  losses',\n",
       "       'Conventional crude oil - consumption by agriculture, forestry and fishing',\n",
       "       'Conventional crude oil - consumption by commerce and public services',\n",
       "       'Conventional crude oil - consumption by construction',\n",
       "       'Conventional crude oil - consumption by food and tobacco',\n",
       "       'Conventional crude oil - consumption by households',\n",
       "       'Conventional crude oil - consumption by industries not elsewhere specified',\n",
       "       'Conventional crude oil - consumption by iron and steel',\n",
       "       'Conventional crude oil - consumption by machinery',\n",
       "       'Conventional crude oil - consumption by mining and quarrying',\n",
       "       'Conventional crude oil - consumption by non-ferrous metals',\n",
       "       'Conventional crude oil - consumption by non-metallic minerals',\n",
       "       'Conventional crude oil - consumption by other',\n",
       "       'Conventional crude oil - consumption by other consumers not elsewhere specified',\n",
       "       'Conventional crude oil - consumption by other transportation',\n",
       "       'Conventional crude oil - consumption by paper, pulp and print',\n",
       "       'Conventional crude oil - consumption by pipeline transport',\n",
       "       'Conventional crude oil - consumption by textile and leather',\n",
       "       'Conventional crude oil - consumption by transport',\n",
       "       'Conventional crude oil - consumption by transport equipment',\n",
       "       'Conventional crude oil - consumption by wood and wood products',\n",
       "       'Conventional crude oil - energy industries own use',\n",
       "       'Conventional crude oil - exports',\n",
       "       'Conventional crude oil - final consumption',\n",
       "       'Conventional crude oil - final energy consumption',\n",
       "       'Conventional crude oil - imports',\n",
       "       'Conventional crude oil - non-energy use',\n",
       "       'Conventional crude oil - other energy industry own use',\n",
       "       'Conventional crude oil - other transformation',\n",
       "       'Conventional crude oil - own use by electricity, CHP and heat plants',\n",
       "       'Conventional crude oil - own use by oil and gas extraction',\n",
       "       'Conventional crude oil - own use by oil refineries',\n",
       "       'Conventional crude oil - production',\n",
       "       'Conventional crude oil - production from off-shore',\n",
       "       'Conventional crude oil - stock changes',\n",
       "       'Conventional crude oil - total energy supply',\n",
       "       'Conventional crude oil - transfers and recycled products',\n",
       "       'Conventional crude oil - transformation',\n",
       "       'Conventional crude oil - transformation in CHP plants - autoproducers',\n",
       "       'Conventional crude oil - transformation in CHP plants - main activity producers',\n",
       "       'Conventional crude oil - transformation in electricity plants - autoproducers',\n",
       "       'Conventional crude oil - transformation in electricity plants - main activity producers',\n",
       "       'Conventional crude oil - transformation in electricity, CHP and heat plants',\n",
       "       'Conventional crude oil - transformation in heat plants - autoproducers',\n",
       "       'Conventional crude oil - transformation in oil refineries',\n",
       "       'Conventional crude oil - transformation in petrochemical plants',\n",
       "       'Crude petroleum - consumption by chemical and petrochemical',\n",
       "       'Crude petroleum - consumption by manufacturing, construction and non-fuel mining industry',\n",
       "       'Crude petroleum - consumption by other manufacturing, construction and non-fuel mining industry',\n",
       "       'Crude petroleum - other reserves',\n",
       "       'Crude petroleum - refinery capacity',\n",
       "       'Crude petroleum - reserves',\n",
       "       'Crude petroleum - reserves from oil shale',\n",
       "       'Crude petroleum - reserves from oil shale and tar sands',\n",
       "       'Crude petroleum - reserves from tar sands', 'Estimate',\n",
       "       'Footnote'], dtype=object)"
      ]
     },
     "execution_count": 5,
     "metadata": {},
     "output_type": "execute_result"
    }
   ],
   "source": [
    "commodities_elec = np.unique(df_elec[\"Commodity - Transaction\"].values)\n",
    "commodities_oil = np.unique(df_oil[\"Commodity - Transaction\"].values)\n",
    "commodities_gaz = np.unique(df_gaz[\"Commodity - Transaction\"].values)\n",
    "commodities_oil"
   ]
  },
  {
   "cell_type": "markdown",
   "metadata": {
    "scrolled": true
   },
   "source": [
    "#### Sectors chosen: \n",
    "- Food and tobacco \n",
    "- Transport\n",
    "- Households\n",
    "- Consumption by agriculture, forestry and fishing"
   ]
  },
  {
   "cell_type": "markdown",
   "metadata": {},
   "source": [
    "#### Energy 1: Electricity "
   ]
  },
  {
   "cell_type": "code",
   "execution_count": 6,
   "metadata": {},
   "outputs": [],
   "source": [
    "food_elec = clean(df_elec,\"Electricity - Consumption by food and tobacco\")\n",
    "transport_elec = clean(df_elec,\"Electricity - Consumption by transport equipment\")\n",
    "household_elec = clean(df_elec,\"Electricity - Consumption by households\")"
   ]
  },
  {
   "cell_type": "markdown",
   "metadata": {},
   "source": [
    "#### Energy 2: Oil"
   ]
  },
  {
   "cell_type": "code",
   "execution_count": 23,
   "metadata": {},
   "outputs": [],
   "source": [
    "food_oil = clean(df_oil,\"Conventional crude oil - consumption by food and tobacco\",25)\n",
    "transport_oil = clean(df_oil,\"Conventional crude oil - consumption by transport equipment\",15)\n",
    "household_oil = clean(df_oil,\"Conventional crude oil - consumption by households\",12)"
   ]
  },
  {
   "cell_type": "markdown",
   "metadata": {},
   "source": [
    "#### Energy 3: Natural Gaz"
   ]
  },
  {
   "cell_type": "code",
   "execution_count": 21,
   "metadata": {},
   "outputs": [],
   "source": [
    "food_gaz = clean(df_gaz,\"Natural Gas (including LNG) - consumption by food and tobacco\")\n",
    "transport_gaz = clean(df_gaz,\"Natural Gas (including LNG) - consumption by transport equipment\")\n",
    "household_gaz = clean(df_gaz,\"Natural gas (including LNG) - consumption by households\")"
   ]
  },
  {
   "cell_type": "code",
   "execution_count": null,
   "metadata": {},
   "outputs": [],
   "source": []
  }
 ],
 "metadata": {
  "kernelspec": {
   "display_name": "Python 3",
   "language": "python",
   "name": "python3"
  },
  "language_info": {
   "codemirror_mode": {
    "name": "ipython",
    "version": 3
   },
   "file_extension": ".py",
   "mimetype": "text/x-python",
   "name": "python",
   "nbconvert_exporter": "python",
   "pygments_lexer": "ipython3",
   "version": "3.6.5"
  }
 },
 "nbformat": 4,
 "nbformat_minor": 2
}
